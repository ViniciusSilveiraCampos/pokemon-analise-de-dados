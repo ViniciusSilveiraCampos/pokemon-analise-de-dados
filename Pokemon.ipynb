{
  "nbformat": 4,
  "nbformat_minor": 0,
  "metadata": {
    "colab": {
      "provenance": [],
      "collapsed_sections": [
        "l6VjL7DgJyn0",
        "WcWgnxOeN93R"
      ],
      "gpuType": "T4"
    },
    "kernelspec": {
      "name": "python3",
      "display_name": "Python 3"
    },
    "language_info": {
      "name": "python"
    },
    "accelerator": "GPU"
  },
  "cells": [
    {
      "cell_type": "code",
      "execution_count": 319,
      "metadata": {
        "id": "0UMkvp8PvFrA"
      },
      "outputs": [],
      "source": [
        "import pandas as pd"
      ]
    },
    {
      "cell_type": "code",
      "source": [
        "pip install 'pokebase==1.3.0'"
      ],
      "metadata": {
        "colab": {
          "base_uri": "https://localhost:8080/"
        },
        "id": "6JIvWfjOvIn4",
        "outputId": "9617bddf-84f7-4ab9-a0d1-af62b64f904b"
      },
      "execution_count": 320,
      "outputs": [
        {
          "output_type": "stream",
          "name": "stdout",
          "text": [
            "Requirement already satisfied: pokebase==1.3.0 in /usr/local/lib/python3.10/dist-packages (1.3.0)\n",
            "Requirement already satisfied: requests in /usr/local/lib/python3.10/dist-packages (from pokebase==1.3.0) (2.32.3)\n",
            "Requirement already satisfied: charset-normalizer<4,>=2 in /usr/local/lib/python3.10/dist-packages (from requests->pokebase==1.3.0) (3.3.2)\n",
            "Requirement already satisfied: idna<4,>=2.5 in /usr/local/lib/python3.10/dist-packages (from requests->pokebase==1.3.0) (3.7)\n",
            "Requirement already satisfied: urllib3<3,>=1.21.1 in /usr/local/lib/python3.10/dist-packages (from requests->pokebase==1.3.0) (2.0.7)\n",
            "Requirement already satisfied: certifi>=2017.4.17 in /usr/local/lib/python3.10/dist-packages (from requests->pokebase==1.3.0) (2024.7.4)\n"
          ]
        }
      ]
    },
    {
      "cell_type": "code",
      "source": [
        "import pokebase as pb"
      ],
      "metadata": {
        "id": "KrDFwg8avrpw"
      },
      "execution_count": 321,
      "outputs": []
    },
    {
      "cell_type": "markdown",
      "source": [
        "# Extração de dados."
      ],
      "metadata": {
        "id": "77OPaqRZ7WK2"
      }
    },
    {
      "cell_type": "code",
      "source": [
        "# Extrair o total de pokemons\n",
        "num_pokemons = pb.APIResourceList(\"pokemon\")\n",
        "num_pokemons.count"
      ],
      "metadata": {
        "colab": {
          "base_uri": "https://localhost:8080/"
        },
        "id": "8Aymg9688HXY",
        "outputId": "3f1a5363-5a5d-4bee-fc56-b51d5df73860"
      },
      "execution_count": 322,
      "outputs": [
        {
          "output_type": "execute_result",
          "data": {
            "text/plain": [
              "1302"
            ]
          },
          "metadata": {},
          "execution_count": 322
        }
      ]
    },
    {
      "cell_type": "code",
      "source": [
        "region_num = pb.APIResourceList(\"region\")"
      ],
      "metadata": {
        "id": "X9RBaVTK8Kfy"
      },
      "execution_count": 323,
      "outputs": []
    },
    {
      "cell_type": "code",
      "source": [
        "for region in region_num:\n",
        "  print(region)"
      ],
      "metadata": {
        "colab": {
          "base_uri": "https://localhost:8080/"
        },
        "id": "lwI-EwPy9N1h",
        "outputId": "d4523457-e5eb-4d62-aeb2-5469c4b65872"
      },
      "execution_count": 324,
      "outputs": [
        {
          "output_type": "stream",
          "name": "stdout",
          "text": [
            "{'name': 'kanto', 'url': 'https://pokeapi.co/api/v2/region/1/'}\n",
            "{'name': 'johto', 'url': 'https://pokeapi.co/api/v2/region/2/'}\n",
            "{'name': 'hoenn', 'url': 'https://pokeapi.co/api/v2/region/3/'}\n",
            "{'name': 'sinnoh', 'url': 'https://pokeapi.co/api/v2/region/4/'}\n",
            "{'name': 'unova', 'url': 'https://pokeapi.co/api/v2/region/5/'}\n",
            "{'name': 'kalos', 'url': 'https://pokeapi.co/api/v2/region/6/'}\n",
            "{'name': 'alola', 'url': 'https://pokeapi.co/api/v2/region/7/'}\n",
            "{'name': 'galar', 'url': 'https://pokeapi.co/api/v2/region/8/'}\n",
            "{'name': 'hisui', 'url': 'https://pokeapi.co/api/v2/region/9/'}\n",
            "{'name': 'paldea', 'url': 'https://pokeapi.co/api/v2/region/10/'}\n"
          ]
        }
      ]
    },
    {
      "cell_type": "code",
      "source": [
        "# Definindo todas as regiões existentes.\n",
        "_regioes = {\n",
        "    (1, 151): (\"Kanto\", 1),\n",
        "    (152, 251): (\"Johto\", 2),\n",
        "    (252, 386): (\"Hoenn\", 3),\n",
        "    (387, 493): (\"Sinnoh\", 4),\n",
        "    (494, 649): (\"Unova\", 5),\n",
        "    (650, 721): (\"Kalos\", 6),\n",
        "    (722, 809): (\"Alola\", 7),\n",
        "    (810, 898): (\"Galar\", 8),\n",
        "    (899, 1302): (\"Paldea\", 9)\n",
        "}\n",
        "# \"Hisui\" foi retirado por não ser considerado da franquia original de jogos."
      ],
      "metadata": {
        "id": "BIVbFjvQvVAz"
      },
      "execution_count": 325,
      "outputs": []
    },
    {
      "cell_type": "code",
      "source": [
        "# Testando os valores que vão ser extraidos\n",
        "charmander = pb.pokemon('charmander')\n",
        "print(charmander.name)\n",
        "print(charmander.types[0].type)\n",
        "print(charmander.height)\n",
        "\n",
        "for status in charmander.stats:\n",
        "  # Mostrar os status base do pokemon.\n",
        "  print(f\"{status.stat.name}: {status.base_stat}\")"
      ],
      "metadata": {
        "colab": {
          "base_uri": "https://localhost:8080/"
        },
        "id": "z1wkS7uu1FjY",
        "outputId": "2d32bbb0-3b1c-421d-ac0a-3b3986bd5f16"
      },
      "execution_count": 326,
      "outputs": [
        {
          "output_type": "stream",
          "name": "stdout",
          "text": [
            "charmander\n",
            "fire\n",
            "6\n",
            "hp: 39\n",
            "attack: 52\n",
            "defense: 43\n",
            "special-attack: 60\n",
            "special-defense: 50\n",
            "speed: 65\n"
          ]
        }
      ]
    },
    {
      "cell_type": "code",
      "source": [
        "charmander.abilities[0]"
      ],
      "metadata": {
        "colab": {
          "base_uri": "https://localhost:8080/"
        },
        "id": "E4r075_CvpvP",
        "outputId": "a28c1ea3-9a63-4722-a931-4e994743493e"
      },
      "execution_count": 327,
      "outputs": [
        {
          "output_type": "execute_result",
          "data": {
            "text/plain": [
              "<pokebase.interface.APIMetadata at 0x78f52e06beb0>"
            ]
          },
          "metadata": {},
          "execution_count": 327
        }
      ]
    },
    {
      "cell_type": "markdown",
      "source": [
        "# Formatação dos dados."
      ],
      "metadata": {
        "id": "R-9-5inr72ly"
      }
    },
    {
      "cell_type": "code",
      "source": [
        "import tqdm\n",
        "# Criação de uma barra dinamica.\n",
        "import os"
      ],
      "metadata": {
        "id": "HrxFGyBEehui"
      },
      "execution_count": 328,
      "outputs": []
    },
    {
      "cell_type": "code",
      "source": [
        "pokemon_data = []\n",
        "\n",
        "\n",
        "# Extrair a quantiadade de pokemons das primeiras quatro gerações.\n",
        "for i in tqdm.tqdm(range(1, 493)):\n",
        "    pokemon = pb.pokemon(i)  # Obtém o Pokémon pelo ID\n",
        "\n",
        "\n",
        "    # Coletando informações para analise.\n",
        "    name = pokemon.name\n",
        "    height = pokemon.height\n",
        "    types = str(pokemon.types[0].type)\n",
        "    hp = next(stat.base_stat for stat in pokemon.stats if stat.stat.name == 'hp')\n",
        "    attack = next(stat.base_stat for stat in pokemon.stats if stat.stat.name == 'attack')\n",
        "    defense = next(stat.base_stat for stat in pokemon.stats if stat.stat.name == 'defense')\n",
        "    sp = next(stat.base_stat for stat in pokemon.stats if stat.stat.name == 'speed')\n",
        "\n",
        "    # Determinar a região e a geração com base no ID do Pokémon\n",
        "    region, generation = None, None\n",
        "    for id_range, (reg, gen) in _regioes.items():\n",
        "        if id_range[0] <= i <= id_range[1]:\n",
        "            region = reg\n",
        "            generation = gen\n",
        "            break\n",
        "\n",
        "\n",
        "    pokemon_data.append({\n",
        "        'ID': i,\n",
        "        'Name': name,\n",
        "        'Type': types,\n",
        "        'Height': height,\n",
        "        'HP': hp,\n",
        "        \"Speed\": sp,\n",
        "        'Attack': attack,\n",
        "        'Defense': defense,\n",
        "        'Region': region,\n",
        "        'Generation': generation\n",
        "    })\n",
        "\n",
        "\n",
        "df = pd.DataFrame(pokemon_data)"
      ],
      "metadata": {
        "colab": {
          "base_uri": "https://localhost:8080/"
        },
        "id": "BvSwyMl23f6B",
        "outputId": "4b9e0a5e-10cb-499c-ae42-050dad8accf5"
      },
      "execution_count": 329,
      "outputs": [
        {
          "output_type": "stream",
          "name": "stderr",
          "text": [
            "100%|██████████| 492/492 [04:12<00:00,  1.95it/s]\n"
          ]
        }
      ]
    },
    {
      "cell_type": "code",
      "source": [
        "df.head()"
      ],
      "metadata": {
        "colab": {
          "base_uri": "https://localhost:8080/",
          "height": 206
        },
        "id": "SG2yVFzj__Rn",
        "outputId": "9e692d3b-0657-45f7-a321-549c9590a86f"
      },
      "execution_count": 330,
      "outputs": [
        {
          "output_type": "execute_result",
          "data": {
            "text/plain": [
              "   ID        Name   Type  Height  HP  Speed  Attack  Defense Region  \\\n",
              "0   1   bulbasaur  grass       7  45     45      49       49  Kanto   \n",
              "1   2     ivysaur  grass      10  60     60      62       63  Kanto   \n",
              "2   3    venusaur  grass      20  80     80      82       83  Kanto   \n",
              "3   4  charmander   fire       6  39     65      52       43  Kanto   \n",
              "4   5  charmeleon   fire      11  58     80      64       58  Kanto   \n",
              "\n",
              "   Generation  \n",
              "0           1  \n",
              "1           1  \n",
              "2           1  \n",
              "3           1  \n",
              "4           1  "
            ],
            "text/html": [
              "\n",
              "  <div id=\"df-ee4ebdc1-40be-4e96-b40f-ced1258e8112\" class=\"colab-df-container\">\n",
              "    <div>\n",
              "<style scoped>\n",
              "    .dataframe tbody tr th:only-of-type {\n",
              "        vertical-align: middle;\n",
              "    }\n",
              "\n",
              "    .dataframe tbody tr th {\n",
              "        vertical-align: top;\n",
              "    }\n",
              "\n",
              "    .dataframe thead th {\n",
              "        text-align: right;\n",
              "    }\n",
              "</style>\n",
              "<table border=\"1\" class=\"dataframe\">\n",
              "  <thead>\n",
              "    <tr style=\"text-align: right;\">\n",
              "      <th></th>\n",
              "      <th>ID</th>\n",
              "      <th>Name</th>\n",
              "      <th>Type</th>\n",
              "      <th>Height</th>\n",
              "      <th>HP</th>\n",
              "      <th>Speed</th>\n",
              "      <th>Attack</th>\n",
              "      <th>Defense</th>\n",
              "      <th>Region</th>\n",
              "      <th>Generation</th>\n",
              "    </tr>\n",
              "  </thead>\n",
              "  <tbody>\n",
              "    <tr>\n",
              "      <th>0</th>\n",
              "      <td>1</td>\n",
              "      <td>bulbasaur</td>\n",
              "      <td>grass</td>\n",
              "      <td>7</td>\n",
              "      <td>45</td>\n",
              "      <td>45</td>\n",
              "      <td>49</td>\n",
              "      <td>49</td>\n",
              "      <td>Kanto</td>\n",
              "      <td>1</td>\n",
              "    </tr>\n",
              "    <tr>\n",
              "      <th>1</th>\n",
              "      <td>2</td>\n",
              "      <td>ivysaur</td>\n",
              "      <td>grass</td>\n",
              "      <td>10</td>\n",
              "      <td>60</td>\n",
              "      <td>60</td>\n",
              "      <td>62</td>\n",
              "      <td>63</td>\n",
              "      <td>Kanto</td>\n",
              "      <td>1</td>\n",
              "    </tr>\n",
              "    <tr>\n",
              "      <th>2</th>\n",
              "      <td>3</td>\n",
              "      <td>venusaur</td>\n",
              "      <td>grass</td>\n",
              "      <td>20</td>\n",
              "      <td>80</td>\n",
              "      <td>80</td>\n",
              "      <td>82</td>\n",
              "      <td>83</td>\n",
              "      <td>Kanto</td>\n",
              "      <td>1</td>\n",
              "    </tr>\n",
              "    <tr>\n",
              "      <th>3</th>\n",
              "      <td>4</td>\n",
              "      <td>charmander</td>\n",
              "      <td>fire</td>\n",
              "      <td>6</td>\n",
              "      <td>39</td>\n",
              "      <td>65</td>\n",
              "      <td>52</td>\n",
              "      <td>43</td>\n",
              "      <td>Kanto</td>\n",
              "      <td>1</td>\n",
              "    </tr>\n",
              "    <tr>\n",
              "      <th>4</th>\n",
              "      <td>5</td>\n",
              "      <td>charmeleon</td>\n",
              "      <td>fire</td>\n",
              "      <td>11</td>\n",
              "      <td>58</td>\n",
              "      <td>80</td>\n",
              "      <td>64</td>\n",
              "      <td>58</td>\n",
              "      <td>Kanto</td>\n",
              "      <td>1</td>\n",
              "    </tr>\n",
              "  </tbody>\n",
              "</table>\n",
              "</div>\n",
              "    <div class=\"colab-df-buttons\">\n",
              "\n",
              "  <div class=\"colab-df-container\">\n",
              "    <button class=\"colab-df-convert\" onclick=\"convertToInteractive('df-ee4ebdc1-40be-4e96-b40f-ced1258e8112')\"\n",
              "            title=\"Convert this dataframe to an interactive table.\"\n",
              "            style=\"display:none;\">\n",
              "\n",
              "  <svg xmlns=\"http://www.w3.org/2000/svg\" height=\"24px\" viewBox=\"0 -960 960 960\">\n",
              "    <path d=\"M120-120v-720h720v720H120Zm60-500h600v-160H180v160Zm220 220h160v-160H400v160Zm0 220h160v-160H400v160ZM180-400h160v-160H180v160Zm440 0h160v-160H620v160ZM180-180h160v-160H180v160Zm440 0h160v-160H620v160Z\"/>\n",
              "  </svg>\n",
              "    </button>\n",
              "\n",
              "  <style>\n",
              "    .colab-df-container {\n",
              "      display:flex;\n",
              "      gap: 12px;\n",
              "    }\n",
              "\n",
              "    .colab-df-convert {\n",
              "      background-color: #E8F0FE;\n",
              "      border: none;\n",
              "      border-radius: 50%;\n",
              "      cursor: pointer;\n",
              "      display: none;\n",
              "      fill: #1967D2;\n",
              "      height: 32px;\n",
              "      padding: 0 0 0 0;\n",
              "      width: 32px;\n",
              "    }\n",
              "\n",
              "    .colab-df-convert:hover {\n",
              "      background-color: #E2EBFA;\n",
              "      box-shadow: 0px 1px 2px rgba(60, 64, 67, 0.3), 0px 1px 3px 1px rgba(60, 64, 67, 0.15);\n",
              "      fill: #174EA6;\n",
              "    }\n",
              "\n",
              "    .colab-df-buttons div {\n",
              "      margin-bottom: 4px;\n",
              "    }\n",
              "\n",
              "    [theme=dark] .colab-df-convert {\n",
              "      background-color: #3B4455;\n",
              "      fill: #D2E3FC;\n",
              "    }\n",
              "\n",
              "    [theme=dark] .colab-df-convert:hover {\n",
              "      background-color: #434B5C;\n",
              "      box-shadow: 0px 1px 3px 1px rgba(0, 0, 0, 0.15);\n",
              "      filter: drop-shadow(0px 1px 2px rgba(0, 0, 0, 0.3));\n",
              "      fill: #FFFFFF;\n",
              "    }\n",
              "  </style>\n",
              "\n",
              "    <script>\n",
              "      const buttonEl =\n",
              "        document.querySelector('#df-ee4ebdc1-40be-4e96-b40f-ced1258e8112 button.colab-df-convert');\n",
              "      buttonEl.style.display =\n",
              "        google.colab.kernel.accessAllowed ? 'block' : 'none';\n",
              "\n",
              "      async function convertToInteractive(key) {\n",
              "        const element = document.querySelector('#df-ee4ebdc1-40be-4e96-b40f-ced1258e8112');\n",
              "        const dataTable =\n",
              "          await google.colab.kernel.invokeFunction('convertToInteractive',\n",
              "                                                    [key], {});\n",
              "        if (!dataTable) return;\n",
              "\n",
              "        const docLinkHtml = 'Like what you see? Visit the ' +\n",
              "          '<a target=\"_blank\" href=https://colab.research.google.com/notebooks/data_table.ipynb>data table notebook</a>'\n",
              "          + ' to learn more about interactive tables.';\n",
              "        element.innerHTML = '';\n",
              "        dataTable['output_type'] = 'display_data';\n",
              "        await google.colab.output.renderOutput(dataTable, element);\n",
              "        const docLink = document.createElement('div');\n",
              "        docLink.innerHTML = docLinkHtml;\n",
              "        element.appendChild(docLink);\n",
              "      }\n",
              "    </script>\n",
              "  </div>\n",
              "\n",
              "\n",
              "<div id=\"df-2889cf19-e82b-4ec7-8d2e-136ac6f1982b\">\n",
              "  <button class=\"colab-df-quickchart\" onclick=\"quickchart('df-2889cf19-e82b-4ec7-8d2e-136ac6f1982b')\"\n",
              "            title=\"Suggest charts\"\n",
              "            style=\"display:none;\">\n",
              "\n",
              "<svg xmlns=\"http://www.w3.org/2000/svg\" height=\"24px\"viewBox=\"0 0 24 24\"\n",
              "     width=\"24px\">\n",
              "    <g>\n",
              "        <path d=\"M19 3H5c-1.1 0-2 .9-2 2v14c0 1.1.9 2 2 2h14c1.1 0 2-.9 2-2V5c0-1.1-.9-2-2-2zM9 17H7v-7h2v7zm4 0h-2V7h2v10zm4 0h-2v-4h2v4z\"/>\n",
              "    </g>\n",
              "</svg>\n",
              "  </button>\n",
              "\n",
              "<style>\n",
              "  .colab-df-quickchart {\n",
              "      --bg-color: #E8F0FE;\n",
              "      --fill-color: #1967D2;\n",
              "      --hover-bg-color: #E2EBFA;\n",
              "      --hover-fill-color: #174EA6;\n",
              "      --disabled-fill-color: #AAA;\n",
              "      --disabled-bg-color: #DDD;\n",
              "  }\n",
              "\n",
              "  [theme=dark] .colab-df-quickchart {\n",
              "      --bg-color: #3B4455;\n",
              "      --fill-color: #D2E3FC;\n",
              "      --hover-bg-color: #434B5C;\n",
              "      --hover-fill-color: #FFFFFF;\n",
              "      --disabled-bg-color: #3B4455;\n",
              "      --disabled-fill-color: #666;\n",
              "  }\n",
              "\n",
              "  .colab-df-quickchart {\n",
              "    background-color: var(--bg-color);\n",
              "    border: none;\n",
              "    border-radius: 50%;\n",
              "    cursor: pointer;\n",
              "    display: none;\n",
              "    fill: var(--fill-color);\n",
              "    height: 32px;\n",
              "    padding: 0;\n",
              "    width: 32px;\n",
              "  }\n",
              "\n",
              "  .colab-df-quickchart:hover {\n",
              "    background-color: var(--hover-bg-color);\n",
              "    box-shadow: 0 1px 2px rgba(60, 64, 67, 0.3), 0 1px 3px 1px rgba(60, 64, 67, 0.15);\n",
              "    fill: var(--button-hover-fill-color);\n",
              "  }\n",
              "\n",
              "  .colab-df-quickchart-complete:disabled,\n",
              "  .colab-df-quickchart-complete:disabled:hover {\n",
              "    background-color: var(--disabled-bg-color);\n",
              "    fill: var(--disabled-fill-color);\n",
              "    box-shadow: none;\n",
              "  }\n",
              "\n",
              "  .colab-df-spinner {\n",
              "    border: 2px solid var(--fill-color);\n",
              "    border-color: transparent;\n",
              "    border-bottom-color: var(--fill-color);\n",
              "    animation:\n",
              "      spin 1s steps(1) infinite;\n",
              "  }\n",
              "\n",
              "  @keyframes spin {\n",
              "    0% {\n",
              "      border-color: transparent;\n",
              "      border-bottom-color: var(--fill-color);\n",
              "      border-left-color: var(--fill-color);\n",
              "    }\n",
              "    20% {\n",
              "      border-color: transparent;\n",
              "      border-left-color: var(--fill-color);\n",
              "      border-top-color: var(--fill-color);\n",
              "    }\n",
              "    30% {\n",
              "      border-color: transparent;\n",
              "      border-left-color: var(--fill-color);\n",
              "      border-top-color: var(--fill-color);\n",
              "      border-right-color: var(--fill-color);\n",
              "    }\n",
              "    40% {\n",
              "      border-color: transparent;\n",
              "      border-right-color: var(--fill-color);\n",
              "      border-top-color: var(--fill-color);\n",
              "    }\n",
              "    60% {\n",
              "      border-color: transparent;\n",
              "      border-right-color: var(--fill-color);\n",
              "    }\n",
              "    80% {\n",
              "      border-color: transparent;\n",
              "      border-right-color: var(--fill-color);\n",
              "      border-bottom-color: var(--fill-color);\n",
              "    }\n",
              "    90% {\n",
              "      border-color: transparent;\n",
              "      border-bottom-color: var(--fill-color);\n",
              "    }\n",
              "  }\n",
              "</style>\n",
              "\n",
              "  <script>\n",
              "    async function quickchart(key) {\n",
              "      const quickchartButtonEl =\n",
              "        document.querySelector('#' + key + ' button');\n",
              "      quickchartButtonEl.disabled = true;  // To prevent multiple clicks.\n",
              "      quickchartButtonEl.classList.add('colab-df-spinner');\n",
              "      try {\n",
              "        const charts = await google.colab.kernel.invokeFunction(\n",
              "            'suggestCharts', [key], {});\n",
              "      } catch (error) {\n",
              "        console.error('Error during call to suggestCharts:', error);\n",
              "      }\n",
              "      quickchartButtonEl.classList.remove('colab-df-spinner');\n",
              "      quickchartButtonEl.classList.add('colab-df-quickchart-complete');\n",
              "    }\n",
              "    (() => {\n",
              "      let quickchartButtonEl =\n",
              "        document.querySelector('#df-2889cf19-e82b-4ec7-8d2e-136ac6f1982b button');\n",
              "      quickchartButtonEl.style.display =\n",
              "        google.colab.kernel.accessAllowed ? 'block' : 'none';\n",
              "    })();\n",
              "  </script>\n",
              "</div>\n",
              "\n",
              "    </div>\n",
              "  </div>\n"
            ],
            "application/vnd.google.colaboratory.intrinsic+json": {
              "type": "dataframe",
              "variable_name": "df",
              "summary": "{\n  \"name\": \"df\",\n  \"rows\": 492,\n  \"fields\": [\n    {\n      \"column\": \"ID\",\n      \"properties\": {\n        \"dtype\": \"number\",\n        \"std\": 142,\n        \"min\": 1,\n        \"max\": 492,\n        \"num_unique_values\": 492,\n        \"samples\": [\n          79,\n          56,\n          273\n        ],\n        \"semantic_type\": \"\",\n        \"description\": \"\"\n      }\n    },\n    {\n      \"column\": \"Name\",\n      \"properties\": {\n        \"dtype\": \"string\",\n        \"num_unique_values\": 492,\n        \"samples\": [\n          \"slowpoke\",\n          \"mankey\",\n          \"seedot\"\n        ],\n        \"semantic_type\": \"\",\n        \"description\": \"\"\n      }\n    },\n    {\n      \"column\": \"Type\",\n      \"properties\": {\n        \"dtype\": \"category\",\n        \"num_unique_values\": 17,\n        \"samples\": [\n          \"grass\",\n          \"fire\",\n          \"poison\"\n        ],\n        \"semantic_type\": \"\",\n        \"description\": \"\"\n      }\n    },\n    {\n      \"column\": \"Height\",\n      \"properties\": {\n        \"dtype\": \"number\",\n        \"std\": 11,\n        \"min\": 2,\n        \"max\": 145,\n        \"num_unique_values\": 39,\n        \"samples\": [\n          45,\n          54,\n          11\n        ],\n        \"semantic_type\": \"\",\n        \"description\": \"\"\n      }\n    },\n    {\n      \"column\": \"HP\",\n      \"properties\": {\n        \"dtype\": \"number\",\n        \"std\": 27,\n        \"min\": 1,\n        \"max\": 255,\n        \"num_unique_values\": 77,\n        \"samples\": [\n          58,\n          130,\n          40\n        ],\n        \"semantic_type\": \"\",\n        \"description\": \"\"\n      }\n    },\n    {\n      \"column\": \"Speed\",\n      \"properties\": {\n        \"dtype\": \"number\",\n        \"std\": 27,\n        \"min\": 5,\n        \"max\": 160,\n        \"num_unique_values\": 69,\n        \"samples\": [\n          41,\n          45,\n          61\n        ],\n        \"semantic_type\": \"\",\n        \"description\": \"\"\n      }\n    },\n    {\n      \"column\": \"Attack\",\n      \"properties\": {\n        \"dtype\": \"number\",\n        \"std\": 29,\n        \"min\": 5,\n        \"max\": 165,\n        \"num_unique_values\": 79,\n        \"samples\": [\n          76,\n          49,\n          100\n        ],\n        \"semantic_type\": \"\",\n        \"description\": \"\"\n      }\n    },\n    {\n      \"column\": \"Defense\",\n      \"properties\": {\n        \"dtype\": \"number\",\n        \"std\": 30,\n        \"min\": 5,\n        \"max\": 230,\n        \"num_unique_values\": 80,\n        \"samples\": [\n          25,\n          49,\n          87\n        ],\n        \"semantic_type\": \"\",\n        \"description\": \"\"\n      }\n    },\n    {\n      \"column\": \"Region\",\n      \"properties\": {\n        \"dtype\": \"category\",\n        \"num_unique_values\": 4,\n        \"samples\": [\n          \"Johto\",\n          \"Sinnoh\",\n          \"Kanto\"\n        ],\n        \"semantic_type\": \"\",\n        \"description\": \"\"\n      }\n    },\n    {\n      \"column\": \"Generation\",\n      \"properties\": {\n        \"dtype\": \"number\",\n        \"std\": 1,\n        \"min\": 1,\n        \"max\": 4,\n        \"num_unique_values\": 4,\n        \"samples\": [\n          2,\n          4,\n          1\n        ],\n        \"semantic_type\": \"\",\n        \"description\": \"\"\n      }\n    }\n  ]\n}"
            }
          },
          "metadata": {},
          "execution_count": 330
        }
      ]
    },
    {
      "cell_type": "code",
      "source": [
        "pd.unique(df.Type.values)"
      ],
      "metadata": {
        "colab": {
          "base_uri": "https://localhost:8080/"
        },
        "id": "irTcl3sZDMcT",
        "outputId": "0f8a6c84-b35c-48cb-9c85-a31b8d4aa403"
      },
      "execution_count": 331,
      "outputs": [
        {
          "output_type": "execute_result",
          "data": {
            "text/plain": [
              "array(['grass', 'fire', 'water', 'bug', 'normal', 'poison', 'electric',\n",
              "       'ground', 'fairy', 'fighting', 'psychic', 'rock', 'ghost', 'ice',\n",
              "       'dragon', 'dark', 'steel'], dtype=object)"
            ]
          },
          "metadata": {},
          "execution_count": 331
        }
      ]
    },
    {
      "cell_type": "markdown",
      "source": [
        "# Visualização de graficos"
      ],
      "metadata": {
        "id": "wO7H2HLhC0p6"
      }
    },
    {
      "cell_type": "code",
      "source": [
        "import plotly.express as px\n",
        "import plotly.graph_objects as go"
      ],
      "metadata": {
        "id": "E2Q7S1vxEuCV"
      },
      "execution_count": 332,
      "outputs": []
    },
    {
      "cell_type": "code",
      "source": [
        "bar_visualization = px.bar(df.Type, x=\"Type\", color='Type', barmode='stack')\n",
        "bar_visualization"
      ],
      "metadata": {
        "colab": {
          "base_uri": "https://localhost:8080/",
          "height": 542
        },
        "id": "D8Q_wob3GAoe",
        "outputId": "b5050885-a926-4115-ae57-7d68abf73496"
      },
      "execution_count": 333,
      "outputs": [
        {
          "output_type": "display_data",
          "data": {
            "text/html": [
              "<html>\n",
              "<head><meta charset=\"utf-8\" /></head>\n",
              "<body>\n",
              "    <div>            <script src=\"https://cdnjs.cloudflare.com/ajax/libs/mathjax/2.7.5/MathJax.js?config=TeX-AMS-MML_SVG\"></script><script type=\"text/javascript\">if (window.MathJax && window.MathJax.Hub && window.MathJax.Hub.Config) {window.MathJax.Hub.Config({SVG: {font: \"STIX-Web\"}});}</script>                <script type=\"text/javascript\">window.PlotlyConfig = {MathJaxConfig: 'local'};</script>\n",
              "        <script charset=\"utf-8\" src=\"https://cdn.plot.ly/plotly-2.24.1.min.js\"></script>                <div id=\"3e0cfd75-7658-41eb-abbd-7fe3828240bf\" class=\"plotly-graph-div\" style=\"height:525px; width:100%;\"></div>            <script type=\"text/javascript\">                                    window.PLOTLYENV=window.PLOTLYENV || {};                                    if (document.getElementById(\"3e0cfd75-7658-41eb-abbd-7fe3828240bf\")) {                    Plotly.newPlot(                        \"3e0cfd75-7658-41eb-abbd-7fe3828240bf\",                        [{\"alignmentgroup\":\"True\",\"hovertemplate\":\"Type=%{x}\\u003cbr\\u003ecount=%{y}\\u003cextra\\u003e\\u003c\\u002fextra\\u003e\",\"legendgroup\":\"grass\",\"marker\":{\"color\":\"#636efa\",\"pattern\":{\"shape\":\"\"}},\"name\":\"grass\",\"offsetgroup\":\"grass\",\"orientation\":\"v\",\"showlegend\":true,\"textposition\":\"auto\",\"x\":[\"grass\",\"grass\",\"grass\",\"grass\",\"grass\",\"grass\",\"grass\",\"grass\",\"grass\",\"grass\",\"grass\",\"grass\",\"grass\",\"grass\",\"grass\",\"grass\",\"grass\",\"grass\",\"grass\",\"grass\",\"grass\",\"grass\",\"grass\",\"grass\",\"grass\",\"grass\",\"grass\",\"grass\",\"grass\",\"grass\",\"grass\",\"grass\",\"grass\",\"grass\",\"grass\",\"grass\",\"grass\",\"grass\",\"grass\",\"grass\",\"grass\",\"grass\",\"grass\",\"grass\",\"grass\",\"grass\"],\"xaxis\":\"x\",\"y\":[1,1,1,1,1,1,1,1,1,1,1,1,1,1,1,1,1,1,1,1,1,1,1,1,1,1,1,1,1,1,1,1,1,1,1,1,1,1,1,1,1,1,1,1,1,1],\"yaxis\":\"y\",\"type\":\"bar\"},{\"alignmentgroup\":\"True\",\"hovertemplate\":\"Type=%{x}\\u003cbr\\u003ecount=%{y}\\u003cextra\\u003e\\u003c\\u002fextra\\u003e\",\"legendgroup\":\"fire\",\"marker\":{\"color\":\"#EF553B\",\"pattern\":{\"shape\":\"\"}},\"name\":\"fire\",\"offsetgroup\":\"fire\",\"orientation\":\"v\",\"showlegend\":true,\"textposition\":\"auto\",\"x\":[\"fire\",\"fire\",\"fire\",\"fire\",\"fire\",\"fire\",\"fire\",\"fire\",\"fire\",\"fire\",\"fire\",\"fire\",\"fire\",\"fire\",\"fire\",\"fire\",\"fire\",\"fire\",\"fire\",\"fire\",\"fire\",\"fire\",\"fire\",\"fire\",\"fire\",\"fire\",\"fire\",\"fire\",\"fire\",\"fire\",\"fire\"],\"xaxis\":\"x\",\"y\":[1,1,1,1,1,1,1,1,1,1,1,1,1,1,1,1,1,1,1,1,1,1,1,1,1,1,1,1,1,1,1],\"yaxis\":\"y\",\"type\":\"bar\"},{\"alignmentgroup\":\"True\",\"hovertemplate\":\"Type=%{x}\\u003cbr\\u003ecount=%{y}\\u003cextra\\u003e\\u003c\\u002fextra\\u003e\",\"legendgroup\":\"water\",\"marker\":{\"color\":\"#00cc96\",\"pattern\":{\"shape\":\"\"}},\"name\":\"water\",\"offsetgroup\":\"water\",\"orientation\":\"v\",\"showlegend\":true,\"textposition\":\"auto\",\"x\":[\"water\",\"water\",\"water\",\"water\",\"water\",\"water\",\"water\",\"water\",\"water\",\"water\",\"water\",\"water\",\"water\",\"water\",\"water\",\"water\",\"water\",\"water\",\"water\",\"water\",\"water\",\"water\",\"water\",\"water\",\"water\",\"water\",\"water\",\"water\",\"water\",\"water\",\"water\",\"water\",\"water\",\"water\",\"water\",\"water\",\"water\",\"water\",\"water\",\"water\",\"water\",\"water\",\"water\",\"water\",\"water\",\"water\",\"water\",\"water\",\"water\",\"water\",\"water\",\"water\",\"water\",\"water\",\"water\",\"water\",\"water\",\"water\",\"water\",\"water\",\"water\",\"water\",\"water\",\"water\",\"water\",\"water\",\"water\",\"water\",\"water\",\"water\",\"water\",\"water\",\"water\",\"water\",\"water\",\"water\",\"water\",\"water\",\"water\",\"water\",\"water\",\"water\",\"water\"],\"xaxis\":\"x\",\"y\":[1,1,1,1,1,1,1,1,1,1,1,1,1,1,1,1,1,1,1,1,1,1,1,1,1,1,1,1,1,1,1,1,1,1,1,1,1,1,1,1,1,1,1,1,1,1,1,1,1,1,1,1,1,1,1,1,1,1,1,1,1,1,1,1,1,1,1,1,1,1,1,1,1,1,1,1,1,1,1,1,1,1,1],\"yaxis\":\"y\",\"type\":\"bar\"},{\"alignmentgroup\":\"True\",\"hovertemplate\":\"Type=%{x}\\u003cbr\\u003ecount=%{y}\\u003cextra\\u003e\\u003c\\u002fextra\\u003e\",\"legendgroup\":\"bug\",\"marker\":{\"color\":\"#ab63fa\",\"pattern\":{\"shape\":\"\"}},\"name\":\"bug\",\"offsetgroup\":\"bug\",\"orientation\":\"v\",\"showlegend\":true,\"textposition\":\"auto\",\"x\":[\"bug\",\"bug\",\"bug\",\"bug\",\"bug\",\"bug\",\"bug\",\"bug\",\"bug\",\"bug\",\"bug\",\"bug\",\"bug\",\"bug\",\"bug\",\"bug\",\"bug\",\"bug\",\"bug\",\"bug\",\"bug\",\"bug\",\"bug\",\"bug\",\"bug\",\"bug\",\"bug\",\"bug\",\"bug\",\"bug\",\"bug\",\"bug\",\"bug\",\"bug\",\"bug\",\"bug\",\"bug\",\"bug\",\"bug\",\"bug\",\"bug\",\"bug\"],\"xaxis\":\"x\",\"y\":[1,1,1,1,1,1,1,1,1,1,1,1,1,1,1,1,1,1,1,1,1,1,1,1,1,1,1,1,1,1,1,1,1,1,1,1,1,1,1,1,1,1],\"yaxis\":\"y\",\"type\":\"bar\"},{\"alignmentgroup\":\"True\",\"hovertemplate\":\"Type=%{x}\\u003cbr\\u003ecount=%{y}\\u003cextra\\u003e\\u003c\\u002fextra\\u003e\",\"legendgroup\":\"normal\",\"marker\":{\"color\":\"#FFA15A\",\"pattern\":{\"shape\":\"\"}},\"name\":\"normal\",\"offsetgroup\":\"normal\",\"orientation\":\"v\",\"showlegend\":true,\"textposition\":\"auto\",\"x\":[\"normal\",\"normal\",\"normal\",\"normal\",\"normal\",\"normal\",\"normal\",\"normal\",\"normal\",\"normal\",\"normal\",\"normal\",\"normal\",\"normal\",\"normal\",\"normal\",\"normal\",\"normal\",\"normal\",\"normal\",\"normal\",\"normal\",\"normal\",\"normal\",\"normal\",\"normal\",\"normal\",\"normal\",\"normal\",\"normal\",\"normal\",\"normal\",\"normal\",\"normal\",\"normal\",\"normal\",\"normal\",\"normal\",\"normal\",\"normal\",\"normal\",\"normal\",\"normal\",\"normal\",\"normal\",\"normal\",\"normal\",\"normal\",\"normal\",\"normal\",\"normal\",\"normal\",\"normal\",\"normal\",\"normal\",\"normal\",\"normal\",\"normal\",\"normal\",\"normal\",\"normal\",\"normal\",\"normal\",\"normal\",\"normal\",\"normal\",\"normal\",\"normal\",\"normal\",\"normal\",\"normal\"],\"xaxis\":\"x\",\"y\":[1,1,1,1,1,1,1,1,1,1,1,1,1,1,1,1,1,1,1,1,1,1,1,1,1,1,1,1,1,1,1,1,1,1,1,1,1,1,1,1,1,1,1,1,1,1,1,1,1,1,1,1,1,1,1,1,1,1,1,1,1,1,1,1,1,1,1,1,1,1,1],\"yaxis\":\"y\",\"type\":\"bar\"},{\"alignmentgroup\":\"True\",\"hovertemplate\":\"Type=%{x}\\u003cbr\\u003ecount=%{y}\\u003cextra\\u003e\\u003c\\u002fextra\\u003e\",\"legendgroup\":\"poison\",\"marker\":{\"color\":\"#19d3f3\",\"pattern\":{\"shape\":\"\"}},\"name\":\"poison\",\"offsetgroup\":\"poison\",\"orientation\":\"v\",\"showlegend\":true,\"textposition\":\"auto\",\"x\":[\"poison\",\"poison\",\"poison\",\"poison\",\"poison\",\"poison\",\"poison\",\"poison\",\"poison\",\"poison\",\"poison\",\"poison\",\"poison\",\"poison\",\"poison\",\"poison\",\"poison\",\"poison\",\"poison\",\"poison\",\"poison\",\"poison\",\"poison\",\"poison\"],\"xaxis\":\"x\",\"y\":[1,1,1,1,1,1,1,1,1,1,1,1,1,1,1,1,1,1,1,1,1,1,1,1],\"yaxis\":\"y\",\"type\":\"bar\"},{\"alignmentgroup\":\"True\",\"hovertemplate\":\"Type=%{x}\\u003cbr\\u003ecount=%{y}\\u003cextra\\u003e\\u003c\\u002fextra\\u003e\",\"legendgroup\":\"electric\",\"marker\":{\"color\":\"#FF6692\",\"pattern\":{\"shape\":\"\"}},\"name\":\"electric\",\"offsetgroup\":\"electric\",\"orientation\":\"v\",\"showlegend\":true,\"textposition\":\"auto\",\"x\":[\"electric\",\"electric\",\"electric\",\"electric\",\"electric\",\"electric\",\"electric\",\"electric\",\"electric\",\"electric\",\"electric\",\"electric\",\"electric\",\"electric\",\"electric\",\"electric\",\"electric\",\"electric\",\"electric\",\"electric\",\"electric\",\"electric\",\"electric\",\"electric\",\"electric\",\"electric\"],\"xaxis\":\"x\",\"y\":[1,1,1,1,1,1,1,1,1,1,1,1,1,1,1,1,1,1,1,1,1,1,1,1,1,1],\"yaxis\":\"y\",\"type\":\"bar\"},{\"alignmentgroup\":\"True\",\"hovertemplate\":\"Type=%{x}\\u003cbr\\u003ecount=%{y}\\u003cextra\\u003e\\u003c\\u002fextra\\u003e\",\"legendgroup\":\"ground\",\"marker\":{\"color\":\"#B6E880\",\"pattern\":{\"shape\":\"\"}},\"name\":\"ground\",\"offsetgroup\":\"ground\",\"orientation\":\"v\",\"showlegend\":true,\"textposition\":\"auto\",\"x\":[\"ground\",\"ground\",\"ground\",\"ground\",\"ground\",\"ground\",\"ground\",\"ground\",\"ground\",\"ground\",\"ground\",\"ground\",\"ground\",\"ground\",\"ground\",\"ground\",\"ground\",\"ground\",\"ground\",\"ground\",\"ground\"],\"xaxis\":\"x\",\"y\":[1,1,1,1,1,1,1,1,1,1,1,1,1,1,1,1,1,1,1,1,1],\"yaxis\":\"y\",\"type\":\"bar\"},{\"alignmentgroup\":\"True\",\"hovertemplate\":\"Type=%{x}\\u003cbr\\u003ecount=%{y}\\u003cextra\\u003e\\u003c\\u002fextra\\u003e\",\"legendgroup\":\"fairy\",\"marker\":{\"color\":\"#FF97FF\",\"pattern\":{\"shape\":\"\"}},\"name\":\"fairy\",\"offsetgroup\":\"fairy\",\"orientation\":\"v\",\"showlegend\":true,\"textposition\":\"auto\",\"x\":[\"fairy\",\"fairy\",\"fairy\",\"fairy\",\"fairy\",\"fairy\",\"fairy\",\"fairy\"],\"xaxis\":\"x\",\"y\":[1,1,1,1,1,1,1,1],\"yaxis\":\"y\",\"type\":\"bar\"},{\"alignmentgroup\":\"True\",\"hovertemplate\":\"Type=%{x}\\u003cbr\\u003ecount=%{y}\\u003cextra\\u003e\\u003c\\u002fextra\\u003e\",\"legendgroup\":\"fighting\",\"marker\":{\"color\":\"#FECB52\",\"pattern\":{\"shape\":\"\"}},\"name\":\"fighting\",\"offsetgroup\":\"fighting\",\"orientation\":\"v\",\"showlegend\":true,\"textposition\":\"auto\",\"x\":[\"fighting\",\"fighting\",\"fighting\",\"fighting\",\"fighting\",\"fighting\",\"fighting\",\"fighting\",\"fighting\",\"fighting\",\"fighting\",\"fighting\",\"fighting\",\"fighting\",\"fighting\"],\"xaxis\":\"x\",\"y\":[1,1,1,1,1,1,1,1,1,1,1,1,1,1,1],\"yaxis\":\"y\",\"type\":\"bar\"},{\"alignmentgroup\":\"True\",\"hovertemplate\":\"Type=%{x}\\u003cbr\\u003ecount=%{y}\\u003cextra\\u003e\\u003c\\u002fextra\\u003e\",\"legendgroup\":\"psychic\",\"marker\":{\"color\":\"#636efa\",\"pattern\":{\"shape\":\"\"}},\"name\":\"psychic\",\"offsetgroup\":\"psychic\",\"orientation\":\"v\",\"showlegend\":true,\"textposition\":\"auto\",\"x\":[\"psychic\",\"psychic\",\"psychic\",\"psychic\",\"psychic\",\"psychic\",\"psychic\",\"psychic\",\"psychic\",\"psychic\",\"psychic\",\"psychic\",\"psychic\",\"psychic\",\"psychic\",\"psychic\",\"psychic\",\"psychic\",\"psychic\",\"psychic\",\"psychic\",\"psychic\",\"psychic\",\"psychic\",\"psychic\",\"psychic\",\"psychic\",\"psychic\",\"psychic\",\"psychic\"],\"xaxis\":\"x\",\"y\":[1,1,1,1,1,1,1,1,1,1,1,1,1,1,1,1,1,1,1,1,1,1,1,1,1,1,1,1,1,1],\"yaxis\":\"y\",\"type\":\"bar\"},{\"alignmentgroup\":\"True\",\"hovertemplate\":\"Type=%{x}\\u003cbr\\u003ecount=%{y}\\u003cextra\\u003e\\u003c\\u002fextra\\u003e\",\"legendgroup\":\"rock\",\"marker\":{\"color\":\"#EF553B\",\"pattern\":{\"shape\":\"\"}},\"name\":\"rock\",\"offsetgroup\":\"rock\",\"orientation\":\"v\",\"showlegend\":true,\"textposition\":\"auto\",\"x\":[\"rock\",\"rock\",\"rock\",\"rock\",\"rock\",\"rock\",\"rock\",\"rock\",\"rock\",\"rock\",\"rock\",\"rock\",\"rock\",\"rock\",\"rock\",\"rock\",\"rock\",\"rock\",\"rock\",\"rock\",\"rock\",\"rock\",\"rock\",\"rock\",\"rock\",\"rock\",\"rock\"],\"xaxis\":\"x\",\"y\":[1,1,1,1,1,1,1,1,1,1,1,1,1,1,1,1,1,1,1,1,1,1,1,1,1,1,1],\"yaxis\":\"y\",\"type\":\"bar\"},{\"alignmentgroup\":\"True\",\"hovertemplate\":\"Type=%{x}\\u003cbr\\u003ecount=%{y}\\u003cextra\\u003e\\u003c\\u002fextra\\u003e\",\"legendgroup\":\"ghost\",\"marker\":{\"color\":\"#00cc96\",\"pattern\":{\"shape\":\"\"}},\"name\":\"ghost\",\"offsetgroup\":\"ghost\",\"orientation\":\"v\",\"showlegend\":true,\"textposition\":\"auto\",\"x\":[\"ghost\",\"ghost\",\"ghost\",\"ghost\",\"ghost\",\"ghost\",\"ghost\",\"ghost\",\"ghost\",\"ghost\",\"ghost\",\"ghost\",\"ghost\",\"ghost\"],\"xaxis\":\"x\",\"y\":[1,1,1,1,1,1,1,1,1,1,1,1,1,1],\"yaxis\":\"y\",\"type\":\"bar\"},{\"alignmentgroup\":\"True\",\"hovertemplate\":\"Type=%{x}\\u003cbr\\u003ecount=%{y}\\u003cextra\\u003e\\u003c\\u002fextra\\u003e\",\"legendgroup\":\"ice\",\"marker\":{\"color\":\"#ab63fa\",\"pattern\":{\"shape\":\"\"}},\"name\":\"ice\",\"offsetgroup\":\"ice\",\"orientation\":\"v\",\"showlegend\":true,\"textposition\":\"auto\",\"x\":[\"ice\",\"ice\",\"ice\",\"ice\",\"ice\",\"ice\",\"ice\",\"ice\",\"ice\",\"ice\",\"ice\",\"ice\",\"ice\",\"ice\",\"ice\"],\"xaxis\":\"x\",\"y\":[1,1,1,1,1,1,1,1,1,1,1,1,1,1,1],\"yaxis\":\"y\",\"type\":\"bar\"},{\"alignmentgroup\":\"True\",\"hovertemplate\":\"Type=%{x}\\u003cbr\\u003ecount=%{y}\\u003cextra\\u003e\\u003c\\u002fextra\\u003e\",\"legendgroup\":\"dragon\",\"marker\":{\"color\":\"#FFA15A\",\"pattern\":{\"shape\":\"\"}},\"name\":\"dragon\",\"offsetgroup\":\"dragon\",\"orientation\":\"v\",\"showlegend\":true,\"textposition\":\"auto\",\"x\":[\"dragon\",\"dragon\",\"dragon\",\"dragon\",\"dragon\",\"dragon\",\"dragon\",\"dragon\",\"dragon\",\"dragon\",\"dragon\",\"dragon\",\"dragon\"],\"xaxis\":\"x\",\"y\":[1,1,1,1,1,1,1,1,1,1,1,1,1],\"yaxis\":\"y\",\"type\":\"bar\"},{\"alignmentgroup\":\"True\",\"hovertemplate\":\"Type=%{x}\\u003cbr\\u003ecount=%{y}\\u003cextra\\u003e\\u003c\\u002fextra\\u003e\",\"legendgroup\":\"dark\",\"marker\":{\"color\":\"#19d3f3\",\"pattern\":{\"shape\":\"\"}},\"name\":\"dark\",\"offsetgroup\":\"dark\",\"orientation\":\"v\",\"showlegend\":true,\"textposition\":\"auto\",\"x\":[\"dark\",\"dark\",\"dark\",\"dark\",\"dark\",\"dark\",\"dark\",\"dark\",\"dark\",\"dark\",\"dark\",\"dark\"],\"xaxis\":\"x\",\"y\":[1,1,1,1,1,1,1,1,1,1,1,1],\"yaxis\":\"y\",\"type\":\"bar\"},{\"alignmentgroup\":\"True\",\"hovertemplate\":\"Type=%{x}\\u003cbr\\u003ecount=%{y}\\u003cextra\\u003e\\u003c\\u002fextra\\u003e\",\"legendgroup\":\"steel\",\"marker\":{\"color\":\"#FF6692\",\"pattern\":{\"shape\":\"\"}},\"name\":\"steel\",\"offsetgroup\":\"steel\",\"orientation\":\"v\",\"showlegend\":true,\"textposition\":\"auto\",\"x\":[\"steel\",\"steel\",\"steel\",\"steel\",\"steel\",\"steel\",\"steel\",\"steel\",\"steel\",\"steel\",\"steel\",\"steel\",\"steel\",\"steel\"],\"xaxis\":\"x\",\"y\":[1,1,1,1,1,1,1,1,1,1,1,1,1,1],\"yaxis\":\"y\",\"type\":\"bar\"}],                        {\"template\":{\"data\":{\"histogram2dcontour\":[{\"type\":\"histogram2dcontour\",\"colorbar\":{\"outlinewidth\":0,\"ticks\":\"\"},\"colorscale\":[[0.0,\"#0d0887\"],[0.1111111111111111,\"#46039f\"],[0.2222222222222222,\"#7201a8\"],[0.3333333333333333,\"#9c179e\"],[0.4444444444444444,\"#bd3786\"],[0.5555555555555556,\"#d8576b\"],[0.6666666666666666,\"#ed7953\"],[0.7777777777777778,\"#fb9f3a\"],[0.8888888888888888,\"#fdca26\"],[1.0,\"#f0f921\"]]}],\"choropleth\":[{\"type\":\"choropleth\",\"colorbar\":{\"outlinewidth\":0,\"ticks\":\"\"}}],\"histogram2d\":[{\"type\":\"histogram2d\",\"colorbar\":{\"outlinewidth\":0,\"ticks\":\"\"},\"colorscale\":[[0.0,\"#0d0887\"],[0.1111111111111111,\"#46039f\"],[0.2222222222222222,\"#7201a8\"],[0.3333333333333333,\"#9c179e\"],[0.4444444444444444,\"#bd3786\"],[0.5555555555555556,\"#d8576b\"],[0.6666666666666666,\"#ed7953\"],[0.7777777777777778,\"#fb9f3a\"],[0.8888888888888888,\"#fdca26\"],[1.0,\"#f0f921\"]]}],\"heatmap\":[{\"type\":\"heatmap\",\"colorbar\":{\"outlinewidth\":0,\"ticks\":\"\"},\"colorscale\":[[0.0,\"#0d0887\"],[0.1111111111111111,\"#46039f\"],[0.2222222222222222,\"#7201a8\"],[0.3333333333333333,\"#9c179e\"],[0.4444444444444444,\"#bd3786\"],[0.5555555555555556,\"#d8576b\"],[0.6666666666666666,\"#ed7953\"],[0.7777777777777778,\"#fb9f3a\"],[0.8888888888888888,\"#fdca26\"],[1.0,\"#f0f921\"]]}],\"heatmapgl\":[{\"type\":\"heatmapgl\",\"colorbar\":{\"outlinewidth\":0,\"ticks\":\"\"},\"colorscale\":[[0.0,\"#0d0887\"],[0.1111111111111111,\"#46039f\"],[0.2222222222222222,\"#7201a8\"],[0.3333333333333333,\"#9c179e\"],[0.4444444444444444,\"#bd3786\"],[0.5555555555555556,\"#d8576b\"],[0.6666666666666666,\"#ed7953\"],[0.7777777777777778,\"#fb9f3a\"],[0.8888888888888888,\"#fdca26\"],[1.0,\"#f0f921\"]]}],\"contourcarpet\":[{\"type\":\"contourcarpet\",\"colorbar\":{\"outlinewidth\":0,\"ticks\":\"\"}}],\"contour\":[{\"type\":\"contour\",\"colorbar\":{\"outlinewidth\":0,\"ticks\":\"\"},\"colorscale\":[[0.0,\"#0d0887\"],[0.1111111111111111,\"#46039f\"],[0.2222222222222222,\"#7201a8\"],[0.3333333333333333,\"#9c179e\"],[0.4444444444444444,\"#bd3786\"],[0.5555555555555556,\"#d8576b\"],[0.6666666666666666,\"#ed7953\"],[0.7777777777777778,\"#fb9f3a\"],[0.8888888888888888,\"#fdca26\"],[1.0,\"#f0f921\"]]}],\"surface\":[{\"type\":\"surface\",\"colorbar\":{\"outlinewidth\":0,\"ticks\":\"\"},\"colorscale\":[[0.0,\"#0d0887\"],[0.1111111111111111,\"#46039f\"],[0.2222222222222222,\"#7201a8\"],[0.3333333333333333,\"#9c179e\"],[0.4444444444444444,\"#bd3786\"],[0.5555555555555556,\"#d8576b\"],[0.6666666666666666,\"#ed7953\"],[0.7777777777777778,\"#fb9f3a\"],[0.8888888888888888,\"#fdca26\"],[1.0,\"#f0f921\"]]}],\"mesh3d\":[{\"type\":\"mesh3d\",\"colorbar\":{\"outlinewidth\":0,\"ticks\":\"\"}}],\"scatter\":[{\"fillpattern\":{\"fillmode\":\"overlay\",\"size\":10,\"solidity\":0.2},\"type\":\"scatter\"}],\"parcoords\":[{\"type\":\"parcoords\",\"line\":{\"colorbar\":{\"outlinewidth\":0,\"ticks\":\"\"}}}],\"scatterpolargl\":[{\"type\":\"scatterpolargl\",\"marker\":{\"colorbar\":{\"outlinewidth\":0,\"ticks\":\"\"}}}],\"bar\":[{\"error_x\":{\"color\":\"#2a3f5f\"},\"error_y\":{\"color\":\"#2a3f5f\"},\"marker\":{\"line\":{\"color\":\"#E5ECF6\",\"width\":0.5},\"pattern\":{\"fillmode\":\"overlay\",\"size\":10,\"solidity\":0.2}},\"type\":\"bar\"}],\"scattergeo\":[{\"type\":\"scattergeo\",\"marker\":{\"colorbar\":{\"outlinewidth\":0,\"ticks\":\"\"}}}],\"scatterpolar\":[{\"type\":\"scatterpolar\",\"marker\":{\"colorbar\":{\"outlinewidth\":0,\"ticks\":\"\"}}}],\"histogram\":[{\"marker\":{\"pattern\":{\"fillmode\":\"overlay\",\"size\":10,\"solidity\":0.2}},\"type\":\"histogram\"}],\"scattergl\":[{\"type\":\"scattergl\",\"marker\":{\"colorbar\":{\"outlinewidth\":0,\"ticks\":\"\"}}}],\"scatter3d\":[{\"type\":\"scatter3d\",\"line\":{\"colorbar\":{\"outlinewidth\":0,\"ticks\":\"\"}},\"marker\":{\"colorbar\":{\"outlinewidth\":0,\"ticks\":\"\"}}}],\"scattermapbox\":[{\"type\":\"scattermapbox\",\"marker\":{\"colorbar\":{\"outlinewidth\":0,\"ticks\":\"\"}}}],\"scatterternary\":[{\"type\":\"scatterternary\",\"marker\":{\"colorbar\":{\"outlinewidth\":0,\"ticks\":\"\"}}}],\"scattercarpet\":[{\"type\":\"scattercarpet\",\"marker\":{\"colorbar\":{\"outlinewidth\":0,\"ticks\":\"\"}}}],\"carpet\":[{\"aaxis\":{\"endlinecolor\":\"#2a3f5f\",\"gridcolor\":\"white\",\"linecolor\":\"white\",\"minorgridcolor\":\"white\",\"startlinecolor\":\"#2a3f5f\"},\"baxis\":{\"endlinecolor\":\"#2a3f5f\",\"gridcolor\":\"white\",\"linecolor\":\"white\",\"minorgridcolor\":\"white\",\"startlinecolor\":\"#2a3f5f\"},\"type\":\"carpet\"}],\"table\":[{\"cells\":{\"fill\":{\"color\":\"#EBF0F8\"},\"line\":{\"color\":\"white\"}},\"header\":{\"fill\":{\"color\":\"#C8D4E3\"},\"line\":{\"color\":\"white\"}},\"type\":\"table\"}],\"barpolar\":[{\"marker\":{\"line\":{\"color\":\"#E5ECF6\",\"width\":0.5},\"pattern\":{\"fillmode\":\"overlay\",\"size\":10,\"solidity\":0.2}},\"type\":\"barpolar\"}],\"pie\":[{\"automargin\":true,\"type\":\"pie\"}]},\"layout\":{\"autotypenumbers\":\"strict\",\"colorway\":[\"#636efa\",\"#EF553B\",\"#00cc96\",\"#ab63fa\",\"#FFA15A\",\"#19d3f3\",\"#FF6692\",\"#B6E880\",\"#FF97FF\",\"#FECB52\"],\"font\":{\"color\":\"#2a3f5f\"},\"hovermode\":\"closest\",\"hoverlabel\":{\"align\":\"left\"},\"paper_bgcolor\":\"white\",\"plot_bgcolor\":\"#E5ECF6\",\"polar\":{\"bgcolor\":\"#E5ECF6\",\"angularaxis\":{\"gridcolor\":\"white\",\"linecolor\":\"white\",\"ticks\":\"\"},\"radialaxis\":{\"gridcolor\":\"white\",\"linecolor\":\"white\",\"ticks\":\"\"}},\"ternary\":{\"bgcolor\":\"#E5ECF6\",\"aaxis\":{\"gridcolor\":\"white\",\"linecolor\":\"white\",\"ticks\":\"\"},\"baxis\":{\"gridcolor\":\"white\",\"linecolor\":\"white\",\"ticks\":\"\"},\"caxis\":{\"gridcolor\":\"white\",\"linecolor\":\"white\",\"ticks\":\"\"}},\"coloraxis\":{\"colorbar\":{\"outlinewidth\":0,\"ticks\":\"\"}},\"colorscale\":{\"sequential\":[[0.0,\"#0d0887\"],[0.1111111111111111,\"#46039f\"],[0.2222222222222222,\"#7201a8\"],[0.3333333333333333,\"#9c179e\"],[0.4444444444444444,\"#bd3786\"],[0.5555555555555556,\"#d8576b\"],[0.6666666666666666,\"#ed7953\"],[0.7777777777777778,\"#fb9f3a\"],[0.8888888888888888,\"#fdca26\"],[1.0,\"#f0f921\"]],\"sequentialminus\":[[0.0,\"#0d0887\"],[0.1111111111111111,\"#46039f\"],[0.2222222222222222,\"#7201a8\"],[0.3333333333333333,\"#9c179e\"],[0.4444444444444444,\"#bd3786\"],[0.5555555555555556,\"#d8576b\"],[0.6666666666666666,\"#ed7953\"],[0.7777777777777778,\"#fb9f3a\"],[0.8888888888888888,\"#fdca26\"],[1.0,\"#f0f921\"]],\"diverging\":[[0,\"#8e0152\"],[0.1,\"#c51b7d\"],[0.2,\"#de77ae\"],[0.3,\"#f1b6da\"],[0.4,\"#fde0ef\"],[0.5,\"#f7f7f7\"],[0.6,\"#e6f5d0\"],[0.7,\"#b8e186\"],[0.8,\"#7fbc41\"],[0.9,\"#4d9221\"],[1,\"#276419\"]]},\"xaxis\":{\"gridcolor\":\"white\",\"linecolor\":\"white\",\"ticks\":\"\",\"title\":{\"standoff\":15},\"zerolinecolor\":\"white\",\"automargin\":true,\"zerolinewidth\":2},\"yaxis\":{\"gridcolor\":\"white\",\"linecolor\":\"white\",\"ticks\":\"\",\"title\":{\"standoff\":15},\"zerolinecolor\":\"white\",\"automargin\":true,\"zerolinewidth\":2},\"scene\":{\"xaxis\":{\"backgroundcolor\":\"#E5ECF6\",\"gridcolor\":\"white\",\"linecolor\":\"white\",\"showbackground\":true,\"ticks\":\"\",\"zerolinecolor\":\"white\",\"gridwidth\":2},\"yaxis\":{\"backgroundcolor\":\"#E5ECF6\",\"gridcolor\":\"white\",\"linecolor\":\"white\",\"showbackground\":true,\"ticks\":\"\",\"zerolinecolor\":\"white\",\"gridwidth\":2},\"zaxis\":{\"backgroundcolor\":\"#E5ECF6\",\"gridcolor\":\"white\",\"linecolor\":\"white\",\"showbackground\":true,\"ticks\":\"\",\"zerolinecolor\":\"white\",\"gridwidth\":2}},\"shapedefaults\":{\"line\":{\"color\":\"#2a3f5f\"}},\"annotationdefaults\":{\"arrowcolor\":\"#2a3f5f\",\"arrowhead\":0,\"arrowwidth\":1},\"geo\":{\"bgcolor\":\"white\",\"landcolor\":\"#E5ECF6\",\"subunitcolor\":\"white\",\"showland\":true,\"showlakes\":true,\"lakecolor\":\"white\"},\"title\":{\"x\":0.05},\"mapbox\":{\"style\":\"light\"}}},\"xaxis\":{\"anchor\":\"y\",\"domain\":[0.0,1.0],\"title\":{\"text\":\"Type\"},\"categoryorder\":\"array\",\"categoryarray\":[\"grass\",\"fire\",\"water\",\"bug\",\"normal\",\"poison\",\"electric\",\"ground\",\"fairy\",\"fighting\",\"psychic\",\"rock\",\"ghost\",\"ice\",\"dragon\",\"dark\",\"steel\"]},\"yaxis\":{\"anchor\":\"x\",\"domain\":[0.0,1.0],\"title\":{\"text\":\"count\"}},\"legend\":{\"title\":{\"text\":\"Type\"},\"tracegroupgap\":0},\"margin\":{\"t\":60},\"barmode\":\"stack\"},                        {\"responsive\": true}                    ).then(function(){\n",
              "                            \n",
              "var gd = document.getElementById('3e0cfd75-7658-41eb-abbd-7fe3828240bf');\n",
              "var x = new MutationObserver(function (mutations, observer) {{\n",
              "        var display = window.getComputedStyle(gd).display;\n",
              "        if (!display || display === 'none') {{\n",
              "            console.log([gd, 'removed!']);\n",
              "            Plotly.purge(gd);\n",
              "            observer.disconnect();\n",
              "        }}\n",
              "}});\n",
              "\n",
              "// Listen for the removal of the full notebook cells\n",
              "var notebookContainer = gd.closest('#notebook-container');\n",
              "if (notebookContainer) {{\n",
              "    x.observe(notebookContainer, {childList: true});\n",
              "}}\n",
              "\n",
              "// Listen for the clearing of the current output cell\n",
              "var outputEl = gd.closest('.output');\n",
              "if (outputEl) {{\n",
              "    x.observe(outputEl, {childList: true});\n",
              "}}\n",
              "\n",
              "                        })                };                            </script>        </div>\n",
              "</body>\n",
              "</html>"
            ]
          },
          "metadata": {}
        }
      ]
    },
    {
      "cell_type": "markdown",
      "source": [
        "## Attack"
      ],
      "metadata": {
        "id": "l6VjL7DgJyn0"
      }
    },
    {
      "cell_type": "code",
      "source": [
        "graph = px.box(df, x='Attack', y='Type',points='all', title=\"Attack Pokemons - Median\", color=\"Type\")\n",
        "\n",
        "graph"
      ],
      "metadata": {
        "colab": {
          "base_uri": "https://localhost:8080/",
          "height": 542
        },
        "id": "SDihCrDQNCkL",
        "outputId": "89d40333-2afd-4144-fbf9-0eaf3f5ca33e"
      },
      "execution_count": 334,
      "outputs": [
        {
          "output_type": "display_data",
          "data": {
            "text/html": [
              "<html>\n",
              "<head><meta charset=\"utf-8\" /></head>\n",
              "<body>\n",
              "    <div>            <script src=\"https://cdnjs.cloudflare.com/ajax/libs/mathjax/2.7.5/MathJax.js?config=TeX-AMS-MML_SVG\"></script><script type=\"text/javascript\">if (window.MathJax && window.MathJax.Hub && window.MathJax.Hub.Config) {window.MathJax.Hub.Config({SVG: {font: \"STIX-Web\"}});}</script>                <script type=\"text/javascript\">window.PlotlyConfig = {MathJaxConfig: 'local'};</script>\n",
              "        <script charset=\"utf-8\" src=\"https://cdn.plot.ly/plotly-2.24.1.min.js\"></script>                <div id=\"50a2ed84-850e-4057-842c-61ea0f5ce936\" class=\"plotly-graph-div\" style=\"height:525px; width:100%;\"></div>            <script type=\"text/javascript\">                                    window.PLOTLYENV=window.PLOTLYENV || {};                                    if (document.getElementById(\"50a2ed84-850e-4057-842c-61ea0f5ce936\")) {                    Plotly.newPlot(                        \"50a2ed84-850e-4057-842c-61ea0f5ce936\",                        [{\"alignmentgroup\":\"True\",\"boxpoints\":\"all\",\"hovertemplate\":\"Type=%{y}\\u003cbr\\u003eAttack=%{x}\\u003cextra\\u003e\\u003c\\u002fextra\\u003e\",\"legendgroup\":\"grass\",\"marker\":{\"color\":\"#636efa\"},\"name\":\"grass\",\"notched\":false,\"offsetgroup\":\"grass\",\"orientation\":\"h\",\"showlegend\":true,\"x\":[49,62,82,50,65,80,75,90,105,40,95,55,49,62,82,80,35,45,55,30,75,45,65,85,40,70,100,40,130,60,85,115,68,68,89,109,30,70,35,60,100,62,92,100,110,100],\"x0\":\" \",\"xaxis\":\"x\",\"y\":[\"grass\",\"grass\",\"grass\",\"grass\",\"grass\",\"grass\",\"grass\",\"grass\",\"grass\",\"grass\",\"grass\",\"grass\",\"grass\",\"grass\",\"grass\",\"grass\",\"grass\",\"grass\",\"grass\",\"grass\",\"grass\",\"grass\",\"grass\",\"grass\",\"grass\",\"grass\",\"grass\",\"grass\",\"grass\",\"grass\",\"grass\",\"grass\",\"grass\",\"grass\",\"grass\",\"grass\",\"grass\",\"grass\",\"grass\",\"grass\",\"grass\",\"grass\",\"grass\",\"grass\",\"grass\",\"grass\"],\"y0\":\" \",\"yaxis\":\"y\",\"type\":\"box\"},{\"alignmentgroup\":\"True\",\"boxpoints\":\"all\",\"hovertemplate\":\"Type=%{y}\\u003cbr\\u003eAttack=%{x}\\u003cextra\\u003e\\u003c\\u002fextra\\u003e\",\"legendgroup\":\"fire\",\"marker\":{\"color\":\"#EF553B\"},\"name\":\"fire\",\"notched\":false,\"offsetgroup\":\"fire\",\"orientation\":\"h\",\"showlegend\":true,\"x\":[52,64,84,41,76,70,110,85,100,95,130,100,52,64,84,40,50,75,115,130,60,85,120,60,100,85,58,78,104,95,90],\"x0\":\" \",\"xaxis\":\"x\",\"y\":[\"fire\",\"fire\",\"fire\",\"fire\",\"fire\",\"fire\",\"fire\",\"fire\",\"fire\",\"fire\",\"fire\",\"fire\",\"fire\",\"fire\",\"fire\",\"fire\",\"fire\",\"fire\",\"fire\",\"fire\",\"fire\",\"fire\",\"fire\",\"fire\",\"fire\",\"fire\",\"fire\",\"fire\",\"fire\",\"fire\",\"fire\"],\"y0\":\" \",\"yaxis\":\"y\",\"type\":\"box\"},{\"alignmentgroup\":\"True\",\"boxpoints\":\"all\",\"hovertemplate\":\"Type=%{y}\\u003cbr\\u003eAttack=%{x}\\u003cextra\\u003e\\u003c\\u002fextra\\u003e\",\"legendgroup\":\"water\",\"marker\":{\"color\":\"#00cc96\"},\"name\":\"water\",\"notched\":false,\"offsetgroup\":\"water\",\"orientation\":\"h\",\"showlegend\":true,\"x\":[48,63,83,52,82,50,65,95,40,70,65,75,45,70,65,95,105,130,40,65,67,92,45,75,10,125,85,65,65,80,105,38,58,20,50,75,45,85,75,95,55,65,105,40,95,75,70,85,110,30,50,70,30,50,90,120,70,90,48,78,80,120,15,60,64,104,84,90,30,100,51,66,86,65,105,48,83,49,69,20,120,80,100],\"x0\":\" \",\"xaxis\":\"x\",\"y\":[\"water\",\"water\",\"water\",\"water\",\"water\",\"water\",\"water\",\"water\",\"water\",\"water\",\"water\",\"water\",\"water\",\"water\",\"water\",\"water\",\"water\",\"water\",\"water\",\"water\",\"water\",\"water\",\"water\",\"water\",\"water\",\"water\",\"water\",\"water\",\"water\",\"water\",\"water\",\"water\",\"water\",\"water\",\"water\",\"water\",\"water\",\"water\",\"water\",\"water\",\"water\",\"water\",\"water\",\"water\",\"water\",\"water\",\"water\",\"water\",\"water\",\"water\",\"water\",\"water\",\"water\",\"water\",\"water\",\"water\",\"water\",\"water\",\"water\",\"water\",\"water\",\"water\",\"water\",\"water\",\"water\",\"water\",\"water\",\"water\",\"water\",\"water\",\"water\",\"water\",\"water\",\"water\",\"water\",\"water\",\"water\",\"water\",\"water\",\"water\",\"water\",\"water\",\"water\"],\"y0\":\" \",\"yaxis\":\"y\",\"type\":\"box\"},{\"alignmentgroup\":\"True\",\"boxpoints\":\"all\",\"hovertemplate\":\"Type=%{y}\\u003cbr\\u003eAttack=%{x}\\u003cextra\\u003e\\u003c\\u002fextra\\u003e\",\"legendgroup\":\"bug\",\"marker\":{\"color\":\"#ab63fa\"},\"name\":\"bug\",\"notched\":false,\"offsetgroup\":\"bug\",\"orientation\":\"h\",\"showlegend\":true,\"x\":[30,20,45,35,25,90,70,95,55,65,110,125,20,35,60,90,65,65,90,130,10,125,45,35,70,35,50,30,60,45,90,90,73,47,25,85,29,59,94,30,80,76],\"x0\":\" \",\"xaxis\":\"x\",\"y\":[\"bug\",\"bug\",\"bug\",\"bug\",\"bug\",\"bug\",\"bug\",\"bug\",\"bug\",\"bug\",\"bug\",\"bug\",\"bug\",\"bug\",\"bug\",\"bug\",\"bug\",\"bug\",\"bug\",\"bug\",\"bug\",\"bug\",\"bug\",\"bug\",\"bug\",\"bug\",\"bug\",\"bug\",\"bug\",\"bug\",\"bug\",\"bug\",\"bug\",\"bug\",\"bug\",\"bug\",\"bug\",\"bug\",\"bug\",\"bug\",\"bug\",\"bug\"],\"y0\":\" \",\"yaxis\":\"y\",\"type\":\"box\"},{\"alignmentgroup\":\"True\",\"boxpoints\":\"all\",\"hovertemplate\":\"Type=%{y}\\u003cbr\\u003eAttack=%{x}\\u003cextra\\u003e\\u003c\\u002fextra\\u003e\",\"legendgroup\":\"normal\",\"marker\":{\"color\":\"#FFA15A\"},\"name\":\"normal\",\"notched\":false,\"offsetgroup\":\"normal\",\"orientation\":\"h\",\"showlegend\":true,\"x\":[45,60,80,56,81,60,90,45,70,45,70,90,85,110,55,5,95,100,48,55,60,110,46,76,30,50,30,70,80,70,80,130,80,95,20,80,10,30,70,55,85,60,80,160,51,71,91,20,45,65,60,40,115,70,90,55,75,120,45,85,100,66,76,55,82,5,65,85,85,80,160],\"x0\":\" \",\"xaxis\":\"x\",\"y\":[\"normal\",\"normal\",\"normal\",\"normal\",\"normal\",\"normal\",\"normal\",\"normal\",\"normal\",\"normal\",\"normal\",\"normal\",\"normal\",\"normal\",\"normal\",\"normal\",\"normal\",\"normal\",\"normal\",\"normal\",\"normal\",\"normal\",\"normal\",\"normal\",\"normal\",\"normal\",\"normal\",\"normal\",\"normal\",\"normal\",\"normal\",\"normal\",\"normal\",\"normal\",\"normal\",\"normal\",\"normal\",\"normal\",\"normal\",\"normal\",\"normal\",\"normal\",\"normal\",\"normal\",\"normal\",\"normal\",\"normal\",\"normal\",\"normal\",\"normal\",\"normal\",\"normal\",\"normal\",\"normal\",\"normal\",\"normal\",\"normal\",\"normal\",\"normal\",\"normal\",\"normal\",\"normal\",\"normal\",\"normal\",\"normal\",\"normal\",\"normal\",\"normal\",\"normal\",\"normal\",\"normal\"],\"y0\":\" \",\"yaxis\":\"y\",\"type\":\"box\"},{\"alignmentgroup\":\"True\",\"boxpoints\":\"all\",\"hovertemplate\":\"Type=%{y}\\u003cbr\\u003eAttack=%{x}\\u003cextra\\u003e\\u003c\\u002fextra\\u003e\",\"legendgroup\":\"poison\",\"marker\":{\"color\":\"#19d3f3\"},\"name\":\"poison\",\"notched\":false,\"offsetgroup\":\"poison\",\"orientation\":\"h\",\"showlegend\":true,\"x\":[60,95,47,62,92,57,72,102,45,80,80,105,65,90,90,43,73,100,63,93,50,90,61,106],\"x0\":\" \",\"xaxis\":\"x\",\"y\":[\"poison\",\"poison\",\"poison\",\"poison\",\"poison\",\"poison\",\"poison\",\"poison\",\"poison\",\"poison\",\"poison\",\"poison\",\"poison\",\"poison\",\"poison\",\"poison\",\"poison\",\"poison\",\"poison\",\"poison\",\"poison\",\"poison\",\"poison\",\"poison\"],\"y0\":\" \",\"yaxis\":\"y\",\"type\":\"box\"},{\"alignmentgroup\":\"True\",\"boxpoints\":\"all\",\"hovertemplate\":\"Type=%{y}\\u003cbr\\u003eAttack=%{x}\\u003cextra\\u003e\\u003c\\u002fextra\\u003e\",\"legendgroup\":\"electric\",\"marker\":{\"color\":\"#FF6692\"},\"name\":\"electric\",\"notched\":false,\"offsetgroup\":\"electric\",\"orientation\":\"h\",\"showlegend\":true,\"x\":[55,90,35,60,30,50,83,65,90,40,40,55,75,63,85,45,75,50,40,65,85,120,45,70,123,50],\"x0\":\" \",\"xaxis\":\"x\",\"y\":[\"electric\",\"electric\",\"electric\",\"electric\",\"electric\",\"electric\",\"electric\",\"electric\",\"electric\",\"electric\",\"electric\",\"electric\",\"electric\",\"electric\",\"electric\",\"electric\",\"electric\",\"electric\",\"electric\",\"electric\",\"electric\",\"electric\",\"electric\",\"electric\",\"electric\",\"electric\"],\"y0\":\" \",\"yaxis\":\"y\",\"type\":\"box\"},{\"alignmentgroup\":\"True\",\"boxpoints\":\"all\",\"hovertemplate\":\"Type=%{y}\\u003cbr\\u003eAttack=%{x}\\u003cextra\\u003e\\u003c\\u002fextra\\u003e\",\"legendgroup\":\"ground\",\"marker\":{\"color\":\"#B6E880\"},\"name\":\"ground\",\"notched\":false,\"offsetgroup\":\"ground\",\"orientation\":\"h\",\"showlegend\":true,\"x\":[75,100,55,100,50,80,85,130,75,60,120,100,70,100,40,70,150,72,112,140,95],\"x0\":\" \",\"xaxis\":\"x\",\"y\":[\"ground\",\"ground\",\"ground\",\"ground\",\"ground\",\"ground\",\"ground\",\"ground\",\"ground\",\"ground\",\"ground\",\"ground\",\"ground\",\"ground\",\"ground\",\"ground\",\"ground\",\"ground\",\"ground\",\"ground\",\"ground\"],\"y0\":\" \",\"yaxis\":\"y\",\"type\":\"box\"},{\"alignmentgroup\":\"True\",\"boxpoints\":\"all\",\"hovertemplate\":\"Type=%{y}\\u003cbr\\u003eAttack=%{x}\\u003cextra\\u003e\\u003c\\u002fextra\\u003e\",\"legendgroup\":\"fairy\",\"marker\":{\"color\":\"#FF97FF\"},\"name\":\"fairy\",\"notched\":false,\"offsetgroup\":\"fairy\",\"orientation\":\"h\",\"showlegend\":true,\"x\":[45,70,25,20,40,80,120,50],\"x0\":\" \",\"xaxis\":\"x\",\"y\":[\"fairy\",\"fairy\",\"fairy\",\"fairy\",\"fairy\",\"fairy\",\"fairy\",\"fairy\"],\"y0\":\" \",\"yaxis\":\"y\",\"type\":\"box\"},{\"alignmentgroup\":\"True\",\"boxpoints\":\"all\",\"hovertemplate\":\"Type=%{y}\\u003cbr\\u003eAttack=%{x}\\u003cextra\\u003e\\u003c\\u002fextra\\u003e\",\"legendgroup\":\"fighting\",\"marker\":{\"color\":\"#FECB52\"},\"name\":\"fighting\",\"notched\":false,\"offsetgroup\":\"fighting\",\"orientation\":\"h\",\"showlegend\":true,\"x\":[80,105,80,100,130,120,105,35,95,60,120,40,60,70,110],\"x0\":\" \",\"xaxis\":\"x\",\"y\":[\"fighting\",\"fighting\",\"fighting\",\"fighting\",\"fighting\",\"fighting\",\"fighting\",\"fighting\",\"fighting\",\"fighting\",\"fighting\",\"fighting\",\"fighting\",\"fighting\",\"fighting\"],\"y0\":\" \",\"yaxis\":\"y\",\"type\":\"box\"},{\"alignmentgroup\":\"True\",\"boxpoints\":\"all\",\"hovertemplate\":\"Type=%{y}\\u003cbr\\u003eAttack=%{x}\\u003cextra\\u003e\\u003c\\u002fextra\\u003e\",\"legendgroup\":\"psychic\",\"marker\":{\"color\":\"#636efa\"},\"name\":\"psychic\",\"notched\":false,\"offsetgroup\":\"psychic\",\"orientation\":\"h\",\"showlegend\":true,\"x\":[20,35,50,48,73,45,110,100,50,75,65,72,33,90,100,25,35,65,25,45,50,23,150,30,25,125,75,105,125,70],\"x0\":\" \",\"xaxis\":\"x\",\"y\":[\"psychic\",\"psychic\",\"psychic\",\"psychic\",\"psychic\",\"psychic\",\"psychic\",\"psychic\",\"psychic\",\"psychic\",\"psychic\",\"psychic\",\"psychic\",\"psychic\",\"psychic\",\"psychic\",\"psychic\",\"psychic\",\"psychic\",\"psychic\",\"psychic\",\"psychic\",\"psychic\",\"psychic\",\"psychic\",\"psychic\",\"psychic\",\"psychic\",\"psychic\",\"psychic\"],\"y0\":\" \",\"yaxis\":\"y\",\"type\":\"box\"},{\"alignmentgroup\":\"True\",\"boxpoints\":\"all\",\"hovertemplate\":\"Type=%{y}\\u003cbr\\u003eAttack=%{x}\\u003cextra\\u003e\\u003c\\u002fextra\\u003e\",\"legendgroup\":\"rock\",\"marker\":{\"color\":\"#EF553B\"},\"name\":\"rock\",\"notched\":false,\"offsetgroup\":\"rock\",\"orientation\":\"h\",\"showlegend\":true,\"x\":[80,95,120,45,40,60,80,115,105,100,64,84,134,45,55,95,41,81,95,125,100,125,165,42,52,80,55],\"x0\":\" \",\"xaxis\":\"x\",\"y\":[\"rock\",\"rock\",\"rock\",\"rock\",\"rock\",\"rock\",\"rock\",\"rock\",\"rock\",\"rock\",\"rock\",\"rock\",\"rock\",\"rock\",\"rock\",\"rock\",\"rock\",\"rock\",\"rock\",\"rock\",\"rock\",\"rock\",\"rock\",\"rock\",\"rock\",\"rock\",\"rock\"],\"y0\":\" \",\"yaxis\":\"y\",\"type\":\"box\"},{\"alignmentgroup\":\"True\",\"boxpoints\":\"all\",\"hovertemplate\":\"Type=%{y}\\u003cbr\\u003eAttack=%{x}\\u003cextra\\u003e\\u003c\\u002fextra\\u003e\",\"legendgroup\":\"ghost\",\"marker\":{\"color\":\"#00cc96\"},\"name\":\"ghost\",\"notched\":false,\"offsetgroup\":\"ghost\",\"orientation\":\"h\",\"showlegend\":true,\"x\":[35,50,65,60,75,115,40,70,50,80,60,92,100,100],\"x0\":\" \",\"xaxis\":\"x\",\"y\":[\"ghost\",\"ghost\",\"ghost\",\"ghost\",\"ghost\",\"ghost\",\"ghost\",\"ghost\",\"ghost\",\"ghost\",\"ghost\",\"ghost\",\"ghost\",\"ghost\"],\"y0\":\" \",\"yaxis\":\"y\",\"type\":\"box\"},{\"alignmentgroup\":\"True\",\"boxpoints\":\"all\",\"hovertemplate\":\"Type=%{y}\\u003cbr\\u003eAttack=%{x}\\u003cextra\\u003e\\u003c\\u002fextra\\u003e\",\"legendgroup\":\"ice\",\"marker\":{\"color\":\"#ab63fa\"},\"name\":\"ice\",\"notched\":false,\"offsetgroup\":\"ice\",\"orientation\":\"h\",\"showlegend\":true,\"x\":[50,85,50,100,55,30,50,80,40,60,80,50,60,130,80],\"x0\":\" \",\"xaxis\":\"x\",\"y\":[\"ice\",\"ice\",\"ice\",\"ice\",\"ice\",\"ice\",\"ice\",\"ice\",\"ice\",\"ice\",\"ice\",\"ice\",\"ice\",\"ice\",\"ice\"],\"y0\":\" \",\"yaxis\":\"y\",\"type\":\"box\"},{\"alignmentgroup\":\"True\",\"boxpoints\":\"all\",\"hovertemplate\":\"Type=%{y}\\u003cbr\\u003eAttack=%{x}\\u003cextra\\u003e\\u003c\\u002fextra\\u003e\",\"legendgroup\":\"dragon\",\"marker\":{\"color\":\"#FFA15A\"},\"name\":\"dragon\",\"notched\":false,\"offsetgroup\":\"dragon\",\"orientation\":\"h\",\"showlegend\":true,\"x\":[64,84,134,70,75,95,135,80,90,150,70,90,130],\"x0\":\" \",\"xaxis\":\"x\",\"y\":[\"dragon\",\"dragon\",\"dragon\",\"dragon\",\"dragon\",\"dragon\",\"dragon\",\"dragon\",\"dragon\",\"dragon\",\"dragon\",\"dragon\",\"dragon\"],\"y0\":\" \",\"yaxis\":\"y\",\"type\":\"box\"},{\"alignmentgroup\":\"True\",\"boxpoints\":\"all\",\"hovertemplate\":\"Type=%{y}\\u003cbr\\u003eAttack=%{x}\\u003cextra\\u003e\\u003c\\u002fextra\\u003e\",\"legendgroup\":\"dark\",\"marker\":{\"color\":\"#19d3f3\"},\"name\":\"dark\",\"notched\":false,\"offsetgroup\":\"dark\",\"orientation\":\"h\",\"showlegend\":true,\"x\":[65,85,95,60,90,55,90,75,130,125,120,90],\"x0\":\" \",\"xaxis\":\"x\",\"y\":[\"dark\",\"dark\",\"dark\",\"dark\",\"dark\",\"dark\",\"dark\",\"dark\",\"dark\",\"dark\",\"dark\",\"dark\"],\"y0\":\" \",\"yaxis\":\"y\",\"type\":\"box\"},{\"alignmentgroup\":\"True\",\"boxpoints\":\"all\",\"hovertemplate\":\"Type=%{y}\\u003cbr\\u003eAttack=%{x}\\u003cextra\\u003e\\u003c\\u002fextra\\u003e\",\"legendgroup\":\"steel\",\"marker\":{\"color\":\"#FF6692\"},\"name\":\"steel\",\"notched\":false,\"offsetgroup\":\"steel\",\"orientation\":\"h\",\"showlegend\":true,\"x\":[85,80,85,70,90,110,55,75,135,75,100,24,89,120],\"x0\":\" \",\"xaxis\":\"x\",\"y\":[\"steel\",\"steel\",\"steel\",\"steel\",\"steel\",\"steel\",\"steel\",\"steel\",\"steel\",\"steel\",\"steel\",\"steel\",\"steel\",\"steel\"],\"y0\":\" \",\"yaxis\":\"y\",\"type\":\"box\"}],                        {\"template\":{\"data\":{\"histogram2dcontour\":[{\"type\":\"histogram2dcontour\",\"colorbar\":{\"outlinewidth\":0,\"ticks\":\"\"},\"colorscale\":[[0.0,\"#0d0887\"],[0.1111111111111111,\"#46039f\"],[0.2222222222222222,\"#7201a8\"],[0.3333333333333333,\"#9c179e\"],[0.4444444444444444,\"#bd3786\"],[0.5555555555555556,\"#d8576b\"],[0.6666666666666666,\"#ed7953\"],[0.7777777777777778,\"#fb9f3a\"],[0.8888888888888888,\"#fdca26\"],[1.0,\"#f0f921\"]]}],\"choropleth\":[{\"type\":\"choropleth\",\"colorbar\":{\"outlinewidth\":0,\"ticks\":\"\"}}],\"histogram2d\":[{\"type\":\"histogram2d\",\"colorbar\":{\"outlinewidth\":0,\"ticks\":\"\"},\"colorscale\":[[0.0,\"#0d0887\"],[0.1111111111111111,\"#46039f\"],[0.2222222222222222,\"#7201a8\"],[0.3333333333333333,\"#9c179e\"],[0.4444444444444444,\"#bd3786\"],[0.5555555555555556,\"#d8576b\"],[0.6666666666666666,\"#ed7953\"],[0.7777777777777778,\"#fb9f3a\"],[0.8888888888888888,\"#fdca26\"],[1.0,\"#f0f921\"]]}],\"heatmap\":[{\"type\":\"heatmap\",\"colorbar\":{\"outlinewidth\":0,\"ticks\":\"\"},\"colorscale\":[[0.0,\"#0d0887\"],[0.1111111111111111,\"#46039f\"],[0.2222222222222222,\"#7201a8\"],[0.3333333333333333,\"#9c179e\"],[0.4444444444444444,\"#bd3786\"],[0.5555555555555556,\"#d8576b\"],[0.6666666666666666,\"#ed7953\"],[0.7777777777777778,\"#fb9f3a\"],[0.8888888888888888,\"#fdca26\"],[1.0,\"#f0f921\"]]}],\"heatmapgl\":[{\"type\":\"heatmapgl\",\"colorbar\":{\"outlinewidth\":0,\"ticks\":\"\"},\"colorscale\":[[0.0,\"#0d0887\"],[0.1111111111111111,\"#46039f\"],[0.2222222222222222,\"#7201a8\"],[0.3333333333333333,\"#9c179e\"],[0.4444444444444444,\"#bd3786\"],[0.5555555555555556,\"#d8576b\"],[0.6666666666666666,\"#ed7953\"],[0.7777777777777778,\"#fb9f3a\"],[0.8888888888888888,\"#fdca26\"],[1.0,\"#f0f921\"]]}],\"contourcarpet\":[{\"type\":\"contourcarpet\",\"colorbar\":{\"outlinewidth\":0,\"ticks\":\"\"}}],\"contour\":[{\"type\":\"contour\",\"colorbar\":{\"outlinewidth\":0,\"ticks\":\"\"},\"colorscale\":[[0.0,\"#0d0887\"],[0.1111111111111111,\"#46039f\"],[0.2222222222222222,\"#7201a8\"],[0.3333333333333333,\"#9c179e\"],[0.4444444444444444,\"#bd3786\"],[0.5555555555555556,\"#d8576b\"],[0.6666666666666666,\"#ed7953\"],[0.7777777777777778,\"#fb9f3a\"],[0.8888888888888888,\"#fdca26\"],[1.0,\"#f0f921\"]]}],\"surface\":[{\"type\":\"surface\",\"colorbar\":{\"outlinewidth\":0,\"ticks\":\"\"},\"colorscale\":[[0.0,\"#0d0887\"],[0.1111111111111111,\"#46039f\"],[0.2222222222222222,\"#7201a8\"],[0.3333333333333333,\"#9c179e\"],[0.4444444444444444,\"#bd3786\"],[0.5555555555555556,\"#d8576b\"],[0.6666666666666666,\"#ed7953\"],[0.7777777777777778,\"#fb9f3a\"],[0.8888888888888888,\"#fdca26\"],[1.0,\"#f0f921\"]]}],\"mesh3d\":[{\"type\":\"mesh3d\",\"colorbar\":{\"outlinewidth\":0,\"ticks\":\"\"}}],\"scatter\":[{\"fillpattern\":{\"fillmode\":\"overlay\",\"size\":10,\"solidity\":0.2},\"type\":\"scatter\"}],\"parcoords\":[{\"type\":\"parcoords\",\"line\":{\"colorbar\":{\"outlinewidth\":0,\"ticks\":\"\"}}}],\"scatterpolargl\":[{\"type\":\"scatterpolargl\",\"marker\":{\"colorbar\":{\"outlinewidth\":0,\"ticks\":\"\"}}}],\"bar\":[{\"error_x\":{\"color\":\"#2a3f5f\"},\"error_y\":{\"color\":\"#2a3f5f\"},\"marker\":{\"line\":{\"color\":\"#E5ECF6\",\"width\":0.5},\"pattern\":{\"fillmode\":\"overlay\",\"size\":10,\"solidity\":0.2}},\"type\":\"bar\"}],\"scattergeo\":[{\"type\":\"scattergeo\",\"marker\":{\"colorbar\":{\"outlinewidth\":0,\"ticks\":\"\"}}}],\"scatterpolar\":[{\"type\":\"scatterpolar\",\"marker\":{\"colorbar\":{\"outlinewidth\":0,\"ticks\":\"\"}}}],\"histogram\":[{\"marker\":{\"pattern\":{\"fillmode\":\"overlay\",\"size\":10,\"solidity\":0.2}},\"type\":\"histogram\"}],\"scattergl\":[{\"type\":\"scattergl\",\"marker\":{\"colorbar\":{\"outlinewidth\":0,\"ticks\":\"\"}}}],\"scatter3d\":[{\"type\":\"scatter3d\",\"line\":{\"colorbar\":{\"outlinewidth\":0,\"ticks\":\"\"}},\"marker\":{\"colorbar\":{\"outlinewidth\":0,\"ticks\":\"\"}}}],\"scattermapbox\":[{\"type\":\"scattermapbox\",\"marker\":{\"colorbar\":{\"outlinewidth\":0,\"ticks\":\"\"}}}],\"scatterternary\":[{\"type\":\"scatterternary\",\"marker\":{\"colorbar\":{\"outlinewidth\":0,\"ticks\":\"\"}}}],\"scattercarpet\":[{\"type\":\"scattercarpet\",\"marker\":{\"colorbar\":{\"outlinewidth\":0,\"ticks\":\"\"}}}],\"carpet\":[{\"aaxis\":{\"endlinecolor\":\"#2a3f5f\",\"gridcolor\":\"white\",\"linecolor\":\"white\",\"minorgridcolor\":\"white\",\"startlinecolor\":\"#2a3f5f\"},\"baxis\":{\"endlinecolor\":\"#2a3f5f\",\"gridcolor\":\"white\",\"linecolor\":\"white\",\"minorgridcolor\":\"white\",\"startlinecolor\":\"#2a3f5f\"},\"type\":\"carpet\"}],\"table\":[{\"cells\":{\"fill\":{\"color\":\"#EBF0F8\"},\"line\":{\"color\":\"white\"}},\"header\":{\"fill\":{\"color\":\"#C8D4E3\"},\"line\":{\"color\":\"white\"}},\"type\":\"table\"}],\"barpolar\":[{\"marker\":{\"line\":{\"color\":\"#E5ECF6\",\"width\":0.5},\"pattern\":{\"fillmode\":\"overlay\",\"size\":10,\"solidity\":0.2}},\"type\":\"barpolar\"}],\"pie\":[{\"automargin\":true,\"type\":\"pie\"}]},\"layout\":{\"autotypenumbers\":\"strict\",\"colorway\":[\"#636efa\",\"#EF553B\",\"#00cc96\",\"#ab63fa\",\"#FFA15A\",\"#19d3f3\",\"#FF6692\",\"#B6E880\",\"#FF97FF\",\"#FECB52\"],\"font\":{\"color\":\"#2a3f5f\"},\"hovermode\":\"closest\",\"hoverlabel\":{\"align\":\"left\"},\"paper_bgcolor\":\"white\",\"plot_bgcolor\":\"#E5ECF6\",\"polar\":{\"bgcolor\":\"#E5ECF6\",\"angularaxis\":{\"gridcolor\":\"white\",\"linecolor\":\"white\",\"ticks\":\"\"},\"radialaxis\":{\"gridcolor\":\"white\",\"linecolor\":\"white\",\"ticks\":\"\"}},\"ternary\":{\"bgcolor\":\"#E5ECF6\",\"aaxis\":{\"gridcolor\":\"white\",\"linecolor\":\"white\",\"ticks\":\"\"},\"baxis\":{\"gridcolor\":\"white\",\"linecolor\":\"white\",\"ticks\":\"\"},\"caxis\":{\"gridcolor\":\"white\",\"linecolor\":\"white\",\"ticks\":\"\"}},\"coloraxis\":{\"colorbar\":{\"outlinewidth\":0,\"ticks\":\"\"}},\"colorscale\":{\"sequential\":[[0.0,\"#0d0887\"],[0.1111111111111111,\"#46039f\"],[0.2222222222222222,\"#7201a8\"],[0.3333333333333333,\"#9c179e\"],[0.4444444444444444,\"#bd3786\"],[0.5555555555555556,\"#d8576b\"],[0.6666666666666666,\"#ed7953\"],[0.7777777777777778,\"#fb9f3a\"],[0.8888888888888888,\"#fdca26\"],[1.0,\"#f0f921\"]],\"sequentialminus\":[[0.0,\"#0d0887\"],[0.1111111111111111,\"#46039f\"],[0.2222222222222222,\"#7201a8\"],[0.3333333333333333,\"#9c179e\"],[0.4444444444444444,\"#bd3786\"],[0.5555555555555556,\"#d8576b\"],[0.6666666666666666,\"#ed7953\"],[0.7777777777777778,\"#fb9f3a\"],[0.8888888888888888,\"#fdca26\"],[1.0,\"#f0f921\"]],\"diverging\":[[0,\"#8e0152\"],[0.1,\"#c51b7d\"],[0.2,\"#de77ae\"],[0.3,\"#f1b6da\"],[0.4,\"#fde0ef\"],[0.5,\"#f7f7f7\"],[0.6,\"#e6f5d0\"],[0.7,\"#b8e186\"],[0.8,\"#7fbc41\"],[0.9,\"#4d9221\"],[1,\"#276419\"]]},\"xaxis\":{\"gridcolor\":\"white\",\"linecolor\":\"white\",\"ticks\":\"\",\"title\":{\"standoff\":15},\"zerolinecolor\":\"white\",\"automargin\":true,\"zerolinewidth\":2},\"yaxis\":{\"gridcolor\":\"white\",\"linecolor\":\"white\",\"ticks\":\"\",\"title\":{\"standoff\":15},\"zerolinecolor\":\"white\",\"automargin\":true,\"zerolinewidth\":2},\"scene\":{\"xaxis\":{\"backgroundcolor\":\"#E5ECF6\",\"gridcolor\":\"white\",\"linecolor\":\"white\",\"showbackground\":true,\"ticks\":\"\",\"zerolinecolor\":\"white\",\"gridwidth\":2},\"yaxis\":{\"backgroundcolor\":\"#E5ECF6\",\"gridcolor\":\"white\",\"linecolor\":\"white\",\"showbackground\":true,\"ticks\":\"\",\"zerolinecolor\":\"white\",\"gridwidth\":2},\"zaxis\":{\"backgroundcolor\":\"#E5ECF6\",\"gridcolor\":\"white\",\"linecolor\":\"white\",\"showbackground\":true,\"ticks\":\"\",\"zerolinecolor\":\"white\",\"gridwidth\":2}},\"shapedefaults\":{\"line\":{\"color\":\"#2a3f5f\"}},\"annotationdefaults\":{\"arrowcolor\":\"#2a3f5f\",\"arrowhead\":0,\"arrowwidth\":1},\"geo\":{\"bgcolor\":\"white\",\"landcolor\":\"#E5ECF6\",\"subunitcolor\":\"white\",\"showland\":true,\"showlakes\":true,\"lakecolor\":\"white\"},\"title\":{\"x\":0.05},\"mapbox\":{\"style\":\"light\"}}},\"xaxis\":{\"anchor\":\"y\",\"domain\":[0.0,1.0],\"title\":{\"text\":\"Attack\"}},\"yaxis\":{\"anchor\":\"x\",\"domain\":[0.0,1.0],\"title\":{\"text\":\"Type\"},\"categoryorder\":\"array\",\"categoryarray\":[\"steel\",\"dark\",\"dragon\",\"ice\",\"ghost\",\"rock\",\"psychic\",\"fighting\",\"fairy\",\"ground\",\"electric\",\"poison\",\"normal\",\"bug\",\"water\",\"fire\",\"grass\"]},\"legend\":{\"title\":{\"text\":\"Type\"},\"tracegroupgap\":0},\"title\":{\"text\":\"Attack Pokemons - Median\"},\"boxmode\":\"overlay\"},                        {\"responsive\": true}                    ).then(function(){\n",
              "                            \n",
              "var gd = document.getElementById('50a2ed84-850e-4057-842c-61ea0f5ce936');\n",
              "var x = new MutationObserver(function (mutations, observer) {{\n",
              "        var display = window.getComputedStyle(gd).display;\n",
              "        if (!display || display === 'none') {{\n",
              "            console.log([gd, 'removed!']);\n",
              "            Plotly.purge(gd);\n",
              "            observer.disconnect();\n",
              "        }}\n",
              "}});\n",
              "\n",
              "// Listen for the removal of the full notebook cells\n",
              "var notebookContainer = gd.closest('#notebook-container');\n",
              "if (notebookContainer) {{\n",
              "    x.observe(notebookContainer, {childList: true});\n",
              "}}\n",
              "\n",
              "// Listen for the clearing of the current output cell\n",
              "var outputEl = gd.closest('.output');\n",
              "if (outputEl) {{\n",
              "    x.observe(outputEl, {childList: true});\n",
              "}}\n",
              "\n",
              "                        })                };                            </script>        </div>\n",
              "</body>\n",
              "</html>"
            ]
          },
          "metadata": {}
        }
      ]
    },
    {
      "cell_type": "code",
      "source": [
        "fig = px.histogram(df, x='Attack', color='Type')\n",
        "fig.show()"
      ],
      "metadata": {
        "colab": {
          "base_uri": "https://localhost:8080/",
          "height": 542
        },
        "id": "3qQyWAYc38Zo",
        "outputId": "6084ab48-93ea-4b9e-c86d-8e74661ac3d6"
      },
      "execution_count": 335,
      "outputs": [
        {
          "output_type": "display_data",
          "data": {
            "text/html": [
              "<html>\n",
              "<head><meta charset=\"utf-8\" /></head>\n",
              "<body>\n",
              "    <div>            <script src=\"https://cdnjs.cloudflare.com/ajax/libs/mathjax/2.7.5/MathJax.js?config=TeX-AMS-MML_SVG\"></script><script type=\"text/javascript\">if (window.MathJax && window.MathJax.Hub && window.MathJax.Hub.Config) {window.MathJax.Hub.Config({SVG: {font: \"STIX-Web\"}});}</script>                <script type=\"text/javascript\">window.PlotlyConfig = {MathJaxConfig: 'local'};</script>\n",
              "        <script charset=\"utf-8\" src=\"https://cdn.plot.ly/plotly-2.24.1.min.js\"></script>                <div id=\"a507c5e7-4132-4e65-aabc-4f26070afbb6\" class=\"plotly-graph-div\" style=\"height:525px; width:100%;\"></div>            <script type=\"text/javascript\">                                    window.PLOTLYENV=window.PLOTLYENV || {};                                    if (document.getElementById(\"a507c5e7-4132-4e65-aabc-4f26070afbb6\")) {                    Plotly.newPlot(                        \"a507c5e7-4132-4e65-aabc-4f26070afbb6\",                        [{\"alignmentgroup\":\"True\",\"bingroup\":\"x\",\"hovertemplate\":\"Type=grass\\u003cbr\\u003eAttack=%{x}\\u003cbr\\u003ecount=%{y}\\u003cextra\\u003e\\u003c\\u002fextra\\u003e\",\"legendgroup\":\"grass\",\"marker\":{\"color\":\"#636efa\",\"pattern\":{\"shape\":\"\"}},\"name\":\"grass\",\"offsetgroup\":\"grass\",\"orientation\":\"v\",\"showlegend\":true,\"x\":[49,62,82,50,65,80,75,90,105,40,95,55,49,62,82,80,35,45,55,30,75,45,65,85,40,70,100,40,130,60,85,115,68,68,89,109,30,70,35,60,100,62,92,100,110,100],\"xaxis\":\"x\",\"yaxis\":\"y\",\"type\":\"histogram\"},{\"alignmentgroup\":\"True\",\"bingroup\":\"x\",\"hovertemplate\":\"Type=fire\\u003cbr\\u003eAttack=%{x}\\u003cbr\\u003ecount=%{y}\\u003cextra\\u003e\\u003c\\u002fextra\\u003e\",\"legendgroup\":\"fire\",\"marker\":{\"color\":\"#EF553B\",\"pattern\":{\"shape\":\"\"}},\"name\":\"fire\",\"offsetgroup\":\"fire\",\"orientation\":\"v\",\"showlegend\":true,\"x\":[52,64,84,41,76,70,110,85,100,95,130,100,52,64,84,40,50,75,115,130,60,85,120,60,100,85,58,78,104,95,90],\"xaxis\":\"x\",\"yaxis\":\"y\",\"type\":\"histogram\"},{\"alignmentgroup\":\"True\",\"bingroup\":\"x\",\"hovertemplate\":\"Type=water\\u003cbr\\u003eAttack=%{x}\\u003cbr\\u003ecount=%{y}\\u003cextra\\u003e\\u003c\\u002fextra\\u003e\",\"legendgroup\":\"water\",\"marker\":{\"color\":\"#00cc96\",\"pattern\":{\"shape\":\"\"}},\"name\":\"water\",\"offsetgroup\":\"water\",\"orientation\":\"v\",\"showlegend\":true,\"x\":[48,63,83,52,82,50,65,95,40,70,65,75,45,70,65,95,105,130,40,65,67,92,45,75,10,125,85,65,65,80,105,38,58,20,50,75,45,85,75,95,55,65,105,40,95,75,70,85,110,30,50,70,30,50,90,120,70,90,48,78,80,120,15,60,64,104,84,90,30,100,51,66,86,65,105,48,83,49,69,20,120,80,100],\"xaxis\":\"x\",\"yaxis\":\"y\",\"type\":\"histogram\"},{\"alignmentgroup\":\"True\",\"bingroup\":\"x\",\"hovertemplate\":\"Type=bug\\u003cbr\\u003eAttack=%{x}\\u003cbr\\u003ecount=%{y}\\u003cextra\\u003e\\u003c\\u002fextra\\u003e\",\"legendgroup\":\"bug\",\"marker\":{\"color\":\"#ab63fa\",\"pattern\":{\"shape\":\"\"}},\"name\":\"bug\",\"offsetgroup\":\"bug\",\"orientation\":\"v\",\"showlegend\":true,\"x\":[30,20,45,35,25,90,70,95,55,65,110,125,20,35,60,90,65,65,90,130,10,125,45,35,70,35,50,30,60,45,90,90,73,47,25,85,29,59,94,30,80,76],\"xaxis\":\"x\",\"yaxis\":\"y\",\"type\":\"histogram\"},{\"alignmentgroup\":\"True\",\"bingroup\":\"x\",\"hovertemplate\":\"Type=normal\\u003cbr\\u003eAttack=%{x}\\u003cbr\\u003ecount=%{y}\\u003cextra\\u003e\\u003c\\u002fextra\\u003e\",\"legendgroup\":\"normal\",\"marker\":{\"color\":\"#FFA15A\",\"pattern\":{\"shape\":\"\"}},\"name\":\"normal\",\"offsetgroup\":\"normal\",\"orientation\":\"v\",\"showlegend\":true,\"x\":[45,60,80,56,81,60,90,45,70,45,70,90,85,110,55,5,95,100,48,55,60,110,46,76,30,50,30,70,80,70,80,130,80,95,20,80,10,30,70,55,85,60,80,160,51,71,91,20,45,65,60,40,115,70,90,55,75,120,45,85,100,66,76,55,82,5,65,85,85,80,160],\"xaxis\":\"x\",\"yaxis\":\"y\",\"type\":\"histogram\"},{\"alignmentgroup\":\"True\",\"bingroup\":\"x\",\"hovertemplate\":\"Type=poison\\u003cbr\\u003eAttack=%{x}\\u003cbr\\u003ecount=%{y}\\u003cextra\\u003e\\u003c\\u002fextra\\u003e\",\"legendgroup\":\"poison\",\"marker\":{\"color\":\"#19d3f3\",\"pattern\":{\"shape\":\"\"}},\"name\":\"poison\",\"offsetgroup\":\"poison\",\"orientation\":\"v\",\"showlegend\":true,\"x\":[60,95,47,62,92,57,72,102,45,80,80,105,65,90,90,43,73,100,63,93,50,90,61,106],\"xaxis\":\"x\",\"yaxis\":\"y\",\"type\":\"histogram\"},{\"alignmentgroup\":\"True\",\"bingroup\":\"x\",\"hovertemplate\":\"Type=electric\\u003cbr\\u003eAttack=%{x}\\u003cbr\\u003ecount=%{y}\\u003cextra\\u003e\\u003c\\u002fextra\\u003e\",\"legendgroup\":\"electric\",\"marker\":{\"color\":\"#FF6692\",\"pattern\":{\"shape\":\"\"}},\"name\":\"electric\",\"offsetgroup\":\"electric\",\"orientation\":\"v\",\"showlegend\":true,\"x\":[55,90,35,60,30,50,83,65,90,40,40,55,75,63,85,45,75,50,40,65,85,120,45,70,123,50],\"xaxis\":\"x\",\"yaxis\":\"y\",\"type\":\"histogram\"},{\"alignmentgroup\":\"True\",\"bingroup\":\"x\",\"hovertemplate\":\"Type=ground\\u003cbr\\u003eAttack=%{x}\\u003cbr\\u003ecount=%{y}\\u003cextra\\u003e\\u003c\\u002fextra\\u003e\",\"legendgroup\":\"ground\",\"marker\":{\"color\":\"#B6E880\",\"pattern\":{\"shape\":\"\"}},\"name\":\"ground\",\"offsetgroup\":\"ground\",\"orientation\":\"v\",\"showlegend\":true,\"x\":[75,100,55,100,50,80,85,130,75,60,120,100,70,100,40,70,150,72,112,140,95],\"xaxis\":\"x\",\"yaxis\":\"y\",\"type\":\"histogram\"},{\"alignmentgroup\":\"True\",\"bingroup\":\"x\",\"hovertemplate\":\"Type=fairy\\u003cbr\\u003eAttack=%{x}\\u003cbr\\u003ecount=%{y}\\u003cextra\\u003e\\u003c\\u002fextra\\u003e\",\"legendgroup\":\"fairy\",\"marker\":{\"color\":\"#FF97FF\",\"pattern\":{\"shape\":\"\"}},\"name\":\"fairy\",\"offsetgroup\":\"fairy\",\"orientation\":\"v\",\"showlegend\":true,\"x\":[45,70,25,20,40,80,120,50],\"xaxis\":\"x\",\"yaxis\":\"y\",\"type\":\"histogram\"},{\"alignmentgroup\":\"True\",\"bingroup\":\"x\",\"hovertemplate\":\"Type=fighting\\u003cbr\\u003eAttack=%{x}\\u003cbr\\u003ecount=%{y}\\u003cextra\\u003e\\u003c\\u002fextra\\u003e\",\"legendgroup\":\"fighting\",\"marker\":{\"color\":\"#FECB52\",\"pattern\":{\"shape\":\"\"}},\"name\":\"fighting\",\"offsetgroup\":\"fighting\",\"orientation\":\"v\",\"showlegend\":true,\"x\":[80,105,80,100,130,120,105,35,95,60,120,40,60,70,110],\"xaxis\":\"x\",\"yaxis\":\"y\",\"type\":\"histogram\"},{\"alignmentgroup\":\"True\",\"bingroup\":\"x\",\"hovertemplate\":\"Type=psychic\\u003cbr\\u003eAttack=%{x}\\u003cbr\\u003ecount=%{y}\\u003cextra\\u003e\\u003c\\u002fextra\\u003e\",\"legendgroup\":\"psychic\",\"marker\":{\"color\":\"#636efa\",\"pattern\":{\"shape\":\"\"}},\"name\":\"psychic\",\"offsetgroup\":\"psychic\",\"orientation\":\"v\",\"showlegend\":true,\"x\":[20,35,50,48,73,45,110,100,50,75,65,72,33,90,100,25,35,65,25,45,50,23,150,30,25,125,75,105,125,70],\"xaxis\":\"x\",\"yaxis\":\"y\",\"type\":\"histogram\"},{\"alignmentgroup\":\"True\",\"bingroup\":\"x\",\"hovertemplate\":\"Type=rock\\u003cbr\\u003eAttack=%{x}\\u003cbr\\u003ecount=%{y}\\u003cextra\\u003e\\u003c\\u002fextra\\u003e\",\"legendgroup\":\"rock\",\"marker\":{\"color\":\"#EF553B\",\"pattern\":{\"shape\":\"\"}},\"name\":\"rock\",\"offsetgroup\":\"rock\",\"orientation\":\"v\",\"showlegend\":true,\"x\":[80,95,120,45,40,60,80,115,105,100,64,84,134,45,55,95,41,81,95,125,100,125,165,42,52,80,55],\"xaxis\":\"x\",\"yaxis\":\"y\",\"type\":\"histogram\"},{\"alignmentgroup\":\"True\",\"bingroup\":\"x\",\"hovertemplate\":\"Type=ghost\\u003cbr\\u003eAttack=%{x}\\u003cbr\\u003ecount=%{y}\\u003cextra\\u003e\\u003c\\u002fextra\\u003e\",\"legendgroup\":\"ghost\",\"marker\":{\"color\":\"#00cc96\",\"pattern\":{\"shape\":\"\"}},\"name\":\"ghost\",\"offsetgroup\":\"ghost\",\"orientation\":\"v\",\"showlegend\":true,\"x\":[35,50,65,60,75,115,40,70,50,80,60,92,100,100],\"xaxis\":\"x\",\"yaxis\":\"y\",\"type\":\"histogram\"},{\"alignmentgroup\":\"True\",\"bingroup\":\"x\",\"hovertemplate\":\"Type=ice\\u003cbr\\u003eAttack=%{x}\\u003cbr\\u003ecount=%{y}\\u003cextra\\u003e\\u003c\\u002fextra\\u003e\",\"legendgroup\":\"ice\",\"marker\":{\"color\":\"#ab63fa\",\"pattern\":{\"shape\":\"\"}},\"name\":\"ice\",\"offsetgroup\":\"ice\",\"orientation\":\"v\",\"showlegend\":true,\"x\":[50,85,50,100,55,30,50,80,40,60,80,50,60,130,80],\"xaxis\":\"x\",\"yaxis\":\"y\",\"type\":\"histogram\"},{\"alignmentgroup\":\"True\",\"bingroup\":\"x\",\"hovertemplate\":\"Type=dragon\\u003cbr\\u003eAttack=%{x}\\u003cbr\\u003ecount=%{y}\\u003cextra\\u003e\\u003c\\u002fextra\\u003e\",\"legendgroup\":\"dragon\",\"marker\":{\"color\":\"#FFA15A\",\"pattern\":{\"shape\":\"\"}},\"name\":\"dragon\",\"offsetgroup\":\"dragon\",\"orientation\":\"v\",\"showlegend\":true,\"x\":[64,84,134,70,75,95,135,80,90,150,70,90,130],\"xaxis\":\"x\",\"yaxis\":\"y\",\"type\":\"histogram\"},{\"alignmentgroup\":\"True\",\"bingroup\":\"x\",\"hovertemplate\":\"Type=dark\\u003cbr\\u003eAttack=%{x}\\u003cbr\\u003ecount=%{y}\\u003cextra\\u003e\\u003c\\u002fextra\\u003e\",\"legendgroup\":\"dark\",\"marker\":{\"color\":\"#19d3f3\",\"pattern\":{\"shape\":\"\"}},\"name\":\"dark\",\"offsetgroup\":\"dark\",\"orientation\":\"v\",\"showlegend\":true,\"x\":[65,85,95,60,90,55,90,75,130,125,120,90],\"xaxis\":\"x\",\"yaxis\":\"y\",\"type\":\"histogram\"},{\"alignmentgroup\":\"True\",\"bingroup\":\"x\",\"hovertemplate\":\"Type=steel\\u003cbr\\u003eAttack=%{x}\\u003cbr\\u003ecount=%{y}\\u003cextra\\u003e\\u003c\\u002fextra\\u003e\",\"legendgroup\":\"steel\",\"marker\":{\"color\":\"#FF6692\",\"pattern\":{\"shape\":\"\"}},\"name\":\"steel\",\"offsetgroup\":\"steel\",\"orientation\":\"v\",\"showlegend\":true,\"x\":[85,80,85,70,90,110,55,75,135,75,100,24,89,120],\"xaxis\":\"x\",\"yaxis\":\"y\",\"type\":\"histogram\"}],                        {\"template\":{\"data\":{\"histogram2dcontour\":[{\"type\":\"histogram2dcontour\",\"colorbar\":{\"outlinewidth\":0,\"ticks\":\"\"},\"colorscale\":[[0.0,\"#0d0887\"],[0.1111111111111111,\"#46039f\"],[0.2222222222222222,\"#7201a8\"],[0.3333333333333333,\"#9c179e\"],[0.4444444444444444,\"#bd3786\"],[0.5555555555555556,\"#d8576b\"],[0.6666666666666666,\"#ed7953\"],[0.7777777777777778,\"#fb9f3a\"],[0.8888888888888888,\"#fdca26\"],[1.0,\"#f0f921\"]]}],\"choropleth\":[{\"type\":\"choropleth\",\"colorbar\":{\"outlinewidth\":0,\"ticks\":\"\"}}],\"histogram2d\":[{\"type\":\"histogram2d\",\"colorbar\":{\"outlinewidth\":0,\"ticks\":\"\"},\"colorscale\":[[0.0,\"#0d0887\"],[0.1111111111111111,\"#46039f\"],[0.2222222222222222,\"#7201a8\"],[0.3333333333333333,\"#9c179e\"],[0.4444444444444444,\"#bd3786\"],[0.5555555555555556,\"#d8576b\"],[0.6666666666666666,\"#ed7953\"],[0.7777777777777778,\"#fb9f3a\"],[0.8888888888888888,\"#fdca26\"],[1.0,\"#f0f921\"]]}],\"heatmap\":[{\"type\":\"heatmap\",\"colorbar\":{\"outlinewidth\":0,\"ticks\":\"\"},\"colorscale\":[[0.0,\"#0d0887\"],[0.1111111111111111,\"#46039f\"],[0.2222222222222222,\"#7201a8\"],[0.3333333333333333,\"#9c179e\"],[0.4444444444444444,\"#bd3786\"],[0.5555555555555556,\"#d8576b\"],[0.6666666666666666,\"#ed7953\"],[0.7777777777777778,\"#fb9f3a\"],[0.8888888888888888,\"#fdca26\"],[1.0,\"#f0f921\"]]}],\"heatmapgl\":[{\"type\":\"heatmapgl\",\"colorbar\":{\"outlinewidth\":0,\"ticks\":\"\"},\"colorscale\":[[0.0,\"#0d0887\"],[0.1111111111111111,\"#46039f\"],[0.2222222222222222,\"#7201a8\"],[0.3333333333333333,\"#9c179e\"],[0.4444444444444444,\"#bd3786\"],[0.5555555555555556,\"#d8576b\"],[0.6666666666666666,\"#ed7953\"],[0.7777777777777778,\"#fb9f3a\"],[0.8888888888888888,\"#fdca26\"],[1.0,\"#f0f921\"]]}],\"contourcarpet\":[{\"type\":\"contourcarpet\",\"colorbar\":{\"outlinewidth\":0,\"ticks\":\"\"}}],\"contour\":[{\"type\":\"contour\",\"colorbar\":{\"outlinewidth\":0,\"ticks\":\"\"},\"colorscale\":[[0.0,\"#0d0887\"],[0.1111111111111111,\"#46039f\"],[0.2222222222222222,\"#7201a8\"],[0.3333333333333333,\"#9c179e\"],[0.4444444444444444,\"#bd3786\"],[0.5555555555555556,\"#d8576b\"],[0.6666666666666666,\"#ed7953\"],[0.7777777777777778,\"#fb9f3a\"],[0.8888888888888888,\"#fdca26\"],[1.0,\"#f0f921\"]]}],\"surface\":[{\"type\":\"surface\",\"colorbar\":{\"outlinewidth\":0,\"ticks\":\"\"},\"colorscale\":[[0.0,\"#0d0887\"],[0.1111111111111111,\"#46039f\"],[0.2222222222222222,\"#7201a8\"],[0.3333333333333333,\"#9c179e\"],[0.4444444444444444,\"#bd3786\"],[0.5555555555555556,\"#d8576b\"],[0.6666666666666666,\"#ed7953\"],[0.7777777777777778,\"#fb9f3a\"],[0.8888888888888888,\"#fdca26\"],[1.0,\"#f0f921\"]]}],\"mesh3d\":[{\"type\":\"mesh3d\",\"colorbar\":{\"outlinewidth\":0,\"ticks\":\"\"}}],\"scatter\":[{\"fillpattern\":{\"fillmode\":\"overlay\",\"size\":10,\"solidity\":0.2},\"type\":\"scatter\"}],\"parcoords\":[{\"type\":\"parcoords\",\"line\":{\"colorbar\":{\"outlinewidth\":0,\"ticks\":\"\"}}}],\"scatterpolargl\":[{\"type\":\"scatterpolargl\",\"marker\":{\"colorbar\":{\"outlinewidth\":0,\"ticks\":\"\"}}}],\"bar\":[{\"error_x\":{\"color\":\"#2a3f5f\"},\"error_y\":{\"color\":\"#2a3f5f\"},\"marker\":{\"line\":{\"color\":\"#E5ECF6\",\"width\":0.5},\"pattern\":{\"fillmode\":\"overlay\",\"size\":10,\"solidity\":0.2}},\"type\":\"bar\"}],\"scattergeo\":[{\"type\":\"scattergeo\",\"marker\":{\"colorbar\":{\"outlinewidth\":0,\"ticks\":\"\"}}}],\"scatterpolar\":[{\"type\":\"scatterpolar\",\"marker\":{\"colorbar\":{\"outlinewidth\":0,\"ticks\":\"\"}}}],\"histogram\":[{\"marker\":{\"pattern\":{\"fillmode\":\"overlay\",\"size\":10,\"solidity\":0.2}},\"type\":\"histogram\"}],\"scattergl\":[{\"type\":\"scattergl\",\"marker\":{\"colorbar\":{\"outlinewidth\":0,\"ticks\":\"\"}}}],\"scatter3d\":[{\"type\":\"scatter3d\",\"line\":{\"colorbar\":{\"outlinewidth\":0,\"ticks\":\"\"}},\"marker\":{\"colorbar\":{\"outlinewidth\":0,\"ticks\":\"\"}}}],\"scattermapbox\":[{\"type\":\"scattermapbox\",\"marker\":{\"colorbar\":{\"outlinewidth\":0,\"ticks\":\"\"}}}],\"scatterternary\":[{\"type\":\"scatterternary\",\"marker\":{\"colorbar\":{\"outlinewidth\":0,\"ticks\":\"\"}}}],\"scattercarpet\":[{\"type\":\"scattercarpet\",\"marker\":{\"colorbar\":{\"outlinewidth\":0,\"ticks\":\"\"}}}],\"carpet\":[{\"aaxis\":{\"endlinecolor\":\"#2a3f5f\",\"gridcolor\":\"white\",\"linecolor\":\"white\",\"minorgridcolor\":\"white\",\"startlinecolor\":\"#2a3f5f\"},\"baxis\":{\"endlinecolor\":\"#2a3f5f\",\"gridcolor\":\"white\",\"linecolor\":\"white\",\"minorgridcolor\":\"white\",\"startlinecolor\":\"#2a3f5f\"},\"type\":\"carpet\"}],\"table\":[{\"cells\":{\"fill\":{\"color\":\"#EBF0F8\"},\"line\":{\"color\":\"white\"}},\"header\":{\"fill\":{\"color\":\"#C8D4E3\"},\"line\":{\"color\":\"white\"}},\"type\":\"table\"}],\"barpolar\":[{\"marker\":{\"line\":{\"color\":\"#E5ECF6\",\"width\":0.5},\"pattern\":{\"fillmode\":\"overlay\",\"size\":10,\"solidity\":0.2}},\"type\":\"barpolar\"}],\"pie\":[{\"automargin\":true,\"type\":\"pie\"}]},\"layout\":{\"autotypenumbers\":\"strict\",\"colorway\":[\"#636efa\",\"#EF553B\",\"#00cc96\",\"#ab63fa\",\"#FFA15A\",\"#19d3f3\",\"#FF6692\",\"#B6E880\",\"#FF97FF\",\"#FECB52\"],\"font\":{\"color\":\"#2a3f5f\"},\"hovermode\":\"closest\",\"hoverlabel\":{\"align\":\"left\"},\"paper_bgcolor\":\"white\",\"plot_bgcolor\":\"#E5ECF6\",\"polar\":{\"bgcolor\":\"#E5ECF6\",\"angularaxis\":{\"gridcolor\":\"white\",\"linecolor\":\"white\",\"ticks\":\"\"},\"radialaxis\":{\"gridcolor\":\"white\",\"linecolor\":\"white\",\"ticks\":\"\"}},\"ternary\":{\"bgcolor\":\"#E5ECF6\",\"aaxis\":{\"gridcolor\":\"white\",\"linecolor\":\"white\",\"ticks\":\"\"},\"baxis\":{\"gridcolor\":\"white\",\"linecolor\":\"white\",\"ticks\":\"\"},\"caxis\":{\"gridcolor\":\"white\",\"linecolor\":\"white\",\"ticks\":\"\"}},\"coloraxis\":{\"colorbar\":{\"outlinewidth\":0,\"ticks\":\"\"}},\"colorscale\":{\"sequential\":[[0.0,\"#0d0887\"],[0.1111111111111111,\"#46039f\"],[0.2222222222222222,\"#7201a8\"],[0.3333333333333333,\"#9c179e\"],[0.4444444444444444,\"#bd3786\"],[0.5555555555555556,\"#d8576b\"],[0.6666666666666666,\"#ed7953\"],[0.7777777777777778,\"#fb9f3a\"],[0.8888888888888888,\"#fdca26\"],[1.0,\"#f0f921\"]],\"sequentialminus\":[[0.0,\"#0d0887\"],[0.1111111111111111,\"#46039f\"],[0.2222222222222222,\"#7201a8\"],[0.3333333333333333,\"#9c179e\"],[0.4444444444444444,\"#bd3786\"],[0.5555555555555556,\"#d8576b\"],[0.6666666666666666,\"#ed7953\"],[0.7777777777777778,\"#fb9f3a\"],[0.8888888888888888,\"#fdca26\"],[1.0,\"#f0f921\"]],\"diverging\":[[0,\"#8e0152\"],[0.1,\"#c51b7d\"],[0.2,\"#de77ae\"],[0.3,\"#f1b6da\"],[0.4,\"#fde0ef\"],[0.5,\"#f7f7f7\"],[0.6,\"#e6f5d0\"],[0.7,\"#b8e186\"],[0.8,\"#7fbc41\"],[0.9,\"#4d9221\"],[1,\"#276419\"]]},\"xaxis\":{\"gridcolor\":\"white\",\"linecolor\":\"white\",\"ticks\":\"\",\"title\":{\"standoff\":15},\"zerolinecolor\":\"white\",\"automargin\":true,\"zerolinewidth\":2},\"yaxis\":{\"gridcolor\":\"white\",\"linecolor\":\"white\",\"ticks\":\"\",\"title\":{\"standoff\":15},\"zerolinecolor\":\"white\",\"automargin\":true,\"zerolinewidth\":2},\"scene\":{\"xaxis\":{\"backgroundcolor\":\"#E5ECF6\",\"gridcolor\":\"white\",\"linecolor\":\"white\",\"showbackground\":true,\"ticks\":\"\",\"zerolinecolor\":\"white\",\"gridwidth\":2},\"yaxis\":{\"backgroundcolor\":\"#E5ECF6\",\"gridcolor\":\"white\",\"linecolor\":\"white\",\"showbackground\":true,\"ticks\":\"\",\"zerolinecolor\":\"white\",\"gridwidth\":2},\"zaxis\":{\"backgroundcolor\":\"#E5ECF6\",\"gridcolor\":\"white\",\"linecolor\":\"white\",\"showbackground\":true,\"ticks\":\"\",\"zerolinecolor\":\"white\",\"gridwidth\":2}},\"shapedefaults\":{\"line\":{\"color\":\"#2a3f5f\"}},\"annotationdefaults\":{\"arrowcolor\":\"#2a3f5f\",\"arrowhead\":0,\"arrowwidth\":1},\"geo\":{\"bgcolor\":\"white\",\"landcolor\":\"#E5ECF6\",\"subunitcolor\":\"white\",\"showland\":true,\"showlakes\":true,\"lakecolor\":\"white\"},\"title\":{\"x\":0.05},\"mapbox\":{\"style\":\"light\"}}},\"xaxis\":{\"anchor\":\"y\",\"domain\":[0.0,1.0],\"title\":{\"text\":\"Attack\"}},\"yaxis\":{\"anchor\":\"x\",\"domain\":[0.0,1.0],\"title\":{\"text\":\"count\"}},\"legend\":{\"title\":{\"text\":\"Type\"},\"tracegroupgap\":0},\"margin\":{\"t\":60},\"barmode\":\"relative\"},                        {\"responsive\": true}                    ).then(function(){\n",
              "                            \n",
              "var gd = document.getElementById('a507c5e7-4132-4e65-aabc-4f26070afbb6');\n",
              "var x = new MutationObserver(function (mutations, observer) {{\n",
              "        var display = window.getComputedStyle(gd).display;\n",
              "        if (!display || display === 'none') {{\n",
              "            console.log([gd, 'removed!']);\n",
              "            Plotly.purge(gd);\n",
              "            observer.disconnect();\n",
              "        }}\n",
              "}});\n",
              "\n",
              "// Listen for the removal of the full notebook cells\n",
              "var notebookContainer = gd.closest('#notebook-container');\n",
              "if (notebookContainer) {{\n",
              "    x.observe(notebookContainer, {childList: true});\n",
              "}}\n",
              "\n",
              "// Listen for the clearing of the current output cell\n",
              "var outputEl = gd.closest('.output');\n",
              "if (outputEl) {{\n",
              "    x.observe(outputEl, {childList: true});\n",
              "}}\n",
              "\n",
              "                        })                };                            </script>        </div>\n",
              "</body>\n",
              "</html>"
            ]
          },
          "metadata": {}
        }
      ]
    },
    {
      "cell_type": "markdown",
      "source": [
        "## Defense"
      ],
      "metadata": {
        "id": "WcWgnxOeN93R"
      }
    },
    {
      "cell_type": "code",
      "source": [
        "graph = px.box(df, x='Defense', y='Type',points='all', title=\"Defense Pokemons - Median\", color=\"Type\")\n",
        "\n",
        "graph"
      ],
      "metadata": {
        "colab": {
          "base_uri": "https://localhost:8080/",
          "height": 542
        },
        "id": "sr7BZR3DN9KT",
        "outputId": "a4e3936f-0781-4a28-f0f7-e14facfe01f4"
      },
      "execution_count": 336,
      "outputs": [
        {
          "output_type": "display_data",
          "data": {
            "text/html": [
              "<html>\n",
              "<head><meta charset=\"utf-8\" /></head>\n",
              "<body>\n",
              "    <div>            <script src=\"https://cdnjs.cloudflare.com/ajax/libs/mathjax/2.7.5/MathJax.js?config=TeX-AMS-MML_SVG\"></script><script type=\"text/javascript\">if (window.MathJax && window.MathJax.Hub && window.MathJax.Hub.Config) {window.MathJax.Hub.Config({SVG: {font: \"STIX-Web\"}});}</script>                <script type=\"text/javascript\">window.PlotlyConfig = {MathJaxConfig: 'local'};</script>\n",
              "        <script charset=\"utf-8\" src=\"https://cdn.plot.ly/plotly-2.24.1.min.js\"></script>                <div id=\"7a73e348-ae27-4128-8d42-197dc04d0b24\" class=\"plotly-graph-div\" style=\"height:525px; width:100%;\"></div>            <script type=\"text/javascript\">                                    window.PLOTLYENV=window.PLOTLYENV || {};                                    if (document.getElementById(\"7a73e348-ae27-4128-8d42-197dc04d0b24\")) {                    Plotly.newPlot(                        \"7a73e348-ae27-4128-8d42-197dc04d0b24\",                        [{\"alignmentgroup\":\"True\",\"boxpoints\":\"all\",\"hovertemplate\":\"Type=%{y}\\u003cbr\\u003eDefense=%{x}\\u003cextra\\u003e\\u003c\\u002fextra\\u003e\",\"legendgroup\":\"grass\",\"marker\":{\"color\":\"#636efa\"},\"name\":\"grass\",\"notched\":false,\"offsetgroup\":\"grass\",\"orientation\":\"h\",\"showlegend\":true,\"x\":[49,63,83,55,70,85,35,50,65,80,85,115,65,80,100,95,40,50,70,30,55,35,45,65,50,40,60,60,80,45,40,60,83,64,85,105,35,65,45,70,72,50,75,125,130,100],\"x0\":\" \",\"xaxis\":\"x\",\"y\":[\"grass\",\"grass\",\"grass\",\"grass\",\"grass\",\"grass\",\"grass\",\"grass\",\"grass\",\"grass\",\"grass\",\"grass\",\"grass\",\"grass\",\"grass\",\"grass\",\"grass\",\"grass\",\"grass\",\"grass\",\"grass\",\"grass\",\"grass\",\"grass\",\"grass\",\"grass\",\"grass\",\"grass\",\"grass\",\"grass\",\"grass\",\"grass\",\"grass\",\"grass\",\"grass\",\"grass\",\"grass\",\"grass\",\"grass\",\"grass\",\"grass\",\"grass\",\"grass\",\"grass\",\"grass\",\"grass\"],\"y0\":\" \",\"yaxis\":\"y\",\"type\":\"box\"},{\"alignmentgroup\":\"True\",\"boxpoints\":\"all\",\"hovertemplate\":\"Type=%{y}\\u003cbr\\u003eDefense=%{x}\\u003cextra\\u003e\\u003c\\u002fextra\\u003e\",\"legendgroup\":\"fire\",\"marker\":{\"color\":\"#EF553B\"},\"name\":\"fire\",\"notched\":false,\"offsetgroup\":\"fire\",\"orientation\":\"h\",\"showlegend\":true,\"x\":[43,58,78,40,75,45,80,55,70,57,60,90,43,58,78,40,120,37,85,90,40,60,70,40,70,140,44,52,71,67,106],\"x0\":\" \",\"xaxis\":\"x\",\"y\":[\"fire\",\"fire\",\"fire\",\"fire\",\"fire\",\"fire\",\"fire\",\"fire\",\"fire\",\"fire\",\"fire\",\"fire\",\"fire\",\"fire\",\"fire\",\"fire\",\"fire\",\"fire\",\"fire\",\"fire\",\"fire\",\"fire\",\"fire\",\"fire\",\"fire\",\"fire\",\"fire\",\"fire\",\"fire\",\"fire\",\"fire\"],\"y0\":\" \",\"yaxis\":\"y\",\"type\":\"box\"},{\"alignmentgroup\":\"True\",\"boxpoints\":\"all\",\"hovertemplate\":\"Type=%{y}\\u003cbr\\u003eDefense=%{x}\\u003cextra\\u003e\\u003c\\u002fextra\\u003e\",\"legendgroup\":\"water\",\"marker\":{\"color\":\"#00cc96\"},\"name\":\"water\",\"notched\":false,\"offsetgroup\":\"water\",\"orientation\":\"h\",\"showlegend\":true,\"x\":[65,80,100,48,78,40,65,95,35,65,65,110,55,80,100,180,90,115,70,95,60,65,55,85,55,79,80,60,64,80,100,38,58,50,80,75,45,85,80,85,95,35,75,70,95,115,50,70,90,30,50,70,30,100,20,40,35,45,43,73,65,85,20,79,85,105,105,130,55,90,53,68,88,35,55,48,68,56,76,50,100,80,100],\"x0\":\" \",\"xaxis\":\"x\",\"y\":[\"water\",\"water\",\"water\",\"water\",\"water\",\"water\",\"water\",\"water\",\"water\",\"water\",\"water\",\"water\",\"water\",\"water\",\"water\",\"water\",\"water\",\"water\",\"water\",\"water\",\"water\",\"water\",\"water\",\"water\",\"water\",\"water\",\"water\",\"water\",\"water\",\"water\",\"water\",\"water\",\"water\",\"water\",\"water\",\"water\",\"water\",\"water\",\"water\",\"water\",\"water\",\"water\",\"water\",\"water\",\"water\",\"water\",\"water\",\"water\",\"water\",\"water\",\"water\",\"water\",\"water\",\"water\",\"water\",\"water\",\"water\",\"water\",\"water\",\"water\",\"water\",\"water\",\"water\",\"water\",\"water\",\"water\",\"water\",\"water\",\"water\",\"water\",\"water\",\"water\",\"water\",\"water\",\"water\",\"water\",\"water\",\"water\",\"water\",\"water\",\"water\",\"water\",\"water\"],\"y0\":\" \",\"yaxis\":\"y\",\"type\":\"box\"},{\"alignmentgroup\":\"True\",\"boxpoints\":\"all\",\"hovertemplate\":\"Type=%{y}\\u003cbr\\u003eDefense=%{x}\\u003cextra\\u003e\\u003c\\u002fextra\\u003e\",\"legendgroup\":\"bug\",\"marker\":{\"color\":\"#ab63fa\"},\"name\":\"bug\",\"notched\":false,\"offsetgroup\":\"bug\",\"orientation\":\"h\",\"showlegend\":true,\"x\":[35,55,50,30,50,40,55,80,50,60,80,100,30,50,40,70,45,90,140,100,230,75,35,55,50,55,70,32,62,90,45,45,75,75,41,51,45,85,50,42,102,86],\"x0\":\" \",\"xaxis\":\"x\",\"y\":[\"bug\",\"bug\",\"bug\",\"bug\",\"bug\",\"bug\",\"bug\",\"bug\",\"bug\",\"bug\",\"bug\",\"bug\",\"bug\",\"bug\",\"bug\",\"bug\",\"bug\",\"bug\",\"bug\",\"bug\",\"bug\",\"bug\",\"bug\",\"bug\",\"bug\",\"bug\",\"bug\",\"bug\",\"bug\",\"bug\",\"bug\",\"bug\",\"bug\",\"bug\",\"bug\",\"bug\",\"bug\",\"bug\",\"bug\",\"bug\",\"bug\",\"bug\"],\"y0\":\" \",\"yaxis\":\"y\",\"type\":\"box\"},{\"alignmentgroup\":\"True\",\"boxpoints\":\"all\",\"hovertemplate\":\"Type=%{y}\\u003cbr\\u003eDefense=%{x}\\u003cextra\\u003e\\u003c\\u002fextra\\u003e\",\"legendgroup\":\"normal\",\"marker\":{\"color\":\"#FFA15A\"},\"name\":\"normal\",\"notched\":false,\"offsetgroup\":\"normal\",\"orientation\":\"h\",\"showlegend\":true,\"x\":[40,55,75,35,60,30,65,20,45,35,60,55,45,70,75,5,80,95,48,50,70,65,34,64,30,50,15,55,65,70,50,75,90,62,35,105,10,41,61,30,60,60,80,100,23,43,63,40,45,65,60,60,60,70,70,30,50,70,40,60,66,44,84,42,64,5,45,40,95,70,110],\"x0\":\" \",\"xaxis\":\"x\",\"y\":[\"normal\",\"normal\",\"normal\",\"normal\",\"normal\",\"normal\",\"normal\",\"normal\",\"normal\",\"normal\",\"normal\",\"normal\",\"normal\",\"normal\",\"normal\",\"normal\",\"normal\",\"normal\",\"normal\",\"normal\",\"normal\",\"normal\",\"normal\",\"normal\",\"normal\",\"normal\",\"normal\",\"normal\",\"normal\",\"normal\",\"normal\",\"normal\",\"normal\",\"normal\",\"normal\",\"normal\",\"normal\",\"normal\",\"normal\",\"normal\",\"normal\",\"normal\",\"normal\",\"normal\",\"normal\",\"normal\",\"normal\",\"normal\",\"normal\",\"normal\",\"normal\",\"normal\",\"normal\",\"normal\",\"normal\",\"normal\",\"normal\",\"normal\",\"normal\",\"normal\",\"normal\",\"normal\",\"normal\",\"normal\",\"normal\",\"normal\",\"normal\",\"normal\",\"normal\",\"normal\",\"normal\"],\"y0\":\" \",\"yaxis\":\"y\",\"type\":\"box\"},{\"alignmentgroup\":\"True\",\"boxpoints\":\"all\",\"hovertemplate\":\"Type=%{y}\\u003cbr\\u003eDefense=%{x}\\u003cextra\\u003e\\u003c\\u002fextra\\u003e\",\"legendgroup\":\"poison\",\"marker\":{\"color\":\"#19d3f3\"},\"name\":\"poison\",\"notched\":false,\"offsetgroup\":\"poison\",\"orientation\":\"h\",\"showlegend\":true,\"x\":[44,69,52,67,87,40,57,77,35,70,50,75,95,120,80,53,83,60,47,67,90,110,40,65],\"x0\":\" \",\"xaxis\":\"x\",\"y\":[\"poison\",\"poison\",\"poison\",\"poison\",\"poison\",\"poison\",\"poison\",\"poison\",\"poison\",\"poison\",\"poison\",\"poison\",\"poison\",\"poison\",\"poison\",\"poison\",\"poison\",\"poison\",\"poison\",\"poison\",\"poison\",\"poison\",\"poison\",\"poison\"],\"y0\":\" \",\"yaxis\":\"y\",\"type\":\"box\"},{\"alignmentgroup\":\"True\",\"boxpoints\":\"all\",\"hovertemplate\":\"Type=%{y}\\u003cbr\\u003eDefense=%{x}\\u003cextra\\u003e\\u003c\\u002fextra\\u003e\",\"legendgroup\":\"electric\",\"marker\":{\"color\":\"#FF6692\"},\"name\":\"electric\",\"notched\":false,\"offsetgroup\":\"electric\",\"orientation\":\"h\",\"showlegend\":true,\"x\":[40,55,70,95,50,70,57,60,85,15,40,55,85,37,75,40,60,40,50,34,49,79,70,115,67,77],\"x0\":\" \",\"xaxis\":\"x\",\"y\":[\"electric\",\"electric\",\"electric\",\"electric\",\"electric\",\"electric\",\"electric\",\"electric\",\"electric\",\"electric\",\"electric\",\"electric\",\"electric\",\"electric\",\"electric\",\"electric\",\"electric\",\"electric\",\"electric\",\"electric\",\"electric\",\"electric\",\"electric\",\"electric\",\"electric\",\"electric\"],\"y0\":\" \",\"yaxis\":\"y\",\"type\":\"box\"},{\"alignmentgroup\":\"True\",\"boxpoints\":\"all\",\"hovertemplate\":\"Type=%{y}\\u003cbr\\u003eDefense=%{x}\\u003cextra\\u003e\\u003c\\u002fextra\\u003e\",\"legendgroup\":\"ground\",\"marker\":{\"color\":\"#B6E880\"},\"name\":\"ground\",\"notched\":false,\"offsetgroup\":\"ground\",\"orientation\":\"h\",\"showlegend\":true,\"x\":[85,110,25,50,95,110,95,120,105,60,120,45,50,80,55,105,140,78,118,130,125],\"x0\":\" \",\"xaxis\":\"x\",\"y\":[\"ground\",\"ground\",\"ground\",\"ground\",\"ground\",\"ground\",\"ground\",\"ground\",\"ground\",\"ground\",\"ground\",\"ground\",\"ground\",\"ground\",\"ground\",\"ground\",\"ground\",\"ground\",\"ground\",\"ground\",\"ground\"],\"y0\":\" \",\"yaxis\":\"y\",\"type\":\"box\"},{\"alignmentgroup\":\"True\",\"boxpoints\":\"all\",\"hovertemplate\":\"Type=%{y}\\u003cbr\\u003eDefense=%{x}\\u003cextra\\u003e\\u003c\\u002fextra\\u003e\",\"legendgroup\":\"fairy\",\"marker\":{\"color\":\"#FF97FF\"},\"name\":\"fairy\",\"notched\":false,\"offsetgroup\":\"fairy\",\"orientation\":\"h\",\"showlegend\":true,\"x\":[48,73,28,65,85,50,75,95],\"x0\":\" \",\"xaxis\":\"x\",\"y\":[\"fairy\",\"fairy\",\"fairy\",\"fairy\",\"fairy\",\"fairy\",\"fairy\",\"fairy\"],\"y0\":\" \",\"yaxis\":\"y\",\"type\":\"box\"},{\"alignmentgroup\":\"True\",\"boxpoints\":\"all\",\"hovertemplate\":\"Type=%{y}\\u003cbr\\u003eDefense=%{x}\\u003cextra\\u003e\\u003c\\u002fextra\\u003e\",\"legendgroup\":\"fighting\",\"marker\":{\"color\":\"#FECB52\"},\"name\":\"fighting\",\"notched\":false,\"offsetgroup\":\"fighting\",\"orientation\":\"h\",\"showlegend\":true,\"x\":[35,60,50,70,80,53,79,35,95,30,60,55,75,40,70],\"x0\":\" \",\"xaxis\":\"x\",\"y\":[\"fighting\",\"fighting\",\"fighting\",\"fighting\",\"fighting\",\"fighting\",\"fighting\",\"fighting\",\"fighting\",\"fighting\",\"fighting\",\"fighting\",\"fighting\",\"fighting\",\"fighting\"],\"y0\":\" \",\"yaxis\":\"y\",\"type\":\"box\"},{\"alignmentgroup\":\"True\",\"boxpoints\":\"all\",\"hovertemplate\":\"Type=%{y}\\u003cbr\\u003eDefense=%{x}\\u003cextra\\u003e\\u003c\\u002fextra\\u003e\",\"legendgroup\":\"psychic\",\"marker\":{\"color\":\"#636efa\"},\"name\":\"psychic\",\"notched\":false,\"offsetgroup\":\"psychic\",\"orientation\":\"h\",\"showlegend\":true,\"x\":[15,30,45,45,70,65,90,100,45,70,60,48,58,130,100,25,35,65,35,65,80,48,50,50,45,65,130,105,70,110],\"x0\":\" \",\"xaxis\":\"x\",\"y\":[\"psychic\",\"psychic\",\"psychic\",\"psychic\",\"psychic\",\"psychic\",\"psychic\",\"psychic\",\"psychic\",\"psychic\",\"psychic\",\"psychic\",\"psychic\",\"psychic\",\"psychic\",\"psychic\",\"psychic\",\"psychic\",\"psychic\",\"psychic\",\"psychic\",\"psychic\",\"psychic\",\"psychic\",\"psychic\",\"psychic\",\"psychic\",\"psychic\",\"psychic\",\"psychic\"],\"y0\":\" \",\"yaxis\":\"y\",\"type\":\"box\"},{\"alignmentgroup\":\"True\",\"boxpoints\":\"all\",\"hovertemplate\":\"Type=%{y}\\u003cbr\\u003eDefense=%{x}\\u003cextra\\u003e\\u003c\\u002fextra\\u003e\",\"legendgroup\":\"rock\",\"marker\":{\"color\":\"#EF553B\"},\"name\":\"rock\",\"notched\":false,\"offsetgroup\":\"rock\",\"orientation\":\"h\",\"showlegend\":true,\"x\":[100,115,130,160,100,125,90,105,65,115,50,70,110,135,65,85,77,97,50,100,200,40,60,118,168,95,145],\"x0\":\" \",\"xaxis\":\"x\",\"y\":[\"rock\",\"rock\",\"rock\",\"rock\",\"rock\",\"rock\",\"rock\",\"rock\",\"rock\",\"rock\",\"rock\",\"rock\",\"rock\",\"rock\",\"rock\",\"rock\",\"rock\",\"rock\",\"rock\",\"rock\",\"rock\",\"rock\",\"rock\",\"rock\",\"rock\",\"rock\",\"rock\"],\"y0\":\" \",\"yaxis\":\"y\",\"type\":\"box\"},{\"alignmentgroup\":\"True\",\"boxpoints\":\"all\",\"hovertemplate\":\"Type=%{y}\\u003cbr\\u003eDefense=%{x}\\u003cextra\\u003e\\u003c\\u002fextra\\u003e\",\"legendgroup\":\"ghost\",\"marker\":{\"color\":\"#00cc96\"},\"name\":\"ghost\",\"notched\":false,\"offsetgroup\":\"ghost\",\"orientation\":\"h\",\"showlegend\":true,\"x\":[30,45,60,60,35,65,90,130,34,44,60,108,135,120],\"x0\":\" \",\"xaxis\":\"x\",\"y\":[\"ghost\",\"ghost\",\"ghost\",\"ghost\",\"ghost\",\"ghost\",\"ghost\",\"ghost\",\"ghost\",\"ghost\",\"ghost\",\"ghost\",\"ghost\",\"ghost\"],\"y0\":\" \",\"yaxis\":\"y\",\"type\":\"box\"},{\"alignmentgroup\":\"True\",\"boxpoints\":\"all\",\"hovertemplate\":\"Type=%{y}\\u003cbr\\u003eDefense=%{x}\\u003cextra\\u003e\\u003c\\u002fextra\\u003e\",\"legendgroup\":\"ice\",\"marker\":{\"color\":\"#ab63fa\"},\"name\":\"ice\",\"notched\":false,\"offsetgroup\":\"ice\",\"orientation\":\"h\",\"showlegend\":true,\"x\":[35,100,40,80,45,15,50,80,50,70,90,100,110,80,70],\"x0\":\" \",\"xaxis\":\"x\",\"y\":[\"ice\",\"ice\",\"ice\",\"ice\",\"ice\",\"ice\",\"ice\",\"ice\",\"ice\",\"ice\",\"ice\",\"ice\",\"ice\",\"ice\",\"ice\"],\"y0\":\" \",\"yaxis\":\"y\",\"type\":\"box\"},{\"alignmentgroup\":\"True\",\"boxpoints\":\"all\",\"hovertemplate\":\"Type=%{y}\\u003cbr\\u003eDefense=%{x}\\u003cextra\\u003e\\u003c\\u002fextra\\u003e\",\"legendgroup\":\"dragon\",\"marker\":{\"color\":\"#FFA15A\"},\"name\":\"dragon\",\"notched\":false,\"offsetgroup\":\"dragon\",\"orientation\":\"h\",\"showlegend\":true,\"x\":[45,65,95,90,60,100,80,90,80,90,45,65,95],\"x0\":\" \",\"xaxis\":\"x\",\"y\":[\"dragon\",\"dragon\",\"dragon\",\"dragon\",\"dragon\",\"dragon\",\"dragon\",\"dragon\",\"dragon\",\"dragon\",\"dragon\",\"dragon\",\"dragon\"],\"y0\":\" \",\"yaxis\":\"y\",\"type\":\"box\"},{\"alignmentgroup\":\"True\",\"boxpoints\":\"all\",\"hovertemplate\":\"Type=%{y}\\u003cbr\\u003eDefense=%{x}\\u003cextra\\u003e\\u003c\\u002fextra\\u003e\",\"legendgroup\":\"dark\",\"marker\":{\"color\":\"#19d3f3\"},\"name\":\"dark\",\"notched\":false,\"offsetgroup\":\"dark\",\"orientation\":\"h\",\"showlegend\":true,\"x\":[110,42,55,30,50,35,70,75,60,52,65,90],\"x0\":\" \",\"xaxis\":\"x\",\"y\":[\"dark\",\"dark\",\"dark\",\"dark\",\"dark\",\"dark\",\"dark\",\"dark\",\"dark\",\"dark\",\"dark\",\"dark\"],\"y0\":\" \",\"yaxis\":\"y\",\"type\":\"box\"},{\"alignmentgroup\":\"True\",\"boxpoints\":\"all\",\"hovertemplate\":\"Type=%{y}\\u003cbr\\u003eDefense=%{x}\\u003cextra\\u003e\\u003c\\u002fextra\\u003e\",\"legendgroup\":\"steel\",\"marker\":{\"color\":\"#FF6692\"},\"name\":\"steel\",\"notched\":false,\"offsetgroup\":\"steel\",\"orientation\":\"h\",\"showlegend\":true,\"x\":[200,140,85,100,140,180,80,100,130,150,100,86,116,120],\"x0\":\" \",\"xaxis\":\"x\",\"y\":[\"steel\",\"steel\",\"steel\",\"steel\",\"steel\",\"steel\",\"steel\",\"steel\",\"steel\",\"steel\",\"steel\",\"steel\",\"steel\",\"steel\"],\"y0\":\" \",\"yaxis\":\"y\",\"type\":\"box\"}],                        {\"template\":{\"data\":{\"histogram2dcontour\":[{\"type\":\"histogram2dcontour\",\"colorbar\":{\"outlinewidth\":0,\"ticks\":\"\"},\"colorscale\":[[0.0,\"#0d0887\"],[0.1111111111111111,\"#46039f\"],[0.2222222222222222,\"#7201a8\"],[0.3333333333333333,\"#9c179e\"],[0.4444444444444444,\"#bd3786\"],[0.5555555555555556,\"#d8576b\"],[0.6666666666666666,\"#ed7953\"],[0.7777777777777778,\"#fb9f3a\"],[0.8888888888888888,\"#fdca26\"],[1.0,\"#f0f921\"]]}],\"choropleth\":[{\"type\":\"choropleth\",\"colorbar\":{\"outlinewidth\":0,\"ticks\":\"\"}}],\"histogram2d\":[{\"type\":\"histogram2d\",\"colorbar\":{\"outlinewidth\":0,\"ticks\":\"\"},\"colorscale\":[[0.0,\"#0d0887\"],[0.1111111111111111,\"#46039f\"],[0.2222222222222222,\"#7201a8\"],[0.3333333333333333,\"#9c179e\"],[0.4444444444444444,\"#bd3786\"],[0.5555555555555556,\"#d8576b\"],[0.6666666666666666,\"#ed7953\"],[0.7777777777777778,\"#fb9f3a\"],[0.8888888888888888,\"#fdca26\"],[1.0,\"#f0f921\"]]}],\"heatmap\":[{\"type\":\"heatmap\",\"colorbar\":{\"outlinewidth\":0,\"ticks\":\"\"},\"colorscale\":[[0.0,\"#0d0887\"],[0.1111111111111111,\"#46039f\"],[0.2222222222222222,\"#7201a8\"],[0.3333333333333333,\"#9c179e\"],[0.4444444444444444,\"#bd3786\"],[0.5555555555555556,\"#d8576b\"],[0.6666666666666666,\"#ed7953\"],[0.7777777777777778,\"#fb9f3a\"],[0.8888888888888888,\"#fdca26\"],[1.0,\"#f0f921\"]]}],\"heatmapgl\":[{\"type\":\"heatmapgl\",\"colorbar\":{\"outlinewidth\":0,\"ticks\":\"\"},\"colorscale\":[[0.0,\"#0d0887\"],[0.1111111111111111,\"#46039f\"],[0.2222222222222222,\"#7201a8\"],[0.3333333333333333,\"#9c179e\"],[0.4444444444444444,\"#bd3786\"],[0.5555555555555556,\"#d8576b\"],[0.6666666666666666,\"#ed7953\"],[0.7777777777777778,\"#fb9f3a\"],[0.8888888888888888,\"#fdca26\"],[1.0,\"#f0f921\"]]}],\"contourcarpet\":[{\"type\":\"contourcarpet\",\"colorbar\":{\"outlinewidth\":0,\"ticks\":\"\"}}],\"contour\":[{\"type\":\"contour\",\"colorbar\":{\"outlinewidth\":0,\"ticks\":\"\"},\"colorscale\":[[0.0,\"#0d0887\"],[0.1111111111111111,\"#46039f\"],[0.2222222222222222,\"#7201a8\"],[0.3333333333333333,\"#9c179e\"],[0.4444444444444444,\"#bd3786\"],[0.5555555555555556,\"#d8576b\"],[0.6666666666666666,\"#ed7953\"],[0.7777777777777778,\"#fb9f3a\"],[0.8888888888888888,\"#fdca26\"],[1.0,\"#f0f921\"]]}],\"surface\":[{\"type\":\"surface\",\"colorbar\":{\"outlinewidth\":0,\"ticks\":\"\"},\"colorscale\":[[0.0,\"#0d0887\"],[0.1111111111111111,\"#46039f\"],[0.2222222222222222,\"#7201a8\"],[0.3333333333333333,\"#9c179e\"],[0.4444444444444444,\"#bd3786\"],[0.5555555555555556,\"#d8576b\"],[0.6666666666666666,\"#ed7953\"],[0.7777777777777778,\"#fb9f3a\"],[0.8888888888888888,\"#fdca26\"],[1.0,\"#f0f921\"]]}],\"mesh3d\":[{\"type\":\"mesh3d\",\"colorbar\":{\"outlinewidth\":0,\"ticks\":\"\"}}],\"scatter\":[{\"fillpattern\":{\"fillmode\":\"overlay\",\"size\":10,\"solidity\":0.2},\"type\":\"scatter\"}],\"parcoords\":[{\"type\":\"parcoords\",\"line\":{\"colorbar\":{\"outlinewidth\":0,\"ticks\":\"\"}}}],\"scatterpolargl\":[{\"type\":\"scatterpolargl\",\"marker\":{\"colorbar\":{\"outlinewidth\":0,\"ticks\":\"\"}}}],\"bar\":[{\"error_x\":{\"color\":\"#2a3f5f\"},\"error_y\":{\"color\":\"#2a3f5f\"},\"marker\":{\"line\":{\"color\":\"#E5ECF6\",\"width\":0.5},\"pattern\":{\"fillmode\":\"overlay\",\"size\":10,\"solidity\":0.2}},\"type\":\"bar\"}],\"scattergeo\":[{\"type\":\"scattergeo\",\"marker\":{\"colorbar\":{\"outlinewidth\":0,\"ticks\":\"\"}}}],\"scatterpolar\":[{\"type\":\"scatterpolar\",\"marker\":{\"colorbar\":{\"outlinewidth\":0,\"ticks\":\"\"}}}],\"histogram\":[{\"marker\":{\"pattern\":{\"fillmode\":\"overlay\",\"size\":10,\"solidity\":0.2}},\"type\":\"histogram\"}],\"scattergl\":[{\"type\":\"scattergl\",\"marker\":{\"colorbar\":{\"outlinewidth\":0,\"ticks\":\"\"}}}],\"scatter3d\":[{\"type\":\"scatter3d\",\"line\":{\"colorbar\":{\"outlinewidth\":0,\"ticks\":\"\"}},\"marker\":{\"colorbar\":{\"outlinewidth\":0,\"ticks\":\"\"}}}],\"scattermapbox\":[{\"type\":\"scattermapbox\",\"marker\":{\"colorbar\":{\"outlinewidth\":0,\"ticks\":\"\"}}}],\"scatterternary\":[{\"type\":\"scatterternary\",\"marker\":{\"colorbar\":{\"outlinewidth\":0,\"ticks\":\"\"}}}],\"scattercarpet\":[{\"type\":\"scattercarpet\",\"marker\":{\"colorbar\":{\"outlinewidth\":0,\"ticks\":\"\"}}}],\"carpet\":[{\"aaxis\":{\"endlinecolor\":\"#2a3f5f\",\"gridcolor\":\"white\",\"linecolor\":\"white\",\"minorgridcolor\":\"white\",\"startlinecolor\":\"#2a3f5f\"},\"baxis\":{\"endlinecolor\":\"#2a3f5f\",\"gridcolor\":\"white\",\"linecolor\":\"white\",\"minorgridcolor\":\"white\",\"startlinecolor\":\"#2a3f5f\"},\"type\":\"carpet\"}],\"table\":[{\"cells\":{\"fill\":{\"color\":\"#EBF0F8\"},\"line\":{\"color\":\"white\"}},\"header\":{\"fill\":{\"color\":\"#C8D4E3\"},\"line\":{\"color\":\"white\"}},\"type\":\"table\"}],\"barpolar\":[{\"marker\":{\"line\":{\"color\":\"#E5ECF6\",\"width\":0.5},\"pattern\":{\"fillmode\":\"overlay\",\"size\":10,\"solidity\":0.2}},\"type\":\"barpolar\"}],\"pie\":[{\"automargin\":true,\"type\":\"pie\"}]},\"layout\":{\"autotypenumbers\":\"strict\",\"colorway\":[\"#636efa\",\"#EF553B\",\"#00cc96\",\"#ab63fa\",\"#FFA15A\",\"#19d3f3\",\"#FF6692\",\"#B6E880\",\"#FF97FF\",\"#FECB52\"],\"font\":{\"color\":\"#2a3f5f\"},\"hovermode\":\"closest\",\"hoverlabel\":{\"align\":\"left\"},\"paper_bgcolor\":\"white\",\"plot_bgcolor\":\"#E5ECF6\",\"polar\":{\"bgcolor\":\"#E5ECF6\",\"angularaxis\":{\"gridcolor\":\"white\",\"linecolor\":\"white\",\"ticks\":\"\"},\"radialaxis\":{\"gridcolor\":\"white\",\"linecolor\":\"white\",\"ticks\":\"\"}},\"ternary\":{\"bgcolor\":\"#E5ECF6\",\"aaxis\":{\"gridcolor\":\"white\",\"linecolor\":\"white\",\"ticks\":\"\"},\"baxis\":{\"gridcolor\":\"white\",\"linecolor\":\"white\",\"ticks\":\"\"},\"caxis\":{\"gridcolor\":\"white\",\"linecolor\":\"white\",\"ticks\":\"\"}},\"coloraxis\":{\"colorbar\":{\"outlinewidth\":0,\"ticks\":\"\"}},\"colorscale\":{\"sequential\":[[0.0,\"#0d0887\"],[0.1111111111111111,\"#46039f\"],[0.2222222222222222,\"#7201a8\"],[0.3333333333333333,\"#9c179e\"],[0.4444444444444444,\"#bd3786\"],[0.5555555555555556,\"#d8576b\"],[0.6666666666666666,\"#ed7953\"],[0.7777777777777778,\"#fb9f3a\"],[0.8888888888888888,\"#fdca26\"],[1.0,\"#f0f921\"]],\"sequentialminus\":[[0.0,\"#0d0887\"],[0.1111111111111111,\"#46039f\"],[0.2222222222222222,\"#7201a8\"],[0.3333333333333333,\"#9c179e\"],[0.4444444444444444,\"#bd3786\"],[0.5555555555555556,\"#d8576b\"],[0.6666666666666666,\"#ed7953\"],[0.7777777777777778,\"#fb9f3a\"],[0.8888888888888888,\"#fdca26\"],[1.0,\"#f0f921\"]],\"diverging\":[[0,\"#8e0152\"],[0.1,\"#c51b7d\"],[0.2,\"#de77ae\"],[0.3,\"#f1b6da\"],[0.4,\"#fde0ef\"],[0.5,\"#f7f7f7\"],[0.6,\"#e6f5d0\"],[0.7,\"#b8e186\"],[0.8,\"#7fbc41\"],[0.9,\"#4d9221\"],[1,\"#276419\"]]},\"xaxis\":{\"gridcolor\":\"white\",\"linecolor\":\"white\",\"ticks\":\"\",\"title\":{\"standoff\":15},\"zerolinecolor\":\"white\",\"automargin\":true,\"zerolinewidth\":2},\"yaxis\":{\"gridcolor\":\"white\",\"linecolor\":\"white\",\"ticks\":\"\",\"title\":{\"standoff\":15},\"zerolinecolor\":\"white\",\"automargin\":true,\"zerolinewidth\":2},\"scene\":{\"xaxis\":{\"backgroundcolor\":\"#E5ECF6\",\"gridcolor\":\"white\",\"linecolor\":\"white\",\"showbackground\":true,\"ticks\":\"\",\"zerolinecolor\":\"white\",\"gridwidth\":2},\"yaxis\":{\"backgroundcolor\":\"#E5ECF6\",\"gridcolor\":\"white\",\"linecolor\":\"white\",\"showbackground\":true,\"ticks\":\"\",\"zerolinecolor\":\"white\",\"gridwidth\":2},\"zaxis\":{\"backgroundcolor\":\"#E5ECF6\",\"gridcolor\":\"white\",\"linecolor\":\"white\",\"showbackground\":true,\"ticks\":\"\",\"zerolinecolor\":\"white\",\"gridwidth\":2}},\"shapedefaults\":{\"line\":{\"color\":\"#2a3f5f\"}},\"annotationdefaults\":{\"arrowcolor\":\"#2a3f5f\",\"arrowhead\":0,\"arrowwidth\":1},\"geo\":{\"bgcolor\":\"white\",\"landcolor\":\"#E5ECF6\",\"subunitcolor\":\"white\",\"showland\":true,\"showlakes\":true,\"lakecolor\":\"white\"},\"title\":{\"x\":0.05},\"mapbox\":{\"style\":\"light\"}}},\"xaxis\":{\"anchor\":\"y\",\"domain\":[0.0,1.0],\"title\":{\"text\":\"Defense\"}},\"yaxis\":{\"anchor\":\"x\",\"domain\":[0.0,1.0],\"title\":{\"text\":\"Type\"},\"categoryorder\":\"array\",\"categoryarray\":[\"steel\",\"dark\",\"dragon\",\"ice\",\"ghost\",\"rock\",\"psychic\",\"fighting\",\"fairy\",\"ground\",\"electric\",\"poison\",\"normal\",\"bug\",\"water\",\"fire\",\"grass\"]},\"legend\":{\"title\":{\"text\":\"Type\"},\"tracegroupgap\":0},\"title\":{\"text\":\"Defense Pokemons - Median\"},\"boxmode\":\"overlay\"},                        {\"responsive\": true}                    ).then(function(){\n",
              "                            \n",
              "var gd = document.getElementById('7a73e348-ae27-4128-8d42-197dc04d0b24');\n",
              "var x = new MutationObserver(function (mutations, observer) {{\n",
              "        var display = window.getComputedStyle(gd).display;\n",
              "        if (!display || display === 'none') {{\n",
              "            console.log([gd, 'removed!']);\n",
              "            Plotly.purge(gd);\n",
              "            observer.disconnect();\n",
              "        }}\n",
              "}});\n",
              "\n",
              "// Listen for the removal of the full notebook cells\n",
              "var notebookContainer = gd.closest('#notebook-container');\n",
              "if (notebookContainer) {{\n",
              "    x.observe(notebookContainer, {childList: true});\n",
              "}}\n",
              "\n",
              "// Listen for the clearing of the current output cell\n",
              "var outputEl = gd.closest('.output');\n",
              "if (outputEl) {{\n",
              "    x.observe(outputEl, {childList: true});\n",
              "}}\n",
              "\n",
              "                        })                };                            </script>        </div>\n",
              "</body>\n",
              "</html>"
            ]
          },
          "metadata": {}
        }
      ]
    },
    {
      "cell_type": "markdown",
      "source": [
        "## HP"
      ],
      "metadata": {
        "id": "ap8uUOknSFgO"
      }
    },
    {
      "cell_type": "code",
      "source": [
        "graph = px.box(df, x='HP', y='Type',points='all', title=\"HP Pokemons Type - Median\", color=\"Type\")\n",
        "\n",
        "graph"
      ],
      "metadata": {
        "colab": {
          "base_uri": "https://localhost:8080/",
          "height": 542
        },
        "id": "fyTgqCMeSFJT",
        "outputId": "09b88464-fd76-452a-90e1-b5da7773a049"
      },
      "execution_count": 337,
      "outputs": [
        {
          "output_type": "display_data",
          "data": {
            "text/html": [
              "<html>\n",
              "<head><meta charset=\"utf-8\" /></head>\n",
              "<body>\n",
              "    <div>            <script src=\"https://cdnjs.cloudflare.com/ajax/libs/mathjax/2.7.5/MathJax.js?config=TeX-AMS-MML_SVG\"></script><script type=\"text/javascript\">if (window.MathJax && window.MathJax.Hub && window.MathJax.Hub.Config) {window.MathJax.Hub.Config({SVG: {font: \"STIX-Web\"}});}</script>                <script type=\"text/javascript\">window.PlotlyConfig = {MathJaxConfig: 'local'};</script>\n",
              "        <script charset=\"utf-8\" src=\"https://cdn.plot.ly/plotly-2.24.1.min.js\"></script>                <div id=\"86d4cd87-d745-4d10-a5fb-464869d01fd7\" class=\"plotly-graph-div\" style=\"height:525px; width:100%;\"></div>            <script type=\"text/javascript\">                                    window.PLOTLYENV=window.PLOTLYENV || {};                                    if (document.getElementById(\"86d4cd87-d745-4d10-a5fb-464869d01fd7\")) {                    Plotly.newPlot(                        \"86d4cd87-d745-4d10-a5fb-464869d01fd7\",                        [{\"alignmentgroup\":\"True\",\"boxpoints\":\"all\",\"hovertemplate\":\"Type=%{y}\\u003cbr\\u003eHP=%{x}\\u003cextra\\u003e\\u003c\\u002fextra\\u003e\",\"legendgroup\":\"grass\",\"marker\":{\"color\":\"#636efa\"},\"name\":\"grass\",\"notched\":false,\"offsetgroup\":\"grass\",\"orientation\":\"h\",\"showlegend\":true,\"x\":[45,60,80,45,60,75,50,65,80,60,95,65,45,60,80,75,35,55,75,30,75,40,50,70,40,70,90,60,60,50,50,70,99,55,75,95,40,60,45,70,74,60,90,100,65,100],\"x0\":\" \",\"xaxis\":\"x\",\"y\":[\"grass\",\"grass\",\"grass\",\"grass\",\"grass\",\"grass\",\"grass\",\"grass\",\"grass\",\"grass\",\"grass\",\"grass\",\"grass\",\"grass\",\"grass\",\"grass\",\"grass\",\"grass\",\"grass\",\"grass\",\"grass\",\"grass\",\"grass\",\"grass\",\"grass\",\"grass\",\"grass\",\"grass\",\"grass\",\"grass\",\"grass\",\"grass\",\"grass\",\"grass\",\"grass\",\"grass\",\"grass\",\"grass\",\"grass\",\"grass\",\"grass\",\"grass\",\"grass\",\"grass\",\"grass\",\"grass\"],\"y0\":\" \",\"yaxis\":\"y\",\"type\":\"box\"},{\"alignmentgroup\":\"True\",\"boxpoints\":\"all\",\"hovertemplate\":\"Type=%{y}\\u003cbr\\u003eHP=%{x}\\u003cextra\\u003e\\u003c\\u002fextra\\u003e\",\"legendgroup\":\"fire\",\"marker\":{\"color\":\"#EF553B\"},\"name\":\"fire\",\"notched\":false,\"offsetgroup\":\"fire\",\"orientation\":\"h\",\"showlegend\":true,\"x\":[39,58,78,38,73,55,90,50,65,65,65,90,39,58,78,40,60,45,115,106,45,60,80,60,70,70,44,64,76,75,91],\"x0\":\" \",\"xaxis\":\"x\",\"y\":[\"fire\",\"fire\",\"fire\",\"fire\",\"fire\",\"fire\",\"fire\",\"fire\",\"fire\",\"fire\",\"fire\",\"fire\",\"fire\",\"fire\",\"fire\",\"fire\",\"fire\",\"fire\",\"fire\",\"fire\",\"fire\",\"fire\",\"fire\",\"fire\",\"fire\",\"fire\",\"fire\",\"fire\",\"fire\",\"fire\",\"fire\"],\"y0\":\" \",\"yaxis\":\"y\",\"type\":\"box\"},{\"alignmentgroup\":\"True\",\"boxpoints\":\"all\",\"hovertemplate\":\"Type=%{y}\\u003cbr\\u003eHP=%{x}\\u003cextra\\u003e\\u003c\\u002fextra\\u003e\",\"legendgroup\":\"water\",\"marker\":{\"color\":\"#00cc96\"},\"name\":\"water\",\"notched\":false,\"offsetgroup\":\"water\",\"orientation\":\"h\",\"showlegend\":true,\"x\":[44,59,79,50,80,40,65,90,40,80,90,95,65,90,30,50,30,55,30,55,45,80,30,60,20,95,130,130,50,65,85,75,125,70,100,90,55,95,95,65,65,35,75,85,75,100,50,70,100,40,60,80,40,60,45,70,130,170,50,110,43,63,20,95,35,55,55,100,43,100,53,64,84,55,85,76,111,49,69,45,90,80,100],\"x0\":\" \",\"xaxis\":\"x\",\"y\":[\"water\",\"water\",\"water\",\"water\",\"water\",\"water\",\"water\",\"water\",\"water\",\"water\",\"water\",\"water\",\"water\",\"water\",\"water\",\"water\",\"water\",\"water\",\"water\",\"water\",\"water\",\"water\",\"water\",\"water\",\"water\",\"water\",\"water\",\"water\",\"water\",\"water\",\"water\",\"water\",\"water\",\"water\",\"water\",\"water\",\"water\",\"water\",\"water\",\"water\",\"water\",\"water\",\"water\",\"water\",\"water\",\"water\",\"water\",\"water\",\"water\",\"water\",\"water\",\"water\",\"water\",\"water\",\"water\",\"water\",\"water\",\"water\",\"water\",\"water\",\"water\",\"water\",\"water\",\"water\",\"water\",\"water\",\"water\",\"water\",\"water\",\"water\",\"water\",\"water\",\"water\",\"water\",\"water\",\"water\",\"water\",\"water\",\"water\",\"water\",\"water\",\"water\",\"water\"],\"y0\":\" \",\"yaxis\":\"y\",\"type\":\"box\"},{\"alignmentgroup\":\"True\",\"boxpoints\":\"all\",\"hovertemplate\":\"Type=%{y}\\u003cbr\\u003eHP=%{x}\\u003cextra\\u003e\\u003c\\u002fextra\\u003e\",\"legendgroup\":\"bug\",\"marker\":{\"color\":\"#ab63fa\"},\"name\":\"bug\",\"notched\":false,\"offsetgroup\":\"bug\",\"orientation\":\"h\",\"showlegend\":true,\"x\":[45,50,60,40,45,65,35,60,60,70,70,65,40,55,40,70,65,50,75,70,20,80,45,50,60,50,60,40,70,31,61,1,65,65,37,77,40,60,70,30,70,86],\"x0\":\" \",\"xaxis\":\"x\",\"y\":[\"bug\",\"bug\",\"bug\",\"bug\",\"bug\",\"bug\",\"bug\",\"bug\",\"bug\",\"bug\",\"bug\",\"bug\",\"bug\",\"bug\",\"bug\",\"bug\",\"bug\",\"bug\",\"bug\",\"bug\",\"bug\",\"bug\",\"bug\",\"bug\",\"bug\",\"bug\",\"bug\",\"bug\",\"bug\",\"bug\",\"bug\",\"bug\",\"bug\",\"bug\",\"bug\",\"bug\",\"bug\",\"bug\",\"bug\",\"bug\",\"bug\",\"bug\"],\"y0\":\" \",\"yaxis\":\"y\",\"type\":\"box\"},{\"alignmentgroup\":\"True\",\"boxpoints\":\"all\",\"hovertemplate\":\"Type=%{y}\\u003cbr\\u003eHP=%{x}\\u003cextra\\u003e\\u003c\\u002fextra\\u003e\",\"legendgroup\":\"normal\",\"marker\":{\"color\":\"#FFA15A\"},\"name\":\"normal\",\"notched\":false,\"offsetgroup\":\"normal\",\"orientation\":\"h\",\"showlegend\":true,\"x\":[40,63,83,30,55,40,65,115,140,40,65,52,35,60,90,250,105,75,48,55,65,160,35,85,60,100,90,55,70,100,60,90,85,73,55,95,255,38,78,40,60,60,80,150,64,84,104,50,50,70,60,45,73,70,60,40,55,85,59,79,75,55,65,49,71,100,76,135,110,85,110],\"x0\":\" \",\"xaxis\":\"x\",\"y\":[\"normal\",\"normal\",\"normal\",\"normal\",\"normal\",\"normal\",\"normal\",\"normal\",\"normal\",\"normal\",\"normal\",\"normal\",\"normal\",\"normal\",\"normal\",\"normal\",\"normal\",\"normal\",\"normal\",\"normal\",\"normal\",\"normal\",\"normal\",\"normal\",\"normal\",\"normal\",\"normal\",\"normal\",\"normal\",\"normal\",\"normal\",\"normal\",\"normal\",\"normal\",\"normal\",\"normal\",\"normal\",\"normal\",\"normal\",\"normal\",\"normal\",\"normal\",\"normal\",\"normal\",\"normal\",\"normal\",\"normal\",\"normal\",\"normal\",\"normal\",\"normal\",\"normal\",\"normal\",\"normal\",\"normal\",\"normal\",\"normal\",\"normal\",\"normal\",\"normal\",\"normal\",\"normal\",\"normal\",\"normal\",\"normal\",\"normal\",\"normal\",\"normal\",\"normal\",\"normal\",\"normal\"],\"y0\":\" \",\"yaxis\":\"y\",\"type\":\"box\"},{\"alignmentgroup\":\"True\",\"boxpoints\":\"all\",\"hovertemplate\":\"Type=%{y}\\u003cbr\\u003eHP=%{x}\\u003cextra\\u003e\\u003c\\u002fextra\\u003e\",\"legendgroup\":\"poison\",\"marker\":{\"color\":\"#19d3f3\"},\"name\":\"poison\",\"notched\":false,\"offsetgroup\":\"poison\",\"orientation\":\"h\",\"showlegend\":true,\"x\":[35,60,55,70,90,46,61,81,40,75,80,105,40,65,85,70,100,73,63,103,40,70,48,83],\"x0\":\" \",\"xaxis\":\"x\",\"y\":[\"poison\",\"poison\",\"poison\",\"poison\",\"poison\",\"poison\",\"poison\",\"poison\",\"poison\",\"poison\",\"poison\",\"poison\",\"poison\",\"poison\",\"poison\",\"poison\",\"poison\",\"poison\",\"poison\",\"poison\",\"poison\",\"poison\",\"poison\",\"poison\"],\"y0\":\" \",\"yaxis\":\"y\",\"type\":\"box\"},{\"alignmentgroup\":\"True\",\"boxpoints\":\"all\",\"hovertemplate\":\"Type=%{y}\\u003cbr\\u003eHP=%{x}\\u003cextra\\u003e\\u003c\\u002fextra\\u003e\",\"legendgroup\":\"electric\",\"marker\":{\"color\":\"#FF6692\"},\"name\":\"electric\",\"notched\":false,\"offsetgroup\":\"electric\",\"orientation\":\"h\",\"showlegend\":true,\"x\":[35,60,25,50,40,60,65,65,90,20,55,70,90,45,90,40,70,60,60,45,60,80,60,70,75,50],\"x0\":\" \",\"xaxis\":\"x\",\"y\":[\"electric\",\"electric\",\"electric\",\"electric\",\"electric\",\"electric\",\"electric\",\"electric\",\"electric\",\"electric\",\"electric\",\"electric\",\"electric\",\"electric\",\"electric\",\"electric\",\"electric\",\"electric\",\"electric\",\"electric\",\"electric\",\"electric\",\"electric\",\"electric\",\"electric\",\"electric\"],\"y0\":\" \",\"yaxis\":\"y\",\"type\":\"box\"},{\"alignmentgroup\":\"True\",\"boxpoints\":\"all\",\"hovertemplate\":\"Type=%{y}\\u003cbr\\u003eHP=%{x}\\u003cextra\\u003e\\u003c\\u002fextra\\u003e\",\"legendgroup\":\"ground\",\"marker\":{\"color\":\"#B6E880\"},\"name\":\"ground\",\"notched\":false,\"offsetgroup\":\"ground\",\"orientation\":\"h\",\"showlegend\":true,\"x\":[50,75,10,35,50,60,80,105,65,90,90,45,50,80,40,60,100,68,108,115,75],\"x0\":\" \",\"xaxis\":\"x\",\"y\":[\"ground\",\"ground\",\"ground\",\"ground\",\"ground\",\"ground\",\"ground\",\"ground\",\"ground\",\"ground\",\"ground\",\"ground\",\"ground\",\"ground\",\"ground\",\"ground\",\"ground\",\"ground\",\"ground\",\"ground\",\"ground\"],\"y0\":\" \",\"yaxis\":\"y\",\"type\":\"box\"},{\"alignmentgroup\":\"True\",\"boxpoints\":\"all\",\"hovertemplate\":\"Type=%{y}\\u003cbr\\u003eHP=%{x}\\u003cextra\\u003e\\u003c\\u002fextra\\u003e\",\"legendgroup\":\"fairy\",\"marker\":{\"color\":\"#FF97FF\"},\"name\":\"fairy\",\"notched\":false,\"offsetgroup\":\"fairy\",\"orientation\":\"h\",\"showlegend\":true,\"x\":[70,95,50,35,55,60,90,85],\"x0\":\" \",\"xaxis\":\"x\",\"y\":[\"fairy\",\"fairy\",\"fairy\",\"fairy\",\"fairy\",\"fairy\",\"fairy\",\"fairy\"],\"y0\":\" \",\"yaxis\":\"y\",\"type\":\"box\"},{\"alignmentgroup\":\"True\",\"boxpoints\":\"all\",\"hovertemplate\":\"Type=%{y}\\u003cbr\\u003eHP=%{x}\\u003cextra\\u003e\\u003c\\u002fextra\\u003e\",\"legendgroup\":\"fighting\",\"marker\":{\"color\":\"#FECB52\"},\"name\":\"fighting\",\"notched\":false,\"offsetgroup\":\"fighting\",\"orientation\":\"h\",\"showlegend\":true,\"x\":[40,65,70,80,90,50,50,35,50,72,144,30,60,40,70],\"x0\":\" \",\"xaxis\":\"x\",\"y\":[\"fighting\",\"fighting\",\"fighting\",\"fighting\",\"fighting\",\"fighting\",\"fighting\",\"fighting\",\"fighting\",\"fighting\",\"fighting\",\"fighting\",\"fighting\",\"fighting\",\"fighting\"],\"y0\":\" \",\"yaxis\":\"y\",\"type\":\"box\"},{\"alignmentgroup\":\"True\",\"boxpoints\":\"all\",\"hovertemplate\":\"Type=%{y}\\u003cbr\\u003eHP=%{x}\\u003cextra\\u003e\\u003c\\u002fextra\\u003e\",\"legendgroup\":\"psychic\",\"marker\":{\"color\":\"#636efa\"},\"name\":\"psychic\",\"notched\":false,\"offsetgroup\":\"psychic\",\"orientation\":\"h\",\"showlegend\":true,\"x\":[25,40,55,60,85,40,106,100,40,65,65,48,190,106,100,28,38,68,60,80,75,95,50,45,20,68,75,80,75,120],\"x0\":\" \",\"xaxis\":\"x\",\"y\":[\"psychic\",\"psychic\",\"psychic\",\"psychic\",\"psychic\",\"psychic\",\"psychic\",\"psychic\",\"psychic\",\"psychic\",\"psychic\",\"psychic\",\"psychic\",\"psychic\",\"psychic\",\"psychic\",\"psychic\",\"psychic\",\"psychic\",\"psychic\",\"psychic\",\"psychic\",\"psychic\",\"psychic\",\"psychic\",\"psychic\",\"psychic\",\"psychic\",\"psychic\",\"psychic\"],\"y0\":\" \",\"yaxis\":\"y\",\"type\":\"box\"},{\"alignmentgroup\":\"True\",\"boxpoints\":\"all\",\"hovertemplate\":\"Type=%{y}\\u003cbr\\u003eHP=%{x}\\u003cextra\\u003e\\u003c\\u002fextra\\u003e\",\"legendgroup\":\"rock\",\"marker\":{\"color\":\"#EF553B\"},\"name\":\"rock\",\"notched\":false,\"offsetgroup\":\"rock\",\"orientation\":\"h\",\"showlegend\":true,\"x\":[40,55,80,35,35,70,30,60,80,70,50,70,100,30,90,90,66,86,45,75,80,67,97,30,60,50,60],\"x0\":\" \",\"xaxis\":\"x\",\"y\":[\"rock\",\"rock\",\"rock\",\"rock\",\"rock\",\"rock\",\"rock\",\"rock\",\"rock\",\"rock\",\"rock\",\"rock\",\"rock\",\"rock\",\"rock\",\"rock\",\"rock\",\"rock\",\"rock\",\"rock\",\"rock\",\"rock\",\"rock\",\"rock\",\"rock\",\"rock\",\"rock\"],\"y0\":\" \",\"yaxis\":\"y\",\"type\":\"box\"},{\"alignmentgroup\":\"True\",\"boxpoints\":\"all\",\"hovertemplate\":\"Type=%{y}\\u003cbr\\u003eHP=%{x}\\u003cextra\\u003e\\u003c\\u002fextra\\u003e\",\"legendgroup\":\"ghost\",\"marker\":{\"color\":\"#00cc96\"},\"name\":\"ghost\",\"notched\":false,\"offsetgroup\":\"ghost\",\"orientation\":\"h\",\"showlegend\":true,\"x\":[30,45,60,60,44,64,20,40,90,150,60,50,45,150],\"x0\":\" \",\"xaxis\":\"x\",\"y\":[\"ghost\",\"ghost\",\"ghost\",\"ghost\",\"ghost\",\"ghost\",\"ghost\",\"ghost\",\"ghost\",\"ghost\",\"ghost\",\"ghost\",\"ghost\",\"ghost\"],\"y0\":\" \",\"yaxis\":\"y\",\"type\":\"box\"},{\"alignmentgroup\":\"True\",\"boxpoints\":\"all\",\"hovertemplate\":\"Type=%{y}\\u003cbr\\u003eHP=%{x}\\u003cextra\\u003e\\u003c\\u002fextra\\u003e\",\"legendgroup\":\"ice\",\"marker\":{\"color\":\"#ab63fa\"},\"name\":\"ice\",\"notched\":false,\"offsetgroup\":\"ice\",\"orientation\":\"h\",\"showlegend\":true,\"x\":[65,90,50,100,45,45,50,80,70,90,110,80,65,110,70],\"x0\":\" \",\"xaxis\":\"x\",\"y\":[\"ice\",\"ice\",\"ice\",\"ice\",\"ice\",\"ice\",\"ice\",\"ice\",\"ice\",\"ice\",\"ice\",\"ice\",\"ice\",\"ice\",\"ice\"],\"y0\":\" \",\"yaxis\":\"y\",\"type\":\"box\"},{\"alignmentgroup\":\"True\",\"boxpoints\":\"all\",\"hovertemplate\":\"Type=%{y}\\u003cbr\\u003eHP=%{x}\\u003cextra\\u003e\\u003c\\u002fextra\\u003e\",\"legendgroup\":\"dragon\",\"marker\":{\"color\":\"#FFA15A\"},\"name\":\"dragon\",\"notched\":false,\"offsetgroup\":\"dragon\",\"orientation\":\"h\",\"showlegend\":true,\"x\":[41,61,91,75,45,65,95,80,80,105,58,68,108],\"x0\":\" \",\"xaxis\":\"x\",\"y\":[\"dragon\",\"dragon\",\"dragon\",\"dragon\",\"dragon\",\"dragon\",\"dragon\",\"dragon\",\"dragon\",\"dragon\",\"dragon\",\"dragon\",\"dragon\"],\"y0\":\" \",\"yaxis\":\"y\",\"type\":\"box\"},{\"alignmentgroup\":\"True\",\"boxpoints\":\"all\",\"hovertemplate\":\"Type=%{y}\\u003cbr\\u003eHP=%{x}\\u003cextra\\u003e\\u003c\\u002fextra\\u003e\",\"legendgroup\":\"dark\",\"marker\":{\"color\":\"#19d3f3\"},\"name\":\"dark\",\"notched\":false,\"offsetgroup\":\"dark\",\"orientation\":\"h\",\"showlegend\":true,\"x\":[95,60,55,45,75,35,70,50,65,100,70,70],\"x0\":\" \",\"xaxis\":\"x\",\"y\":[\"dark\",\"dark\",\"dark\",\"dark\",\"dark\",\"dark\",\"dark\",\"dark\",\"dark\",\"dark\",\"dark\",\"dark\"],\"y0\":\" \",\"yaxis\":\"y\",\"type\":\"box\"},{\"alignmentgroup\":\"True\",\"boxpoints\":\"all\",\"hovertemplate\":\"Type=%{y}\\u003cbr\\u003eHP=%{x}\\u003cextra\\u003e\\u003c\\u002fextra\\u003e\",\"legendgroup\":\"steel\",\"marker\":{\"color\":\"#FF6692\"},\"name\":\"steel\",\"notched\":false,\"offsetgroup\":\"steel\",\"orientation\":\"h\",\"showlegend\":true,\"x\":[75,65,50,50,60,70,40,60,80,80,100,57,67,100],\"x0\":\" \",\"xaxis\":\"x\",\"y\":[\"steel\",\"steel\",\"steel\",\"steel\",\"steel\",\"steel\",\"steel\",\"steel\",\"steel\",\"steel\",\"steel\",\"steel\",\"steel\",\"steel\"],\"y0\":\" \",\"yaxis\":\"y\",\"type\":\"box\"}],                        {\"template\":{\"data\":{\"histogram2dcontour\":[{\"type\":\"histogram2dcontour\",\"colorbar\":{\"outlinewidth\":0,\"ticks\":\"\"},\"colorscale\":[[0.0,\"#0d0887\"],[0.1111111111111111,\"#46039f\"],[0.2222222222222222,\"#7201a8\"],[0.3333333333333333,\"#9c179e\"],[0.4444444444444444,\"#bd3786\"],[0.5555555555555556,\"#d8576b\"],[0.6666666666666666,\"#ed7953\"],[0.7777777777777778,\"#fb9f3a\"],[0.8888888888888888,\"#fdca26\"],[1.0,\"#f0f921\"]]}],\"choropleth\":[{\"type\":\"choropleth\",\"colorbar\":{\"outlinewidth\":0,\"ticks\":\"\"}}],\"histogram2d\":[{\"type\":\"histogram2d\",\"colorbar\":{\"outlinewidth\":0,\"ticks\":\"\"},\"colorscale\":[[0.0,\"#0d0887\"],[0.1111111111111111,\"#46039f\"],[0.2222222222222222,\"#7201a8\"],[0.3333333333333333,\"#9c179e\"],[0.4444444444444444,\"#bd3786\"],[0.5555555555555556,\"#d8576b\"],[0.6666666666666666,\"#ed7953\"],[0.7777777777777778,\"#fb9f3a\"],[0.8888888888888888,\"#fdca26\"],[1.0,\"#f0f921\"]]}],\"heatmap\":[{\"type\":\"heatmap\",\"colorbar\":{\"outlinewidth\":0,\"ticks\":\"\"},\"colorscale\":[[0.0,\"#0d0887\"],[0.1111111111111111,\"#46039f\"],[0.2222222222222222,\"#7201a8\"],[0.3333333333333333,\"#9c179e\"],[0.4444444444444444,\"#bd3786\"],[0.5555555555555556,\"#d8576b\"],[0.6666666666666666,\"#ed7953\"],[0.7777777777777778,\"#fb9f3a\"],[0.8888888888888888,\"#fdca26\"],[1.0,\"#f0f921\"]]}],\"heatmapgl\":[{\"type\":\"heatmapgl\",\"colorbar\":{\"outlinewidth\":0,\"ticks\":\"\"},\"colorscale\":[[0.0,\"#0d0887\"],[0.1111111111111111,\"#46039f\"],[0.2222222222222222,\"#7201a8\"],[0.3333333333333333,\"#9c179e\"],[0.4444444444444444,\"#bd3786\"],[0.5555555555555556,\"#d8576b\"],[0.6666666666666666,\"#ed7953\"],[0.7777777777777778,\"#fb9f3a\"],[0.8888888888888888,\"#fdca26\"],[1.0,\"#f0f921\"]]}],\"contourcarpet\":[{\"type\":\"contourcarpet\",\"colorbar\":{\"outlinewidth\":0,\"ticks\":\"\"}}],\"contour\":[{\"type\":\"contour\",\"colorbar\":{\"outlinewidth\":0,\"ticks\":\"\"},\"colorscale\":[[0.0,\"#0d0887\"],[0.1111111111111111,\"#46039f\"],[0.2222222222222222,\"#7201a8\"],[0.3333333333333333,\"#9c179e\"],[0.4444444444444444,\"#bd3786\"],[0.5555555555555556,\"#d8576b\"],[0.6666666666666666,\"#ed7953\"],[0.7777777777777778,\"#fb9f3a\"],[0.8888888888888888,\"#fdca26\"],[1.0,\"#f0f921\"]]}],\"surface\":[{\"type\":\"surface\",\"colorbar\":{\"outlinewidth\":0,\"ticks\":\"\"},\"colorscale\":[[0.0,\"#0d0887\"],[0.1111111111111111,\"#46039f\"],[0.2222222222222222,\"#7201a8\"],[0.3333333333333333,\"#9c179e\"],[0.4444444444444444,\"#bd3786\"],[0.5555555555555556,\"#d8576b\"],[0.6666666666666666,\"#ed7953\"],[0.7777777777777778,\"#fb9f3a\"],[0.8888888888888888,\"#fdca26\"],[1.0,\"#f0f921\"]]}],\"mesh3d\":[{\"type\":\"mesh3d\",\"colorbar\":{\"outlinewidth\":0,\"ticks\":\"\"}}],\"scatter\":[{\"fillpattern\":{\"fillmode\":\"overlay\",\"size\":10,\"solidity\":0.2},\"type\":\"scatter\"}],\"parcoords\":[{\"type\":\"parcoords\",\"line\":{\"colorbar\":{\"outlinewidth\":0,\"ticks\":\"\"}}}],\"scatterpolargl\":[{\"type\":\"scatterpolargl\",\"marker\":{\"colorbar\":{\"outlinewidth\":0,\"ticks\":\"\"}}}],\"bar\":[{\"error_x\":{\"color\":\"#2a3f5f\"},\"error_y\":{\"color\":\"#2a3f5f\"},\"marker\":{\"line\":{\"color\":\"#E5ECF6\",\"width\":0.5},\"pattern\":{\"fillmode\":\"overlay\",\"size\":10,\"solidity\":0.2}},\"type\":\"bar\"}],\"scattergeo\":[{\"type\":\"scattergeo\",\"marker\":{\"colorbar\":{\"outlinewidth\":0,\"ticks\":\"\"}}}],\"scatterpolar\":[{\"type\":\"scatterpolar\",\"marker\":{\"colorbar\":{\"outlinewidth\":0,\"ticks\":\"\"}}}],\"histogram\":[{\"marker\":{\"pattern\":{\"fillmode\":\"overlay\",\"size\":10,\"solidity\":0.2}},\"type\":\"histogram\"}],\"scattergl\":[{\"type\":\"scattergl\",\"marker\":{\"colorbar\":{\"outlinewidth\":0,\"ticks\":\"\"}}}],\"scatter3d\":[{\"type\":\"scatter3d\",\"line\":{\"colorbar\":{\"outlinewidth\":0,\"ticks\":\"\"}},\"marker\":{\"colorbar\":{\"outlinewidth\":0,\"ticks\":\"\"}}}],\"scattermapbox\":[{\"type\":\"scattermapbox\",\"marker\":{\"colorbar\":{\"outlinewidth\":0,\"ticks\":\"\"}}}],\"scatterternary\":[{\"type\":\"scatterternary\",\"marker\":{\"colorbar\":{\"outlinewidth\":0,\"ticks\":\"\"}}}],\"scattercarpet\":[{\"type\":\"scattercarpet\",\"marker\":{\"colorbar\":{\"outlinewidth\":0,\"ticks\":\"\"}}}],\"carpet\":[{\"aaxis\":{\"endlinecolor\":\"#2a3f5f\",\"gridcolor\":\"white\",\"linecolor\":\"white\",\"minorgridcolor\":\"white\",\"startlinecolor\":\"#2a3f5f\"},\"baxis\":{\"endlinecolor\":\"#2a3f5f\",\"gridcolor\":\"white\",\"linecolor\":\"white\",\"minorgridcolor\":\"white\",\"startlinecolor\":\"#2a3f5f\"},\"type\":\"carpet\"}],\"table\":[{\"cells\":{\"fill\":{\"color\":\"#EBF0F8\"},\"line\":{\"color\":\"white\"}},\"header\":{\"fill\":{\"color\":\"#C8D4E3\"},\"line\":{\"color\":\"white\"}},\"type\":\"table\"}],\"barpolar\":[{\"marker\":{\"line\":{\"color\":\"#E5ECF6\",\"width\":0.5},\"pattern\":{\"fillmode\":\"overlay\",\"size\":10,\"solidity\":0.2}},\"type\":\"barpolar\"}],\"pie\":[{\"automargin\":true,\"type\":\"pie\"}]},\"layout\":{\"autotypenumbers\":\"strict\",\"colorway\":[\"#636efa\",\"#EF553B\",\"#00cc96\",\"#ab63fa\",\"#FFA15A\",\"#19d3f3\",\"#FF6692\",\"#B6E880\",\"#FF97FF\",\"#FECB52\"],\"font\":{\"color\":\"#2a3f5f\"},\"hovermode\":\"closest\",\"hoverlabel\":{\"align\":\"left\"},\"paper_bgcolor\":\"white\",\"plot_bgcolor\":\"#E5ECF6\",\"polar\":{\"bgcolor\":\"#E5ECF6\",\"angularaxis\":{\"gridcolor\":\"white\",\"linecolor\":\"white\",\"ticks\":\"\"},\"radialaxis\":{\"gridcolor\":\"white\",\"linecolor\":\"white\",\"ticks\":\"\"}},\"ternary\":{\"bgcolor\":\"#E5ECF6\",\"aaxis\":{\"gridcolor\":\"white\",\"linecolor\":\"white\",\"ticks\":\"\"},\"baxis\":{\"gridcolor\":\"white\",\"linecolor\":\"white\",\"ticks\":\"\"},\"caxis\":{\"gridcolor\":\"white\",\"linecolor\":\"white\",\"ticks\":\"\"}},\"coloraxis\":{\"colorbar\":{\"outlinewidth\":0,\"ticks\":\"\"}},\"colorscale\":{\"sequential\":[[0.0,\"#0d0887\"],[0.1111111111111111,\"#46039f\"],[0.2222222222222222,\"#7201a8\"],[0.3333333333333333,\"#9c179e\"],[0.4444444444444444,\"#bd3786\"],[0.5555555555555556,\"#d8576b\"],[0.6666666666666666,\"#ed7953\"],[0.7777777777777778,\"#fb9f3a\"],[0.8888888888888888,\"#fdca26\"],[1.0,\"#f0f921\"]],\"sequentialminus\":[[0.0,\"#0d0887\"],[0.1111111111111111,\"#46039f\"],[0.2222222222222222,\"#7201a8\"],[0.3333333333333333,\"#9c179e\"],[0.4444444444444444,\"#bd3786\"],[0.5555555555555556,\"#d8576b\"],[0.6666666666666666,\"#ed7953\"],[0.7777777777777778,\"#fb9f3a\"],[0.8888888888888888,\"#fdca26\"],[1.0,\"#f0f921\"]],\"diverging\":[[0,\"#8e0152\"],[0.1,\"#c51b7d\"],[0.2,\"#de77ae\"],[0.3,\"#f1b6da\"],[0.4,\"#fde0ef\"],[0.5,\"#f7f7f7\"],[0.6,\"#e6f5d0\"],[0.7,\"#b8e186\"],[0.8,\"#7fbc41\"],[0.9,\"#4d9221\"],[1,\"#276419\"]]},\"xaxis\":{\"gridcolor\":\"white\",\"linecolor\":\"white\",\"ticks\":\"\",\"title\":{\"standoff\":15},\"zerolinecolor\":\"white\",\"automargin\":true,\"zerolinewidth\":2},\"yaxis\":{\"gridcolor\":\"white\",\"linecolor\":\"white\",\"ticks\":\"\",\"title\":{\"standoff\":15},\"zerolinecolor\":\"white\",\"automargin\":true,\"zerolinewidth\":2},\"scene\":{\"xaxis\":{\"backgroundcolor\":\"#E5ECF6\",\"gridcolor\":\"white\",\"linecolor\":\"white\",\"showbackground\":true,\"ticks\":\"\",\"zerolinecolor\":\"white\",\"gridwidth\":2},\"yaxis\":{\"backgroundcolor\":\"#E5ECF6\",\"gridcolor\":\"white\",\"linecolor\":\"white\",\"showbackground\":true,\"ticks\":\"\",\"zerolinecolor\":\"white\",\"gridwidth\":2},\"zaxis\":{\"backgroundcolor\":\"#E5ECF6\",\"gridcolor\":\"white\",\"linecolor\":\"white\",\"showbackground\":true,\"ticks\":\"\",\"zerolinecolor\":\"white\",\"gridwidth\":2}},\"shapedefaults\":{\"line\":{\"color\":\"#2a3f5f\"}},\"annotationdefaults\":{\"arrowcolor\":\"#2a3f5f\",\"arrowhead\":0,\"arrowwidth\":1},\"geo\":{\"bgcolor\":\"white\",\"landcolor\":\"#E5ECF6\",\"subunitcolor\":\"white\",\"showland\":true,\"showlakes\":true,\"lakecolor\":\"white\"},\"title\":{\"x\":0.05},\"mapbox\":{\"style\":\"light\"}}},\"xaxis\":{\"anchor\":\"y\",\"domain\":[0.0,1.0],\"title\":{\"text\":\"HP\"}},\"yaxis\":{\"anchor\":\"x\",\"domain\":[0.0,1.0],\"title\":{\"text\":\"Type\"},\"categoryorder\":\"array\",\"categoryarray\":[\"steel\",\"dark\",\"dragon\",\"ice\",\"ghost\",\"rock\",\"psychic\",\"fighting\",\"fairy\",\"ground\",\"electric\",\"poison\",\"normal\",\"bug\",\"water\",\"fire\",\"grass\"]},\"legend\":{\"title\":{\"text\":\"Type\"},\"tracegroupgap\":0},\"title\":{\"text\":\"HP Pokemons Type - Median\"},\"boxmode\":\"overlay\"},                        {\"responsive\": true}                    ).then(function(){\n",
              "                            \n",
              "var gd = document.getElementById('86d4cd87-d745-4d10-a5fb-464869d01fd7');\n",
              "var x = new MutationObserver(function (mutations, observer) {{\n",
              "        var display = window.getComputedStyle(gd).display;\n",
              "        if (!display || display === 'none') {{\n",
              "            console.log([gd, 'removed!']);\n",
              "            Plotly.purge(gd);\n",
              "            observer.disconnect();\n",
              "        }}\n",
              "}});\n",
              "\n",
              "// Listen for the removal of the full notebook cells\n",
              "var notebookContainer = gd.closest('#notebook-container');\n",
              "if (notebookContainer) {{\n",
              "    x.observe(notebookContainer, {childList: true});\n",
              "}}\n",
              "\n",
              "// Listen for the clearing of the current output cell\n",
              "var outputEl = gd.closest('.output');\n",
              "if (outputEl) {{\n",
              "    x.observe(outputEl, {childList: true});\n",
              "}}\n",
              "\n",
              "                        })                };                            </script>        </div>\n",
              "</body>\n",
              "</html>"
            ]
          },
          "metadata": {}
        }
      ]
    },
    {
      "cell_type": "markdown",
      "source": [
        "## SPEED"
      ],
      "metadata": {
        "id": "7Q7tKIRpXKRS"
      }
    },
    {
      "cell_type": "code",
      "source": [
        "graph = px.box(df, x='Speed', y='Type',points='all', title=\"Speed Pokemons Type - Median\", color=\"Type\")\n",
        "\n",
        "graph"
      ],
      "metadata": {
        "colab": {
          "base_uri": "https://localhost:8080/",
          "height": 542
        },
        "id": "HdhXecV2XJX_",
        "outputId": "aa9e1c16-619c-4cf4-fcc3-278e70d2e96a"
      },
      "execution_count": 338,
      "outputs": [
        {
          "output_type": "display_data",
          "data": {
            "text/html": [
              "<html>\n",
              "<head><meta charset=\"utf-8\" /></head>\n",
              "<body>\n",
              "    <div>            <script src=\"https://cdnjs.cloudflare.com/ajax/libs/mathjax/2.7.5/MathJax.js?config=TeX-AMS-MML_SVG\"></script><script type=\"text/javascript\">if (window.MathJax && window.MathJax.Hub && window.MathJax.Hub.Config) {window.MathJax.Hub.Config({SVG: {font: \"STIX-Web\"}});}</script>                <script type=\"text/javascript\">window.PlotlyConfig = {MathJaxConfig: 'local'};</script>\n",
              "        <script charset=\"utf-8\" src=\"https://cdn.plot.ly/plotly-2.24.1.min.js\"></script>                <div id=\"67a15ac0-535d-4e8d-bdb0-617e221b6e43\" class=\"plotly-graph-div\" style=\"height:525px; width:100%;\"></div>            <script type=\"text/javascript\">                                    window.PLOTLYENV=window.PLOTLYENV || {};                                    if (document.getElementById(\"67a15ac0-535d-4e8d-bdb0-617e221b6e43\")) {                    Plotly.newPlot(                        \"67a15ac0-535d-4e8d-bdb0-617e221b6e43\",                        [{\"alignmentgroup\":\"True\",\"boxpoints\":\"all\",\"hovertemplate\":\"Type=%{y}\\u003cbr\\u003eSpeed=%{x}\\u003cextra\\u003e\\u003c\\u002fextra\\u003e\",\"legendgroup\":\"grass\",\"marker\":{\"color\":\"#636efa\"},\"name\":\"grass\",\"notched\":false,\"offsetgroup\":\"grass\",\"orientation\":\"h\",\"showlegend\":true,\"x\":[45,60,80,30,40,50,40,55,70,40,55,60,45,60,80,50,50,80,110,30,30,70,95,120,30,60,80,35,70,65,35,55,51,31,36,56,55,90,35,85,46,40,60,50,95,100],\"x0\":\" \",\"xaxis\":\"x\",\"y\":[\"grass\",\"grass\",\"grass\",\"grass\",\"grass\",\"grass\",\"grass\",\"grass\",\"grass\",\"grass\",\"grass\",\"grass\",\"grass\",\"grass\",\"grass\",\"grass\",\"grass\",\"grass\",\"grass\",\"grass\",\"grass\",\"grass\",\"grass\",\"grass\",\"grass\",\"grass\",\"grass\",\"grass\",\"grass\",\"grass\",\"grass\",\"grass\",\"grass\",\"grass\",\"grass\",\"grass\",\"grass\",\"grass\",\"grass\",\"grass\",\"grass\",\"grass\",\"grass\",\"grass\",\"grass\",\"grass\"],\"y0\":\" \",\"yaxis\":\"y\",\"type\":\"box\"},{\"alignmentgroup\":\"True\",\"boxpoints\":\"all\",\"hovertemplate\":\"Type=%{y}\\u003cbr\\u003eSpeed=%{x}\\u003cextra\\u003e\\u003c\\u002fextra\\u003e\",\"legendgroup\":\"fire\",\"marker\":{\"color\":\"#EF553B\"},\"name\":\"fire\",\"notched\":false,\"offsetgroup\":\"fire\",\"orientation\":\"h\",\"showlegend\":true,\"x\":[65,80,100,65,100,60,95,90,105,93,65,90,65,80,100,20,30,83,100,90,45,55,80,35,40,20,61,81,108,83,77],\"x0\":\" \",\"xaxis\":\"x\",\"y\":[\"fire\",\"fire\",\"fire\",\"fire\",\"fire\",\"fire\",\"fire\",\"fire\",\"fire\",\"fire\",\"fire\",\"fire\",\"fire\",\"fire\",\"fire\",\"fire\",\"fire\",\"fire\",\"fire\",\"fire\",\"fire\",\"fire\",\"fire\",\"fire\",\"fire\",\"fire\",\"fire\",\"fire\",\"fire\",\"fire\",\"fire\"],\"y0\":\" \",\"yaxis\":\"y\",\"type\":\"box\"},{\"alignmentgroup\":\"True\",\"boxpoints\":\"all\",\"hovertemplate\":\"Type=%{y}\\u003cbr\\u003eSpeed=%{x}\\u003cextra\\u003e\\u003c\\u002fextra\\u003e\",\"legendgroup\":\"water\",\"marker\":{\"color\":\"#00cc96\"},\"name\":\"water\",\"notched\":false,\"offsetgroup\":\"water\",\"orientation\":\"h\",\"showlegend\":true,\"x\":[43,58,78,55,85,90,90,70,70,100,15,30,45,70,40,70,50,75,60,85,63,68,85,115,80,81,60,65,43,58,78,67,67,40,50,70,15,35,30,85,35,65,45,70,85,85,40,50,60,30,50,70,85,65,65,95,60,60,60,60,35,55,80,81,32,52,52,55,97,90,40,50,60,85,115,34,39,66,91,50,100,80,100],\"x0\":\" \",\"xaxis\":\"x\",\"y\":[\"water\",\"water\",\"water\",\"water\",\"water\",\"water\",\"water\",\"water\",\"water\",\"water\",\"water\",\"water\",\"water\",\"water\",\"water\",\"water\",\"water\",\"water\",\"water\",\"water\",\"water\",\"water\",\"water\",\"water\",\"water\",\"water\",\"water\",\"water\",\"water\",\"water\",\"water\",\"water\",\"water\",\"water\",\"water\",\"water\",\"water\",\"water\",\"water\",\"water\",\"water\",\"water\",\"water\",\"water\",\"water\",\"water\",\"water\",\"water\",\"water\",\"water\",\"water\",\"water\",\"water\",\"water\",\"water\",\"water\",\"water\",\"water\",\"water\",\"water\",\"water\",\"water\",\"water\",\"water\",\"water\",\"water\",\"water\",\"water\",\"water\",\"water\",\"water\",\"water\",\"water\",\"water\",\"water\",\"water\",\"water\",\"water\",\"water\",\"water\",\"water\",\"water\",\"water\"],\"y0\":\" \",\"yaxis\":\"y\",\"type\":\"box\"},{\"alignmentgroup\":\"True\",\"boxpoints\":\"all\",\"hovertemplate\":\"Type=%{y}\\u003cbr\\u003eSpeed=%{x}\\u003cextra\\u003e\\u003c\\u002fextra\\u003e\",\"legendgroup\":\"bug\",\"marker\":{\"color\":\"#ab63fa\"},\"name\":\"bug\",\"notched\":false,\"offsetgroup\":\"bug\",\"orientation\":\"h\",\"showlegend\":true,\"x\":[45,30,70,50,35,75,25,30,45,90,105,85,55,85,30,40,95,15,40,65,5,85,20,15,65,15,65,65,80,40,160,40,85,85,25,65,36,36,66,70,40,95],\"x0\":\" \",\"xaxis\":\"x\",\"y\":[\"bug\",\"bug\",\"bug\",\"bug\",\"bug\",\"bug\",\"bug\",\"bug\",\"bug\",\"bug\",\"bug\",\"bug\",\"bug\",\"bug\",\"bug\",\"bug\",\"bug\",\"bug\",\"bug\",\"bug\",\"bug\",\"bug\",\"bug\",\"bug\",\"bug\",\"bug\",\"bug\",\"bug\",\"bug\",\"bug\",\"bug\",\"bug\",\"bug\",\"bug\",\"bug\",\"bug\",\"bug\",\"bug\",\"bug\",\"bug\",\"bug\",\"bug\"],\"y0\":\" \",\"yaxis\":\"y\",\"type\":\"box\"},{\"alignmentgroup\":\"True\",\"boxpoints\":\"all\",\"hovertemplate\":\"Type=%{y}\\u003cbr\\u003eSpeed=%{x}\\u003cextra\\u003e\\u003c\\u002fextra\\u003e\",\"legendgroup\":\"normal\",\"marker\":{\"color\":\"#FFA15A\"},\"name\":\"normal\",\"notched\":false,\"offsetgroup\":\"normal\",\"orientation\":\"h\",\"showlegend\":true,\"x\":[56,71,101,72,97,70,100,20,45,90,115,60,75,110,30,50,90,110,48,55,40,30,20,90,50,70,15,85,85,45,40,55,60,85,75,100,55,60,100,85,125,30,90,100,28,48,68,20,50,90,60,50,90,70,40,60,80,100,31,71,115,85,105,85,112,30,91,5,50,90,100],\"x0\":\" \",\"xaxis\":\"x\",\"y\":[\"normal\",\"normal\",\"normal\",\"normal\",\"normal\",\"normal\",\"normal\",\"normal\",\"normal\",\"normal\",\"normal\",\"normal\",\"normal\",\"normal\",\"normal\",\"normal\",\"normal\",\"normal\",\"normal\",\"normal\",\"normal\",\"normal\",\"normal\",\"normal\",\"normal\",\"normal\",\"normal\",\"normal\",\"normal\",\"normal\",\"normal\",\"normal\",\"normal\",\"normal\",\"normal\",\"normal\",\"normal\",\"normal\",\"normal\",\"normal\",\"normal\",\"normal\",\"normal\",\"normal\",\"normal\",\"normal\",\"normal\",\"normal\",\"normal\",\"normal\",\"normal\",\"normal\",\"normal\",\"normal\",\"normal\",\"normal\",\"normal\",\"normal\",\"normal\",\"normal\",\"normal\",\"normal\",\"normal\",\"normal\",\"normal\",\"normal\",\"normal\",\"normal\",\"normal\",\"normal\",\"normal\"],\"y0\":\" \",\"yaxis\":\"y\",\"type\":\"box\"},{\"alignmentgroup\":\"True\",\"boxpoints\":\"all\",\"hovertemplate\":\"Type=%{y}\\u003cbr\\u003eSpeed=%{x}\\u003cextra\\u003e\\u003c\\u002fextra\\u003e\",\"legendgroup\":\"poison\",\"marker\":{\"color\":\"#19d3f3\"},\"name\":\"poison\",\"notched\":false,\"offsetgroup\":\"poison\",\"orientation\":\"h\",\"showlegend\":true,\"x\":[55,80,41,56,76,50,65,85,55,90,25,50,35,60,130,40,55,65,74,84,65,95,50,85],\"x0\":\" \",\"xaxis\":\"x\",\"y\":[\"poison\",\"poison\",\"poison\",\"poison\",\"poison\",\"poison\",\"poison\",\"poison\",\"poison\",\"poison\",\"poison\",\"poison\",\"poison\",\"poison\",\"poison\",\"poison\",\"poison\",\"poison\",\"poison\",\"poison\",\"poison\",\"poison\",\"poison\",\"poison\"],\"y0\":\" \",\"yaxis\":\"y\",\"type\":\"box\"},{\"alignmentgroup\":\"True\",\"boxpoints\":\"all\",\"hovertemplate\":\"Type=%{y}\\u003cbr\\u003eSpeed=%{x}\\u003cextra\\u003e\\u003c\\u002fextra\\u003e\",\"legendgroup\":\"electric\",\"marker\":{\"color\":\"#FF6692\"},\"name\":\"electric\",\"notched\":false,\"offsetgroup\":\"electric\",\"orientation\":\"h\",\"showlegend\":true,\"x\":[90,110,45,70,100,150,105,130,100,60,35,45,55,95,115,65,105,95,95,45,60,70,95,60,95,91],\"x0\":\" \",\"xaxis\":\"x\",\"y\":[\"electric\",\"electric\",\"electric\",\"electric\",\"electric\",\"electric\",\"electric\",\"electric\",\"electric\",\"electric\",\"electric\",\"electric\",\"electric\",\"electric\",\"electric\",\"electric\",\"electric\",\"electric\",\"electric\",\"electric\",\"electric\",\"electric\",\"electric\",\"electric\",\"electric\",\"electric\"],\"y0\":\" \",\"yaxis\":\"y\",\"type\":\"box\"},{\"alignmentgroup\":\"True\",\"boxpoints\":\"all\",\"hovertemplate\":\"Type=%{y}\\u003cbr\\u003eSpeed=%{x}\\u003cextra\\u003e\\u003c\\u002fextra\\u003e\",\"legendgroup\":\"ground\",\"marker\":{\"color\":\"#B6E880\"},\"name\":\"ground\",\"notched\":false,\"offsetgroup\":\"ground\",\"orientation\":\"h\",\"showlegend\":true,\"x\":[40,65,95,120,35,45,25,40,85,40,50,10,70,100,55,75,90,32,47,40,95],\"x0\":\" \",\"xaxis\":\"x\",\"y\":[\"ground\",\"ground\",\"ground\",\"ground\",\"ground\",\"ground\",\"ground\",\"ground\",\"ground\",\"ground\",\"ground\",\"ground\",\"ground\",\"ground\",\"ground\",\"ground\",\"ground\",\"ground\",\"ground\",\"ground\",\"ground\"],\"y0\":\" \",\"yaxis\":\"y\",\"type\":\"box\"},{\"alignmentgroup\":\"True\",\"boxpoints\":\"all\",\"hovertemplate\":\"Type=%{y}\\u003cbr\\u003eSpeed=%{x}\\u003cextra\\u003e\\u003c\\u002fextra\\u003e\",\"legendgroup\":\"fairy\",\"marker\":{\"color\":\"#FF97FF\"},\"name\":\"fairy\",\"notched\":false,\"offsetgroup\":\"fairy\",\"orientation\":\"h\",\"showlegend\":true,\"x\":[35,60,15,20,40,30,45,80],\"x0\":\" \",\"xaxis\":\"x\",\"y\":[\"fairy\",\"fairy\",\"fairy\",\"fairy\",\"fairy\",\"fairy\",\"fairy\",\"fairy\"],\"y0\":\" \",\"yaxis\":\"y\",\"type\":\"box\"},{\"alignmentgroup\":\"True\",\"boxpoints\":\"all\",\"hovertemplate\":\"Type=%{y}\\u003cbr\\u003eSpeed=%{x}\\u003cextra\\u003e\\u003c\\u002fextra\\u003e\",\"legendgroup\":\"fighting\",\"marker\":{\"color\":\"#FECB52\"},\"name\":\"fighting\",\"notched\":false,\"offsetgroup\":\"fighting\",\"orientation\":\"h\",\"showlegend\":true,\"x\":[70,95,35,45,55,87,76,35,70,25,50,60,80,60,90],\"x0\":\" \",\"xaxis\":\"x\",\"y\":[\"fighting\",\"fighting\",\"fighting\",\"fighting\",\"fighting\",\"fighting\",\"fighting\",\"fighting\",\"fighting\",\"fighting\",\"fighting\",\"fighting\",\"fighting\",\"fighting\",\"fighting\"],\"y0\":\" \",\"yaxis\":\"y\",\"type\":\"box\"},{\"alignmentgroup\":\"True\",\"boxpoints\":\"all\",\"hovertemplate\":\"Type=%{y}\\u003cbr\\u003eSpeed=%{x}\\u003cextra\\u003e\\u003c\\u002fextra\\u003e\",\"legendgroup\":\"psychic\",\"marker\":{\"color\":\"#636efa\"},\"name\":\"psychic\",\"notched\":false,\"offsetgroup\":\"psychic\",\"orientation\":\"h\",\"showlegend\":true,\"x\":[90,105,120,42,67,90,130,100,70,95,110,48,33,110,100,40,50,80,60,80,65,23,150,45,60,80,95,80,115,85],\"x0\":\" \",\"xaxis\":\"x\",\"y\":[\"psychic\",\"psychic\",\"psychic\",\"psychic\",\"psychic\",\"psychic\",\"psychic\",\"psychic\",\"psychic\",\"psychic\",\"psychic\",\"psychic\",\"psychic\",\"psychic\",\"psychic\",\"psychic\",\"psychic\",\"psychic\",\"psychic\",\"psychic\",\"psychic\",\"psychic\",\"psychic\",\"psychic\",\"psychic\",\"psychic\",\"psychic\",\"psychic\",\"psychic\",\"psychic\"],\"y0\":\" \",\"yaxis\":\"y\",\"type\":\"box\"},{\"alignmentgroup\":\"True\",\"boxpoints\":\"all\",\"hovertemplate\":\"Type=%{y}\\u003cbr\\u003eSpeed=%{x}\\u003cextra\\u003e\\u003c\\u002fextra\\u003e\",\"legendgroup\":\"rock\",\"marker\":{\"color\":\"#EF553B\"},\"name\":\"rock\",\"notched\":false,\"offsetgroup\":\"rock\",\"orientation\":\"h\",\"showlegend\":true,\"x\":[20,35,45,70,35,55,55,80,130,30,41,51,61,30,70,70,23,43,75,45,50,58,58,30,30,10,40],\"x0\":\" \",\"xaxis\":\"x\",\"y\":[\"rock\",\"rock\",\"rock\",\"rock\",\"rock\",\"rock\",\"rock\",\"rock\",\"rock\",\"rock\",\"rock\",\"rock\",\"rock\",\"rock\",\"rock\",\"rock\",\"rock\",\"rock\",\"rock\",\"rock\",\"rock\",\"rock\",\"rock\",\"rock\",\"rock\",\"rock\",\"rock\"],\"y0\":\" \",\"yaxis\":\"y\",\"type\":\"box\"},{\"alignmentgroup\":\"True\",\"boxpoints\":\"all\",\"hovertemplate\":\"Type=%{y}\\u003cbr\\u003eSpeed=%{x}\\u003cextra\\u003e\\u003c\\u002fextra\\u003e\",\"legendgroup\":\"ghost\",\"marker\":{\"color\":\"#00cc96\"},\"name\":\"ghost\",\"notched\":false,\"offsetgroup\":\"ghost\",\"orientation\":\"h\",\"showlegend\":true,\"x\":[80,95,110,85,45,65,25,25,70,80,105,35,45,90],\"x0\":\" \",\"xaxis\":\"x\",\"y\":[\"ghost\",\"ghost\",\"ghost\",\"ghost\",\"ghost\",\"ghost\",\"ghost\",\"ghost\",\"ghost\",\"ghost\",\"ghost\",\"ghost\",\"ghost\",\"ghost\"],\"y0\":\" \",\"yaxis\":\"y\",\"type\":\"box\"},{\"alignmentgroup\":\"True\",\"boxpoints\":\"all\",\"hovertemplate\":\"Type=%{y}\\u003cbr\\u003eSpeed=%{x}\\u003cextra\\u003e\\u003c\\u002fextra\\u003e\",\"legendgroup\":\"ice\",\"marker\":{\"color\":\"#ab63fa\"},\"name\":\"ice\",\"notched\":false,\"offsetgroup\":\"ice\",\"orientation\":\"h\",\"showlegend\":true,\"x\":[95,85,50,50,75,65,50,80,25,45,65,50,65,80,110],\"x0\":\" \",\"xaxis\":\"x\",\"y\":[\"ice\",\"ice\",\"ice\",\"ice\",\"ice\",\"ice\",\"ice\",\"ice\",\"ice\",\"ice\",\"ice\",\"ice\",\"ice\",\"ice\",\"ice\"],\"y0\":\" \",\"yaxis\":\"y\",\"type\":\"box\"},{\"alignmentgroup\":\"True\",\"boxpoints\":\"all\",\"hovertemplate\":\"Type=%{y}\\u003cbr\\u003eSpeed=%{x}\\u003cextra\\u003e\\u003c\\u002fextra\\u003e\",\"legendgroup\":\"dragon\",\"marker\":{\"color\":\"#FFA15A\"},\"name\":\"dragon\",\"notched\":false,\"offsetgroup\":\"dragon\",\"orientation\":\"h\",\"showlegend\":true,\"x\":[50,70,80,80,50,50,100,110,110,95,42,82,102],\"x0\":\" \",\"xaxis\":\"x\",\"y\":[\"dragon\",\"dragon\",\"dragon\",\"dragon\",\"dragon\",\"dragon\",\"dragon\",\"dragon\",\"dragon\",\"dragon\",\"dragon\",\"dragon\",\"dragon\"],\"y0\":\" \",\"yaxis\":\"y\",\"type\":\"box\"},{\"alignmentgroup\":\"True\",\"boxpoints\":\"all\",\"hovertemplate\":\"Type=%{y}\\u003cbr\\u003eSpeed=%{x}\\u003cextra\\u003e\\u003c\\u002fextra\\u003e\",\"legendgroup\":\"dark\",\"marker\":{\"color\":\"#19d3f3\"},\"name\":\"dark\",\"notched\":false,\"offsetgroup\":\"dark\",\"orientation\":\"h\",\"showlegend\":true,\"x\":[65,91,115,65,95,35,70,50,75,71,125,125],\"x0\":\" \",\"xaxis\":\"x\",\"y\":[\"dark\",\"dark\",\"dark\",\"dark\",\"dark\",\"dark\",\"dark\",\"dark\",\"dark\",\"dark\",\"dark\",\"dark\"],\"y0\":\" \",\"yaxis\":\"y\",\"type\":\"box\"},{\"alignmentgroup\":\"True\",\"boxpoints\":\"all\",\"hovertemplate\":\"Type=%{y}\\u003cbr\\u003eSpeed=%{x}\\u003cextra\\u003e\\u003c\\u002fextra\\u003e\",\"legendgroup\":\"steel\",\"marker\":{\"color\":\"#FF6692\"},\"name\":\"steel\",\"notched\":false,\"offsetgroup\":\"steel\",\"orientation\":\"h\",\"showlegend\":true,\"x\":[30,70,50,30,40,50,30,50,70,50,100,23,33,90],\"x0\":\" \",\"xaxis\":\"x\",\"y\":[\"steel\",\"steel\",\"steel\",\"steel\",\"steel\",\"steel\",\"steel\",\"steel\",\"steel\",\"steel\",\"steel\",\"steel\",\"steel\",\"steel\"],\"y0\":\" \",\"yaxis\":\"y\",\"type\":\"box\"}],                        {\"template\":{\"data\":{\"histogram2dcontour\":[{\"type\":\"histogram2dcontour\",\"colorbar\":{\"outlinewidth\":0,\"ticks\":\"\"},\"colorscale\":[[0.0,\"#0d0887\"],[0.1111111111111111,\"#46039f\"],[0.2222222222222222,\"#7201a8\"],[0.3333333333333333,\"#9c179e\"],[0.4444444444444444,\"#bd3786\"],[0.5555555555555556,\"#d8576b\"],[0.6666666666666666,\"#ed7953\"],[0.7777777777777778,\"#fb9f3a\"],[0.8888888888888888,\"#fdca26\"],[1.0,\"#f0f921\"]]}],\"choropleth\":[{\"type\":\"choropleth\",\"colorbar\":{\"outlinewidth\":0,\"ticks\":\"\"}}],\"histogram2d\":[{\"type\":\"histogram2d\",\"colorbar\":{\"outlinewidth\":0,\"ticks\":\"\"},\"colorscale\":[[0.0,\"#0d0887\"],[0.1111111111111111,\"#46039f\"],[0.2222222222222222,\"#7201a8\"],[0.3333333333333333,\"#9c179e\"],[0.4444444444444444,\"#bd3786\"],[0.5555555555555556,\"#d8576b\"],[0.6666666666666666,\"#ed7953\"],[0.7777777777777778,\"#fb9f3a\"],[0.8888888888888888,\"#fdca26\"],[1.0,\"#f0f921\"]]}],\"heatmap\":[{\"type\":\"heatmap\",\"colorbar\":{\"outlinewidth\":0,\"ticks\":\"\"},\"colorscale\":[[0.0,\"#0d0887\"],[0.1111111111111111,\"#46039f\"],[0.2222222222222222,\"#7201a8\"],[0.3333333333333333,\"#9c179e\"],[0.4444444444444444,\"#bd3786\"],[0.5555555555555556,\"#d8576b\"],[0.6666666666666666,\"#ed7953\"],[0.7777777777777778,\"#fb9f3a\"],[0.8888888888888888,\"#fdca26\"],[1.0,\"#f0f921\"]]}],\"heatmapgl\":[{\"type\":\"heatmapgl\",\"colorbar\":{\"outlinewidth\":0,\"ticks\":\"\"},\"colorscale\":[[0.0,\"#0d0887\"],[0.1111111111111111,\"#46039f\"],[0.2222222222222222,\"#7201a8\"],[0.3333333333333333,\"#9c179e\"],[0.4444444444444444,\"#bd3786\"],[0.5555555555555556,\"#d8576b\"],[0.6666666666666666,\"#ed7953\"],[0.7777777777777778,\"#fb9f3a\"],[0.8888888888888888,\"#fdca26\"],[1.0,\"#f0f921\"]]}],\"contourcarpet\":[{\"type\":\"contourcarpet\",\"colorbar\":{\"outlinewidth\":0,\"ticks\":\"\"}}],\"contour\":[{\"type\":\"contour\",\"colorbar\":{\"outlinewidth\":0,\"ticks\":\"\"},\"colorscale\":[[0.0,\"#0d0887\"],[0.1111111111111111,\"#46039f\"],[0.2222222222222222,\"#7201a8\"],[0.3333333333333333,\"#9c179e\"],[0.4444444444444444,\"#bd3786\"],[0.5555555555555556,\"#d8576b\"],[0.6666666666666666,\"#ed7953\"],[0.7777777777777778,\"#fb9f3a\"],[0.8888888888888888,\"#fdca26\"],[1.0,\"#f0f921\"]]}],\"surface\":[{\"type\":\"surface\",\"colorbar\":{\"outlinewidth\":0,\"ticks\":\"\"},\"colorscale\":[[0.0,\"#0d0887\"],[0.1111111111111111,\"#46039f\"],[0.2222222222222222,\"#7201a8\"],[0.3333333333333333,\"#9c179e\"],[0.4444444444444444,\"#bd3786\"],[0.5555555555555556,\"#d8576b\"],[0.6666666666666666,\"#ed7953\"],[0.7777777777777778,\"#fb9f3a\"],[0.8888888888888888,\"#fdca26\"],[1.0,\"#f0f921\"]]}],\"mesh3d\":[{\"type\":\"mesh3d\",\"colorbar\":{\"outlinewidth\":0,\"ticks\":\"\"}}],\"scatter\":[{\"fillpattern\":{\"fillmode\":\"overlay\",\"size\":10,\"solidity\":0.2},\"type\":\"scatter\"}],\"parcoords\":[{\"type\":\"parcoords\",\"line\":{\"colorbar\":{\"outlinewidth\":0,\"ticks\":\"\"}}}],\"scatterpolargl\":[{\"type\":\"scatterpolargl\",\"marker\":{\"colorbar\":{\"outlinewidth\":0,\"ticks\":\"\"}}}],\"bar\":[{\"error_x\":{\"color\":\"#2a3f5f\"},\"error_y\":{\"color\":\"#2a3f5f\"},\"marker\":{\"line\":{\"color\":\"#E5ECF6\",\"width\":0.5},\"pattern\":{\"fillmode\":\"overlay\",\"size\":10,\"solidity\":0.2}},\"type\":\"bar\"}],\"scattergeo\":[{\"type\":\"scattergeo\",\"marker\":{\"colorbar\":{\"outlinewidth\":0,\"ticks\":\"\"}}}],\"scatterpolar\":[{\"type\":\"scatterpolar\",\"marker\":{\"colorbar\":{\"outlinewidth\":0,\"ticks\":\"\"}}}],\"histogram\":[{\"marker\":{\"pattern\":{\"fillmode\":\"overlay\",\"size\":10,\"solidity\":0.2}},\"type\":\"histogram\"}],\"scattergl\":[{\"type\":\"scattergl\",\"marker\":{\"colorbar\":{\"outlinewidth\":0,\"ticks\":\"\"}}}],\"scatter3d\":[{\"type\":\"scatter3d\",\"line\":{\"colorbar\":{\"outlinewidth\":0,\"ticks\":\"\"}},\"marker\":{\"colorbar\":{\"outlinewidth\":0,\"ticks\":\"\"}}}],\"scattermapbox\":[{\"type\":\"scattermapbox\",\"marker\":{\"colorbar\":{\"outlinewidth\":0,\"ticks\":\"\"}}}],\"scatterternary\":[{\"type\":\"scatterternary\",\"marker\":{\"colorbar\":{\"outlinewidth\":0,\"ticks\":\"\"}}}],\"scattercarpet\":[{\"type\":\"scattercarpet\",\"marker\":{\"colorbar\":{\"outlinewidth\":0,\"ticks\":\"\"}}}],\"carpet\":[{\"aaxis\":{\"endlinecolor\":\"#2a3f5f\",\"gridcolor\":\"white\",\"linecolor\":\"white\",\"minorgridcolor\":\"white\",\"startlinecolor\":\"#2a3f5f\"},\"baxis\":{\"endlinecolor\":\"#2a3f5f\",\"gridcolor\":\"white\",\"linecolor\":\"white\",\"minorgridcolor\":\"white\",\"startlinecolor\":\"#2a3f5f\"},\"type\":\"carpet\"}],\"table\":[{\"cells\":{\"fill\":{\"color\":\"#EBF0F8\"},\"line\":{\"color\":\"white\"}},\"header\":{\"fill\":{\"color\":\"#C8D4E3\"},\"line\":{\"color\":\"white\"}},\"type\":\"table\"}],\"barpolar\":[{\"marker\":{\"line\":{\"color\":\"#E5ECF6\",\"width\":0.5},\"pattern\":{\"fillmode\":\"overlay\",\"size\":10,\"solidity\":0.2}},\"type\":\"barpolar\"}],\"pie\":[{\"automargin\":true,\"type\":\"pie\"}]},\"layout\":{\"autotypenumbers\":\"strict\",\"colorway\":[\"#636efa\",\"#EF553B\",\"#00cc96\",\"#ab63fa\",\"#FFA15A\",\"#19d3f3\",\"#FF6692\",\"#B6E880\",\"#FF97FF\",\"#FECB52\"],\"font\":{\"color\":\"#2a3f5f\"},\"hovermode\":\"closest\",\"hoverlabel\":{\"align\":\"left\"},\"paper_bgcolor\":\"white\",\"plot_bgcolor\":\"#E5ECF6\",\"polar\":{\"bgcolor\":\"#E5ECF6\",\"angularaxis\":{\"gridcolor\":\"white\",\"linecolor\":\"white\",\"ticks\":\"\"},\"radialaxis\":{\"gridcolor\":\"white\",\"linecolor\":\"white\",\"ticks\":\"\"}},\"ternary\":{\"bgcolor\":\"#E5ECF6\",\"aaxis\":{\"gridcolor\":\"white\",\"linecolor\":\"white\",\"ticks\":\"\"},\"baxis\":{\"gridcolor\":\"white\",\"linecolor\":\"white\",\"ticks\":\"\"},\"caxis\":{\"gridcolor\":\"white\",\"linecolor\":\"white\",\"ticks\":\"\"}},\"coloraxis\":{\"colorbar\":{\"outlinewidth\":0,\"ticks\":\"\"}},\"colorscale\":{\"sequential\":[[0.0,\"#0d0887\"],[0.1111111111111111,\"#46039f\"],[0.2222222222222222,\"#7201a8\"],[0.3333333333333333,\"#9c179e\"],[0.4444444444444444,\"#bd3786\"],[0.5555555555555556,\"#d8576b\"],[0.6666666666666666,\"#ed7953\"],[0.7777777777777778,\"#fb9f3a\"],[0.8888888888888888,\"#fdca26\"],[1.0,\"#f0f921\"]],\"sequentialminus\":[[0.0,\"#0d0887\"],[0.1111111111111111,\"#46039f\"],[0.2222222222222222,\"#7201a8\"],[0.3333333333333333,\"#9c179e\"],[0.4444444444444444,\"#bd3786\"],[0.5555555555555556,\"#d8576b\"],[0.6666666666666666,\"#ed7953\"],[0.7777777777777778,\"#fb9f3a\"],[0.8888888888888888,\"#fdca26\"],[1.0,\"#f0f921\"]],\"diverging\":[[0,\"#8e0152\"],[0.1,\"#c51b7d\"],[0.2,\"#de77ae\"],[0.3,\"#f1b6da\"],[0.4,\"#fde0ef\"],[0.5,\"#f7f7f7\"],[0.6,\"#e6f5d0\"],[0.7,\"#b8e186\"],[0.8,\"#7fbc41\"],[0.9,\"#4d9221\"],[1,\"#276419\"]]},\"xaxis\":{\"gridcolor\":\"white\",\"linecolor\":\"white\",\"ticks\":\"\",\"title\":{\"standoff\":15},\"zerolinecolor\":\"white\",\"automargin\":true,\"zerolinewidth\":2},\"yaxis\":{\"gridcolor\":\"white\",\"linecolor\":\"white\",\"ticks\":\"\",\"title\":{\"standoff\":15},\"zerolinecolor\":\"white\",\"automargin\":true,\"zerolinewidth\":2},\"scene\":{\"xaxis\":{\"backgroundcolor\":\"#E5ECF6\",\"gridcolor\":\"white\",\"linecolor\":\"white\",\"showbackground\":true,\"ticks\":\"\",\"zerolinecolor\":\"white\",\"gridwidth\":2},\"yaxis\":{\"backgroundcolor\":\"#E5ECF6\",\"gridcolor\":\"white\",\"linecolor\":\"white\",\"showbackground\":true,\"ticks\":\"\",\"zerolinecolor\":\"white\",\"gridwidth\":2},\"zaxis\":{\"backgroundcolor\":\"#E5ECF6\",\"gridcolor\":\"white\",\"linecolor\":\"white\",\"showbackground\":true,\"ticks\":\"\",\"zerolinecolor\":\"white\",\"gridwidth\":2}},\"shapedefaults\":{\"line\":{\"color\":\"#2a3f5f\"}},\"annotationdefaults\":{\"arrowcolor\":\"#2a3f5f\",\"arrowhead\":0,\"arrowwidth\":1},\"geo\":{\"bgcolor\":\"white\",\"landcolor\":\"#E5ECF6\",\"subunitcolor\":\"white\",\"showland\":true,\"showlakes\":true,\"lakecolor\":\"white\"},\"title\":{\"x\":0.05},\"mapbox\":{\"style\":\"light\"}}},\"xaxis\":{\"anchor\":\"y\",\"domain\":[0.0,1.0],\"title\":{\"text\":\"Speed\"}},\"yaxis\":{\"anchor\":\"x\",\"domain\":[0.0,1.0],\"title\":{\"text\":\"Type\"},\"categoryorder\":\"array\",\"categoryarray\":[\"steel\",\"dark\",\"dragon\",\"ice\",\"ghost\",\"rock\",\"psychic\",\"fighting\",\"fairy\",\"ground\",\"electric\",\"poison\",\"normal\",\"bug\",\"water\",\"fire\",\"grass\"]},\"legend\":{\"title\":{\"text\":\"Type\"},\"tracegroupgap\":0},\"title\":{\"text\":\"Speed Pokemons Type - Median\"},\"boxmode\":\"overlay\"},                        {\"responsive\": true}                    ).then(function(){\n",
              "                            \n",
              "var gd = document.getElementById('67a15ac0-535d-4e8d-bdb0-617e221b6e43');\n",
              "var x = new MutationObserver(function (mutations, observer) {{\n",
              "        var display = window.getComputedStyle(gd).display;\n",
              "        if (!display || display === 'none') {{\n",
              "            console.log([gd, 'removed!']);\n",
              "            Plotly.purge(gd);\n",
              "            observer.disconnect();\n",
              "        }}\n",
              "}});\n",
              "\n",
              "// Listen for the removal of the full notebook cells\n",
              "var notebookContainer = gd.closest('#notebook-container');\n",
              "if (notebookContainer) {{\n",
              "    x.observe(notebookContainer, {childList: true});\n",
              "}}\n",
              "\n",
              "// Listen for the clearing of the current output cell\n",
              "var outputEl = gd.closest('.output');\n",
              "if (outputEl) {{\n",
              "    x.observe(outputEl, {childList: true});\n",
              "}}\n",
              "\n",
              "                        })                };                            </script>        </div>\n",
              "</body>\n",
              "</html>"
            ]
          },
          "metadata": {}
        }
      ]
    },
    {
      "cell_type": "markdown",
      "source": [
        "## Correlation Attack X Defense X HP X Speed"
      ],
      "metadata": {
        "id": "-iNlX9qnOzdp"
      }
    },
    {
      "cell_type": "code",
      "source": [
        "graph = px.scatter_matrix(df, dimensions=[\"Attack\",\"Defense\", \"HP\", \"Speed\"], color=\"Type\")\n",
        "\n",
        "graph.show()"
      ],
      "metadata": {
        "colab": {
          "base_uri": "https://localhost:8080/",
          "height": 542
        },
        "id": "sJlxfa7cOysk",
        "outputId": "ddc4d04b-692c-4c4e-bf60-1f97461c3377"
      },
      "execution_count": 339,
      "outputs": [
        {
          "output_type": "display_data",
          "data": {
            "text/html": [
              "<html>\n",
              "<head><meta charset=\"utf-8\" /></head>\n",
              "<body>\n",
              "    <div>            <script src=\"https://cdnjs.cloudflare.com/ajax/libs/mathjax/2.7.5/MathJax.js?config=TeX-AMS-MML_SVG\"></script><script type=\"text/javascript\">if (window.MathJax && window.MathJax.Hub && window.MathJax.Hub.Config) {window.MathJax.Hub.Config({SVG: {font: \"STIX-Web\"}});}</script>                <script type=\"text/javascript\">window.PlotlyConfig = {MathJaxConfig: 'local'};</script>\n",
              "        <script charset=\"utf-8\" src=\"https://cdn.plot.ly/plotly-2.24.1.min.js\"></script>                <div id=\"afa23cb0-fee6-4435-897e-c532b5052216\" class=\"plotly-graph-div\" style=\"height:525px; width:100%;\"></div>            <script type=\"text/javascript\">                                    window.PLOTLYENV=window.PLOTLYENV || {};                                    if (document.getElementById(\"afa23cb0-fee6-4435-897e-c532b5052216\")) {                    Plotly.newPlot(                        \"afa23cb0-fee6-4435-897e-c532b5052216\",                        [{\"dimensions\":[{\"axis\":{\"matches\":true},\"label\":\"Attack\",\"values\":[49,62,82,50,65,80,75,90,105,40,95,55,49,62,82,80,35,45,55,30,75,45,65,85,40,70,100,40,130,60,85,115,68,68,89,109,30,70,35,60,100,62,92,100,110,100]},{\"axis\":{\"matches\":true},\"label\":\"Defense\",\"values\":[49,63,83,55,70,85,35,50,65,80,85,115,65,80,100,95,40,50,70,30,55,35,45,65,50,40,60,60,80,45,40,60,83,64,85,105,35,65,45,70,72,50,75,125,130,100]},{\"axis\":{\"matches\":true},\"label\":\"HP\",\"values\":[45,60,80,45,60,75,50,65,80,60,95,65,45,60,80,75,35,55,75,30,75,40,50,70,40,70,90,60,60,50,50,70,99,55,75,95,40,60,45,70,74,60,90,100,65,100]},{\"axis\":{\"matches\":true},\"label\":\"Speed\",\"values\":[45,60,80,30,40,50,40,55,70,40,55,60,45,60,80,50,50,80,110,30,30,70,95,120,30,60,80,35,70,65,35,55,51,31,36,56,55,90,35,85,46,40,60,50,95,100]}],\"hovertemplate\":\"Type=grass\\u003cbr\\u003e%{xaxis.title.text}=%{x}\\u003cbr\\u003e%{yaxis.title.text}=%{y}\\u003cextra\\u003e\\u003c\\u002fextra\\u003e\",\"legendgroup\":\"grass\",\"marker\":{\"color\":\"#636efa\",\"symbol\":\"circle\"},\"name\":\"grass\",\"showlegend\":true,\"type\":\"splom\"},{\"dimensions\":[{\"axis\":{\"matches\":true},\"label\":\"Attack\",\"values\":[52,64,84,41,76,70,110,85,100,95,130,100,52,64,84,40,50,75,115,130,60,85,120,60,100,85,58,78,104,95,90]},{\"axis\":{\"matches\":true},\"label\":\"Defense\",\"values\":[43,58,78,40,75,45,80,55,70,57,60,90,43,58,78,40,120,37,85,90,40,60,70,40,70,140,44,52,71,67,106]},{\"axis\":{\"matches\":true},\"label\":\"HP\",\"values\":[39,58,78,38,73,55,90,50,65,65,65,90,39,58,78,40,60,45,115,106,45,60,80,60,70,70,44,64,76,75,91]},{\"axis\":{\"matches\":true},\"label\":\"Speed\",\"values\":[65,80,100,65,100,60,95,90,105,93,65,90,65,80,100,20,30,83,100,90,45,55,80,35,40,20,61,81,108,83,77]}],\"hovertemplate\":\"Type=fire\\u003cbr\\u003e%{xaxis.title.text}=%{x}\\u003cbr\\u003e%{yaxis.title.text}=%{y}\\u003cextra\\u003e\\u003c\\u002fextra\\u003e\",\"legendgroup\":\"fire\",\"marker\":{\"color\":\"#EF553B\",\"symbol\":\"circle\"},\"name\":\"fire\",\"showlegend\":true,\"type\":\"splom\"},{\"dimensions\":[{\"axis\":{\"matches\":true},\"label\":\"Attack\",\"values\":[48,63,83,52,82,50,65,95,40,70,65,75,45,70,65,95,105,130,40,65,67,92,45,75,10,125,85,65,65,80,105,38,58,20,50,75,45,85,75,95,55,65,105,40,95,75,70,85,110,30,50,70,30,50,90,120,70,90,48,78,80,120,15,60,64,104,84,90,30,100,51,66,86,65,105,48,83,49,69,20,120,80,100]},{\"axis\":{\"matches\":true},\"label\":\"Defense\",\"values\":[65,80,100,48,78,40,65,95,35,65,65,110,55,80,100,180,90,115,70,95,60,65,55,85,55,79,80,60,64,80,100,38,58,50,80,75,45,85,80,85,95,35,75,70,95,115,50,70,90,30,50,70,30,100,20,40,35,45,43,73,65,85,20,79,85,105,105,130,55,90,53,68,88,35,55,48,68,56,76,50,100,80,100]},{\"axis\":{\"matches\":true},\"label\":\"HP\",\"values\":[44,59,79,50,80,40,65,90,40,80,90,95,65,90,30,50,30,55,30,55,45,80,30,60,20,95,130,130,50,65,85,75,125,70,100,90,55,95,95,65,65,35,75,85,75,100,50,70,100,40,60,80,40,60,45,70,130,170,50,110,43,63,20,95,35,55,55,100,43,100,53,64,84,55,85,76,111,49,69,45,90,80,100]},{\"axis\":{\"matches\":true},\"label\":\"Speed\",\"values\":[43,58,78,55,85,90,90,70,70,100,15,30,45,70,40,70,50,75,60,85,63,68,85,115,80,81,60,65,43,58,78,67,67,40,50,70,15,35,30,85,35,65,45,70,85,85,40,50,60,30,50,70,85,65,65,95,60,60,60,60,35,55,80,81,32,52,52,55,97,90,40,50,60,85,115,34,39,66,91,50,100,80,100]}],\"hovertemplate\":\"Type=water\\u003cbr\\u003e%{xaxis.title.text}=%{x}\\u003cbr\\u003e%{yaxis.title.text}=%{y}\\u003cextra\\u003e\\u003c\\u002fextra\\u003e\",\"legendgroup\":\"water\",\"marker\":{\"color\":\"#00cc96\",\"symbol\":\"circle\"},\"name\":\"water\",\"showlegend\":true,\"type\":\"splom\"},{\"dimensions\":[{\"axis\":{\"matches\":true},\"label\":\"Attack\",\"values\":[30,20,45,35,25,90,70,95,55,65,110,125,20,35,60,90,65,65,90,130,10,125,45,35,70,35,50,30,60,45,90,90,73,47,25,85,29,59,94,30,80,76]},{\"axis\":{\"matches\":true},\"label\":\"Defense\",\"values\":[35,55,50,30,50,40,55,80,50,60,80,100,30,50,40,70,45,90,140,100,230,75,35,55,50,55,70,32,62,90,45,45,75,75,41,51,45,85,50,42,102,86]},{\"axis\":{\"matches\":true},\"label\":\"HP\",\"values\":[45,50,60,40,45,65,35,60,60,70,70,65,40,55,40,70,65,50,75,70,20,80,45,50,60,50,60,40,70,31,61,1,65,65,37,77,40,60,70,30,70,86]},{\"axis\":{\"matches\":true},\"label\":\"Speed\",\"values\":[45,30,70,50,35,75,25,30,45,90,105,85,55,85,30,40,95,15,40,65,5,85,20,15,65,15,65,65,80,40,160,40,85,85,25,65,36,36,66,70,40,95]}],\"hovertemplate\":\"Type=bug\\u003cbr\\u003e%{xaxis.title.text}=%{x}\\u003cbr\\u003e%{yaxis.title.text}=%{y}\\u003cextra\\u003e\\u003c\\u002fextra\\u003e\",\"legendgroup\":\"bug\",\"marker\":{\"color\":\"#ab63fa\",\"symbol\":\"circle\"},\"name\":\"bug\",\"showlegend\":true,\"type\":\"splom\"},{\"dimensions\":[{\"axis\":{\"matches\":true},\"label\":\"Attack\",\"values\":[45,60,80,56,81,60,90,45,70,45,70,90,85,110,55,5,95,100,48,55,60,110,46,76,30,50,30,70,80,70,80,130,80,95,20,80,10,30,70,55,85,60,80,160,51,71,91,20,45,65,60,40,115,70,90,55,75,120,45,85,100,66,76,55,82,5,65,85,85,80,160]},{\"axis\":{\"matches\":true},\"label\":\"Defense\",\"values\":[40,55,75,35,60,30,65,20,45,35,60,55,45,70,75,5,80,95,48,50,70,65,34,64,30,50,15,55,65,70,50,75,90,62,35,105,10,41,61,30,60,60,80,100,23,43,63,40,45,65,60,60,60,70,70,30,50,70,40,60,66,44,84,42,64,5,45,40,95,70,110]},{\"axis\":{\"matches\":true},\"label\":\"HP\",\"values\":[40,63,83,30,55,40,65,115,140,40,65,52,35,60,90,250,105,75,48,55,65,160,35,85,60,100,90,55,70,100,60,90,85,73,55,95,255,38,78,40,60,60,80,150,64,84,104,50,50,70,60,45,73,70,60,40,55,85,59,79,75,55,65,49,71,100,76,135,110,85,110]},{\"axis\":{\"matches\":true},\"label\":\"Speed\",\"values\":[56,71,101,72,97,70,100,20,45,90,115,60,75,110,30,50,90,110,48,55,40,30,20,90,50,70,15,85,85,45,40,55,60,85,75,100,55,60,100,85,125,30,90,100,28,48,68,20,50,90,60,50,90,70,40,60,80,100,31,71,115,85,105,85,112,30,91,5,50,90,100]}],\"hovertemplate\":\"Type=normal\\u003cbr\\u003e%{xaxis.title.text}=%{x}\\u003cbr\\u003e%{yaxis.title.text}=%{y}\\u003cextra\\u003e\\u003c\\u002fextra\\u003e\",\"legendgroup\":\"normal\",\"marker\":{\"color\":\"#FFA15A\",\"symbol\":\"circle\"},\"name\":\"normal\",\"showlegend\":true,\"type\":\"splom\"},{\"dimensions\":[{\"axis\":{\"matches\":true},\"label\":\"Attack\",\"values\":[60,95,47,62,92,57,72,102,45,80,80,105,65,90,90,43,73,100,63,93,50,90,61,106]},{\"axis\":{\"matches\":true},\"label\":\"Defense\",\"values\":[44,69,52,67,87,40,57,77,35,70,50,75,95,120,80,53,83,60,47,67,90,110,40,65]},{\"axis\":{\"matches\":true},\"label\":\"HP\",\"values\":[35,60,55,70,90,46,61,81,40,75,80,105,40,65,85,70,100,73,63,103,40,70,48,83]},{\"axis\":{\"matches\":true},\"label\":\"Speed\",\"values\":[55,80,41,56,76,50,65,85,55,90,25,50,35,60,130,40,55,65,74,84,65,95,50,85]}],\"hovertemplate\":\"Type=poison\\u003cbr\\u003e%{xaxis.title.text}=%{x}\\u003cbr\\u003e%{yaxis.title.text}=%{y}\\u003cextra\\u003e\\u003c\\u002fextra\\u003e\",\"legendgroup\":\"poison\",\"marker\":{\"color\":\"#19d3f3\",\"symbol\":\"circle\"},\"name\":\"poison\",\"showlegend\":true,\"type\":\"splom\"},{\"dimensions\":[{\"axis\":{\"matches\":true},\"label\":\"Attack\",\"values\":[55,90,35,60,30,50,83,65,90,40,40,55,75,63,85,45,75,50,40,65,85,120,45,70,123,50]},{\"axis\":{\"matches\":true},\"label\":\"Defense\",\"values\":[40,55,70,95,50,70,57,60,85,15,40,55,85,37,75,40,60,40,50,34,49,79,70,115,67,77]},{\"axis\":{\"matches\":true},\"label\":\"HP\",\"values\":[35,60,25,50,40,60,65,65,90,20,55,70,90,45,90,40,70,60,60,45,60,80,60,70,75,50]},{\"axis\":{\"matches\":true},\"label\":\"Speed\",\"values\":[90,110,45,70,100,150,105,130,100,60,35,45,55,95,115,65,105,95,95,45,60,70,95,60,95,91]}],\"hovertemplate\":\"Type=electric\\u003cbr\\u003e%{xaxis.title.text}=%{x}\\u003cbr\\u003e%{yaxis.title.text}=%{y}\\u003cextra\\u003e\\u003c\\u002fextra\\u003e\",\"legendgroup\":\"electric\",\"marker\":{\"color\":\"#FF6692\",\"symbol\":\"circle\"},\"name\":\"electric\",\"showlegend\":true,\"type\":\"splom\"},{\"dimensions\":[{\"axis\":{\"matches\":true},\"label\":\"Attack\",\"values\":[75,100,55,100,50,80,85,130,75,60,120,100,70,100,40,70,150,72,112,140,95]},{\"axis\":{\"matches\":true},\"label\":\"Defense\",\"values\":[85,110,25,50,95,110,95,120,105,60,120,45,50,80,55,105,140,78,118,130,125]},{\"axis\":{\"matches\":true},\"label\":\"HP\",\"values\":[50,75,10,35,50,60,80,105,65,90,90,45,50,80,40,60,100,68,108,115,75]},{\"axis\":{\"matches\":true},\"label\":\"Speed\",\"values\":[40,65,95,120,35,45,25,40,85,40,50,10,70,100,55,75,90,32,47,40,95]}],\"hovertemplate\":\"Type=ground\\u003cbr\\u003e%{xaxis.title.text}=%{x}\\u003cbr\\u003e%{yaxis.title.text}=%{y}\\u003cextra\\u003e\\u003c\\u002fextra\\u003e\",\"legendgroup\":\"ground\",\"marker\":{\"color\":\"#B6E880\",\"symbol\":\"circle\"},\"name\":\"ground\",\"showlegend\":true,\"type\":\"splom\"},{\"dimensions\":[{\"axis\":{\"matches\":true},\"label\":\"Attack\",\"values\":[45,70,25,20,40,80,120,50]},{\"axis\":{\"matches\":true},\"label\":\"Defense\",\"values\":[48,73,28,65,85,50,75,95]},{\"axis\":{\"matches\":true},\"label\":\"HP\",\"values\":[70,95,50,35,55,60,90,85]},{\"axis\":{\"matches\":true},\"label\":\"Speed\",\"values\":[35,60,15,20,40,30,45,80]}],\"hovertemplate\":\"Type=fairy\\u003cbr\\u003e%{xaxis.title.text}=%{x}\\u003cbr\\u003e%{yaxis.title.text}=%{y}\\u003cextra\\u003e\\u003c\\u002fextra\\u003e\",\"legendgroup\":\"fairy\",\"marker\":{\"color\":\"#FF97FF\",\"symbol\":\"circle\"},\"name\":\"fairy\",\"showlegend\":true,\"type\":\"splom\"},{\"dimensions\":[{\"axis\":{\"matches\":true},\"label\":\"Attack\",\"values\":[80,105,80,100,130,120,105,35,95,60,120,40,60,70,110]},{\"axis\":{\"matches\":true},\"label\":\"Defense\",\"values\":[35,60,50,70,80,53,79,35,95,30,60,55,75,40,70]},{\"axis\":{\"matches\":true},\"label\":\"HP\",\"values\":[40,65,70,80,90,50,50,35,50,72,144,30,60,40,70]},{\"axis\":{\"matches\":true},\"label\":\"Speed\",\"values\":[70,95,35,45,55,87,76,35,70,25,50,60,80,60,90]}],\"hovertemplate\":\"Type=fighting\\u003cbr\\u003e%{xaxis.title.text}=%{x}\\u003cbr\\u003e%{yaxis.title.text}=%{y}\\u003cextra\\u003e\\u003c\\u002fextra\\u003e\",\"legendgroup\":\"fighting\",\"marker\":{\"color\":\"#FECB52\",\"symbol\":\"circle\"},\"name\":\"fighting\",\"showlegend\":true,\"type\":\"splom\"},{\"dimensions\":[{\"axis\":{\"matches\":true},\"label\":\"Attack\",\"values\":[20,35,50,48,73,45,110,100,50,75,65,72,33,90,100,25,35,65,25,45,50,23,150,30,25,125,75,105,125,70]},{\"axis\":{\"matches\":true},\"label\":\"Defense\",\"values\":[15,30,45,45,70,65,90,100,45,70,60,48,58,130,100,25,35,65,35,65,80,48,50,50,45,65,130,105,70,110]},{\"axis\":{\"matches\":true},\"label\":\"HP\",\"values\":[25,40,55,60,85,40,106,100,40,65,65,48,190,106,100,28,38,68,60,80,75,95,50,45,20,68,75,80,75,120]},{\"axis\":{\"matches\":true},\"label\":\"Speed\",\"values\":[90,105,120,42,67,90,130,100,70,95,110,48,33,110,100,40,50,80,60,80,65,23,150,45,60,80,95,80,115,85]}],\"hovertemplate\":\"Type=psychic\\u003cbr\\u003e%{xaxis.title.text}=%{x}\\u003cbr\\u003e%{yaxis.title.text}=%{y}\\u003cextra\\u003e\\u003c\\u002fextra\\u003e\",\"legendgroup\":\"psychic\",\"marker\":{\"color\":\"#636efa\",\"symbol\":\"circle\"},\"name\":\"psychic\",\"showlegend\":true,\"type\":\"splom\"},{\"dimensions\":[{\"axis\":{\"matches\":true},\"label\":\"Attack\",\"values\":[80,95,120,45,40,60,80,115,105,100,64,84,134,45,55,95,41,81,95,125,100,125,165,42,52,80,55]},{\"axis\":{\"matches\":true},\"label\":\"Defense\",\"values\":[100,115,130,160,100,125,90,105,65,115,50,70,110,135,65,85,77,97,50,100,200,40,60,118,168,95,145]},{\"axis\":{\"matches\":true},\"label\":\"HP\",\"values\":[40,55,80,35,35,70,30,60,80,70,50,70,100,30,90,90,66,86,45,75,80,67,97,30,60,50,60]},{\"axis\":{\"matches\":true},\"label\":\"Speed\",\"values\":[20,35,45,70,35,55,55,80,130,30,41,51,61,30,70,70,23,43,75,45,50,58,58,30,30,10,40]}],\"hovertemplate\":\"Type=rock\\u003cbr\\u003e%{xaxis.title.text}=%{x}\\u003cbr\\u003e%{yaxis.title.text}=%{y}\\u003cextra\\u003e\\u003c\\u002fextra\\u003e\",\"legendgroup\":\"rock\",\"marker\":{\"color\":\"#EF553B\",\"symbol\":\"circle\"},\"name\":\"rock\",\"showlegend\":true,\"type\":\"splom\"},{\"dimensions\":[{\"axis\":{\"matches\":true},\"label\":\"Attack\",\"values\":[35,50,65,60,75,115,40,70,50,80,60,92,100,100]},{\"axis\":{\"matches\":true},\"label\":\"Defense\",\"values\":[30,45,60,60,35,65,90,130,34,44,60,108,135,120]},{\"axis\":{\"matches\":true},\"label\":\"HP\",\"values\":[30,45,60,60,44,64,20,40,90,150,60,50,45,150]},{\"axis\":{\"matches\":true},\"label\":\"Speed\",\"values\":[80,95,110,85,45,65,25,25,70,80,105,35,45,90]}],\"hovertemplate\":\"Type=ghost\\u003cbr\\u003e%{xaxis.title.text}=%{x}\\u003cbr\\u003e%{yaxis.title.text}=%{y}\\u003cextra\\u003e\\u003c\\u002fextra\\u003e\",\"legendgroup\":\"ghost\",\"marker\":{\"color\":\"#00cc96\",\"symbol\":\"circle\"},\"name\":\"ghost\",\"showlegend\":true,\"type\":\"splom\"},{\"dimensions\":[{\"axis\":{\"matches\":true},\"label\":\"Attack\",\"values\":[50,85,50,100,55,30,50,80,40,60,80,50,60,130,80]},{\"axis\":{\"matches\":true},\"label\":\"Defense\",\"values\":[35,100,40,80,45,15,50,80,50,70,90,100,110,80,70]},{\"axis\":{\"matches\":true},\"label\":\"HP\",\"values\":[65,90,50,100,45,45,50,80,70,90,110,80,65,110,70]},{\"axis\":{\"matches\":true},\"label\":\"Speed\",\"values\":[95,85,50,50,75,65,50,80,25,45,65,50,65,80,110]}],\"hovertemplate\":\"Type=ice\\u003cbr\\u003e%{xaxis.title.text}=%{x}\\u003cbr\\u003e%{yaxis.title.text}=%{y}\\u003cextra\\u003e\\u003c\\u002fextra\\u003e\",\"legendgroup\":\"ice\",\"marker\":{\"color\":\"#ab63fa\",\"symbol\":\"circle\"},\"name\":\"ice\",\"showlegend\":true,\"type\":\"splom\"},{\"dimensions\":[{\"axis\":{\"matches\":true},\"label\":\"Attack\",\"values\":[64,84,134,70,75,95,135,80,90,150,70,90,130]},{\"axis\":{\"matches\":true},\"label\":\"Defense\",\"values\":[45,65,95,90,60,100,80,90,80,90,45,65,95]},{\"axis\":{\"matches\":true},\"label\":\"HP\",\"values\":[41,61,91,75,45,65,95,80,80,105,58,68,108]},{\"axis\":{\"matches\":true},\"label\":\"Speed\",\"values\":[50,70,80,80,50,50,100,110,110,95,42,82,102]}],\"hovertemplate\":\"Type=dragon\\u003cbr\\u003e%{xaxis.title.text}=%{x}\\u003cbr\\u003e%{yaxis.title.text}=%{y}\\u003cextra\\u003e\\u003c\\u002fextra\\u003e\",\"legendgroup\":\"dragon\",\"marker\":{\"color\":\"#FFA15A\",\"symbol\":\"circle\"},\"name\":\"dragon\",\"showlegend\":true,\"type\":\"splom\"},{\"dimensions\":[{\"axis\":{\"matches\":true},\"label\":\"Attack\",\"values\":[65,85,95,60,90,55,90,75,130,125,120,90]},{\"axis\":{\"matches\":true},\"label\":\"Defense\",\"values\":[110,42,55,30,50,35,70,75,60,52,65,90]},{\"axis\":{\"matches\":true},\"label\":\"HP\",\"values\":[95,60,55,45,75,35,70,50,65,100,70,70]},{\"axis\":{\"matches\":true},\"label\":\"Speed\",\"values\":[65,91,115,65,95,35,70,50,75,71,125,125]}],\"hovertemplate\":\"Type=dark\\u003cbr\\u003e%{xaxis.title.text}=%{x}\\u003cbr\\u003e%{yaxis.title.text}=%{y}\\u003cextra\\u003e\\u003c\\u002fextra\\u003e\",\"legendgroup\":\"dark\",\"marker\":{\"color\":\"#19d3f3\",\"symbol\":\"circle\"},\"name\":\"dark\",\"showlegend\":true,\"type\":\"splom\"},{\"dimensions\":[{\"axis\":{\"matches\":true},\"label\":\"Attack\",\"values\":[85,80,85,70,90,110,55,75,135,75,100,24,89,120]},{\"axis\":{\"matches\":true},\"label\":\"Defense\",\"values\":[200,140,85,100,140,180,80,100,130,150,100,86,116,120]},{\"axis\":{\"matches\":true},\"label\":\"HP\",\"values\":[75,65,50,50,60,70,40,60,80,80,100,57,67,100]},{\"axis\":{\"matches\":true},\"label\":\"Speed\",\"values\":[30,70,50,30,40,50,30,50,70,50,100,23,33,90]}],\"hovertemplate\":\"Type=steel\\u003cbr\\u003e%{xaxis.title.text}=%{x}\\u003cbr\\u003e%{yaxis.title.text}=%{y}\\u003cextra\\u003e\\u003c\\u002fextra\\u003e\",\"legendgroup\":\"steel\",\"marker\":{\"color\":\"#FF6692\",\"symbol\":\"circle\"},\"name\":\"steel\",\"showlegend\":true,\"type\":\"splom\"}],                        {\"template\":{\"data\":{\"histogram2dcontour\":[{\"type\":\"histogram2dcontour\",\"colorbar\":{\"outlinewidth\":0,\"ticks\":\"\"},\"colorscale\":[[0.0,\"#0d0887\"],[0.1111111111111111,\"#46039f\"],[0.2222222222222222,\"#7201a8\"],[0.3333333333333333,\"#9c179e\"],[0.4444444444444444,\"#bd3786\"],[0.5555555555555556,\"#d8576b\"],[0.6666666666666666,\"#ed7953\"],[0.7777777777777778,\"#fb9f3a\"],[0.8888888888888888,\"#fdca26\"],[1.0,\"#f0f921\"]]}],\"choropleth\":[{\"type\":\"choropleth\",\"colorbar\":{\"outlinewidth\":0,\"ticks\":\"\"}}],\"histogram2d\":[{\"type\":\"histogram2d\",\"colorbar\":{\"outlinewidth\":0,\"ticks\":\"\"},\"colorscale\":[[0.0,\"#0d0887\"],[0.1111111111111111,\"#46039f\"],[0.2222222222222222,\"#7201a8\"],[0.3333333333333333,\"#9c179e\"],[0.4444444444444444,\"#bd3786\"],[0.5555555555555556,\"#d8576b\"],[0.6666666666666666,\"#ed7953\"],[0.7777777777777778,\"#fb9f3a\"],[0.8888888888888888,\"#fdca26\"],[1.0,\"#f0f921\"]]}],\"heatmap\":[{\"type\":\"heatmap\",\"colorbar\":{\"outlinewidth\":0,\"ticks\":\"\"},\"colorscale\":[[0.0,\"#0d0887\"],[0.1111111111111111,\"#46039f\"],[0.2222222222222222,\"#7201a8\"],[0.3333333333333333,\"#9c179e\"],[0.4444444444444444,\"#bd3786\"],[0.5555555555555556,\"#d8576b\"],[0.6666666666666666,\"#ed7953\"],[0.7777777777777778,\"#fb9f3a\"],[0.8888888888888888,\"#fdca26\"],[1.0,\"#f0f921\"]]}],\"heatmapgl\":[{\"type\":\"heatmapgl\",\"colorbar\":{\"outlinewidth\":0,\"ticks\":\"\"},\"colorscale\":[[0.0,\"#0d0887\"],[0.1111111111111111,\"#46039f\"],[0.2222222222222222,\"#7201a8\"],[0.3333333333333333,\"#9c179e\"],[0.4444444444444444,\"#bd3786\"],[0.5555555555555556,\"#d8576b\"],[0.6666666666666666,\"#ed7953\"],[0.7777777777777778,\"#fb9f3a\"],[0.8888888888888888,\"#fdca26\"],[1.0,\"#f0f921\"]]}],\"contourcarpet\":[{\"type\":\"contourcarpet\",\"colorbar\":{\"outlinewidth\":0,\"ticks\":\"\"}}],\"contour\":[{\"type\":\"contour\",\"colorbar\":{\"outlinewidth\":0,\"ticks\":\"\"},\"colorscale\":[[0.0,\"#0d0887\"],[0.1111111111111111,\"#46039f\"],[0.2222222222222222,\"#7201a8\"],[0.3333333333333333,\"#9c179e\"],[0.4444444444444444,\"#bd3786\"],[0.5555555555555556,\"#d8576b\"],[0.6666666666666666,\"#ed7953\"],[0.7777777777777778,\"#fb9f3a\"],[0.8888888888888888,\"#fdca26\"],[1.0,\"#f0f921\"]]}],\"surface\":[{\"type\":\"surface\",\"colorbar\":{\"outlinewidth\":0,\"ticks\":\"\"},\"colorscale\":[[0.0,\"#0d0887\"],[0.1111111111111111,\"#46039f\"],[0.2222222222222222,\"#7201a8\"],[0.3333333333333333,\"#9c179e\"],[0.4444444444444444,\"#bd3786\"],[0.5555555555555556,\"#d8576b\"],[0.6666666666666666,\"#ed7953\"],[0.7777777777777778,\"#fb9f3a\"],[0.8888888888888888,\"#fdca26\"],[1.0,\"#f0f921\"]]}],\"mesh3d\":[{\"type\":\"mesh3d\",\"colorbar\":{\"outlinewidth\":0,\"ticks\":\"\"}}],\"scatter\":[{\"fillpattern\":{\"fillmode\":\"overlay\",\"size\":10,\"solidity\":0.2},\"type\":\"scatter\"}],\"parcoords\":[{\"type\":\"parcoords\",\"line\":{\"colorbar\":{\"outlinewidth\":0,\"ticks\":\"\"}}}],\"scatterpolargl\":[{\"type\":\"scatterpolargl\",\"marker\":{\"colorbar\":{\"outlinewidth\":0,\"ticks\":\"\"}}}],\"bar\":[{\"error_x\":{\"color\":\"#2a3f5f\"},\"error_y\":{\"color\":\"#2a3f5f\"},\"marker\":{\"line\":{\"color\":\"#E5ECF6\",\"width\":0.5},\"pattern\":{\"fillmode\":\"overlay\",\"size\":10,\"solidity\":0.2}},\"type\":\"bar\"}],\"scattergeo\":[{\"type\":\"scattergeo\",\"marker\":{\"colorbar\":{\"outlinewidth\":0,\"ticks\":\"\"}}}],\"scatterpolar\":[{\"type\":\"scatterpolar\",\"marker\":{\"colorbar\":{\"outlinewidth\":0,\"ticks\":\"\"}}}],\"histogram\":[{\"marker\":{\"pattern\":{\"fillmode\":\"overlay\",\"size\":10,\"solidity\":0.2}},\"type\":\"histogram\"}],\"scattergl\":[{\"type\":\"scattergl\",\"marker\":{\"colorbar\":{\"outlinewidth\":0,\"ticks\":\"\"}}}],\"scatter3d\":[{\"type\":\"scatter3d\",\"line\":{\"colorbar\":{\"outlinewidth\":0,\"ticks\":\"\"}},\"marker\":{\"colorbar\":{\"outlinewidth\":0,\"ticks\":\"\"}}}],\"scattermapbox\":[{\"type\":\"scattermapbox\",\"marker\":{\"colorbar\":{\"outlinewidth\":0,\"ticks\":\"\"}}}],\"scatterternary\":[{\"type\":\"scatterternary\",\"marker\":{\"colorbar\":{\"outlinewidth\":0,\"ticks\":\"\"}}}],\"scattercarpet\":[{\"type\":\"scattercarpet\",\"marker\":{\"colorbar\":{\"outlinewidth\":0,\"ticks\":\"\"}}}],\"carpet\":[{\"aaxis\":{\"endlinecolor\":\"#2a3f5f\",\"gridcolor\":\"white\",\"linecolor\":\"white\",\"minorgridcolor\":\"white\",\"startlinecolor\":\"#2a3f5f\"},\"baxis\":{\"endlinecolor\":\"#2a3f5f\",\"gridcolor\":\"white\",\"linecolor\":\"white\",\"minorgridcolor\":\"white\",\"startlinecolor\":\"#2a3f5f\"},\"type\":\"carpet\"}],\"table\":[{\"cells\":{\"fill\":{\"color\":\"#EBF0F8\"},\"line\":{\"color\":\"white\"}},\"header\":{\"fill\":{\"color\":\"#C8D4E3\"},\"line\":{\"color\":\"white\"}},\"type\":\"table\"}],\"barpolar\":[{\"marker\":{\"line\":{\"color\":\"#E5ECF6\",\"width\":0.5},\"pattern\":{\"fillmode\":\"overlay\",\"size\":10,\"solidity\":0.2}},\"type\":\"barpolar\"}],\"pie\":[{\"automargin\":true,\"type\":\"pie\"}]},\"layout\":{\"autotypenumbers\":\"strict\",\"colorway\":[\"#636efa\",\"#EF553B\",\"#00cc96\",\"#ab63fa\",\"#FFA15A\",\"#19d3f3\",\"#FF6692\",\"#B6E880\",\"#FF97FF\",\"#FECB52\"],\"font\":{\"color\":\"#2a3f5f\"},\"hovermode\":\"closest\",\"hoverlabel\":{\"align\":\"left\"},\"paper_bgcolor\":\"white\",\"plot_bgcolor\":\"#E5ECF6\",\"polar\":{\"bgcolor\":\"#E5ECF6\",\"angularaxis\":{\"gridcolor\":\"white\",\"linecolor\":\"white\",\"ticks\":\"\"},\"radialaxis\":{\"gridcolor\":\"white\",\"linecolor\":\"white\",\"ticks\":\"\"}},\"ternary\":{\"bgcolor\":\"#E5ECF6\",\"aaxis\":{\"gridcolor\":\"white\",\"linecolor\":\"white\",\"ticks\":\"\"},\"baxis\":{\"gridcolor\":\"white\",\"linecolor\":\"white\",\"ticks\":\"\"},\"caxis\":{\"gridcolor\":\"white\",\"linecolor\":\"white\",\"ticks\":\"\"}},\"coloraxis\":{\"colorbar\":{\"outlinewidth\":0,\"ticks\":\"\"}},\"colorscale\":{\"sequential\":[[0.0,\"#0d0887\"],[0.1111111111111111,\"#46039f\"],[0.2222222222222222,\"#7201a8\"],[0.3333333333333333,\"#9c179e\"],[0.4444444444444444,\"#bd3786\"],[0.5555555555555556,\"#d8576b\"],[0.6666666666666666,\"#ed7953\"],[0.7777777777777778,\"#fb9f3a\"],[0.8888888888888888,\"#fdca26\"],[1.0,\"#f0f921\"]],\"sequentialminus\":[[0.0,\"#0d0887\"],[0.1111111111111111,\"#46039f\"],[0.2222222222222222,\"#7201a8\"],[0.3333333333333333,\"#9c179e\"],[0.4444444444444444,\"#bd3786\"],[0.5555555555555556,\"#d8576b\"],[0.6666666666666666,\"#ed7953\"],[0.7777777777777778,\"#fb9f3a\"],[0.8888888888888888,\"#fdca26\"],[1.0,\"#f0f921\"]],\"diverging\":[[0,\"#8e0152\"],[0.1,\"#c51b7d\"],[0.2,\"#de77ae\"],[0.3,\"#f1b6da\"],[0.4,\"#fde0ef\"],[0.5,\"#f7f7f7\"],[0.6,\"#e6f5d0\"],[0.7,\"#b8e186\"],[0.8,\"#7fbc41\"],[0.9,\"#4d9221\"],[1,\"#276419\"]]},\"xaxis\":{\"gridcolor\":\"white\",\"linecolor\":\"white\",\"ticks\":\"\",\"title\":{\"standoff\":15},\"zerolinecolor\":\"white\",\"automargin\":true,\"zerolinewidth\":2},\"yaxis\":{\"gridcolor\":\"white\",\"linecolor\":\"white\",\"ticks\":\"\",\"title\":{\"standoff\":15},\"zerolinecolor\":\"white\",\"automargin\":true,\"zerolinewidth\":2},\"scene\":{\"xaxis\":{\"backgroundcolor\":\"#E5ECF6\",\"gridcolor\":\"white\",\"linecolor\":\"white\",\"showbackground\":true,\"ticks\":\"\",\"zerolinecolor\":\"white\",\"gridwidth\":2},\"yaxis\":{\"backgroundcolor\":\"#E5ECF6\",\"gridcolor\":\"white\",\"linecolor\":\"white\",\"showbackground\":true,\"ticks\":\"\",\"zerolinecolor\":\"white\",\"gridwidth\":2},\"zaxis\":{\"backgroundcolor\":\"#E5ECF6\",\"gridcolor\":\"white\",\"linecolor\":\"white\",\"showbackground\":true,\"ticks\":\"\",\"zerolinecolor\":\"white\",\"gridwidth\":2}},\"shapedefaults\":{\"line\":{\"color\":\"#2a3f5f\"}},\"annotationdefaults\":{\"arrowcolor\":\"#2a3f5f\",\"arrowhead\":0,\"arrowwidth\":1},\"geo\":{\"bgcolor\":\"white\",\"landcolor\":\"#E5ECF6\",\"subunitcolor\":\"white\",\"showland\":true,\"showlakes\":true,\"lakecolor\":\"white\"},\"title\":{\"x\":0.05},\"mapbox\":{\"style\":\"light\"}}},\"legend\":{\"title\":{\"text\":\"Type\"},\"tracegroupgap\":0},\"margin\":{\"t\":60},\"dragmode\":\"select\"},                        {\"responsive\": true}                    ).then(function(){\n",
              "                            \n",
              "var gd = document.getElementById('afa23cb0-fee6-4435-897e-c532b5052216');\n",
              "var x = new MutationObserver(function (mutations, observer) {{\n",
              "        var display = window.getComputedStyle(gd).display;\n",
              "        if (!display || display === 'none') {{\n",
              "            console.log([gd, 'removed!']);\n",
              "            Plotly.purge(gd);\n",
              "            observer.disconnect();\n",
              "        }}\n",
              "}});\n",
              "\n",
              "// Listen for the removal of the full notebook cells\n",
              "var notebookContainer = gd.closest('#notebook-container');\n",
              "if (notebookContainer) {{\n",
              "    x.observe(notebookContainer, {childList: true});\n",
              "}}\n",
              "\n",
              "// Listen for the clearing of the current output cell\n",
              "var outputEl = gd.closest('.output');\n",
              "if (outputEl) {{\n",
              "    x.observe(outputEl, {childList: true});\n",
              "}}\n",
              "\n",
              "                        })                };                            </script>        </div>\n",
              "</body>\n",
              "</html>"
            ]
          },
          "metadata": {}
        }
      ]
    },
    {
      "cell_type": "code",
      "source": [
        "# Pegar uma região em especifico para ver o desempenho.\n",
        "def specific_region(type_you_want):\n",
        "    filtered_dfs = []\n",
        "\n",
        "    for typ in type_you_want:\n",
        "        filtered_df = df[df['Region'].apply(lambda types: typ in types)]\n",
        "        filtered_dfs.append(filtered_df)\n",
        "\n",
        "    result_df = pd.concat(filtered_dfs)\n",
        "    return result_df"
      ],
      "metadata": {
        "id": "2ZClQyf_-5-p"
      },
      "execution_count": 340,
      "outputs": []
    },
    {
      "cell_type": "code",
      "source": [
        "Kanto = specific_region(['Kanto'])"
      ],
      "metadata": {
        "id": "4LZoaO1x_ChD"
      },
      "execution_count": 341,
      "outputs": []
    },
    {
      "cell_type": "code",
      "source": [
        "fig = px.scatter(Kanto, y=\"Attack\", trendline=\"ols\", facet_col_wrap=17, color='Type')\n",
        "\n",
        "\n",
        "# Ajusta o espaçamento entre os subplots\n",
        "fig.update_xaxes(matches=None)\n",
        "fig.update_yaxes(matches=None)\n",
        "\n",
        "fig.show()"
      ],
      "metadata": {
        "colab": {
          "base_uri": "https://localhost:8080/",
          "height": 542
        },
        "id": "-tK0o9kM-lr8",
        "outputId": "9ed4f56a-7328-40ce-8fa9-40aef12d17e4"
      },
      "execution_count": 342,
      "outputs": [
        {
          "output_type": "display_data",
          "data": {
            "text/html": [
              "<html>\n",
              "<head><meta charset=\"utf-8\" /></head>\n",
              "<body>\n",
              "    <div>            <script src=\"https://cdnjs.cloudflare.com/ajax/libs/mathjax/2.7.5/MathJax.js?config=TeX-AMS-MML_SVG\"></script><script type=\"text/javascript\">if (window.MathJax && window.MathJax.Hub && window.MathJax.Hub.Config) {window.MathJax.Hub.Config({SVG: {font: \"STIX-Web\"}});}</script>                <script type=\"text/javascript\">window.PlotlyConfig = {MathJaxConfig: 'local'};</script>\n",
              "        <script charset=\"utf-8\" src=\"https://cdn.plot.ly/plotly-2.24.1.min.js\"></script>                <div id=\"7409aef1-5527-4f21-a0ee-418d4a169494\" class=\"plotly-graph-div\" style=\"height:525px; width:100%;\"></div>            <script type=\"text/javascript\">                                    window.PLOTLYENV=window.PLOTLYENV || {};                                    if (document.getElementById(\"7409aef1-5527-4f21-a0ee-418d4a169494\")) {                    Plotly.newPlot(                        \"7409aef1-5527-4f21-a0ee-418d4a169494\",                        [{\"hovertemplate\":\"Type=grass\\u003cbr\\u003eindex=%{x}\\u003cbr\\u003eAttack=%{y}\\u003cextra\\u003e\\u003c\\u002fextra\\u003e\",\"legendgroup\":\"grass\",\"marker\":{\"color\":\"#636efa\",\"symbol\":\"circle\"},\"mode\":\"markers\",\"name\":\"grass\",\"orientation\":\"v\",\"showlegend\":true,\"x\":[0,1,2,42,43,44,68,69,70,101,102,113],\"xaxis\":\"x\",\"y\":[49,62,82,50,65,80,75,90,105,40,95,55],\"yaxis\":\"y\",\"type\":\"scatter\"},{\"hovertemplate\":\"\\u003cb\\u003eOLS trendline\\u003c\\u002fb\\u003e\\u003cbr\\u003eAttack = 0.0549418 * index + 67.6678\\u003cbr\\u003eR\\u003csup\\u003e2\\u003c\\u002fsup\\u003e=0.011537\\u003cbr\\u003e\\u003cbr\\u003eType=grass\\u003cbr\\u003eindex=%{x}\\u003cbr\\u003eAttack=%{y} \\u003cb\\u003e(trend)\\u003c\\u002fb\\u003e\\u003cextra\\u003e\\u003c\\u002fextra\\u003e\",\"legendgroup\":\"grass\",\"marker\":{\"color\":\"#636efa\",\"symbol\":\"circle\"},\"mode\":\"lines\",\"name\":\"grass\",\"showlegend\":false,\"x\":[0,1,2,42,43,44,68,69,70,101,102,113],\"xaxis\":\"x\",\"y\":[67.66776276541421,67.72270451627685,67.77764626713949,69.97531630164511,70.03025805250776,70.0851998033704,71.40380182407377,71.4587435749364,71.51368532579905,73.21687960254091,73.27182135340355,73.8761806128926],\"yaxis\":\"y\",\"type\":\"scatter\"},{\"hovertemplate\":\"Type=fire\\u003cbr\\u003eindex=%{x}\\u003cbr\\u003eAttack=%{y}\\u003cextra\\u003e\\u003c\\u002fextra\\u003e\",\"legendgroup\":\"fire\",\"marker\":{\"color\":\"#EF553B\",\"symbol\":\"circle\"},\"mode\":\"markers\",\"name\":\"fire\",\"orientation\":\"v\",\"showlegend\":true,\"x\":[3,4,5,36,37,57,58,76,77,125,135,145],\"xaxis\":\"x\",\"y\":[52,64,84,41,76,70,110,85,100,95,130,100],\"yaxis\":\"y\",\"type\":\"scatter\"},{\"hovertemplate\":\"\\u003cb\\u003eOLS trendline\\u003c\\u002fb\\u003e\\u003cbr\\u003eAttack = 0.355583 * index + 61.4557\\u003cbr\\u003eR\\u003csup\\u003e2\\u003c\\u002fsup\\u003e=0.509246\\u003cbr\\u003e\\u003cbr\\u003eType=fire\\u003cbr\\u003eindex=%{x}\\u003cbr\\u003eAttack=%{y} \\u003cb\\u003e(trend)\\u003c\\u002fb\\u003e\\u003cextra\\u003e\\u003c\\u002fextra\\u003e\",\"legendgroup\":\"fire\",\"marker\":{\"color\":\"#EF553B\",\"symbol\":\"circle\"},\"mode\":\"lines\",\"name\":\"fire\",\"showlegend\":false,\"x\":[3,4,5,36,37,57,58,76,77,125,135,145],\"xaxis\":\"x\",\"y\":[62.52241237824529,62.87799555201407,63.23357872578285,74.2566571126149,74.61224028638368,81.7239037617592,82.07948693552798,88.47998406336596,88.83556723713474,105.903559578036,109.45939131572376,113.01522305341152],\"yaxis\":\"y\",\"type\":\"scatter\"},{\"hovertemplate\":\"Type=water\\u003cbr\\u003eindex=%{x}\\u003cbr\\u003eAttack=%{y}\\u003cextra\\u003e\\u003c\\u002fextra\\u003e\",\"legendgroup\":\"water\",\"marker\":{\"color\":\"#00cc96\",\"symbol\":\"circle\"},\"mode\":\"markers\",\"name\":\"water\",\"orientation\":\"v\",\"showlegend\":true,\"x\":[6,7,8,53,54,59,60,61,71,72,78,79,85,86,89,90,97,98,115,116,117,118,119,120,128,129,130,133],\"xaxis\":\"x\",\"y\":[48,63,83,52,82,50,65,95,40,70,65,75,45,70,65,95,105,130,40,65,67,92,45,75,10,125,85,65],\"yaxis\":\"y\",\"type\":\"scatter\"},{\"hovertemplate\":\"\\u003cb\\u003eOLS trendline\\u003c\\u002fb\\u003e\\u003cbr\\u003eAttack = 0.0651915 * index + 64.7134\\u003cbr\\u003eR\\u003csup\\u003e2\\u003c\\u002fsup\\u003e=0.008726\\u003cbr\\u003e\\u003cbr\\u003eType=water\\u003cbr\\u003eindex=%{x}\\u003cbr\\u003eAttack=%{y} \\u003cb\\u003e(trend)\\u003c\\u002fb\\u003e\\u003cextra\\u003e\\u003c\\u002fextra\\u003e\",\"legendgroup\":\"water\",\"marker\":{\"color\":\"#00cc96\",\"symbol\":\"circle\"},\"mode\":\"lines\",\"name\":\"water\",\"showlegend\":false,\"x\":[6,7,8,53,54,59,60,61,71,72,78,79,85,86,89,90,97,98,115,116,117,118,119,120,128,129,130,133],\"xaxis\":\"x\",\"y\":[65.10452987632243,65.16972135300252,65.23491282968259,68.16852928028608,68.23372075696616,68.55967814036654,68.62486961704663,68.6900610937267,69.34197586052748,69.40716733720755,69.79831619728802,69.8635076739681,70.25465653404856,70.31984801072865,70.51542244076887,70.58061391744896,71.03695425420949,71.10214573088957,72.2104008344509,72.27559231113098,72.34078378781105,72.40597526449113,72.4711667411712,72.53635821785129,73.0578900312919,73.12308150797199,73.18827298465206,73.3838474146923],\"yaxis\":\"y\",\"type\":\"scatter\"},{\"hovertemplate\":\"Type=bug\\u003cbr\\u003eindex=%{x}\\u003cbr\\u003eAttack=%{y}\\u003cextra\\u003e\\u003c\\u002fextra\\u003e\",\"legendgroup\":\"bug\",\"marker\":{\"color\":\"#ab63fa\",\"symbol\":\"circle\"},\"mode\":\"markers\",\"name\":\"bug\",\"orientation\":\"v\",\"showlegend\":true,\"x\":[9,10,11,12,13,14,45,46,47,48,122,126],\"xaxis\":\"x\",\"y\":[30,20,45,35,25,90,70,95,55,65,110,125],\"yaxis\":\"y\",\"type\":\"scatter\"},{\"hovertemplate\":\"\\u003cb\\u003eOLS trendline\\u003c\\u002fb\\u003e\\u003cbr\\u003eAttack = 0.694781 * index + 34.6271\\u003cbr\\u003eR\\u003csup\\u003e2\\u003c\\u002fsup\\u003e=0.689210\\u003cbr\\u003e\\u003cbr\\u003eType=bug\\u003cbr\\u003eindex=%{x}\\u003cbr\\u003eAttack=%{y} \\u003cb\\u003e(trend)\\u003c\\u002fb\\u003e\\u003cextra\\u003e\\u003c\\u002fextra\\u003e\",\"legendgroup\":\"bug\",\"marker\":{\"color\":\"#ab63fa\",\"symbol\":\"circle\"},\"mode\":\"lines\",\"name\":\"bug\",\"showlegend\":false,\"x\":[9,10,11,12,13,14,45,46,47,48,122,126],\"xaxis\":\"x\",\"y\":[40.8801172009352,41.574898450527044,42.269679700118886,42.96446094971073,43.65924219930257,44.35402344889441,65.89224218624153,66.58702343583337,67.28180468542521,67.97658593501706,119.39039840481341,122.16952340318079],\"yaxis\":\"y\",\"type\":\"scatter\"},{\"hovertemplate\":\"Type=normal\\u003cbr\\u003eindex=%{x}\\u003cbr\\u003eAttack=%{y}\\u003cextra\\u003e\\u003c\\u002fextra\\u003e\",\"legendgroup\":\"normal\",\"marker\":{\"color\":\"#FFA15A\",\"symbol\":\"circle\"},\"mode\":\"markers\",\"name\":\"normal\",\"orientation\":\"v\",\"showlegend\":true,\"x\":[15,16,17,18,19,20,21,38,39,51,52,82,83,84,107,112,114,127,131,132,136,142],\"xaxis\":\"x\",\"y\":[45,60,80,56,81,60,90,45,70,45,70,90,85,110,55,5,95,100,48,55,60,110],\"yaxis\":\"y\",\"type\":\"scatter\"},{\"hovertemplate\":\"\\u003cb\\u003eOLS trendline\\u003c\\u002fb\\u003e\\u003cbr\\u003eAttack = 0.0595878 * index + 64.6492\\u003cbr\\u003eR\\u003csup\\u003e2\\u003c\\u002fsup\\u003e=0.012531\\u003cbr\\u003e\\u003cbr\\u003eType=normal\\u003cbr\\u003eindex=%{x}\\u003cbr\\u003eAttack=%{y} \\u003cb\\u003e(trend)\\u003c\\u002fb\\u003e\\u003cextra\\u003e\\u003c\\u002fextra\\u003e\",\"legendgroup\":\"normal\",\"marker\":{\"color\":\"#FFA15A\",\"symbol\":\"circle\"},\"mode\":\"lines\",\"name\":\"normal\",\"showlegend\":false,\"x\":[15,16,17,18,19,20,21,38,39,51,52,82,83,84,107,112,114,127,131,132,136,142],\"xaxis\":\"x\",\"y\":[65.54297240970534,65.60256018049367,65.66214795128198,65.7217357220703,65.78132349285863,65.84091126364694,65.90049903443527,66.91349113783673,66.97307890862506,67.68813215808491,67.74771992887324,69.53535305252288,69.5949408233112,69.65452859409952,71.02504732223092,71.32298617617252,71.44216171774916,72.21680273799734,72.45515382115063,72.51474159193894,72.75309267509223,73.11061929982216],\"yaxis\":\"y\",\"type\":\"scatter\"},{\"hovertemplate\":\"Type=poison\\u003cbr\\u003eindex=%{x}\\u003cbr\\u003eAttack=%{y}\\u003cextra\\u003e\\u003c\\u002fextra\\u003e\",\"legendgroup\":\"poison\",\"marker\":{\"color\":\"#19d3f3\",\"symbol\":\"circle\"},\"mode\":\"markers\",\"name\":\"poison\",\"orientation\":\"v\",\"showlegend\":true,\"x\":[22,23,28,29,30,31,32,33,40,41,87,88,108,109],\"xaxis\":\"x\",\"y\":[60,95,47,62,92,57,72,102,45,80,80,105,65,90],\"yaxis\":\"y\",\"type\":\"scatter\"},{\"hovertemplate\":\"\\u003cb\\u003eOLS trendline\\u003c\\u002fb\\u003e\\u003cbr\\u003eAttack = 0.164887 * index + 66.8867\\u003cbr\\u003eR\\u003csup\\u003e2\\u003c\\u002fsup\\u003e=0.072719\\u003cbr\\u003e\\u003cbr\\u003eType=poison\\u003cbr\\u003eindex=%{x}\\u003cbr\\u003eAttack=%{y} \\u003cb\\u003e(trend)\\u003c\\u002fb\\u003e\\u003cextra\\u003e\\u003c\\u002fextra\\u003e\",\"legendgroup\":\"poison\",\"marker\":{\"color\":\"#19d3f3\",\"symbol\":\"circle\"},\"mode\":\"lines\",\"name\":\"poison\",\"showlegend\":false,\"x\":[22,23,28,29,30,31,32,33,40,41,87,88,108,109],\"xaxis\":\"x\",\"y\":[70.51425073124277,70.67913747364125,71.50357118563363,71.6684579280321,71.83334467043058,71.99823141282906,72.16311815522754,72.328004897626,73.48221209441535,73.64709883681383,81.23188898714373,81.39677572954221,84.69451057751174,84.85939731991022],\"yaxis\":\"y\",\"type\":\"scatter\"},{\"hovertemplate\":\"Type=electric\\u003cbr\\u003eindex=%{x}\\u003cbr\\u003eAttack=%{y}\\u003cextra\\u003e\\u003c\\u002fextra\\u003e\",\"legendgroup\":\"electric\",\"marker\":{\"color\":\"#FF6692\",\"symbol\":\"circle\"},\"mode\":\"markers\",\"name\":\"electric\",\"orientation\":\"v\",\"showlegend\":true,\"x\":[24,25,80,81,99,100,124,134,144],\"xaxis\":\"x\",\"y\":[55,90,35,60,30,50,83,65,90],\"yaxis\":\"y\",\"type\":\"scatter\"},{\"hovertemplate\":\"\\u003cb\\u003eOLS trendline\\u003c\\u002fb\\u003e\\u003cbr\\u003eAttack = 0.0588594 * index + 56.6961\\u003cbr\\u003eR\\u003csup\\u003e2\\u003c\\u002fsup\\u003e=0.013053\\u003cbr\\u003e\\u003cbr\\u003eType=electric\\u003cbr\\u003eindex=%{x}\\u003cbr\\u003eAttack=%{y} \\u003cb\\u003e(trend)\\u003c\\u002fb\\u003e\\u003cextra\\u003e\\u003c\\u002fextra\\u003e\",\"legendgroup\":\"electric\",\"marker\":{\"color\":\"#FF6692\",\"symbol\":\"circle\"},\"mode\":\"lines\",\"name\":\"electric\",\"showlegend\":false,\"x\":[24,25,80,81,99,100,124,134,144],\"xaxis\":\"x\",\"y\":[58.10874121196806,58.16760058859375,61.40486630300687,61.46372567963256,62.523194458895034,62.58205383552073,63.994678874537364,64.58327264079429,65.17186640705123],\"yaxis\":\"y\",\"type\":\"scatter\"},{\"hovertemplate\":\"Type=ground\\u003cbr\\u003eindex=%{x}\\u003cbr\\u003eAttack=%{y}\\u003cextra\\u003e\\u003c\\u002fextra\\u003e\",\"legendgroup\":\"ground\",\"marker\":{\"color\":\"#B6E880\",\"symbol\":\"circle\"},\"mode\":\"markers\",\"name\":\"ground\",\"orientation\":\"v\",\"showlegend\":true,\"x\":[26,27,49,50,103,104,110,111],\"xaxis\":\"x\",\"y\":[75,100,55,100,50,80,85,130],\"yaxis\":\"y\",\"type\":\"scatter\"},{\"hovertemplate\":\"\\u003cb\\u003eOLS trendline\\u003c\\u002fb\\u003e\\u003cbr\\u003eAttack = 0.0650861 * index + 79.6563\\u003cbr\\u003eR\\u003csup\\u003e2\\u003c\\u002fsup\\u003e=0.009063\\u003cbr\\u003e\\u003cbr\\u003eType=ground\\u003cbr\\u003eindex=%{x}\\u003cbr\\u003eAttack=%{y} \\u003cb\\u003e(trend)\\u003c\\u002fb\\u003e\\u003cextra\\u003e\\u003c\\u002fextra\\u003e\",\"legendgroup\":\"ground\",\"marker\":{\"color\":\"#B6E880\",\"symbol\":\"circle\"},\"mode\":\"lines\",\"name\":\"ground\",\"showlegend\":false,\"x\":[26,27,49,50,103,104,110,111],\"xaxis\":\"x\",\"y\":[81.34849534745597,81.41358146901605,82.84547614333798,82.91056226489806,86.36012670758268,86.42521282914277,86.81572955850329,86.88081568006338],\"yaxis\":\"y\",\"type\":\"scatter\"},{\"hovertemplate\":\"Type=fairy\\u003cbr\\u003eindex=%{x}\\u003cbr\\u003eAttack=%{y}\\u003cextra\\u003e\\u003c\\u002fextra\\u003e\",\"legendgroup\":\"fairy\",\"marker\":{\"color\":\"#FF97FF\",\"symbol\":\"circle\"},\"mode\":\"markers\",\"name\":\"fairy\",\"orientation\":\"v\",\"showlegend\":true,\"x\":[34,35],\"xaxis\":\"x\",\"y\":[45,70],\"yaxis\":\"y\",\"type\":\"scatter\"},{\"hovertemplate\":\"\\u003cb\\u003eOLS trendline\\u003c\\u002fb\\u003e\\u003cbr\\u003eAttack = 25 * index + -805\\u003cbr\\u003eR\\u003csup\\u003e2\\u003c\\u002fsup\\u003e=1.000000\\u003cbr\\u003e\\u003cbr\\u003eType=fairy\\u003cbr\\u003eindex=%{x}\\u003cbr\\u003eAttack=%{y} \\u003cb\\u003e(trend)\\u003c\\u002fb\\u003e\\u003cextra\\u003e\\u003c\\u002fextra\\u003e\",\"legendgroup\":\"fairy\",\"marker\":{\"color\":\"#FF97FF\",\"symbol\":\"circle\"},\"mode\":\"lines\",\"name\":\"fairy\",\"showlegend\":false,\"x\":[34,35],\"xaxis\":\"x\",\"y\":[45.000000000000114,70.00000000000023],\"yaxis\":\"y\",\"type\":\"scatter\"},{\"hovertemplate\":\"Type=fighting\\u003cbr\\u003eindex=%{x}\\u003cbr\\u003eAttack=%{y}\\u003cextra\\u003e\\u003c\\u002fextra\\u003e\",\"legendgroup\":\"fighting\",\"marker\":{\"color\":\"#FECB52\",\"symbol\":\"circle\"},\"mode\":\"markers\",\"name\":\"fighting\",\"orientation\":\"v\",\"showlegend\":true,\"x\":[55,56,65,66,67,105,106],\"xaxis\":\"x\",\"y\":[80,105,80,100,130,120,105],\"yaxis\":\"y\",\"type\":\"scatter\"},{\"hovertemplate\":\"\\u003cb\\u003eOLS trendline\\u003c\\u002fb\\u003e\\u003cbr\\u003eAttack = 0.361205 * index + 76.0247\\u003cbr\\u003eR\\u003csup\\u003e2\\u003c\\u002fsup\\u003e=0.178507\\u003cbr\\u003e\\u003cbr\\u003eType=fighting\\u003cbr\\u003eindex=%{x}\\u003cbr\\u003eAttack=%{y} \\u003cb\\u003e(trend)\\u003c\\u002fb\\u003e\\u003cextra\\u003e\\u003c\\u002fextra\\u003e\",\"legendgroup\":\"fighting\",\"marker\":{\"color\":\"#FECB52\",\"symbol\":\"circle\"},\"mode\":\"lines\",\"name\":\"fighting\",\"showlegend\":false,\"x\":[55,56,65,66,67,105,106],\"xaxis\":\"x\",\"y\":[95.89103971263224,96.25224506086612,99.50309319497109,99.86429854320498,100.22550389143886,113.95130712432652,114.3125124725604],\"yaxis\":\"y\",\"type\":\"scatter\"},{\"hovertemplate\":\"Type=psychic\\u003cbr\\u003eindex=%{x}\\u003cbr\\u003eAttack=%{y}\\u003cextra\\u003e\\u003c\\u002fextra\\u003e\",\"legendgroup\":\"psychic\",\"marker\":{\"color\":\"#636efa\",\"symbol\":\"circle\"},\"mode\":\"markers\",\"name\":\"psychic\",\"orientation\":\"v\",\"showlegend\":true,\"x\":[62,63,64,95,96,121,149,150],\"xaxis\":\"x\",\"y\":[20,35,50,48,73,45,110,100],\"yaxis\":\"y\",\"type\":\"scatter\"},{\"hovertemplate\":\"\\u003cb\\u003eOLS trendline\\u003c\\u002fb\\u003e\\u003cbr\\u003eAttack = 0.731985 * index + -13.0735\\u003cbr\\u003eR\\u003csup\\u003e2\\u003c\\u002fsup\\u003e=0.730421\\u003cbr\\u003e\\u003cbr\\u003eType=psychic\\u003cbr\\u003eindex=%{x}\\u003cbr\\u003eAttack=%{y} \\u003cb\\u003e(trend)\\u003c\\u002fb\\u003e\\u003cextra\\u003e\\u003c\\u002fextra\\u003e\",\"legendgroup\":\"psychic\",\"marker\":{\"color\":\"#636efa\",\"symbol\":\"circle\"},\"mode\":\"lines\",\"name\":\"psychic\",\"showlegend\":false,\"x\":[62,63,64,95,96,121,149,150],\"xaxis\":\"x\",\"y\":[32.30957648546147,33.04156131479144,33.7735461441214,56.465075853350214,57.19706068268019,75.49668141592923,95.99225663716817,96.72424146649813],\"yaxis\":\"y\",\"type\":\"scatter\"},{\"hovertemplate\":\"Type=rock\\u003cbr\\u003eindex=%{x}\\u003cbr\\u003eAttack=%{y}\\u003cextra\\u003e\\u003c\\u002fextra\\u003e\",\"legendgroup\":\"rock\",\"marker\":{\"color\":\"#EF553B\",\"symbol\":\"circle\"},\"mode\":\"markers\",\"name\":\"rock\",\"orientation\":\"v\",\"showlegend\":true,\"x\":[73,74,75,94,137,138,139,140,141],\"xaxis\":\"x\",\"y\":[80,95,120,45,40,60,80,115,105],\"yaxis\":\"y\",\"type\":\"scatter\"},{\"hovertemplate\":\"\\u003cb\\u003eOLS trendline\\u003c\\u002fb\\u003e\\u003cbr\\u003eAttack = -0.149382 * index + 99.0028\\u003cbr\\u003eR\\u003csup\\u003e2\\u003c\\u002fsup\\u003e=0.027056\\u003cbr\\u003e\\u003cbr\\u003eType=rock\\u003cbr\\u003eindex=%{x}\\u003cbr\\u003eAttack=%{y} \\u003cb\\u003e(trend)\\u003c\\u002fb\\u003e\\u003cextra\\u003e\\u003c\\u002fextra\\u003e\",\"legendgroup\":\"rock\",\"marker\":{\"color\":\"#EF553B\",\"symbol\":\"circle\"},\"mode\":\"lines\",\"name\":\"rock\",\"showlegend\":false,\"x\":[73,74,75,94,137,138,139,140,141],\"xaxis\":\"x\",\"y\":[88.09793070259862,87.948548283606,87.79916586461339,84.96089990375359,78.53745588707088,78.38807346807826,78.23869104908563,78.08930863009302,77.93992621110038],\"yaxis\":\"y\",\"type\":\"scatter\"},{\"hovertemplate\":\"Type=ghost\\u003cbr\\u003eindex=%{x}\\u003cbr\\u003eAttack=%{y}\\u003cextra\\u003e\\u003c\\u002fextra\\u003e\",\"legendgroup\":\"ghost\",\"marker\":{\"color\":\"#00cc96\",\"symbol\":\"circle\"},\"mode\":\"markers\",\"name\":\"ghost\",\"orientation\":\"v\",\"showlegend\":true,\"x\":[91,92,93],\"xaxis\":\"x\",\"y\":[35,50,65],\"yaxis\":\"y\",\"type\":\"scatter\"},{\"hovertemplate\":\"\\u003cb\\u003eOLS trendline\\u003c\\u002fb\\u003e\\u003cbr\\u003eAttack = 15 * index + -1330\\u003cbr\\u003eR\\u003csup\\u003e2\\u003c\\u002fsup\\u003e=1.000000\\u003cbr\\u003e\\u003cbr\\u003eType=ghost\\u003cbr\\u003eindex=%{x}\\u003cbr\\u003eAttack=%{y} \\u003cb\\u003e(trend)\\u003c\\u002fb\\u003e\\u003cextra\\u003e\\u003c\\u002fextra\\u003e\",\"legendgroup\":\"ghost\",\"marker\":{\"color\":\"#00cc96\",\"symbol\":\"circle\"},\"mode\":\"lines\",\"name\":\"ghost\",\"showlegend\":false,\"x\":[91,92,93],\"xaxis\":\"x\",\"y\":[34.99999999999977,49.99999999999977,64.99999999999955],\"yaxis\":\"y\",\"type\":\"scatter\"},{\"hovertemplate\":\"Type=ice\\u003cbr\\u003eindex=%{x}\\u003cbr\\u003eAttack=%{y}\\u003cextra\\u003e\\u003c\\u002fextra\\u003e\",\"legendgroup\":\"ice\",\"marker\":{\"color\":\"#ab63fa\",\"symbol\":\"circle\"},\"mode\":\"markers\",\"name\":\"ice\",\"orientation\":\"v\",\"showlegend\":true,\"x\":[123,143],\"xaxis\":\"x\",\"y\":[50,85],\"yaxis\":\"y\",\"type\":\"scatter\"},{\"hovertemplate\":\"\\u003cb\\u003eOLS trendline\\u003c\\u002fb\\u003e\\u003cbr\\u003eAttack = 1.75 * index + -165.25\\u003cbr\\u003eR\\u003csup\\u003e2\\u003c\\u002fsup\\u003e=1.000000\\u003cbr\\u003e\\u003cbr\\u003eType=ice\\u003cbr\\u003eindex=%{x}\\u003cbr\\u003eAttack=%{y} \\u003cb\\u003e(trend)\\u003c\\u002fb\\u003e\\u003cextra\\u003e\\u003c\\u002fextra\\u003e\",\"legendgroup\":\"ice\",\"marker\":{\"color\":\"#ab63fa\",\"symbol\":\"circle\"},\"mode\":\"lines\",\"name\":\"ice\",\"showlegend\":false,\"x\":[123,143],\"xaxis\":\"x\",\"y\":[50.00000000000003,85.00000000000003],\"yaxis\":\"y\",\"type\":\"scatter\"},{\"hovertemplate\":\"Type=dragon\\u003cbr\\u003eindex=%{x}\\u003cbr\\u003eAttack=%{y}\\u003cextra\\u003e\\u003c\\u002fextra\\u003e\",\"legendgroup\":\"dragon\",\"marker\":{\"color\":\"#FFA15A\",\"symbol\":\"circle\"},\"mode\":\"markers\",\"name\":\"dragon\",\"orientation\":\"v\",\"showlegend\":true,\"x\":[146,147,148],\"xaxis\":\"x\",\"y\":[64,84,134],\"yaxis\":\"y\",\"type\":\"scatter\"},{\"hovertemplate\":\"\\u003cb\\u003eOLS trendline\\u003c\\u002fb\\u003e\\u003cbr\\u003eAttack = 35 * index + -5051\\u003cbr\\u003eR\\u003csup\\u003e2\\u003c\\u002fsup\\u003e=0.942308\\u003cbr\\u003e\\u003cbr\\u003eType=dragon\\u003cbr\\u003eindex=%{x}\\u003cbr\\u003eAttack=%{y} \\u003cb\\u003e(trend)\\u003c\\u002fb\\u003e\\u003cextra\\u003e\\u003c\\u002fextra\\u003e\",\"legendgroup\":\"dragon\",\"marker\":{\"color\":\"#FFA15A\",\"symbol\":\"circle\"},\"mode\":\"lines\",\"name\":\"dragon\",\"showlegend\":false,\"x\":[146,147,148],\"xaxis\":\"x\",\"y\":[59.00000000000091,94.0,129.0],\"yaxis\":\"y\",\"type\":\"scatter\"}],                        {\"template\":{\"data\":{\"histogram2dcontour\":[{\"type\":\"histogram2dcontour\",\"colorbar\":{\"outlinewidth\":0,\"ticks\":\"\"},\"colorscale\":[[0.0,\"#0d0887\"],[0.1111111111111111,\"#46039f\"],[0.2222222222222222,\"#7201a8\"],[0.3333333333333333,\"#9c179e\"],[0.4444444444444444,\"#bd3786\"],[0.5555555555555556,\"#d8576b\"],[0.6666666666666666,\"#ed7953\"],[0.7777777777777778,\"#fb9f3a\"],[0.8888888888888888,\"#fdca26\"],[1.0,\"#f0f921\"]]}],\"choropleth\":[{\"type\":\"choropleth\",\"colorbar\":{\"outlinewidth\":0,\"ticks\":\"\"}}],\"histogram2d\":[{\"type\":\"histogram2d\",\"colorbar\":{\"outlinewidth\":0,\"ticks\":\"\"},\"colorscale\":[[0.0,\"#0d0887\"],[0.1111111111111111,\"#46039f\"],[0.2222222222222222,\"#7201a8\"],[0.3333333333333333,\"#9c179e\"],[0.4444444444444444,\"#bd3786\"],[0.5555555555555556,\"#d8576b\"],[0.6666666666666666,\"#ed7953\"],[0.7777777777777778,\"#fb9f3a\"],[0.8888888888888888,\"#fdca26\"],[1.0,\"#f0f921\"]]}],\"heatmap\":[{\"type\":\"heatmap\",\"colorbar\":{\"outlinewidth\":0,\"ticks\":\"\"},\"colorscale\":[[0.0,\"#0d0887\"],[0.1111111111111111,\"#46039f\"],[0.2222222222222222,\"#7201a8\"],[0.3333333333333333,\"#9c179e\"],[0.4444444444444444,\"#bd3786\"],[0.5555555555555556,\"#d8576b\"],[0.6666666666666666,\"#ed7953\"],[0.7777777777777778,\"#fb9f3a\"],[0.8888888888888888,\"#fdca26\"],[1.0,\"#f0f921\"]]}],\"heatmapgl\":[{\"type\":\"heatmapgl\",\"colorbar\":{\"outlinewidth\":0,\"ticks\":\"\"},\"colorscale\":[[0.0,\"#0d0887\"],[0.1111111111111111,\"#46039f\"],[0.2222222222222222,\"#7201a8\"],[0.3333333333333333,\"#9c179e\"],[0.4444444444444444,\"#bd3786\"],[0.5555555555555556,\"#d8576b\"],[0.6666666666666666,\"#ed7953\"],[0.7777777777777778,\"#fb9f3a\"],[0.8888888888888888,\"#fdca26\"],[1.0,\"#f0f921\"]]}],\"contourcarpet\":[{\"type\":\"contourcarpet\",\"colorbar\":{\"outlinewidth\":0,\"ticks\":\"\"}}],\"contour\":[{\"type\":\"contour\",\"colorbar\":{\"outlinewidth\":0,\"ticks\":\"\"},\"colorscale\":[[0.0,\"#0d0887\"],[0.1111111111111111,\"#46039f\"],[0.2222222222222222,\"#7201a8\"],[0.3333333333333333,\"#9c179e\"],[0.4444444444444444,\"#bd3786\"],[0.5555555555555556,\"#d8576b\"],[0.6666666666666666,\"#ed7953\"],[0.7777777777777778,\"#fb9f3a\"],[0.8888888888888888,\"#fdca26\"],[1.0,\"#f0f921\"]]}],\"surface\":[{\"type\":\"surface\",\"colorbar\":{\"outlinewidth\":0,\"ticks\":\"\"},\"colorscale\":[[0.0,\"#0d0887\"],[0.1111111111111111,\"#46039f\"],[0.2222222222222222,\"#7201a8\"],[0.3333333333333333,\"#9c179e\"],[0.4444444444444444,\"#bd3786\"],[0.5555555555555556,\"#d8576b\"],[0.6666666666666666,\"#ed7953\"],[0.7777777777777778,\"#fb9f3a\"],[0.8888888888888888,\"#fdca26\"],[1.0,\"#f0f921\"]]}],\"mesh3d\":[{\"type\":\"mesh3d\",\"colorbar\":{\"outlinewidth\":0,\"ticks\":\"\"}}],\"scatter\":[{\"fillpattern\":{\"fillmode\":\"overlay\",\"size\":10,\"solidity\":0.2},\"type\":\"scatter\"}],\"parcoords\":[{\"type\":\"parcoords\",\"line\":{\"colorbar\":{\"outlinewidth\":0,\"ticks\":\"\"}}}],\"scatterpolargl\":[{\"type\":\"scatterpolargl\",\"marker\":{\"colorbar\":{\"outlinewidth\":0,\"ticks\":\"\"}}}],\"bar\":[{\"error_x\":{\"color\":\"#2a3f5f\"},\"error_y\":{\"color\":\"#2a3f5f\"},\"marker\":{\"line\":{\"color\":\"#E5ECF6\",\"width\":0.5},\"pattern\":{\"fillmode\":\"overlay\",\"size\":10,\"solidity\":0.2}},\"type\":\"bar\"}],\"scattergeo\":[{\"type\":\"scattergeo\",\"marker\":{\"colorbar\":{\"outlinewidth\":0,\"ticks\":\"\"}}}],\"scatterpolar\":[{\"type\":\"scatterpolar\",\"marker\":{\"colorbar\":{\"outlinewidth\":0,\"ticks\":\"\"}}}],\"histogram\":[{\"marker\":{\"pattern\":{\"fillmode\":\"overlay\",\"size\":10,\"solidity\":0.2}},\"type\":\"histogram\"}],\"scattergl\":[{\"type\":\"scattergl\",\"marker\":{\"colorbar\":{\"outlinewidth\":0,\"ticks\":\"\"}}}],\"scatter3d\":[{\"type\":\"scatter3d\",\"line\":{\"colorbar\":{\"outlinewidth\":0,\"ticks\":\"\"}},\"marker\":{\"colorbar\":{\"outlinewidth\":0,\"ticks\":\"\"}}}],\"scattermapbox\":[{\"type\":\"scattermapbox\",\"marker\":{\"colorbar\":{\"outlinewidth\":0,\"ticks\":\"\"}}}],\"scatterternary\":[{\"type\":\"scatterternary\",\"marker\":{\"colorbar\":{\"outlinewidth\":0,\"ticks\":\"\"}}}],\"scattercarpet\":[{\"type\":\"scattercarpet\",\"marker\":{\"colorbar\":{\"outlinewidth\":0,\"ticks\":\"\"}}}],\"carpet\":[{\"aaxis\":{\"endlinecolor\":\"#2a3f5f\",\"gridcolor\":\"white\",\"linecolor\":\"white\",\"minorgridcolor\":\"white\",\"startlinecolor\":\"#2a3f5f\"},\"baxis\":{\"endlinecolor\":\"#2a3f5f\",\"gridcolor\":\"white\",\"linecolor\":\"white\",\"minorgridcolor\":\"white\",\"startlinecolor\":\"#2a3f5f\"},\"type\":\"carpet\"}],\"table\":[{\"cells\":{\"fill\":{\"color\":\"#EBF0F8\"},\"line\":{\"color\":\"white\"}},\"header\":{\"fill\":{\"color\":\"#C8D4E3\"},\"line\":{\"color\":\"white\"}},\"type\":\"table\"}],\"barpolar\":[{\"marker\":{\"line\":{\"color\":\"#E5ECF6\",\"width\":0.5},\"pattern\":{\"fillmode\":\"overlay\",\"size\":10,\"solidity\":0.2}},\"type\":\"barpolar\"}],\"pie\":[{\"automargin\":true,\"type\":\"pie\"}]},\"layout\":{\"autotypenumbers\":\"strict\",\"colorway\":[\"#636efa\",\"#EF553B\",\"#00cc96\",\"#ab63fa\",\"#FFA15A\",\"#19d3f3\",\"#FF6692\",\"#B6E880\",\"#FF97FF\",\"#FECB52\"],\"font\":{\"color\":\"#2a3f5f\"},\"hovermode\":\"closest\",\"hoverlabel\":{\"align\":\"left\"},\"paper_bgcolor\":\"white\",\"plot_bgcolor\":\"#E5ECF6\",\"polar\":{\"bgcolor\":\"#E5ECF6\",\"angularaxis\":{\"gridcolor\":\"white\",\"linecolor\":\"white\",\"ticks\":\"\"},\"radialaxis\":{\"gridcolor\":\"white\",\"linecolor\":\"white\",\"ticks\":\"\"}},\"ternary\":{\"bgcolor\":\"#E5ECF6\",\"aaxis\":{\"gridcolor\":\"white\",\"linecolor\":\"white\",\"ticks\":\"\"},\"baxis\":{\"gridcolor\":\"white\",\"linecolor\":\"white\",\"ticks\":\"\"},\"caxis\":{\"gridcolor\":\"white\",\"linecolor\":\"white\",\"ticks\":\"\"}},\"coloraxis\":{\"colorbar\":{\"outlinewidth\":0,\"ticks\":\"\"}},\"colorscale\":{\"sequential\":[[0.0,\"#0d0887\"],[0.1111111111111111,\"#46039f\"],[0.2222222222222222,\"#7201a8\"],[0.3333333333333333,\"#9c179e\"],[0.4444444444444444,\"#bd3786\"],[0.5555555555555556,\"#d8576b\"],[0.6666666666666666,\"#ed7953\"],[0.7777777777777778,\"#fb9f3a\"],[0.8888888888888888,\"#fdca26\"],[1.0,\"#f0f921\"]],\"sequentialminus\":[[0.0,\"#0d0887\"],[0.1111111111111111,\"#46039f\"],[0.2222222222222222,\"#7201a8\"],[0.3333333333333333,\"#9c179e\"],[0.4444444444444444,\"#bd3786\"],[0.5555555555555556,\"#d8576b\"],[0.6666666666666666,\"#ed7953\"],[0.7777777777777778,\"#fb9f3a\"],[0.8888888888888888,\"#fdca26\"],[1.0,\"#f0f921\"]],\"diverging\":[[0,\"#8e0152\"],[0.1,\"#c51b7d\"],[0.2,\"#de77ae\"],[0.3,\"#f1b6da\"],[0.4,\"#fde0ef\"],[0.5,\"#f7f7f7\"],[0.6,\"#e6f5d0\"],[0.7,\"#b8e186\"],[0.8,\"#7fbc41\"],[0.9,\"#4d9221\"],[1,\"#276419\"]]},\"xaxis\":{\"gridcolor\":\"white\",\"linecolor\":\"white\",\"ticks\":\"\",\"title\":{\"standoff\":15},\"zerolinecolor\":\"white\",\"automargin\":true,\"zerolinewidth\":2},\"yaxis\":{\"gridcolor\":\"white\",\"linecolor\":\"white\",\"ticks\":\"\",\"title\":{\"standoff\":15},\"zerolinecolor\":\"white\",\"automargin\":true,\"zerolinewidth\":2},\"scene\":{\"xaxis\":{\"backgroundcolor\":\"#E5ECF6\",\"gridcolor\":\"white\",\"linecolor\":\"white\",\"showbackground\":true,\"ticks\":\"\",\"zerolinecolor\":\"white\",\"gridwidth\":2},\"yaxis\":{\"backgroundcolor\":\"#E5ECF6\",\"gridcolor\":\"white\",\"linecolor\":\"white\",\"showbackground\":true,\"ticks\":\"\",\"zerolinecolor\":\"white\",\"gridwidth\":2},\"zaxis\":{\"backgroundcolor\":\"#E5ECF6\",\"gridcolor\":\"white\",\"linecolor\":\"white\",\"showbackground\":true,\"ticks\":\"\",\"zerolinecolor\":\"white\",\"gridwidth\":2}},\"shapedefaults\":{\"line\":{\"color\":\"#2a3f5f\"}},\"annotationdefaults\":{\"arrowcolor\":\"#2a3f5f\",\"arrowhead\":0,\"arrowwidth\":1},\"geo\":{\"bgcolor\":\"white\",\"landcolor\":\"#E5ECF6\",\"subunitcolor\":\"white\",\"showland\":true,\"showlakes\":true,\"lakecolor\":\"white\"},\"title\":{\"x\":0.05},\"mapbox\":{\"style\":\"light\"}}},\"xaxis\":{\"anchor\":\"y\",\"domain\":[0.0,1.0],\"title\":{\"text\":\"index\"}},\"yaxis\":{\"anchor\":\"x\",\"domain\":[0.0,1.0],\"title\":{\"text\":\"Attack\"}},\"legend\":{\"title\":{\"text\":\"Type\"},\"tracegroupgap\":0},\"margin\":{\"t\":60}},                        {\"responsive\": true}                    ).then(function(){\n",
              "                            \n",
              "var gd = document.getElementById('7409aef1-5527-4f21-a0ee-418d4a169494');\n",
              "var x = new MutationObserver(function (mutations, observer) {{\n",
              "        var display = window.getComputedStyle(gd).display;\n",
              "        if (!display || display === 'none') {{\n",
              "            console.log([gd, 'removed!']);\n",
              "            Plotly.purge(gd);\n",
              "            observer.disconnect();\n",
              "        }}\n",
              "}});\n",
              "\n",
              "// Listen for the removal of the full notebook cells\n",
              "var notebookContainer = gd.closest('#notebook-container');\n",
              "if (notebookContainer) {{\n",
              "    x.observe(notebookContainer, {childList: true});\n",
              "}}\n",
              "\n",
              "// Listen for the clearing of the current output cell\n",
              "var outputEl = gd.closest('.output');\n",
              "if (outputEl) {{\n",
              "    x.observe(outputEl, {childList: true});\n",
              "}}\n",
              "\n",
              "                        })                };                            </script>        </div>\n",
              "</body>\n",
              "</html>"
            ]
          },
          "metadata": {}
        }
      ]
    },
    {
      "cell_type": "markdown",
      "source": [
        "## By Region"
      ],
      "metadata": {
        "id": "1UEK2WzwVQ9B"
      }
    },
    {
      "cell_type": "code",
      "source": [
        "bar_visualization = px.bar(df, x=\"Region\", color='Region', barmode='stack', title=\"Number of pokemon by region\")\n",
        "\n",
        "bar_visualization"
      ],
      "metadata": {
        "colab": {
          "base_uri": "https://localhost:8080/",
          "height": 542
        },
        "id": "dtJyZ2PjVQb1",
        "outputId": "6b9ae278-b62e-4b92-c367-a4cc48dccaff"
      },
      "execution_count": 373,
      "outputs": [
        {
          "output_type": "display_data",
          "data": {
            "text/html": [
              "<html>\n",
              "<head><meta charset=\"utf-8\" /></head>\n",
              "<body>\n",
              "    <div>            <script src=\"https://cdnjs.cloudflare.com/ajax/libs/mathjax/2.7.5/MathJax.js?config=TeX-AMS-MML_SVG\"></script><script type=\"text/javascript\">if (window.MathJax && window.MathJax.Hub && window.MathJax.Hub.Config) {window.MathJax.Hub.Config({SVG: {font: \"STIX-Web\"}});}</script>                <script type=\"text/javascript\">window.PlotlyConfig = {MathJaxConfig: 'local'};</script>\n",
              "        <script charset=\"utf-8\" src=\"https://cdn.plot.ly/plotly-2.24.1.min.js\"></script>                <div id=\"8f0f1a9b-9509-4c34-b07a-68575c53dfa7\" class=\"plotly-graph-div\" style=\"height:525px; width:100%;\"></div>            <script type=\"text/javascript\">                                    window.PLOTLYENV=window.PLOTLYENV || {};                                    if (document.getElementById(\"8f0f1a9b-9509-4c34-b07a-68575c53dfa7\")) {                    Plotly.newPlot(                        \"8f0f1a9b-9509-4c34-b07a-68575c53dfa7\",                        [{\"alignmentgroup\":\"True\",\"hovertemplate\":\"Region=%{x}\\u003cbr\\u003ecount=%{y}\\u003cextra\\u003e\\u003c\\u002fextra\\u003e\",\"legendgroup\":\"Kanto\",\"marker\":{\"color\":\"#636efa\",\"pattern\":{\"shape\":\"\"}},\"name\":\"Kanto\",\"offsetgroup\":\"Kanto\",\"orientation\":\"v\",\"showlegend\":true,\"textposition\":\"auto\",\"x\":[\"Kanto\",\"Kanto\",\"Kanto\",\"Kanto\",\"Kanto\",\"Kanto\",\"Kanto\",\"Kanto\",\"Kanto\",\"Kanto\",\"Kanto\",\"Kanto\",\"Kanto\",\"Kanto\",\"Kanto\",\"Kanto\",\"Kanto\",\"Kanto\",\"Kanto\",\"Kanto\",\"Kanto\",\"Kanto\",\"Kanto\",\"Kanto\",\"Kanto\",\"Kanto\",\"Kanto\",\"Kanto\",\"Kanto\",\"Kanto\",\"Kanto\",\"Kanto\",\"Kanto\",\"Kanto\",\"Kanto\",\"Kanto\",\"Kanto\",\"Kanto\",\"Kanto\",\"Kanto\",\"Kanto\",\"Kanto\",\"Kanto\",\"Kanto\",\"Kanto\",\"Kanto\",\"Kanto\",\"Kanto\",\"Kanto\",\"Kanto\",\"Kanto\",\"Kanto\",\"Kanto\",\"Kanto\",\"Kanto\",\"Kanto\",\"Kanto\",\"Kanto\",\"Kanto\",\"Kanto\",\"Kanto\",\"Kanto\",\"Kanto\",\"Kanto\",\"Kanto\",\"Kanto\",\"Kanto\",\"Kanto\",\"Kanto\",\"Kanto\",\"Kanto\",\"Kanto\",\"Kanto\",\"Kanto\",\"Kanto\",\"Kanto\",\"Kanto\",\"Kanto\",\"Kanto\",\"Kanto\",\"Kanto\",\"Kanto\",\"Kanto\",\"Kanto\",\"Kanto\",\"Kanto\",\"Kanto\",\"Kanto\",\"Kanto\",\"Kanto\",\"Kanto\",\"Kanto\",\"Kanto\",\"Kanto\",\"Kanto\",\"Kanto\",\"Kanto\",\"Kanto\",\"Kanto\",\"Kanto\",\"Kanto\",\"Kanto\",\"Kanto\",\"Kanto\",\"Kanto\",\"Kanto\",\"Kanto\",\"Kanto\",\"Kanto\",\"Kanto\",\"Kanto\",\"Kanto\",\"Kanto\",\"Kanto\",\"Kanto\",\"Kanto\",\"Kanto\",\"Kanto\",\"Kanto\",\"Kanto\",\"Kanto\",\"Kanto\",\"Kanto\",\"Kanto\",\"Kanto\",\"Kanto\",\"Kanto\",\"Kanto\",\"Kanto\",\"Kanto\",\"Kanto\",\"Kanto\",\"Kanto\",\"Kanto\",\"Kanto\",\"Kanto\",\"Kanto\",\"Kanto\",\"Kanto\",\"Kanto\",\"Kanto\",\"Kanto\",\"Kanto\",\"Kanto\",\"Kanto\",\"Kanto\",\"Kanto\",\"Kanto\",\"Kanto\",\"Kanto\",\"Kanto\"],\"xaxis\":\"x\",\"y\":[1,1,1,1,1,1,1,1,1,1,1,1,1,1,1,1,1,1,1,1,1,1,1,1,1,1,1,1,1,1,1,1,1,1,1,1,1,1,1,1,1,1,1,1,1,1,1,1,1,1,1,1,1,1,1,1,1,1,1,1,1,1,1,1,1,1,1,1,1,1,1,1,1,1,1,1,1,1,1,1,1,1,1,1,1,1,1,1,1,1,1,1,1,1,1,1,1,1,1,1,1,1,1,1,1,1,1,1,1,1,1,1,1,1,1,1,1,1,1,1,1,1,1,1,1,1,1,1,1,1,1,1,1,1,1,1,1,1,1,1,1,1,1,1,1,1,1,1,1,1,1],\"yaxis\":\"y\",\"type\":\"bar\"},{\"alignmentgroup\":\"True\",\"hovertemplate\":\"Region=%{x}\\u003cbr\\u003ecount=%{y}\\u003cextra\\u003e\\u003c\\u002fextra\\u003e\",\"legendgroup\":\"Johto\",\"marker\":{\"color\":\"#EF553B\",\"pattern\":{\"shape\":\"\"}},\"name\":\"Johto\",\"offsetgroup\":\"Johto\",\"orientation\":\"v\",\"showlegend\":true,\"textposition\":\"auto\",\"x\":[\"Johto\",\"Johto\",\"Johto\",\"Johto\",\"Johto\",\"Johto\",\"Johto\",\"Johto\",\"Johto\",\"Johto\",\"Johto\",\"Johto\",\"Johto\",\"Johto\",\"Johto\",\"Johto\",\"Johto\",\"Johto\",\"Johto\",\"Johto\",\"Johto\",\"Johto\",\"Johto\",\"Johto\",\"Johto\",\"Johto\",\"Johto\",\"Johto\",\"Johto\",\"Johto\",\"Johto\",\"Johto\",\"Johto\",\"Johto\",\"Johto\",\"Johto\",\"Johto\",\"Johto\",\"Johto\",\"Johto\",\"Johto\",\"Johto\",\"Johto\",\"Johto\",\"Johto\",\"Johto\",\"Johto\",\"Johto\",\"Johto\",\"Johto\",\"Johto\",\"Johto\",\"Johto\",\"Johto\",\"Johto\",\"Johto\",\"Johto\",\"Johto\",\"Johto\",\"Johto\",\"Johto\",\"Johto\",\"Johto\",\"Johto\",\"Johto\",\"Johto\",\"Johto\",\"Johto\",\"Johto\",\"Johto\",\"Johto\",\"Johto\",\"Johto\",\"Johto\",\"Johto\",\"Johto\",\"Johto\",\"Johto\",\"Johto\",\"Johto\",\"Johto\",\"Johto\",\"Johto\",\"Johto\",\"Johto\",\"Johto\",\"Johto\",\"Johto\",\"Johto\",\"Johto\",\"Johto\",\"Johto\",\"Johto\",\"Johto\",\"Johto\",\"Johto\",\"Johto\",\"Johto\",\"Johto\",\"Johto\"],\"xaxis\":\"x\",\"y\":[1,1,1,1,1,1,1,1,1,1,1,1,1,1,1,1,1,1,1,1,1,1,1,1,1,1,1,1,1,1,1,1,1,1,1,1,1,1,1,1,1,1,1,1,1,1,1,1,1,1,1,1,1,1,1,1,1,1,1,1,1,1,1,1,1,1,1,1,1,1,1,1,1,1,1,1,1,1,1,1,1,1,1,1,1,1,1,1,1,1,1,1,1,1,1,1,1,1,1,1],\"yaxis\":\"y\",\"type\":\"bar\"},{\"alignmentgroup\":\"True\",\"hovertemplate\":\"Region=%{x}\\u003cbr\\u003ecount=%{y}\\u003cextra\\u003e\\u003c\\u002fextra\\u003e\",\"legendgroup\":\"Hoenn\",\"marker\":{\"color\":\"#00cc96\",\"pattern\":{\"shape\":\"\"}},\"name\":\"Hoenn\",\"offsetgroup\":\"Hoenn\",\"orientation\":\"v\",\"showlegend\":true,\"textposition\":\"auto\",\"x\":[\"Hoenn\",\"Hoenn\",\"Hoenn\",\"Hoenn\",\"Hoenn\",\"Hoenn\",\"Hoenn\",\"Hoenn\",\"Hoenn\",\"Hoenn\",\"Hoenn\",\"Hoenn\",\"Hoenn\",\"Hoenn\",\"Hoenn\",\"Hoenn\",\"Hoenn\",\"Hoenn\",\"Hoenn\",\"Hoenn\",\"Hoenn\",\"Hoenn\",\"Hoenn\",\"Hoenn\",\"Hoenn\",\"Hoenn\",\"Hoenn\",\"Hoenn\",\"Hoenn\",\"Hoenn\",\"Hoenn\",\"Hoenn\",\"Hoenn\",\"Hoenn\",\"Hoenn\",\"Hoenn\",\"Hoenn\",\"Hoenn\",\"Hoenn\",\"Hoenn\",\"Hoenn\",\"Hoenn\",\"Hoenn\",\"Hoenn\",\"Hoenn\",\"Hoenn\",\"Hoenn\",\"Hoenn\",\"Hoenn\",\"Hoenn\",\"Hoenn\",\"Hoenn\",\"Hoenn\",\"Hoenn\",\"Hoenn\",\"Hoenn\",\"Hoenn\",\"Hoenn\",\"Hoenn\",\"Hoenn\",\"Hoenn\",\"Hoenn\",\"Hoenn\",\"Hoenn\",\"Hoenn\",\"Hoenn\",\"Hoenn\",\"Hoenn\",\"Hoenn\",\"Hoenn\",\"Hoenn\",\"Hoenn\",\"Hoenn\",\"Hoenn\",\"Hoenn\",\"Hoenn\",\"Hoenn\",\"Hoenn\",\"Hoenn\",\"Hoenn\",\"Hoenn\",\"Hoenn\",\"Hoenn\",\"Hoenn\",\"Hoenn\",\"Hoenn\",\"Hoenn\",\"Hoenn\",\"Hoenn\",\"Hoenn\",\"Hoenn\",\"Hoenn\",\"Hoenn\",\"Hoenn\",\"Hoenn\",\"Hoenn\",\"Hoenn\",\"Hoenn\",\"Hoenn\",\"Hoenn\",\"Hoenn\",\"Hoenn\",\"Hoenn\",\"Hoenn\",\"Hoenn\",\"Hoenn\",\"Hoenn\",\"Hoenn\",\"Hoenn\",\"Hoenn\",\"Hoenn\",\"Hoenn\",\"Hoenn\",\"Hoenn\",\"Hoenn\",\"Hoenn\",\"Hoenn\",\"Hoenn\",\"Hoenn\",\"Hoenn\",\"Hoenn\",\"Hoenn\",\"Hoenn\",\"Hoenn\",\"Hoenn\",\"Hoenn\",\"Hoenn\",\"Hoenn\",\"Hoenn\",\"Hoenn\",\"Hoenn\",\"Hoenn\",\"Hoenn\",\"Hoenn\",\"Hoenn\"],\"xaxis\":\"x\",\"y\":[1,1,1,1,1,1,1,1,1,1,1,1,1,1,1,1,1,1,1,1,1,1,1,1,1,1,1,1,1,1,1,1,1,1,1,1,1,1,1,1,1,1,1,1,1,1,1,1,1,1,1,1,1,1,1,1,1,1,1,1,1,1,1,1,1,1,1,1,1,1,1,1,1,1,1,1,1,1,1,1,1,1,1,1,1,1,1,1,1,1,1,1,1,1,1,1,1,1,1,1,1,1,1,1,1,1,1,1,1,1,1,1,1,1,1,1,1,1,1,1,1,1,1,1,1,1,1,1,1,1,1,1,1,1,1],\"yaxis\":\"y\",\"type\":\"bar\"},{\"alignmentgroup\":\"True\",\"hovertemplate\":\"Region=%{x}\\u003cbr\\u003ecount=%{y}\\u003cextra\\u003e\\u003c\\u002fextra\\u003e\",\"legendgroup\":\"Sinnoh\",\"marker\":{\"color\":\"#ab63fa\",\"pattern\":{\"shape\":\"\"}},\"name\":\"Sinnoh\",\"offsetgroup\":\"Sinnoh\",\"orientation\":\"v\",\"showlegend\":true,\"textposition\":\"auto\",\"x\":[\"Sinnoh\",\"Sinnoh\",\"Sinnoh\",\"Sinnoh\",\"Sinnoh\",\"Sinnoh\",\"Sinnoh\",\"Sinnoh\",\"Sinnoh\",\"Sinnoh\",\"Sinnoh\",\"Sinnoh\",\"Sinnoh\",\"Sinnoh\",\"Sinnoh\",\"Sinnoh\",\"Sinnoh\",\"Sinnoh\",\"Sinnoh\",\"Sinnoh\",\"Sinnoh\",\"Sinnoh\",\"Sinnoh\",\"Sinnoh\",\"Sinnoh\",\"Sinnoh\",\"Sinnoh\",\"Sinnoh\",\"Sinnoh\",\"Sinnoh\",\"Sinnoh\",\"Sinnoh\",\"Sinnoh\",\"Sinnoh\",\"Sinnoh\",\"Sinnoh\",\"Sinnoh\",\"Sinnoh\",\"Sinnoh\",\"Sinnoh\",\"Sinnoh\",\"Sinnoh\",\"Sinnoh\",\"Sinnoh\",\"Sinnoh\",\"Sinnoh\",\"Sinnoh\",\"Sinnoh\",\"Sinnoh\",\"Sinnoh\",\"Sinnoh\",\"Sinnoh\",\"Sinnoh\",\"Sinnoh\",\"Sinnoh\",\"Sinnoh\",\"Sinnoh\",\"Sinnoh\",\"Sinnoh\",\"Sinnoh\",\"Sinnoh\",\"Sinnoh\",\"Sinnoh\",\"Sinnoh\",\"Sinnoh\",\"Sinnoh\",\"Sinnoh\",\"Sinnoh\",\"Sinnoh\",\"Sinnoh\",\"Sinnoh\",\"Sinnoh\",\"Sinnoh\",\"Sinnoh\",\"Sinnoh\",\"Sinnoh\",\"Sinnoh\",\"Sinnoh\",\"Sinnoh\",\"Sinnoh\",\"Sinnoh\",\"Sinnoh\",\"Sinnoh\",\"Sinnoh\",\"Sinnoh\",\"Sinnoh\",\"Sinnoh\",\"Sinnoh\",\"Sinnoh\",\"Sinnoh\",\"Sinnoh\",\"Sinnoh\",\"Sinnoh\",\"Sinnoh\",\"Sinnoh\",\"Sinnoh\",\"Sinnoh\",\"Sinnoh\",\"Sinnoh\",\"Sinnoh\",\"Sinnoh\",\"Sinnoh\",\"Sinnoh\",\"Sinnoh\",\"Sinnoh\",\"Sinnoh\"],\"xaxis\":\"x\",\"y\":[1,1,1,1,1,1,1,1,1,1,1,1,1,1,1,1,1,1,1,1,1,1,1,1,1,1,1,1,1,1,1,1,1,1,1,1,1,1,1,1,1,1,1,1,1,1,1,1,1,1,1,1,1,1,1,1,1,1,1,1,1,1,1,1,1,1,1,1,1,1,1,1,1,1,1,1,1,1,1,1,1,1,1,1,1,1,1,1,1,1,1,1,1,1,1,1,1,1,1,1,1,1,1,1,1,1],\"yaxis\":\"y\",\"type\":\"bar\"}],                        {\"template\":{\"data\":{\"histogram2dcontour\":[{\"type\":\"histogram2dcontour\",\"colorbar\":{\"outlinewidth\":0,\"ticks\":\"\"},\"colorscale\":[[0.0,\"#0d0887\"],[0.1111111111111111,\"#46039f\"],[0.2222222222222222,\"#7201a8\"],[0.3333333333333333,\"#9c179e\"],[0.4444444444444444,\"#bd3786\"],[0.5555555555555556,\"#d8576b\"],[0.6666666666666666,\"#ed7953\"],[0.7777777777777778,\"#fb9f3a\"],[0.8888888888888888,\"#fdca26\"],[1.0,\"#f0f921\"]]}],\"choropleth\":[{\"type\":\"choropleth\",\"colorbar\":{\"outlinewidth\":0,\"ticks\":\"\"}}],\"histogram2d\":[{\"type\":\"histogram2d\",\"colorbar\":{\"outlinewidth\":0,\"ticks\":\"\"},\"colorscale\":[[0.0,\"#0d0887\"],[0.1111111111111111,\"#46039f\"],[0.2222222222222222,\"#7201a8\"],[0.3333333333333333,\"#9c179e\"],[0.4444444444444444,\"#bd3786\"],[0.5555555555555556,\"#d8576b\"],[0.6666666666666666,\"#ed7953\"],[0.7777777777777778,\"#fb9f3a\"],[0.8888888888888888,\"#fdca26\"],[1.0,\"#f0f921\"]]}],\"heatmap\":[{\"type\":\"heatmap\",\"colorbar\":{\"outlinewidth\":0,\"ticks\":\"\"},\"colorscale\":[[0.0,\"#0d0887\"],[0.1111111111111111,\"#46039f\"],[0.2222222222222222,\"#7201a8\"],[0.3333333333333333,\"#9c179e\"],[0.4444444444444444,\"#bd3786\"],[0.5555555555555556,\"#d8576b\"],[0.6666666666666666,\"#ed7953\"],[0.7777777777777778,\"#fb9f3a\"],[0.8888888888888888,\"#fdca26\"],[1.0,\"#f0f921\"]]}],\"heatmapgl\":[{\"type\":\"heatmapgl\",\"colorbar\":{\"outlinewidth\":0,\"ticks\":\"\"},\"colorscale\":[[0.0,\"#0d0887\"],[0.1111111111111111,\"#46039f\"],[0.2222222222222222,\"#7201a8\"],[0.3333333333333333,\"#9c179e\"],[0.4444444444444444,\"#bd3786\"],[0.5555555555555556,\"#d8576b\"],[0.6666666666666666,\"#ed7953\"],[0.7777777777777778,\"#fb9f3a\"],[0.8888888888888888,\"#fdca26\"],[1.0,\"#f0f921\"]]}],\"contourcarpet\":[{\"type\":\"contourcarpet\",\"colorbar\":{\"outlinewidth\":0,\"ticks\":\"\"}}],\"contour\":[{\"type\":\"contour\",\"colorbar\":{\"outlinewidth\":0,\"ticks\":\"\"},\"colorscale\":[[0.0,\"#0d0887\"],[0.1111111111111111,\"#46039f\"],[0.2222222222222222,\"#7201a8\"],[0.3333333333333333,\"#9c179e\"],[0.4444444444444444,\"#bd3786\"],[0.5555555555555556,\"#d8576b\"],[0.6666666666666666,\"#ed7953\"],[0.7777777777777778,\"#fb9f3a\"],[0.8888888888888888,\"#fdca26\"],[1.0,\"#f0f921\"]]}],\"surface\":[{\"type\":\"surface\",\"colorbar\":{\"outlinewidth\":0,\"ticks\":\"\"},\"colorscale\":[[0.0,\"#0d0887\"],[0.1111111111111111,\"#46039f\"],[0.2222222222222222,\"#7201a8\"],[0.3333333333333333,\"#9c179e\"],[0.4444444444444444,\"#bd3786\"],[0.5555555555555556,\"#d8576b\"],[0.6666666666666666,\"#ed7953\"],[0.7777777777777778,\"#fb9f3a\"],[0.8888888888888888,\"#fdca26\"],[1.0,\"#f0f921\"]]}],\"mesh3d\":[{\"type\":\"mesh3d\",\"colorbar\":{\"outlinewidth\":0,\"ticks\":\"\"}}],\"scatter\":[{\"fillpattern\":{\"fillmode\":\"overlay\",\"size\":10,\"solidity\":0.2},\"type\":\"scatter\"}],\"parcoords\":[{\"type\":\"parcoords\",\"line\":{\"colorbar\":{\"outlinewidth\":0,\"ticks\":\"\"}}}],\"scatterpolargl\":[{\"type\":\"scatterpolargl\",\"marker\":{\"colorbar\":{\"outlinewidth\":0,\"ticks\":\"\"}}}],\"bar\":[{\"error_x\":{\"color\":\"#2a3f5f\"},\"error_y\":{\"color\":\"#2a3f5f\"},\"marker\":{\"line\":{\"color\":\"#E5ECF6\",\"width\":0.5},\"pattern\":{\"fillmode\":\"overlay\",\"size\":10,\"solidity\":0.2}},\"type\":\"bar\"}],\"scattergeo\":[{\"type\":\"scattergeo\",\"marker\":{\"colorbar\":{\"outlinewidth\":0,\"ticks\":\"\"}}}],\"scatterpolar\":[{\"type\":\"scatterpolar\",\"marker\":{\"colorbar\":{\"outlinewidth\":0,\"ticks\":\"\"}}}],\"histogram\":[{\"marker\":{\"pattern\":{\"fillmode\":\"overlay\",\"size\":10,\"solidity\":0.2}},\"type\":\"histogram\"}],\"scattergl\":[{\"type\":\"scattergl\",\"marker\":{\"colorbar\":{\"outlinewidth\":0,\"ticks\":\"\"}}}],\"scatter3d\":[{\"type\":\"scatter3d\",\"line\":{\"colorbar\":{\"outlinewidth\":0,\"ticks\":\"\"}},\"marker\":{\"colorbar\":{\"outlinewidth\":0,\"ticks\":\"\"}}}],\"scattermapbox\":[{\"type\":\"scattermapbox\",\"marker\":{\"colorbar\":{\"outlinewidth\":0,\"ticks\":\"\"}}}],\"scatterternary\":[{\"type\":\"scatterternary\",\"marker\":{\"colorbar\":{\"outlinewidth\":0,\"ticks\":\"\"}}}],\"scattercarpet\":[{\"type\":\"scattercarpet\",\"marker\":{\"colorbar\":{\"outlinewidth\":0,\"ticks\":\"\"}}}],\"carpet\":[{\"aaxis\":{\"endlinecolor\":\"#2a3f5f\",\"gridcolor\":\"white\",\"linecolor\":\"white\",\"minorgridcolor\":\"white\",\"startlinecolor\":\"#2a3f5f\"},\"baxis\":{\"endlinecolor\":\"#2a3f5f\",\"gridcolor\":\"white\",\"linecolor\":\"white\",\"minorgridcolor\":\"white\",\"startlinecolor\":\"#2a3f5f\"},\"type\":\"carpet\"}],\"table\":[{\"cells\":{\"fill\":{\"color\":\"#EBF0F8\"},\"line\":{\"color\":\"white\"}},\"header\":{\"fill\":{\"color\":\"#C8D4E3\"},\"line\":{\"color\":\"white\"}},\"type\":\"table\"}],\"barpolar\":[{\"marker\":{\"line\":{\"color\":\"#E5ECF6\",\"width\":0.5},\"pattern\":{\"fillmode\":\"overlay\",\"size\":10,\"solidity\":0.2}},\"type\":\"barpolar\"}],\"pie\":[{\"automargin\":true,\"type\":\"pie\"}]},\"layout\":{\"autotypenumbers\":\"strict\",\"colorway\":[\"#636efa\",\"#EF553B\",\"#00cc96\",\"#ab63fa\",\"#FFA15A\",\"#19d3f3\",\"#FF6692\",\"#B6E880\",\"#FF97FF\",\"#FECB52\"],\"font\":{\"color\":\"#2a3f5f\"},\"hovermode\":\"closest\",\"hoverlabel\":{\"align\":\"left\"},\"paper_bgcolor\":\"white\",\"plot_bgcolor\":\"#E5ECF6\",\"polar\":{\"bgcolor\":\"#E5ECF6\",\"angularaxis\":{\"gridcolor\":\"white\",\"linecolor\":\"white\",\"ticks\":\"\"},\"radialaxis\":{\"gridcolor\":\"white\",\"linecolor\":\"white\",\"ticks\":\"\"}},\"ternary\":{\"bgcolor\":\"#E5ECF6\",\"aaxis\":{\"gridcolor\":\"white\",\"linecolor\":\"white\",\"ticks\":\"\"},\"baxis\":{\"gridcolor\":\"white\",\"linecolor\":\"white\",\"ticks\":\"\"},\"caxis\":{\"gridcolor\":\"white\",\"linecolor\":\"white\",\"ticks\":\"\"}},\"coloraxis\":{\"colorbar\":{\"outlinewidth\":0,\"ticks\":\"\"}},\"colorscale\":{\"sequential\":[[0.0,\"#0d0887\"],[0.1111111111111111,\"#46039f\"],[0.2222222222222222,\"#7201a8\"],[0.3333333333333333,\"#9c179e\"],[0.4444444444444444,\"#bd3786\"],[0.5555555555555556,\"#d8576b\"],[0.6666666666666666,\"#ed7953\"],[0.7777777777777778,\"#fb9f3a\"],[0.8888888888888888,\"#fdca26\"],[1.0,\"#f0f921\"]],\"sequentialminus\":[[0.0,\"#0d0887\"],[0.1111111111111111,\"#46039f\"],[0.2222222222222222,\"#7201a8\"],[0.3333333333333333,\"#9c179e\"],[0.4444444444444444,\"#bd3786\"],[0.5555555555555556,\"#d8576b\"],[0.6666666666666666,\"#ed7953\"],[0.7777777777777778,\"#fb9f3a\"],[0.8888888888888888,\"#fdca26\"],[1.0,\"#f0f921\"]],\"diverging\":[[0,\"#8e0152\"],[0.1,\"#c51b7d\"],[0.2,\"#de77ae\"],[0.3,\"#f1b6da\"],[0.4,\"#fde0ef\"],[0.5,\"#f7f7f7\"],[0.6,\"#e6f5d0\"],[0.7,\"#b8e186\"],[0.8,\"#7fbc41\"],[0.9,\"#4d9221\"],[1,\"#276419\"]]},\"xaxis\":{\"gridcolor\":\"white\",\"linecolor\":\"white\",\"ticks\":\"\",\"title\":{\"standoff\":15},\"zerolinecolor\":\"white\",\"automargin\":true,\"zerolinewidth\":2},\"yaxis\":{\"gridcolor\":\"white\",\"linecolor\":\"white\",\"ticks\":\"\",\"title\":{\"standoff\":15},\"zerolinecolor\":\"white\",\"automargin\":true,\"zerolinewidth\":2},\"scene\":{\"xaxis\":{\"backgroundcolor\":\"#E5ECF6\",\"gridcolor\":\"white\",\"linecolor\":\"white\",\"showbackground\":true,\"ticks\":\"\",\"zerolinecolor\":\"white\",\"gridwidth\":2},\"yaxis\":{\"backgroundcolor\":\"#E5ECF6\",\"gridcolor\":\"white\",\"linecolor\":\"white\",\"showbackground\":true,\"ticks\":\"\",\"zerolinecolor\":\"white\",\"gridwidth\":2},\"zaxis\":{\"backgroundcolor\":\"#E5ECF6\",\"gridcolor\":\"white\",\"linecolor\":\"white\",\"showbackground\":true,\"ticks\":\"\",\"zerolinecolor\":\"white\",\"gridwidth\":2}},\"shapedefaults\":{\"line\":{\"color\":\"#2a3f5f\"}},\"annotationdefaults\":{\"arrowcolor\":\"#2a3f5f\",\"arrowhead\":0,\"arrowwidth\":1},\"geo\":{\"bgcolor\":\"white\",\"landcolor\":\"#E5ECF6\",\"subunitcolor\":\"white\",\"showland\":true,\"showlakes\":true,\"lakecolor\":\"white\"},\"title\":{\"x\":0.05},\"mapbox\":{\"style\":\"light\"}}},\"xaxis\":{\"anchor\":\"y\",\"domain\":[0.0,1.0],\"title\":{\"text\":\"Region\"},\"categoryorder\":\"array\",\"categoryarray\":[\"Kanto\",\"Johto\",\"Hoenn\",\"Sinnoh\"]},\"yaxis\":{\"anchor\":\"x\",\"domain\":[0.0,1.0],\"title\":{\"text\":\"count\"}},\"legend\":{\"title\":{\"text\":\"Region\"},\"tracegroupgap\":0},\"title\":{\"text\":\"Number of pokemon by region\"},\"barmode\":\"stack\"},                        {\"responsive\": true}                    ).then(function(){\n",
              "                            \n",
              "var gd = document.getElementById('8f0f1a9b-9509-4c34-b07a-68575c53dfa7');\n",
              "var x = new MutationObserver(function (mutations, observer) {{\n",
              "        var display = window.getComputedStyle(gd).display;\n",
              "        if (!display || display === 'none') {{\n",
              "            console.log([gd, 'removed!']);\n",
              "            Plotly.purge(gd);\n",
              "            observer.disconnect();\n",
              "        }}\n",
              "}});\n",
              "\n",
              "// Listen for the removal of the full notebook cells\n",
              "var notebookContainer = gd.closest('#notebook-container');\n",
              "if (notebookContainer) {{\n",
              "    x.observe(notebookContainer, {childList: true});\n",
              "}}\n",
              "\n",
              "// Listen for the clearing of the current output cell\n",
              "var outputEl = gd.closest('.output');\n",
              "if (outputEl) {{\n",
              "    x.observe(outputEl, {childList: true});\n",
              "}}\n",
              "\n",
              "                        })                };                            </script>        </div>\n",
              "</body>\n",
              "</html>"
            ]
          },
          "metadata": {}
        }
      ]
    },
    {
      "cell_type": "code",
      "source": [
        "df_exploded = df.explode('Type')\n",
        "type_counts = df_exploded.groupby(['Region', 'Type']).size().reset_index(name='Count')\n",
        "\n",
        "# Criar o gráfico de barras slide.\n",
        "fig = px.bar(type_counts, x='Type', y='Count', color='Type',\n",
        "             animation_frame='Region', animation_group='Type',\n",
        "             range_y=[0, type_counts['Count'].max()],\n",
        "             title=\"Amount type of pokemon by region\")\n",
        "\n",
        "fig.show()"
      ],
      "metadata": {
        "colab": {
          "base_uri": "https://localhost:8080/",
          "height": 542
        },
        "id": "mNvcxMfIQQXC",
        "outputId": "e495186f-162a-4762-9a60-20b401a9f742"
      },
      "execution_count": 374,
      "outputs": [
        {
          "output_type": "display_data",
          "data": {
            "text/html": [
              "<html>\n",
              "<head><meta charset=\"utf-8\" /></head>\n",
              "<body>\n",
              "    <div>            <script src=\"https://cdnjs.cloudflare.com/ajax/libs/mathjax/2.7.5/MathJax.js?config=TeX-AMS-MML_SVG\"></script><script type=\"text/javascript\">if (window.MathJax && window.MathJax.Hub && window.MathJax.Hub.Config) {window.MathJax.Hub.Config({SVG: {font: \"STIX-Web\"}});}</script>                <script type=\"text/javascript\">window.PlotlyConfig = {MathJaxConfig: 'local'};</script>\n",
              "        <script charset=\"utf-8\" src=\"https://cdn.plot.ly/plotly-2.24.1.min.js\"></script>                <div id=\"9ea58db0-763e-45c7-9a18-5fa0db5fac3f\" class=\"plotly-graph-div\" style=\"height:525px; width:100%;\"></div>            <script type=\"text/javascript\">                                    window.PLOTLYENV=window.PLOTLYENV || {};                                    if (document.getElementById(\"9ea58db0-763e-45c7-9a18-5fa0db5fac3f\")) {                    Plotly.newPlot(                        \"9ea58db0-763e-45c7-9a18-5fa0db5fac3f\",                        [{\"alignmentgroup\":\"True\",\"hovertemplate\":\"Type=%{x}\\u003cbr\\u003eRegion=Hoenn\\u003cbr\\u003eCount=%{y}\\u003cextra\\u003e\\u003c\\u002fextra\\u003e\",\"ids\":[\"bug\"],\"legendgroup\":\"bug\",\"marker\":{\"color\":\"#636efa\",\"pattern\":{\"shape\":\"\"}},\"name\":\"bug\",\"offsetgroup\":\"bug\",\"orientation\":\"v\",\"showlegend\":true,\"textposition\":\"auto\",\"x\":[\"bug\"],\"xaxis\":\"x\",\"y\":[12],\"yaxis\":\"y\",\"type\":\"bar\"},{\"alignmentgroup\":\"True\",\"hovertemplate\":\"Type=%{x}\\u003cbr\\u003eRegion=Hoenn\\u003cbr\\u003eCount=%{y}\\u003cextra\\u003e\\u003c\\u002fextra\\u003e\",\"ids\":[\"dark\"],\"legendgroup\":\"dark\",\"marker\":{\"color\":\"#EF553B\",\"pattern\":{\"shape\":\"\"}},\"name\":\"dark\",\"offsetgroup\":\"dark\",\"orientation\":\"v\",\"showlegend\":true,\"textposition\":\"auto\",\"x\":[\"dark\"],\"xaxis\":\"x\",\"y\":[4],\"yaxis\":\"y\",\"type\":\"bar\"},{\"alignmentgroup\":\"True\",\"hovertemplate\":\"Type=%{x}\\u003cbr\\u003eRegion=Hoenn\\u003cbr\\u003eCount=%{y}\\u003cextra\\u003e\\u003c\\u002fextra\\u003e\",\"ids\":[\"dragon\"],\"legendgroup\":\"dragon\",\"marker\":{\"color\":\"#00cc96\",\"pattern\":{\"shape\":\"\"}},\"name\":\"dragon\",\"offsetgroup\":\"dragon\",\"orientation\":\"v\",\"showlegend\":true,\"textposition\":\"auto\",\"x\":[\"dragon\"],\"xaxis\":\"x\",\"y\":[7],\"yaxis\":\"y\",\"type\":\"bar\"},{\"alignmentgroup\":\"True\",\"hovertemplate\":\"Type=%{x}\\u003cbr\\u003eRegion=Hoenn\\u003cbr\\u003eCount=%{y}\\u003cextra\\u003e\\u003c\\u002fextra\\u003e\",\"ids\":[\"electric\"],\"legendgroup\":\"electric\",\"marker\":{\"color\":\"#ab63fa\",\"pattern\":{\"shape\":\"\"}},\"name\":\"electric\",\"offsetgroup\":\"electric\",\"orientation\":\"v\",\"showlegend\":true,\"textposition\":\"auto\",\"x\":[\"electric\"],\"xaxis\":\"x\",\"y\":[4],\"yaxis\":\"y\",\"type\":\"bar\"},{\"alignmentgroup\":\"True\",\"hovertemplate\":\"Type=%{x}\\u003cbr\\u003eRegion=Hoenn\\u003cbr\\u003eCount=%{y}\\u003cextra\\u003e\\u003c\\u002fextra\\u003e\",\"ids\":[\"fighting\"],\"legendgroup\":\"fighting\",\"marker\":{\"color\":\"#FFA15A\",\"pattern\":{\"shape\":\"\"}},\"name\":\"fighting\",\"offsetgroup\":\"fighting\",\"orientation\":\"v\",\"showlegend\":true,\"textposition\":\"auto\",\"x\":[\"fighting\"],\"xaxis\":\"x\",\"y\":[4],\"yaxis\":\"y\",\"type\":\"bar\"},{\"alignmentgroup\":\"True\",\"hovertemplate\":\"Type=%{x}\\u003cbr\\u003eRegion=Hoenn\\u003cbr\\u003eCount=%{y}\\u003cextra\\u003e\\u003c\\u002fextra\\u003e\",\"ids\":[\"fire\"],\"legendgroup\":\"fire\",\"marker\":{\"color\":\"#19d3f3\",\"pattern\":{\"shape\":\"\"}},\"name\":\"fire\",\"offsetgroup\":\"fire\",\"orientation\":\"v\",\"showlegend\":true,\"textposition\":\"auto\",\"x\":[\"fire\"],\"xaxis\":\"x\",\"y\":[6],\"yaxis\":\"y\",\"type\":\"bar\"},{\"alignmentgroup\":\"True\",\"hovertemplate\":\"Type=%{x}\\u003cbr\\u003eRegion=Hoenn\\u003cbr\\u003eCount=%{y}\\u003cextra\\u003e\\u003c\\u002fextra\\u003e\",\"ids\":[\"ghost\"],\"legendgroup\":\"ghost\",\"marker\":{\"color\":\"#FF6692\",\"pattern\":{\"shape\":\"\"}},\"name\":\"ghost\",\"offsetgroup\":\"ghost\",\"orientation\":\"v\",\"showlegend\":true,\"textposition\":\"auto\",\"x\":[\"ghost\"],\"xaxis\":\"x\",\"y\":[4],\"yaxis\":\"y\",\"type\":\"bar\"},{\"alignmentgroup\":\"True\",\"hovertemplate\":\"Type=%{x}\\u003cbr\\u003eRegion=Hoenn\\u003cbr\\u003eCount=%{y}\\u003cextra\\u003e\\u003c\\u002fextra\\u003e\",\"ids\":[\"grass\"],\"legendgroup\":\"grass\",\"marker\":{\"color\":\"#B6E880\",\"pattern\":{\"shape\":\"\"}},\"name\":\"grass\",\"offsetgroup\":\"grass\",\"orientation\":\"v\",\"showlegend\":true,\"textposition\":\"auto\",\"x\":[\"grass\"],\"xaxis\":\"x\",\"y\":[12],\"yaxis\":\"y\",\"type\":\"bar\"},{\"alignmentgroup\":\"True\",\"hovertemplate\":\"Type=%{x}\\u003cbr\\u003eRegion=Hoenn\\u003cbr\\u003eCount=%{y}\\u003cextra\\u003e\\u003c\\u002fextra\\u003e\",\"ids\":[\"ground\"],\"legendgroup\":\"ground\",\"marker\":{\"color\":\"#FF97FF\",\"pattern\":{\"shape\":\"\"}},\"name\":\"ground\",\"offsetgroup\":\"ground\",\"orientation\":\"v\",\"showlegend\":true,\"textposition\":\"auto\",\"x\":[\"ground\"],\"xaxis\":\"x\",\"y\":[6],\"yaxis\":\"y\",\"type\":\"bar\"},{\"alignmentgroup\":\"True\",\"hovertemplate\":\"Type=%{x}\\u003cbr\\u003eRegion=Hoenn\\u003cbr\\u003eCount=%{y}\\u003cextra\\u003e\\u003c\\u002fextra\\u003e\",\"ids\":[\"ice\"],\"legendgroup\":\"ice\",\"marker\":{\"color\":\"#FECB52\",\"pattern\":{\"shape\":\"\"}},\"name\":\"ice\",\"offsetgroup\":\"ice\",\"orientation\":\"v\",\"showlegend\":true,\"textposition\":\"auto\",\"x\":[\"ice\"],\"xaxis\":\"x\",\"y\":[6],\"yaxis\":\"y\",\"type\":\"bar\"},{\"alignmentgroup\":\"True\",\"hovertemplate\":\"Type=%{x}\\u003cbr\\u003eRegion=Hoenn\\u003cbr\\u003eCount=%{y}\\u003cextra\\u003e\\u003c\\u002fextra\\u003e\",\"ids\":[\"normal\"],\"legendgroup\":\"normal\",\"marker\":{\"color\":\"#636efa\",\"pattern\":{\"shape\":\"\"}},\"name\":\"normal\",\"offsetgroup\":\"normal\",\"orientation\":\"v\",\"showlegend\":true,\"textposition\":\"auto\",\"x\":[\"normal\"],\"xaxis\":\"x\",\"y\":[18],\"yaxis\":\"y\",\"type\":\"bar\"},{\"alignmentgroup\":\"True\",\"hovertemplate\":\"Type=%{x}\\u003cbr\\u003eRegion=Hoenn\\u003cbr\\u003eCount=%{y}\\u003cextra\\u003e\\u003c\\u002fextra\\u003e\",\"ids\":[\"poison\"],\"legendgroup\":\"poison\",\"marker\":{\"color\":\"#EF553B\",\"pattern\":{\"shape\":\"\"}},\"name\":\"poison\",\"offsetgroup\":\"poison\",\"orientation\":\"v\",\"showlegend\":true,\"textposition\":\"auto\",\"x\":[\"poison\"],\"xaxis\":\"x\",\"y\":[3],\"yaxis\":\"y\",\"type\":\"bar\"},{\"alignmentgroup\":\"True\",\"hovertemplate\":\"Type=%{x}\\u003cbr\\u003eRegion=Hoenn\\u003cbr\\u003eCount=%{y}\\u003cextra\\u003e\\u003c\\u002fextra\\u003e\",\"ids\":[\"psychic\"],\"legendgroup\":\"psychic\",\"marker\":{\"color\":\"#00cc96\",\"pattern\":{\"shape\":\"\"}},\"name\":\"psychic\",\"offsetgroup\":\"psychic\",\"orientation\":\"v\",\"showlegend\":true,\"textposition\":\"auto\",\"x\":[\"psychic\"],\"xaxis\":\"x\",\"y\":[8],\"yaxis\":\"y\",\"type\":\"bar\"},{\"alignmentgroup\":\"True\",\"hovertemplate\":\"Type=%{x}\\u003cbr\\u003eRegion=Hoenn\\u003cbr\\u003eCount=%{y}\\u003cextra\\u003e\\u003c\\u002fextra\\u003e\",\"ids\":[\"rock\"],\"legendgroup\":\"rock\",\"marker\":{\"color\":\"#ab63fa\",\"pattern\":{\"shape\":\"\"}},\"name\":\"rock\",\"offsetgroup\":\"rock\",\"orientation\":\"v\",\"showlegend\":true,\"textposition\":\"auto\",\"x\":[\"rock\"],\"xaxis\":\"x\",\"y\":[8],\"yaxis\":\"y\",\"type\":\"bar\"},{\"alignmentgroup\":\"True\",\"hovertemplate\":\"Type=%{x}\\u003cbr\\u003eRegion=Hoenn\\u003cbr\\u003eCount=%{y}\\u003cextra\\u003e\\u003c\\u002fextra\\u003e\",\"ids\":[\"steel\"],\"legendgroup\":\"steel\",\"marker\":{\"color\":\"#FFA15A\",\"pattern\":{\"shape\":\"\"}},\"name\":\"steel\",\"offsetgroup\":\"steel\",\"orientation\":\"v\",\"showlegend\":true,\"textposition\":\"auto\",\"x\":[\"steel\"],\"xaxis\":\"x\",\"y\":[9],\"yaxis\":\"y\",\"type\":\"bar\"},{\"alignmentgroup\":\"True\",\"hovertemplate\":\"Type=%{x}\\u003cbr\\u003eRegion=Hoenn\\u003cbr\\u003eCount=%{y}\\u003cextra\\u003e\\u003c\\u002fextra\\u003e\",\"ids\":[\"water\"],\"legendgroup\":\"water\",\"marker\":{\"color\":\"#19d3f3\",\"pattern\":{\"shape\":\"\"}},\"name\":\"water\",\"offsetgroup\":\"water\",\"orientation\":\"v\",\"showlegend\":true,\"textposition\":\"auto\",\"x\":[\"water\"],\"xaxis\":\"x\",\"y\":[24],\"yaxis\":\"y\",\"type\":\"bar\"}],                        {\"template\":{\"data\":{\"histogram2dcontour\":[{\"type\":\"histogram2dcontour\",\"colorbar\":{\"outlinewidth\":0,\"ticks\":\"\"},\"colorscale\":[[0.0,\"#0d0887\"],[0.1111111111111111,\"#46039f\"],[0.2222222222222222,\"#7201a8\"],[0.3333333333333333,\"#9c179e\"],[0.4444444444444444,\"#bd3786\"],[0.5555555555555556,\"#d8576b\"],[0.6666666666666666,\"#ed7953\"],[0.7777777777777778,\"#fb9f3a\"],[0.8888888888888888,\"#fdca26\"],[1.0,\"#f0f921\"]]}],\"choropleth\":[{\"type\":\"choropleth\",\"colorbar\":{\"outlinewidth\":0,\"ticks\":\"\"}}],\"histogram2d\":[{\"type\":\"histogram2d\",\"colorbar\":{\"outlinewidth\":0,\"ticks\":\"\"},\"colorscale\":[[0.0,\"#0d0887\"],[0.1111111111111111,\"#46039f\"],[0.2222222222222222,\"#7201a8\"],[0.3333333333333333,\"#9c179e\"],[0.4444444444444444,\"#bd3786\"],[0.5555555555555556,\"#d8576b\"],[0.6666666666666666,\"#ed7953\"],[0.7777777777777778,\"#fb9f3a\"],[0.8888888888888888,\"#fdca26\"],[1.0,\"#f0f921\"]]}],\"heatmap\":[{\"type\":\"heatmap\",\"colorbar\":{\"outlinewidth\":0,\"ticks\":\"\"},\"colorscale\":[[0.0,\"#0d0887\"],[0.1111111111111111,\"#46039f\"],[0.2222222222222222,\"#7201a8\"],[0.3333333333333333,\"#9c179e\"],[0.4444444444444444,\"#bd3786\"],[0.5555555555555556,\"#d8576b\"],[0.6666666666666666,\"#ed7953\"],[0.7777777777777778,\"#fb9f3a\"],[0.8888888888888888,\"#fdca26\"],[1.0,\"#f0f921\"]]}],\"heatmapgl\":[{\"type\":\"heatmapgl\",\"colorbar\":{\"outlinewidth\":0,\"ticks\":\"\"},\"colorscale\":[[0.0,\"#0d0887\"],[0.1111111111111111,\"#46039f\"],[0.2222222222222222,\"#7201a8\"],[0.3333333333333333,\"#9c179e\"],[0.4444444444444444,\"#bd3786\"],[0.5555555555555556,\"#d8576b\"],[0.6666666666666666,\"#ed7953\"],[0.7777777777777778,\"#fb9f3a\"],[0.8888888888888888,\"#fdca26\"],[1.0,\"#f0f921\"]]}],\"contourcarpet\":[{\"type\":\"contourcarpet\",\"colorbar\":{\"outlinewidth\":0,\"ticks\":\"\"}}],\"contour\":[{\"type\":\"contour\",\"colorbar\":{\"outlinewidth\":0,\"ticks\":\"\"},\"colorscale\":[[0.0,\"#0d0887\"],[0.1111111111111111,\"#46039f\"],[0.2222222222222222,\"#7201a8\"],[0.3333333333333333,\"#9c179e\"],[0.4444444444444444,\"#bd3786\"],[0.5555555555555556,\"#d8576b\"],[0.6666666666666666,\"#ed7953\"],[0.7777777777777778,\"#fb9f3a\"],[0.8888888888888888,\"#fdca26\"],[1.0,\"#f0f921\"]]}],\"surface\":[{\"type\":\"surface\",\"colorbar\":{\"outlinewidth\":0,\"ticks\":\"\"},\"colorscale\":[[0.0,\"#0d0887\"],[0.1111111111111111,\"#46039f\"],[0.2222222222222222,\"#7201a8\"],[0.3333333333333333,\"#9c179e\"],[0.4444444444444444,\"#bd3786\"],[0.5555555555555556,\"#d8576b\"],[0.6666666666666666,\"#ed7953\"],[0.7777777777777778,\"#fb9f3a\"],[0.8888888888888888,\"#fdca26\"],[1.0,\"#f0f921\"]]}],\"mesh3d\":[{\"type\":\"mesh3d\",\"colorbar\":{\"outlinewidth\":0,\"ticks\":\"\"}}],\"scatter\":[{\"fillpattern\":{\"fillmode\":\"overlay\",\"size\":10,\"solidity\":0.2},\"type\":\"scatter\"}],\"parcoords\":[{\"type\":\"parcoords\",\"line\":{\"colorbar\":{\"outlinewidth\":0,\"ticks\":\"\"}}}],\"scatterpolargl\":[{\"type\":\"scatterpolargl\",\"marker\":{\"colorbar\":{\"outlinewidth\":0,\"ticks\":\"\"}}}],\"bar\":[{\"error_x\":{\"color\":\"#2a3f5f\"},\"error_y\":{\"color\":\"#2a3f5f\"},\"marker\":{\"line\":{\"color\":\"#E5ECF6\",\"width\":0.5},\"pattern\":{\"fillmode\":\"overlay\",\"size\":10,\"solidity\":0.2}},\"type\":\"bar\"}],\"scattergeo\":[{\"type\":\"scattergeo\",\"marker\":{\"colorbar\":{\"outlinewidth\":0,\"ticks\":\"\"}}}],\"scatterpolar\":[{\"type\":\"scatterpolar\",\"marker\":{\"colorbar\":{\"outlinewidth\":0,\"ticks\":\"\"}}}],\"histogram\":[{\"marker\":{\"pattern\":{\"fillmode\":\"overlay\",\"size\":10,\"solidity\":0.2}},\"type\":\"histogram\"}],\"scattergl\":[{\"type\":\"scattergl\",\"marker\":{\"colorbar\":{\"outlinewidth\":0,\"ticks\":\"\"}}}],\"scatter3d\":[{\"type\":\"scatter3d\",\"line\":{\"colorbar\":{\"outlinewidth\":0,\"ticks\":\"\"}},\"marker\":{\"colorbar\":{\"outlinewidth\":0,\"ticks\":\"\"}}}],\"scattermapbox\":[{\"type\":\"scattermapbox\",\"marker\":{\"colorbar\":{\"outlinewidth\":0,\"ticks\":\"\"}}}],\"scatterternary\":[{\"type\":\"scatterternary\",\"marker\":{\"colorbar\":{\"outlinewidth\":0,\"ticks\":\"\"}}}],\"scattercarpet\":[{\"type\":\"scattercarpet\",\"marker\":{\"colorbar\":{\"outlinewidth\":0,\"ticks\":\"\"}}}],\"carpet\":[{\"aaxis\":{\"endlinecolor\":\"#2a3f5f\",\"gridcolor\":\"white\",\"linecolor\":\"white\",\"minorgridcolor\":\"white\",\"startlinecolor\":\"#2a3f5f\"},\"baxis\":{\"endlinecolor\":\"#2a3f5f\",\"gridcolor\":\"white\",\"linecolor\":\"white\",\"minorgridcolor\":\"white\",\"startlinecolor\":\"#2a3f5f\"},\"type\":\"carpet\"}],\"table\":[{\"cells\":{\"fill\":{\"color\":\"#EBF0F8\"},\"line\":{\"color\":\"white\"}},\"header\":{\"fill\":{\"color\":\"#C8D4E3\"},\"line\":{\"color\":\"white\"}},\"type\":\"table\"}],\"barpolar\":[{\"marker\":{\"line\":{\"color\":\"#E5ECF6\",\"width\":0.5},\"pattern\":{\"fillmode\":\"overlay\",\"size\":10,\"solidity\":0.2}},\"type\":\"barpolar\"}],\"pie\":[{\"automargin\":true,\"type\":\"pie\"}]},\"layout\":{\"autotypenumbers\":\"strict\",\"colorway\":[\"#636efa\",\"#EF553B\",\"#00cc96\",\"#ab63fa\",\"#FFA15A\",\"#19d3f3\",\"#FF6692\",\"#B6E880\",\"#FF97FF\",\"#FECB52\"],\"font\":{\"color\":\"#2a3f5f\"},\"hovermode\":\"closest\",\"hoverlabel\":{\"align\":\"left\"},\"paper_bgcolor\":\"white\",\"plot_bgcolor\":\"#E5ECF6\",\"polar\":{\"bgcolor\":\"#E5ECF6\",\"angularaxis\":{\"gridcolor\":\"white\",\"linecolor\":\"white\",\"ticks\":\"\"},\"radialaxis\":{\"gridcolor\":\"white\",\"linecolor\":\"white\",\"ticks\":\"\"}},\"ternary\":{\"bgcolor\":\"#E5ECF6\",\"aaxis\":{\"gridcolor\":\"white\",\"linecolor\":\"white\",\"ticks\":\"\"},\"baxis\":{\"gridcolor\":\"white\",\"linecolor\":\"white\",\"ticks\":\"\"},\"caxis\":{\"gridcolor\":\"white\",\"linecolor\":\"white\",\"ticks\":\"\"}},\"coloraxis\":{\"colorbar\":{\"outlinewidth\":0,\"ticks\":\"\"}},\"colorscale\":{\"sequential\":[[0.0,\"#0d0887\"],[0.1111111111111111,\"#46039f\"],[0.2222222222222222,\"#7201a8\"],[0.3333333333333333,\"#9c179e\"],[0.4444444444444444,\"#bd3786\"],[0.5555555555555556,\"#d8576b\"],[0.6666666666666666,\"#ed7953\"],[0.7777777777777778,\"#fb9f3a\"],[0.8888888888888888,\"#fdca26\"],[1.0,\"#f0f921\"]],\"sequentialminus\":[[0.0,\"#0d0887\"],[0.1111111111111111,\"#46039f\"],[0.2222222222222222,\"#7201a8\"],[0.3333333333333333,\"#9c179e\"],[0.4444444444444444,\"#bd3786\"],[0.5555555555555556,\"#d8576b\"],[0.6666666666666666,\"#ed7953\"],[0.7777777777777778,\"#fb9f3a\"],[0.8888888888888888,\"#fdca26\"],[1.0,\"#f0f921\"]],\"diverging\":[[0,\"#8e0152\"],[0.1,\"#c51b7d\"],[0.2,\"#de77ae\"],[0.3,\"#f1b6da\"],[0.4,\"#fde0ef\"],[0.5,\"#f7f7f7\"],[0.6,\"#e6f5d0\"],[0.7,\"#b8e186\"],[0.8,\"#7fbc41\"],[0.9,\"#4d9221\"],[1,\"#276419\"]]},\"xaxis\":{\"gridcolor\":\"white\",\"linecolor\":\"white\",\"ticks\":\"\",\"title\":{\"standoff\":15},\"zerolinecolor\":\"white\",\"automargin\":true,\"zerolinewidth\":2},\"yaxis\":{\"gridcolor\":\"white\",\"linecolor\":\"white\",\"ticks\":\"\",\"title\":{\"standoff\":15},\"zerolinecolor\":\"white\",\"automargin\":true,\"zerolinewidth\":2},\"scene\":{\"xaxis\":{\"backgroundcolor\":\"#E5ECF6\",\"gridcolor\":\"white\",\"linecolor\":\"white\",\"showbackground\":true,\"ticks\":\"\",\"zerolinecolor\":\"white\",\"gridwidth\":2},\"yaxis\":{\"backgroundcolor\":\"#E5ECF6\",\"gridcolor\":\"white\",\"linecolor\":\"white\",\"showbackground\":true,\"ticks\":\"\",\"zerolinecolor\":\"white\",\"gridwidth\":2},\"zaxis\":{\"backgroundcolor\":\"#E5ECF6\",\"gridcolor\":\"white\",\"linecolor\":\"white\",\"showbackground\":true,\"ticks\":\"\",\"zerolinecolor\":\"white\",\"gridwidth\":2}},\"shapedefaults\":{\"line\":{\"color\":\"#2a3f5f\"}},\"annotationdefaults\":{\"arrowcolor\":\"#2a3f5f\",\"arrowhead\":0,\"arrowwidth\":1},\"geo\":{\"bgcolor\":\"white\",\"landcolor\":\"#E5ECF6\",\"subunitcolor\":\"white\",\"showland\":true,\"showlakes\":true,\"lakecolor\":\"white\"},\"title\":{\"x\":0.05},\"mapbox\":{\"style\":\"light\"}}},\"xaxis\":{\"anchor\":\"y\",\"domain\":[0.0,1.0],\"title\":{\"text\":\"Type\"},\"categoryorder\":\"array\",\"categoryarray\":[\"bug\",\"dark\",\"dragon\",\"electric\",\"fighting\",\"fire\",\"ghost\",\"grass\",\"ground\",\"ice\",\"normal\",\"poison\",\"psychic\",\"rock\",\"steel\",\"water\",\"fairy\"]},\"yaxis\":{\"anchor\":\"x\",\"domain\":[0.0,1.0],\"title\":{\"text\":\"Count\"},\"range\":[0,28]},\"legend\":{\"title\":{\"text\":\"Type\"},\"tracegroupgap\":0},\"title\":{\"text\":\"Amount type of pokemon by region\"},\"barmode\":\"relative\",\"updatemenus\":[{\"buttons\":[{\"args\":[null,{\"frame\":{\"duration\":500,\"redraw\":true},\"mode\":\"immediate\",\"fromcurrent\":true,\"transition\":{\"duration\":500,\"easing\":\"linear\"}}],\"label\":\"&#9654;\",\"method\":\"animate\"},{\"args\":[[null],{\"frame\":{\"duration\":0,\"redraw\":true},\"mode\":\"immediate\",\"fromcurrent\":true,\"transition\":{\"duration\":0,\"easing\":\"linear\"}}],\"label\":\"&#9724;\",\"method\":\"animate\"}],\"direction\":\"left\",\"pad\":{\"r\":10,\"t\":70},\"showactive\":false,\"type\":\"buttons\",\"x\":0.1,\"xanchor\":\"right\",\"y\":0,\"yanchor\":\"top\"}],\"sliders\":[{\"active\":0,\"currentvalue\":{\"prefix\":\"Region=\"},\"len\":0.9,\"pad\":{\"b\":10,\"t\":60},\"steps\":[{\"args\":[[\"Hoenn\"],{\"frame\":{\"duration\":0,\"redraw\":true},\"mode\":\"immediate\",\"fromcurrent\":true,\"transition\":{\"duration\":0,\"easing\":\"linear\"}}],\"label\":\"Hoenn\",\"method\":\"animate\"},{\"args\":[[\"Johto\"],{\"frame\":{\"duration\":0,\"redraw\":true},\"mode\":\"immediate\",\"fromcurrent\":true,\"transition\":{\"duration\":0,\"easing\":\"linear\"}}],\"label\":\"Johto\",\"method\":\"animate\"},{\"args\":[[\"Kanto\"],{\"frame\":{\"duration\":0,\"redraw\":true},\"mode\":\"immediate\",\"fromcurrent\":true,\"transition\":{\"duration\":0,\"easing\":\"linear\"}}],\"label\":\"Kanto\",\"method\":\"animate\"},{\"args\":[[\"Sinnoh\"],{\"frame\":{\"duration\":0,\"redraw\":true},\"mode\":\"immediate\",\"fromcurrent\":true,\"transition\":{\"duration\":0,\"easing\":\"linear\"}}],\"label\":\"Sinnoh\",\"method\":\"animate\"}],\"x\":0.1,\"xanchor\":\"left\",\"y\":0,\"yanchor\":\"top\"}]},                        {\"responsive\": true}                    ).then(function(){\n",
              "                            Plotly.addFrames('9ea58db0-763e-45c7-9a18-5fa0db5fac3f', [{\"data\":[{\"alignmentgroup\":\"True\",\"hovertemplate\":\"Type=%{x}\\u003cbr\\u003eRegion=Hoenn\\u003cbr\\u003eCount=%{y}\\u003cextra\\u003e\\u003c\\u002fextra\\u003e\",\"ids\":[\"bug\"],\"legendgroup\":\"bug\",\"marker\":{\"color\":\"#636efa\",\"pattern\":{\"shape\":\"\"}},\"name\":\"bug\",\"offsetgroup\":\"bug\",\"orientation\":\"v\",\"showlegend\":true,\"textposition\":\"auto\",\"x\":[\"bug\"],\"xaxis\":\"x\",\"y\":[12],\"yaxis\":\"y\",\"type\":\"bar\"},{\"alignmentgroup\":\"True\",\"hovertemplate\":\"Type=%{x}\\u003cbr\\u003eRegion=Hoenn\\u003cbr\\u003eCount=%{y}\\u003cextra\\u003e\\u003c\\u002fextra\\u003e\",\"ids\":[\"dark\"],\"legendgroup\":\"dark\",\"marker\":{\"color\":\"#EF553B\",\"pattern\":{\"shape\":\"\"}},\"name\":\"dark\",\"offsetgroup\":\"dark\",\"orientation\":\"v\",\"showlegend\":true,\"textposition\":\"auto\",\"x\":[\"dark\"],\"xaxis\":\"x\",\"y\":[4],\"yaxis\":\"y\",\"type\":\"bar\"},{\"alignmentgroup\":\"True\",\"hovertemplate\":\"Type=%{x}\\u003cbr\\u003eRegion=Hoenn\\u003cbr\\u003eCount=%{y}\\u003cextra\\u003e\\u003c\\u002fextra\\u003e\",\"ids\":[\"dragon\"],\"legendgroup\":\"dragon\",\"marker\":{\"color\":\"#00cc96\",\"pattern\":{\"shape\":\"\"}},\"name\":\"dragon\",\"offsetgroup\":\"dragon\",\"orientation\":\"v\",\"showlegend\":true,\"textposition\":\"auto\",\"x\":[\"dragon\"],\"xaxis\":\"x\",\"y\":[7],\"yaxis\":\"y\",\"type\":\"bar\"},{\"alignmentgroup\":\"True\",\"hovertemplate\":\"Type=%{x}\\u003cbr\\u003eRegion=Hoenn\\u003cbr\\u003eCount=%{y}\\u003cextra\\u003e\\u003c\\u002fextra\\u003e\",\"ids\":[\"electric\"],\"legendgroup\":\"electric\",\"marker\":{\"color\":\"#ab63fa\",\"pattern\":{\"shape\":\"\"}},\"name\":\"electric\",\"offsetgroup\":\"electric\",\"orientation\":\"v\",\"showlegend\":true,\"textposition\":\"auto\",\"x\":[\"electric\"],\"xaxis\":\"x\",\"y\":[4],\"yaxis\":\"y\",\"type\":\"bar\"},{\"alignmentgroup\":\"True\",\"hovertemplate\":\"Type=%{x}\\u003cbr\\u003eRegion=Hoenn\\u003cbr\\u003eCount=%{y}\\u003cextra\\u003e\\u003c\\u002fextra\\u003e\",\"ids\":[\"fighting\"],\"legendgroup\":\"fighting\",\"marker\":{\"color\":\"#FFA15A\",\"pattern\":{\"shape\":\"\"}},\"name\":\"fighting\",\"offsetgroup\":\"fighting\",\"orientation\":\"v\",\"showlegend\":true,\"textposition\":\"auto\",\"x\":[\"fighting\"],\"xaxis\":\"x\",\"y\":[4],\"yaxis\":\"y\",\"type\":\"bar\"},{\"alignmentgroup\":\"True\",\"hovertemplate\":\"Type=%{x}\\u003cbr\\u003eRegion=Hoenn\\u003cbr\\u003eCount=%{y}\\u003cextra\\u003e\\u003c\\u002fextra\\u003e\",\"ids\":[\"fire\"],\"legendgroup\":\"fire\",\"marker\":{\"color\":\"#19d3f3\",\"pattern\":{\"shape\":\"\"}},\"name\":\"fire\",\"offsetgroup\":\"fire\",\"orientation\":\"v\",\"showlegend\":true,\"textposition\":\"auto\",\"x\":[\"fire\"],\"xaxis\":\"x\",\"y\":[6],\"yaxis\":\"y\",\"type\":\"bar\"},{\"alignmentgroup\":\"True\",\"hovertemplate\":\"Type=%{x}\\u003cbr\\u003eRegion=Hoenn\\u003cbr\\u003eCount=%{y}\\u003cextra\\u003e\\u003c\\u002fextra\\u003e\",\"ids\":[\"ghost\"],\"legendgroup\":\"ghost\",\"marker\":{\"color\":\"#FF6692\",\"pattern\":{\"shape\":\"\"}},\"name\":\"ghost\",\"offsetgroup\":\"ghost\",\"orientation\":\"v\",\"showlegend\":true,\"textposition\":\"auto\",\"x\":[\"ghost\"],\"xaxis\":\"x\",\"y\":[4],\"yaxis\":\"y\",\"type\":\"bar\"},{\"alignmentgroup\":\"True\",\"hovertemplate\":\"Type=%{x}\\u003cbr\\u003eRegion=Hoenn\\u003cbr\\u003eCount=%{y}\\u003cextra\\u003e\\u003c\\u002fextra\\u003e\",\"ids\":[\"grass\"],\"legendgroup\":\"grass\",\"marker\":{\"color\":\"#B6E880\",\"pattern\":{\"shape\":\"\"}},\"name\":\"grass\",\"offsetgroup\":\"grass\",\"orientation\":\"v\",\"showlegend\":true,\"textposition\":\"auto\",\"x\":[\"grass\"],\"xaxis\":\"x\",\"y\":[12],\"yaxis\":\"y\",\"type\":\"bar\"},{\"alignmentgroup\":\"True\",\"hovertemplate\":\"Type=%{x}\\u003cbr\\u003eRegion=Hoenn\\u003cbr\\u003eCount=%{y}\\u003cextra\\u003e\\u003c\\u002fextra\\u003e\",\"ids\":[\"ground\"],\"legendgroup\":\"ground\",\"marker\":{\"color\":\"#FF97FF\",\"pattern\":{\"shape\":\"\"}},\"name\":\"ground\",\"offsetgroup\":\"ground\",\"orientation\":\"v\",\"showlegend\":true,\"textposition\":\"auto\",\"x\":[\"ground\"],\"xaxis\":\"x\",\"y\":[6],\"yaxis\":\"y\",\"type\":\"bar\"},{\"alignmentgroup\":\"True\",\"hovertemplate\":\"Type=%{x}\\u003cbr\\u003eRegion=Hoenn\\u003cbr\\u003eCount=%{y}\\u003cextra\\u003e\\u003c\\u002fextra\\u003e\",\"ids\":[\"ice\"],\"legendgroup\":\"ice\",\"marker\":{\"color\":\"#FECB52\",\"pattern\":{\"shape\":\"\"}},\"name\":\"ice\",\"offsetgroup\":\"ice\",\"orientation\":\"v\",\"showlegend\":true,\"textposition\":\"auto\",\"x\":[\"ice\"],\"xaxis\":\"x\",\"y\":[6],\"yaxis\":\"y\",\"type\":\"bar\"},{\"alignmentgroup\":\"True\",\"hovertemplate\":\"Type=%{x}\\u003cbr\\u003eRegion=Hoenn\\u003cbr\\u003eCount=%{y}\\u003cextra\\u003e\\u003c\\u002fextra\\u003e\",\"ids\":[\"normal\"],\"legendgroup\":\"normal\",\"marker\":{\"color\":\"#636efa\",\"pattern\":{\"shape\":\"\"}},\"name\":\"normal\",\"offsetgroup\":\"normal\",\"orientation\":\"v\",\"showlegend\":true,\"textposition\":\"auto\",\"x\":[\"normal\"],\"xaxis\":\"x\",\"y\":[18],\"yaxis\":\"y\",\"type\":\"bar\"},{\"alignmentgroup\":\"True\",\"hovertemplate\":\"Type=%{x}\\u003cbr\\u003eRegion=Hoenn\\u003cbr\\u003eCount=%{y}\\u003cextra\\u003e\\u003c\\u002fextra\\u003e\",\"ids\":[\"poison\"],\"legendgroup\":\"poison\",\"marker\":{\"color\":\"#EF553B\",\"pattern\":{\"shape\":\"\"}},\"name\":\"poison\",\"offsetgroup\":\"poison\",\"orientation\":\"v\",\"showlegend\":true,\"textposition\":\"auto\",\"x\":[\"poison\"],\"xaxis\":\"x\",\"y\":[3],\"yaxis\":\"y\",\"type\":\"bar\"},{\"alignmentgroup\":\"True\",\"hovertemplate\":\"Type=%{x}\\u003cbr\\u003eRegion=Hoenn\\u003cbr\\u003eCount=%{y}\\u003cextra\\u003e\\u003c\\u002fextra\\u003e\",\"ids\":[\"psychic\"],\"legendgroup\":\"psychic\",\"marker\":{\"color\":\"#00cc96\",\"pattern\":{\"shape\":\"\"}},\"name\":\"psychic\",\"offsetgroup\":\"psychic\",\"orientation\":\"v\",\"showlegend\":true,\"textposition\":\"auto\",\"x\":[\"psychic\"],\"xaxis\":\"x\",\"y\":[8],\"yaxis\":\"y\",\"type\":\"bar\"},{\"alignmentgroup\":\"True\",\"hovertemplate\":\"Type=%{x}\\u003cbr\\u003eRegion=Hoenn\\u003cbr\\u003eCount=%{y}\\u003cextra\\u003e\\u003c\\u002fextra\\u003e\",\"ids\":[\"rock\"],\"legendgroup\":\"rock\",\"marker\":{\"color\":\"#ab63fa\",\"pattern\":{\"shape\":\"\"}},\"name\":\"rock\",\"offsetgroup\":\"rock\",\"orientation\":\"v\",\"showlegend\":true,\"textposition\":\"auto\",\"x\":[\"rock\"],\"xaxis\":\"x\",\"y\":[8],\"yaxis\":\"y\",\"type\":\"bar\"},{\"alignmentgroup\":\"True\",\"hovertemplate\":\"Type=%{x}\\u003cbr\\u003eRegion=Hoenn\\u003cbr\\u003eCount=%{y}\\u003cextra\\u003e\\u003c\\u002fextra\\u003e\",\"ids\":[\"steel\"],\"legendgroup\":\"steel\",\"marker\":{\"color\":\"#FFA15A\",\"pattern\":{\"shape\":\"\"}},\"name\":\"steel\",\"offsetgroup\":\"steel\",\"orientation\":\"v\",\"showlegend\":true,\"textposition\":\"auto\",\"x\":[\"steel\"],\"xaxis\":\"x\",\"y\":[9],\"yaxis\":\"y\",\"type\":\"bar\"},{\"alignmentgroup\":\"True\",\"hovertemplate\":\"Type=%{x}\\u003cbr\\u003eRegion=Hoenn\\u003cbr\\u003eCount=%{y}\\u003cextra\\u003e\\u003c\\u002fextra\\u003e\",\"ids\":[\"water\"],\"legendgroup\":\"water\",\"marker\":{\"color\":\"#19d3f3\",\"pattern\":{\"shape\":\"\"}},\"name\":\"water\",\"offsetgroup\":\"water\",\"orientation\":\"v\",\"showlegend\":true,\"textposition\":\"auto\",\"x\":[\"water\"],\"xaxis\":\"x\",\"y\":[24],\"yaxis\":\"y\",\"type\":\"bar\"}],\"name\":\"Hoenn\"},{\"data\":[{\"alignmentgroup\":\"True\",\"hovertemplate\":\"Type=%{x}\\u003cbr\\u003eRegion=Johto\\u003cbr\\u003eCount=%{y}\\u003cextra\\u003e\\u003c\\u002fextra\\u003e\",\"ids\":[\"bug\"],\"legendgroup\":\"bug\",\"marker\":{\"color\":\"#636efa\",\"pattern\":{\"shape\":\"\"}},\"name\":\"bug\",\"offsetgroup\":\"bug\",\"orientation\":\"v\",\"showlegend\":true,\"textposition\":\"auto\",\"x\":[\"bug\"],\"xaxis\":\"x\",\"y\":[10],\"yaxis\":\"y\",\"type\":\"bar\"},{\"alignmentgroup\":\"True\",\"hovertemplate\":\"Type=%{x}\\u003cbr\\u003eRegion=Johto\\u003cbr\\u003eCount=%{y}\\u003cextra\\u003e\\u003c\\u002fextra\\u003e\",\"ids\":[\"dark\"],\"legendgroup\":\"dark\",\"marker\":{\"color\":\"#EF553B\",\"pattern\":{\"shape\":\"\"}},\"name\":\"dark\",\"offsetgroup\":\"dark\",\"orientation\":\"v\",\"showlegend\":true,\"textposition\":\"auto\",\"x\":[\"dark\"],\"xaxis\":\"x\",\"y\":[5],\"yaxis\":\"y\",\"type\":\"bar\"},{\"alignmentgroup\":\"True\",\"hovertemplate\":\"Type=%{x}\\u003cbr\\u003eRegion=Johto\\u003cbr\\u003eCount=%{y}\\u003cextra\\u003e\\u003c\\u002fextra\\u003e\",\"ids\":[\"electric\"],\"legendgroup\":\"electric\",\"marker\":{\"color\":\"#ab63fa\",\"pattern\":{\"shape\":\"\"}},\"name\":\"electric\",\"offsetgroup\":\"electric\",\"orientation\":\"v\",\"showlegend\":true,\"textposition\":\"auto\",\"x\":[\"electric\"],\"xaxis\":\"x\",\"y\":[6],\"yaxis\":\"y\",\"type\":\"bar\"},{\"alignmentgroup\":\"True\",\"hovertemplate\":\"Type=%{x}\\u003cbr\\u003eRegion=Johto\\u003cbr\\u003eCount=%{y}\\u003cextra\\u003e\\u003c\\u002fextra\\u003e\",\"ids\":[\"fighting\"],\"legendgroup\":\"fighting\",\"marker\":{\"color\":\"#FFA15A\",\"pattern\":{\"shape\":\"\"}},\"name\":\"fighting\",\"offsetgroup\":\"fighting\",\"orientation\":\"v\",\"showlegend\":true,\"textposition\":\"auto\",\"x\":[\"fighting\"],\"xaxis\":\"x\",\"y\":[2],\"yaxis\":\"y\",\"type\":\"bar\"},{\"alignmentgroup\":\"True\",\"hovertemplate\":\"Type=%{x}\\u003cbr\\u003eRegion=Johto\\u003cbr\\u003eCount=%{y}\\u003cextra\\u003e\\u003c\\u002fextra\\u003e\",\"ids\":[\"fire\"],\"legendgroup\":\"fire\",\"marker\":{\"color\":\"#19d3f3\",\"pattern\":{\"shape\":\"\"}},\"name\":\"fire\",\"offsetgroup\":\"fire\",\"orientation\":\"v\",\"showlegend\":true,\"textposition\":\"auto\",\"x\":[\"fire\"],\"xaxis\":\"x\",\"y\":[8],\"yaxis\":\"y\",\"type\":\"bar\"},{\"alignmentgroup\":\"True\",\"hovertemplate\":\"Type=%{x}\\u003cbr\\u003eRegion=Johto\\u003cbr\\u003eCount=%{y}\\u003cextra\\u003e\\u003c\\u002fextra\\u003e\",\"ids\":[\"ghost\"],\"legendgroup\":\"ghost\",\"marker\":{\"color\":\"#FF6692\",\"pattern\":{\"shape\":\"\"}},\"name\":\"ghost\",\"offsetgroup\":\"ghost\",\"orientation\":\"v\",\"showlegend\":true,\"textposition\":\"auto\",\"x\":[\"ghost\"],\"xaxis\":\"x\",\"y\":[1],\"yaxis\":\"y\",\"type\":\"bar\"},{\"alignmentgroup\":\"True\",\"hovertemplate\":\"Type=%{x}\\u003cbr\\u003eRegion=Johto\\u003cbr\\u003eCount=%{y}\\u003cextra\\u003e\\u003c\\u002fextra\\u003e\",\"ids\":[\"grass\"],\"legendgroup\":\"grass\",\"marker\":{\"color\":\"#B6E880\",\"pattern\":{\"shape\":\"\"}},\"name\":\"grass\",\"offsetgroup\":\"grass\",\"orientation\":\"v\",\"showlegend\":true,\"textposition\":\"auto\",\"x\":[\"grass\"],\"xaxis\":\"x\",\"y\":[9],\"yaxis\":\"y\",\"type\":\"bar\"},{\"alignmentgroup\":\"True\",\"hovertemplate\":\"Type=%{x}\\u003cbr\\u003eRegion=Johto\\u003cbr\\u003eCount=%{y}\\u003cextra\\u003e\\u003c\\u002fextra\\u003e\",\"ids\":[\"ground\"],\"legendgroup\":\"ground\",\"marker\":{\"color\":\"#FF97FF\",\"pattern\":{\"shape\":\"\"}},\"name\":\"ground\",\"offsetgroup\":\"ground\",\"orientation\":\"v\",\"showlegend\":true,\"textposition\":\"auto\",\"x\":[\"ground\"],\"xaxis\":\"x\",\"y\":[3],\"yaxis\":\"y\",\"type\":\"bar\"},{\"alignmentgroup\":\"True\",\"hovertemplate\":\"Type=%{x}\\u003cbr\\u003eRegion=Johto\\u003cbr\\u003eCount=%{y}\\u003cextra\\u003e\\u003c\\u002fextra\\u003e\",\"ids\":[\"ice\"],\"legendgroup\":\"ice\",\"marker\":{\"color\":\"#FECB52\",\"pattern\":{\"shape\":\"\"}},\"name\":\"ice\",\"offsetgroup\":\"ice\",\"orientation\":\"v\",\"showlegend\":true,\"textposition\":\"auto\",\"x\":[\"ice\"],\"xaxis\":\"x\",\"y\":[4],\"yaxis\":\"y\",\"type\":\"bar\"},{\"alignmentgroup\":\"True\",\"hovertemplate\":\"Type=%{x}\\u003cbr\\u003eRegion=Johto\\u003cbr\\u003eCount=%{y}\\u003cextra\\u003e\\u003c\\u002fextra\\u003e\",\"ids\":[\"normal\"],\"legendgroup\":\"normal\",\"marker\":{\"color\":\"#636efa\",\"pattern\":{\"shape\":\"\"}},\"name\":\"normal\",\"offsetgroup\":\"normal\",\"orientation\":\"v\",\"showlegend\":true,\"textposition\":\"auto\",\"x\":[\"normal\"],\"xaxis\":\"x\",\"y\":[15],\"yaxis\":\"y\",\"type\":\"bar\"},{\"alignmentgroup\":\"True\",\"hovertemplate\":\"Type=%{x}\\u003cbr\\u003eRegion=Johto\\u003cbr\\u003eCount=%{y}\\u003cextra\\u003e\\u003c\\u002fextra\\u003e\",\"ids\":[\"poison\"],\"legendgroup\":\"poison\",\"marker\":{\"color\":\"#EF553B\",\"pattern\":{\"shape\":\"\"}},\"name\":\"poison\",\"offsetgroup\":\"poison\",\"orientation\":\"v\",\"showlegend\":true,\"textposition\":\"auto\",\"x\":[\"poison\"],\"xaxis\":\"x\",\"y\":[1],\"yaxis\":\"y\",\"type\":\"bar\"},{\"alignmentgroup\":\"True\",\"hovertemplate\":\"Type=%{x}\\u003cbr\\u003eRegion=Johto\\u003cbr\\u003eCount=%{y}\\u003cextra\\u003e\\u003c\\u002fextra\\u003e\",\"ids\":[\"psychic\"],\"legendgroup\":\"psychic\",\"marker\":{\"color\":\"#00cc96\",\"pattern\":{\"shape\":\"\"}},\"name\":\"psychic\",\"offsetgroup\":\"psychic\",\"orientation\":\"v\",\"showlegend\":true,\"textposition\":\"auto\",\"x\":[\"psychic\"],\"xaxis\":\"x\",\"y\":[7],\"yaxis\":\"y\",\"type\":\"bar\"},{\"alignmentgroup\":\"True\",\"hovertemplate\":\"Type=%{x}\\u003cbr\\u003eRegion=Johto\\u003cbr\\u003eCount=%{y}\\u003cextra\\u003e\\u003c\\u002fextra\\u003e\",\"ids\":[\"rock\"],\"legendgroup\":\"rock\",\"marker\":{\"color\":\"#ab63fa\",\"pattern\":{\"shape\":\"\"}},\"name\":\"rock\",\"offsetgroup\":\"rock\",\"orientation\":\"v\",\"showlegend\":true,\"textposition\":\"auto\",\"x\":[\"rock\"],\"xaxis\":\"x\",\"y\":[4],\"yaxis\":\"y\",\"type\":\"bar\"},{\"alignmentgroup\":\"True\",\"hovertemplate\":\"Type=%{x}\\u003cbr\\u003eRegion=Johto\\u003cbr\\u003eCount=%{y}\\u003cextra\\u003e\\u003c\\u002fextra\\u003e\",\"ids\":[\"steel\"],\"legendgroup\":\"steel\",\"marker\":{\"color\":\"#FFA15A\",\"pattern\":{\"shape\":\"\"}},\"name\":\"steel\",\"offsetgroup\":\"steel\",\"orientation\":\"v\",\"showlegend\":true,\"textposition\":\"auto\",\"x\":[\"steel\"],\"xaxis\":\"x\",\"y\":[2],\"yaxis\":\"y\",\"type\":\"bar\"},{\"alignmentgroup\":\"True\",\"hovertemplate\":\"Type=%{x}\\u003cbr\\u003eRegion=Johto\\u003cbr\\u003eCount=%{y}\\u003cextra\\u003e\\u003c\\u002fextra\\u003e\",\"ids\":[\"water\"],\"legendgroup\":\"water\",\"marker\":{\"color\":\"#19d3f3\",\"pattern\":{\"shape\":\"\"}},\"name\":\"water\",\"offsetgroup\":\"water\",\"orientation\":\"v\",\"showlegend\":true,\"textposition\":\"auto\",\"x\":[\"water\"],\"xaxis\":\"x\",\"y\":[18],\"yaxis\":\"y\",\"type\":\"bar\"},{\"alignmentgroup\":\"True\",\"hovertemplate\":\"Type=%{x}\\u003cbr\\u003eRegion=Johto\\u003cbr\\u003eCount=%{y}\\u003cextra\\u003e\\u003c\\u002fextra\\u003e\",\"ids\":[\"fairy\"],\"legendgroup\":\"fairy\",\"marker\":{\"color\":\"#FF6692\",\"pattern\":{\"shape\":\"\"}},\"name\":\"fairy\",\"offsetgroup\":\"fairy\",\"orientation\":\"v\",\"showlegend\":true,\"textposition\":\"auto\",\"x\":[\"fairy\"],\"xaxis\":\"x\",\"y\":[5],\"yaxis\":\"y\",\"type\":\"bar\"}],\"name\":\"Johto\"},{\"data\":[{\"alignmentgroup\":\"True\",\"hovertemplate\":\"Type=%{x}\\u003cbr\\u003eRegion=Kanto\\u003cbr\\u003eCount=%{y}\\u003cextra\\u003e\\u003c\\u002fextra\\u003e\",\"ids\":[\"bug\"],\"legendgroup\":\"bug\",\"marker\":{\"color\":\"#636efa\",\"pattern\":{\"shape\":\"\"}},\"name\":\"bug\",\"offsetgroup\":\"bug\",\"orientation\":\"v\",\"showlegend\":true,\"textposition\":\"auto\",\"x\":[\"bug\"],\"xaxis\":\"x\",\"y\":[12],\"yaxis\":\"y\",\"type\":\"bar\"},{\"alignmentgroup\":\"True\",\"hovertemplate\":\"Type=%{x}\\u003cbr\\u003eRegion=Kanto\\u003cbr\\u003eCount=%{y}\\u003cextra\\u003e\\u003c\\u002fextra\\u003e\",\"ids\":[\"dragon\"],\"legendgroup\":\"dragon\",\"marker\":{\"color\":\"#00cc96\",\"pattern\":{\"shape\":\"\"}},\"name\":\"dragon\",\"offsetgroup\":\"dragon\",\"orientation\":\"v\",\"showlegend\":true,\"textposition\":\"auto\",\"x\":[\"dragon\"],\"xaxis\":\"x\",\"y\":[3],\"yaxis\":\"y\",\"type\":\"bar\"},{\"alignmentgroup\":\"True\",\"hovertemplate\":\"Type=%{x}\\u003cbr\\u003eRegion=Kanto\\u003cbr\\u003eCount=%{y}\\u003cextra\\u003e\\u003c\\u002fextra\\u003e\",\"ids\":[\"electric\"],\"legendgroup\":\"electric\",\"marker\":{\"color\":\"#ab63fa\",\"pattern\":{\"shape\":\"\"}},\"name\":\"electric\",\"offsetgroup\":\"electric\",\"orientation\":\"v\",\"showlegend\":true,\"textposition\":\"auto\",\"x\":[\"electric\"],\"xaxis\":\"x\",\"y\":[9],\"yaxis\":\"y\",\"type\":\"bar\"},{\"alignmentgroup\":\"True\",\"hovertemplate\":\"Type=%{x}\\u003cbr\\u003eRegion=Kanto\\u003cbr\\u003eCount=%{y}\\u003cextra\\u003e\\u003c\\u002fextra\\u003e\",\"ids\":[\"fighting\"],\"legendgroup\":\"fighting\",\"marker\":{\"color\":\"#FFA15A\",\"pattern\":{\"shape\":\"\"}},\"name\":\"fighting\",\"offsetgroup\":\"fighting\",\"orientation\":\"v\",\"showlegend\":true,\"textposition\":\"auto\",\"x\":[\"fighting\"],\"xaxis\":\"x\",\"y\":[7],\"yaxis\":\"y\",\"type\":\"bar\"},{\"alignmentgroup\":\"True\",\"hovertemplate\":\"Type=%{x}\\u003cbr\\u003eRegion=Kanto\\u003cbr\\u003eCount=%{y}\\u003cextra\\u003e\\u003c\\u002fextra\\u003e\",\"ids\":[\"fire\"],\"legendgroup\":\"fire\",\"marker\":{\"color\":\"#19d3f3\",\"pattern\":{\"shape\":\"\"}},\"name\":\"fire\",\"offsetgroup\":\"fire\",\"orientation\":\"v\",\"showlegend\":true,\"textposition\":\"auto\",\"x\":[\"fire\"],\"xaxis\":\"x\",\"y\":[12],\"yaxis\":\"y\",\"type\":\"bar\"},{\"alignmentgroup\":\"True\",\"hovertemplate\":\"Type=%{x}\\u003cbr\\u003eRegion=Kanto\\u003cbr\\u003eCount=%{y}\\u003cextra\\u003e\\u003c\\u002fextra\\u003e\",\"ids\":[\"ghost\"],\"legendgroup\":\"ghost\",\"marker\":{\"color\":\"#FF6692\",\"pattern\":{\"shape\":\"\"}},\"name\":\"ghost\",\"offsetgroup\":\"ghost\",\"orientation\":\"v\",\"showlegend\":true,\"textposition\":\"auto\",\"x\":[\"ghost\"],\"xaxis\":\"x\",\"y\":[3],\"yaxis\":\"y\",\"type\":\"bar\"},{\"alignmentgroup\":\"True\",\"hovertemplate\":\"Type=%{x}\\u003cbr\\u003eRegion=Kanto\\u003cbr\\u003eCount=%{y}\\u003cextra\\u003e\\u003c\\u002fextra\\u003e\",\"ids\":[\"grass\"],\"legendgroup\":\"grass\",\"marker\":{\"color\":\"#B6E880\",\"pattern\":{\"shape\":\"\"}},\"name\":\"grass\",\"offsetgroup\":\"grass\",\"orientation\":\"v\",\"showlegend\":true,\"textposition\":\"auto\",\"x\":[\"grass\"],\"xaxis\":\"x\",\"y\":[12],\"yaxis\":\"y\",\"type\":\"bar\"},{\"alignmentgroup\":\"True\",\"hovertemplate\":\"Type=%{x}\\u003cbr\\u003eRegion=Kanto\\u003cbr\\u003eCount=%{y}\\u003cextra\\u003e\\u003c\\u002fextra\\u003e\",\"ids\":[\"ground\"],\"legendgroup\":\"ground\",\"marker\":{\"color\":\"#FF97FF\",\"pattern\":{\"shape\":\"\"}},\"name\":\"ground\",\"offsetgroup\":\"ground\",\"orientation\":\"v\",\"showlegend\":true,\"textposition\":\"auto\",\"x\":[\"ground\"],\"xaxis\":\"x\",\"y\":[8],\"yaxis\":\"y\",\"type\":\"bar\"},{\"alignmentgroup\":\"True\",\"hovertemplate\":\"Type=%{x}\\u003cbr\\u003eRegion=Kanto\\u003cbr\\u003eCount=%{y}\\u003cextra\\u003e\\u003c\\u002fextra\\u003e\",\"ids\":[\"ice\"],\"legendgroup\":\"ice\",\"marker\":{\"color\":\"#FECB52\",\"pattern\":{\"shape\":\"\"}},\"name\":\"ice\",\"offsetgroup\":\"ice\",\"orientation\":\"v\",\"showlegend\":true,\"textposition\":\"auto\",\"x\":[\"ice\"],\"xaxis\":\"x\",\"y\":[2],\"yaxis\":\"y\",\"type\":\"bar\"},{\"alignmentgroup\":\"True\",\"hovertemplate\":\"Type=%{x}\\u003cbr\\u003eRegion=Kanto\\u003cbr\\u003eCount=%{y}\\u003cextra\\u003e\\u003c\\u002fextra\\u003e\",\"ids\":[\"normal\"],\"legendgroup\":\"normal\",\"marker\":{\"color\":\"#636efa\",\"pattern\":{\"shape\":\"\"}},\"name\":\"normal\",\"offsetgroup\":\"normal\",\"orientation\":\"v\",\"showlegend\":true,\"textposition\":\"auto\",\"x\":[\"normal\"],\"xaxis\":\"x\",\"y\":[22],\"yaxis\":\"y\",\"type\":\"bar\"},{\"alignmentgroup\":\"True\",\"hovertemplate\":\"Type=%{x}\\u003cbr\\u003eRegion=Kanto\\u003cbr\\u003eCount=%{y}\\u003cextra\\u003e\\u003c\\u002fextra\\u003e\",\"ids\":[\"poison\"],\"legendgroup\":\"poison\",\"marker\":{\"color\":\"#EF553B\",\"pattern\":{\"shape\":\"\"}},\"name\":\"poison\",\"offsetgroup\":\"poison\",\"orientation\":\"v\",\"showlegend\":true,\"textposition\":\"auto\",\"x\":[\"poison\"],\"xaxis\":\"x\",\"y\":[14],\"yaxis\":\"y\",\"type\":\"bar\"},{\"alignmentgroup\":\"True\",\"hovertemplate\":\"Type=%{x}\\u003cbr\\u003eRegion=Kanto\\u003cbr\\u003eCount=%{y}\\u003cextra\\u003e\\u003c\\u002fextra\\u003e\",\"ids\":[\"psychic\"],\"legendgroup\":\"psychic\",\"marker\":{\"color\":\"#00cc96\",\"pattern\":{\"shape\":\"\"}},\"name\":\"psychic\",\"offsetgroup\":\"psychic\",\"orientation\":\"v\",\"showlegend\":true,\"textposition\":\"auto\",\"x\":[\"psychic\"],\"xaxis\":\"x\",\"y\":[8],\"yaxis\":\"y\",\"type\":\"bar\"},{\"alignmentgroup\":\"True\",\"hovertemplate\":\"Type=%{x}\\u003cbr\\u003eRegion=Kanto\\u003cbr\\u003eCount=%{y}\\u003cextra\\u003e\\u003c\\u002fextra\\u003e\",\"ids\":[\"rock\"],\"legendgroup\":\"rock\",\"marker\":{\"color\":\"#ab63fa\",\"pattern\":{\"shape\":\"\"}},\"name\":\"rock\",\"offsetgroup\":\"rock\",\"orientation\":\"v\",\"showlegend\":true,\"textposition\":\"auto\",\"x\":[\"rock\"],\"xaxis\":\"x\",\"y\":[9],\"yaxis\":\"y\",\"type\":\"bar\"},{\"alignmentgroup\":\"True\",\"hovertemplate\":\"Type=%{x}\\u003cbr\\u003eRegion=Kanto\\u003cbr\\u003eCount=%{y}\\u003cextra\\u003e\\u003c\\u002fextra\\u003e\",\"ids\":[\"water\"],\"legendgroup\":\"water\",\"marker\":{\"color\":\"#19d3f3\",\"pattern\":{\"shape\":\"\"}},\"name\":\"water\",\"offsetgroup\":\"water\",\"orientation\":\"v\",\"showlegend\":true,\"textposition\":\"auto\",\"x\":[\"water\"],\"xaxis\":\"x\",\"y\":[28],\"yaxis\":\"y\",\"type\":\"bar\"},{\"alignmentgroup\":\"True\",\"hovertemplate\":\"Type=%{x}\\u003cbr\\u003eRegion=Kanto\\u003cbr\\u003eCount=%{y}\\u003cextra\\u003e\\u003c\\u002fextra\\u003e\",\"ids\":[\"fairy\"],\"legendgroup\":\"fairy\",\"marker\":{\"color\":\"#FF6692\",\"pattern\":{\"shape\":\"\"}},\"name\":\"fairy\",\"offsetgroup\":\"fairy\",\"orientation\":\"v\",\"showlegend\":true,\"textposition\":\"auto\",\"x\":[\"fairy\"],\"xaxis\":\"x\",\"y\":[2],\"yaxis\":\"y\",\"type\":\"bar\"}],\"name\":\"Kanto\"},{\"data\":[{\"alignmentgroup\":\"True\",\"hovertemplate\":\"Type=%{x}\\u003cbr\\u003eRegion=Sinnoh\\u003cbr\\u003eCount=%{y}\\u003cextra\\u003e\\u003c\\u002fextra\\u003e\",\"ids\":[\"bug\"],\"legendgroup\":\"bug\",\"marker\":{\"color\":\"#636efa\",\"pattern\":{\"shape\":\"\"}},\"name\":\"bug\",\"offsetgroup\":\"bug\",\"orientation\":\"v\",\"showlegend\":true,\"textposition\":\"auto\",\"x\":[\"bug\"],\"xaxis\":\"x\",\"y\":[8],\"yaxis\":\"y\",\"type\":\"bar\"},{\"alignmentgroup\":\"True\",\"hovertemplate\":\"Type=%{x}\\u003cbr\\u003eRegion=Sinnoh\\u003cbr\\u003eCount=%{y}\\u003cextra\\u003e\\u003c\\u002fextra\\u003e\",\"ids\":[\"dark\"],\"legendgroup\":\"dark\",\"marker\":{\"color\":\"#EF553B\",\"pattern\":{\"shape\":\"\"}},\"name\":\"dark\",\"offsetgroup\":\"dark\",\"orientation\":\"v\",\"showlegend\":true,\"textposition\":\"auto\",\"x\":[\"dark\"],\"xaxis\":\"x\",\"y\":[3],\"yaxis\":\"y\",\"type\":\"bar\"},{\"alignmentgroup\":\"True\",\"hovertemplate\":\"Type=%{x}\\u003cbr\\u003eRegion=Sinnoh\\u003cbr\\u003eCount=%{y}\\u003cextra\\u003e\\u003c\\u002fextra\\u003e\",\"ids\":[\"dragon\"],\"legendgroup\":\"dragon\",\"marker\":{\"color\":\"#00cc96\",\"pattern\":{\"shape\":\"\"}},\"name\":\"dragon\",\"offsetgroup\":\"dragon\",\"orientation\":\"v\",\"showlegend\":true,\"textposition\":\"auto\",\"x\":[\"dragon\"],\"xaxis\":\"x\",\"y\":[3],\"yaxis\":\"y\",\"type\":\"bar\"},{\"alignmentgroup\":\"True\",\"hovertemplate\":\"Type=%{x}\\u003cbr\\u003eRegion=Sinnoh\\u003cbr\\u003eCount=%{y}\\u003cextra\\u003e\\u003c\\u002fextra\\u003e\",\"ids\":[\"electric\"],\"legendgroup\":\"electric\",\"marker\":{\"color\":\"#ab63fa\",\"pattern\":{\"shape\":\"\"}},\"name\":\"electric\",\"offsetgroup\":\"electric\",\"orientation\":\"v\",\"showlegend\":true,\"textposition\":\"auto\",\"x\":[\"electric\"],\"xaxis\":\"x\",\"y\":[7],\"yaxis\":\"y\",\"type\":\"bar\"},{\"alignmentgroup\":\"True\",\"hovertemplate\":\"Type=%{x}\\u003cbr\\u003eRegion=Sinnoh\\u003cbr\\u003eCount=%{y}\\u003cextra\\u003e\\u003c\\u002fextra\\u003e\",\"ids\":[\"fighting\"],\"legendgroup\":\"fighting\",\"marker\":{\"color\":\"#FFA15A\",\"pattern\":{\"shape\":\"\"}},\"name\":\"fighting\",\"offsetgroup\":\"fighting\",\"orientation\":\"v\",\"showlegend\":true,\"textposition\":\"auto\",\"x\":[\"fighting\"],\"xaxis\":\"x\",\"y\":[2],\"yaxis\":\"y\",\"type\":\"bar\"},{\"alignmentgroup\":\"True\",\"hovertemplate\":\"Type=%{x}\\u003cbr\\u003eRegion=Sinnoh\\u003cbr\\u003eCount=%{y}\\u003cextra\\u003e\\u003c\\u002fextra\\u003e\",\"ids\":[\"fire\"],\"legendgroup\":\"fire\",\"marker\":{\"color\":\"#19d3f3\",\"pattern\":{\"shape\":\"\"}},\"name\":\"fire\",\"offsetgroup\":\"fire\",\"orientation\":\"v\",\"showlegend\":true,\"textposition\":\"auto\",\"x\":[\"fire\"],\"xaxis\":\"x\",\"y\":[5],\"yaxis\":\"y\",\"type\":\"bar\"},{\"alignmentgroup\":\"True\",\"hovertemplate\":\"Type=%{x}\\u003cbr\\u003eRegion=Sinnoh\\u003cbr\\u003eCount=%{y}\\u003cextra\\u003e\\u003c\\u002fextra\\u003e\",\"ids\":[\"ghost\"],\"legendgroup\":\"ghost\",\"marker\":{\"color\":\"#FF6692\",\"pattern\":{\"shape\":\"\"}},\"name\":\"ghost\",\"offsetgroup\":\"ghost\",\"orientation\":\"v\",\"showlegend\":true,\"textposition\":\"auto\",\"x\":[\"ghost\"],\"xaxis\":\"x\",\"y\":[6],\"yaxis\":\"y\",\"type\":\"bar\"},{\"alignmentgroup\":\"True\",\"hovertemplate\":\"Type=%{x}\\u003cbr\\u003eRegion=Sinnoh\\u003cbr\\u003eCount=%{y}\\u003cextra\\u003e\\u003c\\u002fextra\\u003e\",\"ids\":[\"grass\"],\"legendgroup\":\"grass\",\"marker\":{\"color\":\"#B6E880\",\"pattern\":{\"shape\":\"\"}},\"name\":\"grass\",\"offsetgroup\":\"grass\",\"orientation\":\"v\",\"showlegend\":true,\"textposition\":\"auto\",\"x\":[\"grass\"],\"xaxis\":\"x\",\"y\":[13],\"yaxis\":\"y\",\"type\":\"bar\"},{\"alignmentgroup\":\"True\",\"hovertemplate\":\"Type=%{x}\\u003cbr\\u003eRegion=Sinnoh\\u003cbr\\u003eCount=%{y}\\u003cextra\\u003e\\u003c\\u002fextra\\u003e\",\"ids\":[\"ground\"],\"legendgroup\":\"ground\",\"marker\":{\"color\":\"#FF97FF\",\"pattern\":{\"shape\":\"\"}},\"name\":\"ground\",\"offsetgroup\":\"ground\",\"orientation\":\"v\",\"showlegend\":true,\"textposition\":\"auto\",\"x\":[\"ground\"],\"xaxis\":\"x\",\"y\":[4],\"yaxis\":\"y\",\"type\":\"bar\"},{\"alignmentgroup\":\"True\",\"hovertemplate\":\"Type=%{x}\\u003cbr\\u003eRegion=Sinnoh\\u003cbr\\u003eCount=%{y}\\u003cextra\\u003e\\u003c\\u002fextra\\u003e\",\"ids\":[\"ice\"],\"legendgroup\":\"ice\",\"marker\":{\"color\":\"#FECB52\",\"pattern\":{\"shape\":\"\"}},\"name\":\"ice\",\"offsetgroup\":\"ice\",\"orientation\":\"v\",\"showlegend\":true,\"textposition\":\"auto\",\"x\":[\"ice\"],\"xaxis\":\"x\",\"y\":[3],\"yaxis\":\"y\",\"type\":\"bar\"},{\"alignmentgroup\":\"True\",\"hovertemplate\":\"Type=%{x}\\u003cbr\\u003eRegion=Sinnoh\\u003cbr\\u003eCount=%{y}\\u003cextra\\u003e\\u003c\\u002fextra\\u003e\",\"ids\":[\"normal\"],\"legendgroup\":\"normal\",\"marker\":{\"color\":\"#636efa\",\"pattern\":{\"shape\":\"\"}},\"name\":\"normal\",\"offsetgroup\":\"normal\",\"orientation\":\"v\",\"showlegend\":true,\"textposition\":\"auto\",\"x\":[\"normal\"],\"xaxis\":\"x\",\"y\":[16],\"yaxis\":\"y\",\"type\":\"bar\"},{\"alignmentgroup\":\"True\",\"hovertemplate\":\"Type=%{x}\\u003cbr\\u003eRegion=Sinnoh\\u003cbr\\u003eCount=%{y}\\u003cextra\\u003e\\u003c\\u002fextra\\u003e\",\"ids\":[\"poison\"],\"legendgroup\":\"poison\",\"marker\":{\"color\":\"#EF553B\",\"pattern\":{\"shape\":\"\"}},\"name\":\"poison\",\"offsetgroup\":\"poison\",\"orientation\":\"v\",\"showlegend\":true,\"textposition\":\"auto\",\"x\":[\"poison\"],\"xaxis\":\"x\",\"y\":[6],\"yaxis\":\"y\",\"type\":\"bar\"},{\"alignmentgroup\":\"True\",\"hovertemplate\":\"Type=%{x}\\u003cbr\\u003eRegion=Sinnoh\\u003cbr\\u003eCount=%{y}\\u003cextra\\u003e\\u003c\\u002fextra\\u003e\",\"ids\":[\"psychic\"],\"legendgroup\":\"psychic\",\"marker\":{\"color\":\"#00cc96\",\"pattern\":{\"shape\":\"\"}},\"name\":\"psychic\",\"offsetgroup\":\"psychic\",\"orientation\":\"v\",\"showlegend\":true,\"textposition\":\"auto\",\"x\":[\"psychic\"],\"xaxis\":\"x\",\"y\":[7],\"yaxis\":\"y\",\"type\":\"bar\"},{\"alignmentgroup\":\"True\",\"hovertemplate\":\"Type=%{x}\\u003cbr\\u003eRegion=Sinnoh\\u003cbr\\u003eCount=%{y}\\u003cextra\\u003e\\u003c\\u002fextra\\u003e\",\"ids\":[\"rock\"],\"legendgroup\":\"rock\",\"marker\":{\"color\":\"#ab63fa\",\"pattern\":{\"shape\":\"\"}},\"name\":\"rock\",\"offsetgroup\":\"rock\",\"orientation\":\"v\",\"showlegend\":true,\"textposition\":\"auto\",\"x\":[\"rock\"],\"xaxis\":\"x\",\"y\":[6],\"yaxis\":\"y\",\"type\":\"bar\"},{\"alignmentgroup\":\"True\",\"hovertemplate\":\"Type=%{x}\\u003cbr\\u003eRegion=Sinnoh\\u003cbr\\u003eCount=%{y}\\u003cextra\\u003e\\u003c\\u002fextra\\u003e\",\"ids\":[\"steel\"],\"legendgroup\":\"steel\",\"marker\":{\"color\":\"#FFA15A\",\"pattern\":{\"shape\":\"\"}},\"name\":\"steel\",\"offsetgroup\":\"steel\",\"orientation\":\"v\",\"showlegend\":true,\"textposition\":\"auto\",\"x\":[\"steel\"],\"xaxis\":\"x\",\"y\":[3],\"yaxis\":\"y\",\"type\":\"bar\"},{\"alignmentgroup\":\"True\",\"hovertemplate\":\"Type=%{x}\\u003cbr\\u003eRegion=Sinnoh\\u003cbr\\u003eCount=%{y}\\u003cextra\\u003e\\u003c\\u002fextra\\u003e\",\"ids\":[\"water\"],\"legendgroup\":\"water\",\"marker\":{\"color\":\"#19d3f3\",\"pattern\":{\"shape\":\"\"}},\"name\":\"water\",\"offsetgroup\":\"water\",\"orientation\":\"v\",\"showlegend\":true,\"textposition\":\"auto\",\"x\":[\"water\"],\"xaxis\":\"x\",\"y\":[13],\"yaxis\":\"y\",\"type\":\"bar\"},{\"alignmentgroup\":\"True\",\"hovertemplate\":\"Type=%{x}\\u003cbr\\u003eRegion=Sinnoh\\u003cbr\\u003eCount=%{y}\\u003cextra\\u003e\\u003c\\u002fextra\\u003e\",\"ids\":[\"fairy\"],\"legendgroup\":\"fairy\",\"marker\":{\"color\":\"#FF6692\",\"pattern\":{\"shape\":\"\"}},\"name\":\"fairy\",\"offsetgroup\":\"fairy\",\"orientation\":\"v\",\"showlegend\":true,\"textposition\":\"auto\",\"x\":[\"fairy\"],\"xaxis\":\"x\",\"y\":[1],\"yaxis\":\"y\",\"type\":\"bar\"}],\"name\":\"Sinnoh\"}]);\n",
              "                        }).then(function(){\n",
              "                            \n",
              "var gd = document.getElementById('9ea58db0-763e-45c7-9a18-5fa0db5fac3f');\n",
              "var x = new MutationObserver(function (mutations, observer) {{\n",
              "        var display = window.getComputedStyle(gd).display;\n",
              "        if (!display || display === 'none') {{\n",
              "            console.log([gd, 'removed!']);\n",
              "            Plotly.purge(gd);\n",
              "            observer.disconnect();\n",
              "        }}\n",
              "}});\n",
              "\n",
              "// Listen for the removal of the full notebook cells\n",
              "var notebookContainer = gd.closest('#notebook-container');\n",
              "if (notebookContainer) {{\n",
              "    x.observe(notebookContainer, {childList: true});\n",
              "}}\n",
              "\n",
              "// Listen for the clearing of the current output cell\n",
              "var outputEl = gd.closest('.output');\n",
              "if (outputEl) {{\n",
              "    x.observe(outputEl, {childList: true});\n",
              "}}\n",
              "\n",
              "                        })                };                            </script>        </div>\n",
              "</body>\n",
              "</html>"
            ]
          },
          "metadata": {}
        }
      ]
    },
    {
      "cell_type": "markdown",
      "source": [
        "# Data modeling"
      ],
      "metadata": {
        "id": "aqvr0EPJr5vw"
      }
    },
    {
      "cell_type": "code",
      "source": [
        "import pandas as pd\n",
        "from sklearn.model_selection import train_test_split\n",
        "import numpy as np\n",
        "import seaborn as sns\n",
        "from sklearn.metrics import confusion_matrix, accuracy_score\n",
        "from sklearn.preprocessing import LabelEncoder\n",
        "\n",
        "import torch.nn.functional as F\n",
        "import torch\n",
        "import torch.nn as nn"
      ],
      "metadata": {
        "id": "IWZfbazXtGk-"
      },
      "execution_count": 375,
      "outputs": []
    },
    {
      "cell_type": "code",
      "source": [
        "pip install torchviz"
      ],
      "metadata": {
        "colab": {
          "base_uri": "https://localhost:8080/"
        },
        "id": "zkSZFgjSOnSA",
        "outputId": "1c0724e0-aa30-4fa6-b784-a1b30b2f2df7"
      },
      "execution_count": 376,
      "outputs": [
        {
          "output_type": "stream",
          "name": "stdout",
          "text": [
            "Requirement already satisfied: torchviz in /usr/local/lib/python3.10/dist-packages (0.0.2)\n",
            "Requirement already satisfied: torch in /usr/local/lib/python3.10/dist-packages (from torchviz) (2.4.0+cu121)\n",
            "Requirement already satisfied: graphviz in /usr/local/lib/python3.10/dist-packages (from torchviz) (0.20.3)\n",
            "Requirement already satisfied: filelock in /usr/local/lib/python3.10/dist-packages (from torch->torchviz) (3.15.4)\n",
            "Requirement already satisfied: typing-extensions>=4.8.0 in /usr/local/lib/python3.10/dist-packages (from torch->torchviz) (4.12.2)\n",
            "Requirement already satisfied: sympy in /usr/local/lib/python3.10/dist-packages (from torch->torchviz) (1.13.2)\n",
            "Requirement already satisfied: networkx in /usr/local/lib/python3.10/dist-packages (from torch->torchviz) (3.3)\n",
            "Requirement already satisfied: jinja2 in /usr/local/lib/python3.10/dist-packages (from torch->torchviz) (3.1.4)\n",
            "Requirement already satisfied: fsspec in /usr/local/lib/python3.10/dist-packages (from torch->torchviz) (2024.6.1)\n",
            "Requirement already satisfied: MarkupSafe>=2.0 in /usr/local/lib/python3.10/dist-packages (from jinja2->torch->torchviz) (2.1.5)\n",
            "Requirement already satisfied: mpmath<1.4,>=1.1.0 in /usr/local/lib/python3.10/dist-packages (from sympy->torch->torchviz) (1.3.0)\n"
          ]
        }
      ]
    },
    {
      "cell_type": "code",
      "source": [
        "# Visualizar a rede neural\n",
        "from torchviz import make_dot\n"
      ],
      "metadata": {
        "id": "ZHFrNLFFOsVb"
      },
      "execution_count": 377,
      "outputs": []
    },
    {
      "cell_type": "code",
      "source": [
        "np.random.seed(123)\n",
        "torch.manual_seed(123)\n",
        "# Definir uma seed faz com que todos os pesos venham dentro de um padrão. Isso torna o resultado replicavel."
      ],
      "metadata": {
        "colab": {
          "base_uri": "https://localhost:8080/"
        },
        "id": "dp9ecNKdzgPR",
        "outputId": "2a4cb121-7f3f-4b53-87df-99b475142a93"
      },
      "execution_count": 378,
      "outputs": [
        {
          "output_type": "execute_result",
          "data": {
            "text/plain": [
              "<torch._C.Generator at 0x78f565d91030>"
            ]
          },
          "metadata": {},
          "execution_count": 378
        }
      ]
    },
    {
      "cell_type": "code",
      "source": [
        "def specific_types(type_you_want):\n",
        "    filtered_dfs = []\n",
        "\n",
        "    for typ in type_you_want:\n",
        "        filtered_df = df[df['Type'].apply(lambda types: typ in types)]\n",
        "        filtered_dfs.append(filtered_df)\n",
        "\n",
        "    result_df = pd.concat(filtered_dfs)\n",
        "    return result_df"
      ],
      "metadata": {
        "id": "XmhD7rly13q2"
      },
      "execution_count": 379,
      "outputs": []
    },
    {
      "cell_type": "code",
      "source": [
        "New_base = specific_types([\"fire\", \"water\", \"grass\"])"
      ],
      "metadata": {
        "id": "-IdVTm3718rH"
      },
      "execution_count": 380,
      "outputs": []
    },
    {
      "cell_type": "code",
      "source": [
        "New_base.head()"
      ],
      "metadata": {
        "colab": {
          "base_uri": "https://localhost:8080/",
          "height": 206
        },
        "id": "pFYiuz0l4DwN",
        "outputId": "f4778d4e-de1b-41a7-a2d7-9b1e3e72460a"
      },
      "execution_count": 381,
      "outputs": [
        {
          "output_type": "execute_result",
          "data": {
            "text/plain": [
              "    ID        Name  Type  Height  HP  Speed  Attack  Defense Region  \\\n",
              "3    4  charmander  fire       6  39     65      52       43  Kanto   \n",
              "4    5  charmeleon  fire      11  58     80      64       58  Kanto   \n",
              "5    6   charizard  fire      17  78    100      84       78  Kanto   \n",
              "36  37      vulpix  fire       6  38     65      41       40  Kanto   \n",
              "37  38   ninetales  fire      11  73    100      76       75  Kanto   \n",
              "\n",
              "    Generation  \n",
              "3            1  \n",
              "4            1  \n",
              "5            1  \n",
              "36           1  \n",
              "37           1  "
            ],
            "text/html": [
              "\n",
              "  <div id=\"df-b8a2c057-1eac-4043-8304-3dcaf31e15df\" class=\"colab-df-container\">\n",
              "    <div>\n",
              "<style scoped>\n",
              "    .dataframe tbody tr th:only-of-type {\n",
              "        vertical-align: middle;\n",
              "    }\n",
              "\n",
              "    .dataframe tbody tr th {\n",
              "        vertical-align: top;\n",
              "    }\n",
              "\n",
              "    .dataframe thead th {\n",
              "        text-align: right;\n",
              "    }\n",
              "</style>\n",
              "<table border=\"1\" class=\"dataframe\">\n",
              "  <thead>\n",
              "    <tr style=\"text-align: right;\">\n",
              "      <th></th>\n",
              "      <th>ID</th>\n",
              "      <th>Name</th>\n",
              "      <th>Type</th>\n",
              "      <th>Height</th>\n",
              "      <th>HP</th>\n",
              "      <th>Speed</th>\n",
              "      <th>Attack</th>\n",
              "      <th>Defense</th>\n",
              "      <th>Region</th>\n",
              "      <th>Generation</th>\n",
              "    </tr>\n",
              "  </thead>\n",
              "  <tbody>\n",
              "    <tr>\n",
              "      <th>3</th>\n",
              "      <td>4</td>\n",
              "      <td>charmander</td>\n",
              "      <td>fire</td>\n",
              "      <td>6</td>\n",
              "      <td>39</td>\n",
              "      <td>65</td>\n",
              "      <td>52</td>\n",
              "      <td>43</td>\n",
              "      <td>Kanto</td>\n",
              "      <td>1</td>\n",
              "    </tr>\n",
              "    <tr>\n",
              "      <th>4</th>\n",
              "      <td>5</td>\n",
              "      <td>charmeleon</td>\n",
              "      <td>fire</td>\n",
              "      <td>11</td>\n",
              "      <td>58</td>\n",
              "      <td>80</td>\n",
              "      <td>64</td>\n",
              "      <td>58</td>\n",
              "      <td>Kanto</td>\n",
              "      <td>1</td>\n",
              "    </tr>\n",
              "    <tr>\n",
              "      <th>5</th>\n",
              "      <td>6</td>\n",
              "      <td>charizard</td>\n",
              "      <td>fire</td>\n",
              "      <td>17</td>\n",
              "      <td>78</td>\n",
              "      <td>100</td>\n",
              "      <td>84</td>\n",
              "      <td>78</td>\n",
              "      <td>Kanto</td>\n",
              "      <td>1</td>\n",
              "    </tr>\n",
              "    <tr>\n",
              "      <th>36</th>\n",
              "      <td>37</td>\n",
              "      <td>vulpix</td>\n",
              "      <td>fire</td>\n",
              "      <td>6</td>\n",
              "      <td>38</td>\n",
              "      <td>65</td>\n",
              "      <td>41</td>\n",
              "      <td>40</td>\n",
              "      <td>Kanto</td>\n",
              "      <td>1</td>\n",
              "    </tr>\n",
              "    <tr>\n",
              "      <th>37</th>\n",
              "      <td>38</td>\n",
              "      <td>ninetales</td>\n",
              "      <td>fire</td>\n",
              "      <td>11</td>\n",
              "      <td>73</td>\n",
              "      <td>100</td>\n",
              "      <td>76</td>\n",
              "      <td>75</td>\n",
              "      <td>Kanto</td>\n",
              "      <td>1</td>\n",
              "    </tr>\n",
              "  </tbody>\n",
              "</table>\n",
              "</div>\n",
              "    <div class=\"colab-df-buttons\">\n",
              "\n",
              "  <div class=\"colab-df-container\">\n",
              "    <button class=\"colab-df-convert\" onclick=\"convertToInteractive('df-b8a2c057-1eac-4043-8304-3dcaf31e15df')\"\n",
              "            title=\"Convert this dataframe to an interactive table.\"\n",
              "            style=\"display:none;\">\n",
              "\n",
              "  <svg xmlns=\"http://www.w3.org/2000/svg\" height=\"24px\" viewBox=\"0 -960 960 960\">\n",
              "    <path d=\"M120-120v-720h720v720H120Zm60-500h600v-160H180v160Zm220 220h160v-160H400v160Zm0 220h160v-160H400v160ZM180-400h160v-160H180v160Zm440 0h160v-160H620v160ZM180-180h160v-160H180v160Zm440 0h160v-160H620v160Z\"/>\n",
              "  </svg>\n",
              "    </button>\n",
              "\n",
              "  <style>\n",
              "    .colab-df-container {\n",
              "      display:flex;\n",
              "      gap: 12px;\n",
              "    }\n",
              "\n",
              "    .colab-df-convert {\n",
              "      background-color: #E8F0FE;\n",
              "      border: none;\n",
              "      border-radius: 50%;\n",
              "      cursor: pointer;\n",
              "      display: none;\n",
              "      fill: #1967D2;\n",
              "      height: 32px;\n",
              "      padding: 0 0 0 0;\n",
              "      width: 32px;\n",
              "    }\n",
              "\n",
              "    .colab-df-convert:hover {\n",
              "      background-color: #E2EBFA;\n",
              "      box-shadow: 0px 1px 2px rgba(60, 64, 67, 0.3), 0px 1px 3px 1px rgba(60, 64, 67, 0.15);\n",
              "      fill: #174EA6;\n",
              "    }\n",
              "\n",
              "    .colab-df-buttons div {\n",
              "      margin-bottom: 4px;\n",
              "    }\n",
              "\n",
              "    [theme=dark] .colab-df-convert {\n",
              "      background-color: #3B4455;\n",
              "      fill: #D2E3FC;\n",
              "    }\n",
              "\n",
              "    [theme=dark] .colab-df-convert:hover {\n",
              "      background-color: #434B5C;\n",
              "      box-shadow: 0px 1px 3px 1px rgba(0, 0, 0, 0.15);\n",
              "      filter: drop-shadow(0px 1px 2px rgba(0, 0, 0, 0.3));\n",
              "      fill: #FFFFFF;\n",
              "    }\n",
              "  </style>\n",
              "\n",
              "    <script>\n",
              "      const buttonEl =\n",
              "        document.querySelector('#df-b8a2c057-1eac-4043-8304-3dcaf31e15df button.colab-df-convert');\n",
              "      buttonEl.style.display =\n",
              "        google.colab.kernel.accessAllowed ? 'block' : 'none';\n",
              "\n",
              "      async function convertToInteractive(key) {\n",
              "        const element = document.querySelector('#df-b8a2c057-1eac-4043-8304-3dcaf31e15df');\n",
              "        const dataTable =\n",
              "          await google.colab.kernel.invokeFunction('convertToInteractive',\n",
              "                                                    [key], {});\n",
              "        if (!dataTable) return;\n",
              "\n",
              "        const docLinkHtml = 'Like what you see? Visit the ' +\n",
              "          '<a target=\"_blank\" href=https://colab.research.google.com/notebooks/data_table.ipynb>data table notebook</a>'\n",
              "          + ' to learn more about interactive tables.';\n",
              "        element.innerHTML = '';\n",
              "        dataTable['output_type'] = 'display_data';\n",
              "        await google.colab.output.renderOutput(dataTable, element);\n",
              "        const docLink = document.createElement('div');\n",
              "        docLink.innerHTML = docLinkHtml;\n",
              "        element.appendChild(docLink);\n",
              "      }\n",
              "    </script>\n",
              "  </div>\n",
              "\n",
              "\n",
              "<div id=\"df-035efa46-2f5f-4e6a-940f-ce05638dd074\">\n",
              "  <button class=\"colab-df-quickchart\" onclick=\"quickchart('df-035efa46-2f5f-4e6a-940f-ce05638dd074')\"\n",
              "            title=\"Suggest charts\"\n",
              "            style=\"display:none;\">\n",
              "\n",
              "<svg xmlns=\"http://www.w3.org/2000/svg\" height=\"24px\"viewBox=\"0 0 24 24\"\n",
              "     width=\"24px\">\n",
              "    <g>\n",
              "        <path d=\"M19 3H5c-1.1 0-2 .9-2 2v14c0 1.1.9 2 2 2h14c1.1 0 2-.9 2-2V5c0-1.1-.9-2-2-2zM9 17H7v-7h2v7zm4 0h-2V7h2v10zm4 0h-2v-4h2v4z\"/>\n",
              "    </g>\n",
              "</svg>\n",
              "  </button>\n",
              "\n",
              "<style>\n",
              "  .colab-df-quickchart {\n",
              "      --bg-color: #E8F0FE;\n",
              "      --fill-color: #1967D2;\n",
              "      --hover-bg-color: #E2EBFA;\n",
              "      --hover-fill-color: #174EA6;\n",
              "      --disabled-fill-color: #AAA;\n",
              "      --disabled-bg-color: #DDD;\n",
              "  }\n",
              "\n",
              "  [theme=dark] .colab-df-quickchart {\n",
              "      --bg-color: #3B4455;\n",
              "      --fill-color: #D2E3FC;\n",
              "      --hover-bg-color: #434B5C;\n",
              "      --hover-fill-color: #FFFFFF;\n",
              "      --disabled-bg-color: #3B4455;\n",
              "      --disabled-fill-color: #666;\n",
              "  }\n",
              "\n",
              "  .colab-df-quickchart {\n",
              "    background-color: var(--bg-color);\n",
              "    border: none;\n",
              "    border-radius: 50%;\n",
              "    cursor: pointer;\n",
              "    display: none;\n",
              "    fill: var(--fill-color);\n",
              "    height: 32px;\n",
              "    padding: 0;\n",
              "    width: 32px;\n",
              "  }\n",
              "\n",
              "  .colab-df-quickchart:hover {\n",
              "    background-color: var(--hover-bg-color);\n",
              "    box-shadow: 0 1px 2px rgba(60, 64, 67, 0.3), 0 1px 3px 1px rgba(60, 64, 67, 0.15);\n",
              "    fill: var(--button-hover-fill-color);\n",
              "  }\n",
              "\n",
              "  .colab-df-quickchart-complete:disabled,\n",
              "  .colab-df-quickchart-complete:disabled:hover {\n",
              "    background-color: var(--disabled-bg-color);\n",
              "    fill: var(--disabled-fill-color);\n",
              "    box-shadow: none;\n",
              "  }\n",
              "\n",
              "  .colab-df-spinner {\n",
              "    border: 2px solid var(--fill-color);\n",
              "    border-color: transparent;\n",
              "    border-bottom-color: var(--fill-color);\n",
              "    animation:\n",
              "      spin 1s steps(1) infinite;\n",
              "  }\n",
              "\n",
              "  @keyframes spin {\n",
              "    0% {\n",
              "      border-color: transparent;\n",
              "      border-bottom-color: var(--fill-color);\n",
              "      border-left-color: var(--fill-color);\n",
              "    }\n",
              "    20% {\n",
              "      border-color: transparent;\n",
              "      border-left-color: var(--fill-color);\n",
              "      border-top-color: var(--fill-color);\n",
              "    }\n",
              "    30% {\n",
              "      border-color: transparent;\n",
              "      border-left-color: var(--fill-color);\n",
              "      border-top-color: var(--fill-color);\n",
              "      border-right-color: var(--fill-color);\n",
              "    }\n",
              "    40% {\n",
              "      border-color: transparent;\n",
              "      border-right-color: var(--fill-color);\n",
              "      border-top-color: var(--fill-color);\n",
              "    }\n",
              "    60% {\n",
              "      border-color: transparent;\n",
              "      border-right-color: var(--fill-color);\n",
              "    }\n",
              "    80% {\n",
              "      border-color: transparent;\n",
              "      border-right-color: var(--fill-color);\n",
              "      border-bottom-color: var(--fill-color);\n",
              "    }\n",
              "    90% {\n",
              "      border-color: transparent;\n",
              "      border-bottom-color: var(--fill-color);\n",
              "    }\n",
              "  }\n",
              "</style>\n",
              "\n",
              "  <script>\n",
              "    async function quickchart(key) {\n",
              "      const quickchartButtonEl =\n",
              "        document.querySelector('#' + key + ' button');\n",
              "      quickchartButtonEl.disabled = true;  // To prevent multiple clicks.\n",
              "      quickchartButtonEl.classList.add('colab-df-spinner');\n",
              "      try {\n",
              "        const charts = await google.colab.kernel.invokeFunction(\n",
              "            'suggestCharts', [key], {});\n",
              "      } catch (error) {\n",
              "        console.error('Error during call to suggestCharts:', error);\n",
              "      }\n",
              "      quickchartButtonEl.classList.remove('colab-df-spinner');\n",
              "      quickchartButtonEl.classList.add('colab-df-quickchart-complete');\n",
              "    }\n",
              "    (() => {\n",
              "      let quickchartButtonEl =\n",
              "        document.querySelector('#df-035efa46-2f5f-4e6a-940f-ce05638dd074 button');\n",
              "      quickchartButtonEl.style.display =\n",
              "        google.colab.kernel.accessAllowed ? 'block' : 'none';\n",
              "    })();\n",
              "  </script>\n",
              "</div>\n",
              "\n",
              "    </div>\n",
              "  </div>\n"
            ],
            "application/vnd.google.colaboratory.intrinsic+json": {
              "type": "dataframe",
              "variable_name": "New_base",
              "summary": "{\n  \"name\": \"New_base\",\n  \"rows\": 160,\n  \"fields\": [\n    {\n      \"column\": \"ID\",\n      \"properties\": {\n        \"dtype\": \"number\",\n        \"std\": 139,\n        \"min\": 1,\n        \"max\": 492,\n        \"num_unique_values\": 160,\n        \"samples\": [\n          419,\n          456,\n          285\n        ],\n        \"semantic_type\": \"\",\n        \"description\": \"\"\n      }\n    },\n    {\n      \"column\": \"Name\",\n      \"properties\": {\n        \"dtype\": \"string\",\n        \"num_unique_values\": 160,\n        \"samples\": [\n          \"floatzel\",\n          \"finneon\",\n          \"shroomish\"\n        ],\n        \"semantic_type\": \"\",\n        \"description\": \"\"\n      }\n    },\n    {\n      \"column\": \"Type\",\n      \"properties\": {\n        \"dtype\": \"category\",\n        \"num_unique_values\": 3,\n        \"samples\": [\n          \"fire\",\n          \"water\",\n          \"grass\"\n        ],\n        \"semantic_type\": \"\",\n        \"description\": \"\"\n      }\n    },\n    {\n      \"column\": \"Height\",\n      \"properties\": {\n        \"dtype\": \"number\",\n        \"std\": 13,\n        \"min\": 2,\n        \"max\": 145,\n        \"num_unique_values\": 29,\n        \"samples\": [\n          22,\n          3,\n          38\n        ],\n        \"semantic_type\": \"\",\n        \"description\": \"\"\n      }\n    },\n    {\n      \"column\": \"HP\",\n      \"properties\": {\n        \"dtype\": \"number\",\n        \"std\": 24,\n        \"min\": 20,\n        \"max\": 170,\n        \"num_unique_values\": 42,\n        \"samples\": [\n          20,\n          106,\n          65\n        ],\n        \"semantic_type\": \"\",\n        \"description\": \"\"\n      }\n    },\n    {\n      \"column\": \"Speed\",\n      \"properties\": {\n        \"dtype\": \"number\",\n        \"std\": 23,\n        \"min\": 15,\n        \"max\": 120,\n        \"num_unique_values\": 45,\n        \"samples\": [\n          120,\n          50,\n          75\n        ],\n        \"semantic_type\": \"\",\n        \"description\": \"\"\n      }\n    },\n    {\n      \"column\": \"Attack\",\n      \"properties\": {\n        \"dtype\": \"number\",\n        \"std\": 25,\n        \"min\": 10,\n        \"max\": 130,\n        \"num_unique_values\": 48,\n        \"samples\": [\n          105,\n          86,\n          45\n        ],\n        \"semantic_type\": \"\",\n        \"description\": \"\"\n      }\n    },\n    {\n      \"column\": \"Defense\",\n      \"properties\": {\n        \"dtype\": \"number\",\n        \"std\": 25,\n        \"min\": 20,\n        \"max\": 180,\n        \"num_unique_values\": 48,\n        \"samples\": [\n          180,\n          88,\n          110\n        ],\n        \"semantic_type\": \"\",\n        \"description\": \"\"\n      }\n    },\n    {\n      \"column\": \"Region\",\n      \"properties\": {\n        \"dtype\": \"category\",\n        \"num_unique_values\": 4,\n        \"samples\": [\n          \"Johto\",\n          \"Sinnoh\",\n          \"Kanto\"\n        ],\n        \"semantic_type\": \"\",\n        \"description\": \"\"\n      }\n    },\n    {\n      \"column\": \"Generation\",\n      \"properties\": {\n        \"dtype\": \"number\",\n        \"std\": 1,\n        \"min\": 1,\n        \"max\": 4,\n        \"num_unique_values\": 4,\n        \"samples\": [\n          2,\n          4,\n          1\n        ],\n        \"semantic_type\": \"\",\n        \"description\": \"\"\n      }\n    }\n  ]\n}"
            }
          },
          "metadata": {},
          "execution_count": 381
        }
      ]
    },
    {
      "cell_type": "code",
      "source": [
        "type_class = list(New_base['Type'].values)\n",
        "pokemon_data_base = New_base.drop(columns=['ID', 'Name', 'Type', 'Region'])"
      ],
      "metadata": {
        "id": "D3LrXoqoszGM"
      },
      "execution_count": 382,
      "outputs": []
    },
    {
      "cell_type": "code",
      "source": [
        "encoder = LabelEncoder()\n",
        "type_class = encoder.fit_transform(type_class)"
      ],
      "metadata": {
        "id": "OjBryh64sFi3"
      },
      "execution_count": 383,
      "outputs": []
    },
    {
      "cell_type": "code",
      "source": [
        "np.unique(type_class)"
      ],
      "metadata": {
        "colab": {
          "base_uri": "https://localhost:8080/"
        },
        "id": "yqI5x5nytdal",
        "outputId": "3568b135-e233-4be9-d828-e737cb6d639f"
      },
      "execution_count": 384,
      "outputs": [
        {
          "output_type": "execute_result",
          "data": {
            "text/plain": [
              "array([0, 1, 2])"
            ]
          },
          "metadata": {},
          "execution_count": 384
        }
      ]
    },
    {
      "cell_type": "code",
      "source": [
        "test_predictors, training_predictors, test_class, training_class= train_test_split(pokemon_data_base, type_class, test_size=0.25)\n",
        "# Separar os tipos dde pokemons e suas configurações para o treinamento na rede neural."
      ],
      "metadata": {
        "id": "F0MF8Dj2tkj3"
      },
      "execution_count": 385,
      "outputs": []
    },
    {
      "cell_type": "code",
      "source": [
        "training_predictors = np.array(training_predictors.values, dtype= np.float32)"
      ],
      "metadata": {
        "id": "9wZZjwWDuhrH"
      },
      "execution_count": 386,
      "outputs": []
    },
    {
      "cell_type": "code",
      "source": [
        "training_predictors = torch.tensor(training_predictors, dtype = torch.float)\n",
        "training_class = torch.tensor(training_class, dtype=torch.long)"
      ],
      "metadata": {
        "id": "7bng72MvujvT"
      },
      "execution_count": 387,
      "outputs": []
    },
    {
      "cell_type": "markdown",
      "source": [
        "## Model"
      ],
      "metadata": {
        "id": "l7iBiMtxu591"
      }
    },
    {
      "cell_type": "code",
      "source": [
        "classificador = nn.Sequential(\n",
        "    nn.Linear(6, 5, bias=True),\n",
        "    nn.ReLU(),\n",
        "    nn.Linear(5, 5, bias=True),\n",
        "    nn.ReLU(),\n",
        "    nn.Linear(5, 3, bias=True),\n",
        "    )\n",
        ""
      ],
      "metadata": {
        "id": "etFKZ3sDu7XZ"
      },
      "execution_count": 388,
      "outputs": []
    },
    {
      "cell_type": "code",
      "source": [
        "criterion = nn.CrossEntropyLoss()\n",
        "Optimizer = torch.optim.Adam(classificador.parameters(), lr=0.001, weight_decay=0.0001)"
      ],
      "metadata": {
        "id": "O7glcQYSvSBz"
      },
      "execution_count": 389,
      "outputs": []
    },
    {
      "cell_type": "code",
      "source": [
        "print(training_predictors.size())\n",
        "print(training_class.size())"
      ],
      "metadata": {
        "colab": {
          "base_uri": "https://localhost:8080/"
        },
        "id": "pKu4XDjcv4i3",
        "outputId": "0eb999bd-4e27-4e4e-83f0-85c44c341b00"
      },
      "execution_count": 390,
      "outputs": [
        {
          "output_type": "stream",
          "name": "stdout",
          "text": [
            "torch.Size([40, 6])\n",
            "torch.Size([40])\n"
          ]
        }
      ]
    },
    {
      "cell_type": "code",
      "source": [
        "dataset = torch.utils.data.TensorDataset(training_predictors, training_class)\n",
        "train_loader = torch.utils.data.DataLoader(dataset, batch_size=10, shuffle=True)"
      ],
      "metadata": {
        "id": "PlPewVmovXIV"
      },
      "execution_count": 391,
      "outputs": []
    },
    {
      "cell_type": "markdown",
      "source": [
        "## Train Model"
      ],
      "metadata": {
        "id": "XW4D8-46wf8N"
      }
    },
    {
      "cell_type": "code",
      "source": [
        "for epoca in tqdm.tqdm(range(200)):\n",
        "  running_loss = 0.\n",
        "  running_accuracy = 0\n",
        "\n",
        "  for data in train_loader:\n",
        "    inputs, labels = data\n",
        "\n",
        "    Optimizer.zero_grad()\n",
        "\n",
        "    outputs = classificador.forward(inputs)\n",
        "    loss = criterion(outputs, labels)\n",
        "    loss.backward()\n",
        "\n",
        "    outputs = F.softmax(outputs)\n",
        "    top_p, top_class = outputs.topk(k=1, dim= 1)\n",
        "\n",
        "    equals = top_class == labels.view(*top_class.shape)\n",
        "\n",
        "    running_accuracy += torch.mean(equals.type(torch.float))\n",
        "    Optimizer.step()\n",
        "    running_loss += loss.item()"
      ],
      "metadata": {
        "colab": {
          "base_uri": "https://localhost:8080/"
        },
        "id": "nGLOmucJwc1K",
        "outputId": "462219ab-dbb5-4c7a-8bc6-2f470bfad600"
      },
      "execution_count": 392,
      "outputs": [
        {
          "output_type": "stream",
          "name": "stderr",
          "text": [
            "  0%|          | 0/200 [00:00<?, ?it/s]<ipython-input-392-e50a2e7113c9>:14: UserWarning:\n",
            "\n",
            "Implicit dimension choice for softmax has been deprecated. Change the call to include dim=X as an argument.\n",
            "\n",
            "100%|██████████| 200/200 [00:01<00:00, 115.02it/s]\n"
          ]
        }
      ]
    },
    {
      "cell_type": "code",
      "source": [
        "# Visualizar a rede neural.\n",
        "dot = make_dot(outputs, params=dict(classificador.named_parameters()))\n",
        "dot.render(\"classificador\", format=\"png\")\n",
        "dot"
      ],
      "metadata": {
        "colab": {
          "base_uri": "https://localhost:8080/",
          "height": 821
        },
        "id": "ubtMqV5qPXHZ",
        "outputId": "65dc6df8-2bde-46fa-bd36-5f87e4ebe3b0"
      },
      "execution_count": 393,
      "outputs": [
        {
          "output_type": "execute_result",
          "data": {
            "image/svg+xml": "<?xml version=\"1.0\" encoding=\"UTF-8\" standalone=\"no\"?>\n<!DOCTYPE svg PUBLIC \"-//W3C//DTD SVG 1.1//EN\"\n \"http://www.w3.org/Graphics/SVG/1.1/DTD/svg11.dtd\">\n<!-- Generated by graphviz version 2.43.0 (0)\n -->\n<!-- Title: %3 Pages: 1 -->\n<svg width=\"400pt\" height=\"600pt\"\n viewBox=\"0.00 0.00 400.00 600.00\" xmlns=\"http://www.w3.org/2000/svg\" xmlns:xlink=\"http://www.w3.org/1999/xlink\">\n<g id=\"graph0\" class=\"graph\" transform=\"scale(1 1) rotate(0) translate(4 596)\">\n<title>%3</title>\n<polygon fill=\"white\" stroke=\"transparent\" points=\"-4,4 -4,-596 396,-596 396,4 -4,4\"/>\n<!-- 132994569531328 -->\n<g id=\"node1\" class=\"node\">\n<title>132994569531328</title>\n<polygon fill=\"#caff70\" stroke=\"black\" points=\"240,-31 175,-31 175,0 240,0 240,-31\"/>\n<text text-anchor=\"middle\" x=\"207.5\" y=\"-7\" font-family=\"monospace\" font-size=\"10.00\"> (10, 3)</text>\n</g>\n<!-- 132994570384000 -->\n<g id=\"node2\" class=\"node\">\n<title>132994570384000</title>\n<polygon fill=\"lightgrey\" stroke=\"black\" points=\"264,-86 151,-86 151,-67 264,-67 264,-86\"/>\n<text text-anchor=\"middle\" x=\"207.5\" y=\"-74\" font-family=\"monospace\" font-size=\"10.00\">SoftmaxBackward0</text>\n</g>\n<!-- 132994570384000&#45;&gt;132994569531328 -->\n<g id=\"edge21\" class=\"edge\">\n<title>132994570384000&#45;&gt;132994569531328</title>\n<path fill=\"none\" stroke=\"black\" d=\"M207.5,-66.79C207.5,-60.07 207.5,-50.4 207.5,-41.34\"/>\n<polygon fill=\"black\" stroke=\"black\" points=\"211,-41.19 207.5,-31.19 204,-41.19 211,-41.19\"/>\n</g>\n<!-- 132994570381840 -->\n<g id=\"node3\" class=\"node\">\n<title>132994570381840</title>\n<polygon fill=\"lightgrey\" stroke=\"black\" points=\"258,-141 157,-141 157,-122 258,-122 258,-141\"/>\n<text text-anchor=\"middle\" x=\"207.5\" y=\"-129\" font-family=\"monospace\" font-size=\"10.00\">AddmmBackward0</text>\n</g>\n<!-- 132994570381840&#45;&gt;132994570384000 -->\n<g id=\"edge1\" class=\"edge\">\n<title>132994570381840&#45;&gt;132994570384000</title>\n<path fill=\"none\" stroke=\"black\" d=\"M207.5,-121.75C207.5,-114.8 207.5,-104.85 207.5,-96.13\"/>\n<polygon fill=\"black\" stroke=\"black\" points=\"211,-96.09 207.5,-86.09 204,-96.09 211,-96.09\"/>\n</g>\n<!-- 132994570382320 -->\n<g id=\"node4\" class=\"node\">\n<title>132994570382320</title>\n<polygon fill=\"lightgrey\" stroke=\"black\" points=\"142,-196 41,-196 41,-177 142,-177 142,-196\"/>\n<text text-anchor=\"middle\" x=\"91.5\" y=\"-184\" font-family=\"monospace\" font-size=\"10.00\">AccumulateGrad</text>\n</g>\n<!-- 132994570382320&#45;&gt;132994570381840 -->\n<g id=\"edge2\" class=\"edge\">\n<title>132994570382320&#45;&gt;132994570381840</title>\n<path fill=\"none\" stroke=\"black\" d=\"M110.14,-176.98C128.8,-168.46 157.75,-155.23 179.24,-145.41\"/>\n<polygon fill=\"black\" stroke=\"black\" points=\"180.88,-148.51 188.52,-141.17 177.97,-142.14 180.88,-148.51\"/>\n</g>\n<!-- 132994582622384 -->\n<g id=\"node5\" class=\"node\">\n<title>132994582622384</title>\n<polygon fill=\"lightblue\" stroke=\"black\" points=\"118.5,-262 64.5,-262 64.5,-232 118.5,-232 118.5,-262\"/>\n<text text-anchor=\"middle\" x=\"91.5\" y=\"-250\" font-family=\"monospace\" font-size=\"10.00\">4.bias</text>\n<text text-anchor=\"middle\" x=\"91.5\" y=\"-239\" font-family=\"monospace\" font-size=\"10.00\"> (3)</text>\n</g>\n<!-- 132994582622384&#45;&gt;132994570382320 -->\n<g id=\"edge3\" class=\"edge\">\n<title>132994582622384&#45;&gt;132994570382320</title>\n<path fill=\"none\" stroke=\"black\" d=\"M91.5,-231.84C91.5,-224.21 91.5,-214.7 91.5,-206.45\"/>\n<polygon fill=\"black\" stroke=\"black\" points=\"95,-206.27 91.5,-196.27 88,-206.27 95,-206.27\"/>\n</g>\n<!-- 132994570380496 -->\n<g id=\"node6\" class=\"node\">\n<title>132994570380496</title>\n<polygon fill=\"lightgrey\" stroke=\"black\" points=\"255,-196 160,-196 160,-177 255,-177 255,-196\"/>\n<text text-anchor=\"middle\" x=\"207.5\" y=\"-184\" font-family=\"monospace\" font-size=\"10.00\">ReluBackward0</text>\n</g>\n<!-- 132994570380496&#45;&gt;132994570381840 -->\n<g id=\"edge4\" class=\"edge\">\n<title>132994570380496&#45;&gt;132994570381840</title>\n<path fill=\"none\" stroke=\"black\" d=\"M207.5,-176.75C207.5,-169.8 207.5,-159.85 207.5,-151.13\"/>\n<polygon fill=\"black\" stroke=\"black\" points=\"211,-151.09 207.5,-141.09 204,-151.09 211,-151.09\"/>\n</g>\n<!-- 132994570385392 -->\n<g id=\"node7\" class=\"node\">\n<title>132994570385392</title>\n<polygon fill=\"lightgrey\" stroke=\"black\" points=\"253,-256.5 152,-256.5 152,-237.5 253,-237.5 253,-256.5\"/>\n<text text-anchor=\"middle\" x=\"202.5\" y=\"-244.5\" font-family=\"monospace\" font-size=\"10.00\">AddmmBackward0</text>\n</g>\n<!-- 132994570385392&#45;&gt;132994570380496 -->\n<g id=\"edge5\" class=\"edge\">\n<title>132994570385392&#45;&gt;132994570380496</title>\n<path fill=\"none\" stroke=\"black\" d=\"M203.24,-237.37C203.93,-229.25 205,-216.81 205.89,-206.39\"/>\n<polygon fill=\"black\" stroke=\"black\" points=\"209.39,-206.43 206.76,-196.17 202.42,-205.83 209.39,-206.43\"/>\n</g>\n<!-- 132994570371664 -->\n<g id=\"node8\" class=\"node\">\n<title>132994570371664</title>\n<polygon fill=\"lightgrey\" stroke=\"black\" points=\"101,-322.5 0,-322.5 0,-303.5 101,-303.5 101,-322.5\"/>\n<text text-anchor=\"middle\" x=\"50.5\" y=\"-310.5\" font-family=\"monospace\" font-size=\"10.00\">AccumulateGrad</text>\n</g>\n<!-- 132994570371664&#45;&gt;132994570385392 -->\n<g id=\"edge6\" class=\"edge\">\n<title>132994570371664&#45;&gt;132994570385392</title>\n<path fill=\"none\" stroke=\"black\" d=\"M71,-303.37C97.06,-292.39 142.28,-273.36 172.29,-260.72\"/>\n<polygon fill=\"black\" stroke=\"black\" points=\"173.98,-263.81 181.84,-256.7 171.27,-257.35 173.98,-263.81\"/>\n</g>\n<!-- 132994434368912 -->\n<g id=\"node9\" class=\"node\">\n<title>132994434368912</title>\n<polygon fill=\"lightblue\" stroke=\"black\" points=\"77.5,-394 23.5,-394 23.5,-364 77.5,-364 77.5,-394\"/>\n<text text-anchor=\"middle\" x=\"50.5\" y=\"-382\" font-family=\"monospace\" font-size=\"10.00\">2.bias</text>\n<text text-anchor=\"middle\" x=\"50.5\" y=\"-371\" font-family=\"monospace\" font-size=\"10.00\"> (5)</text>\n</g>\n<!-- 132994434368912&#45;&gt;132994570371664 -->\n<g id=\"edge7\" class=\"edge\">\n<title>132994434368912&#45;&gt;132994570371664</title>\n<path fill=\"none\" stroke=\"black\" d=\"M50.5,-363.8C50.5,-354.7 50.5,-342.79 50.5,-332.9\"/>\n<polygon fill=\"black\" stroke=\"black\" points=\"54,-332.84 50.5,-322.84 47,-332.84 54,-332.84\"/>\n</g>\n<!-- 132994570376320 -->\n<g id=\"node10\" class=\"node\">\n<title>132994570376320</title>\n<polygon fill=\"lightgrey\" stroke=\"black\" points=\"214,-322.5 119,-322.5 119,-303.5 214,-303.5 214,-322.5\"/>\n<text text-anchor=\"middle\" x=\"166.5\" y=\"-310.5\" font-family=\"monospace\" font-size=\"10.00\">ReluBackward0</text>\n</g>\n<!-- 132994570376320&#45;&gt;132994570385392 -->\n<g id=\"edge8\" class=\"edge\">\n<title>132994570376320&#45;&gt;132994570385392</title>\n<path fill=\"none\" stroke=\"black\" d=\"M171.36,-303.37C176.75,-293.78 185.6,-278.05 192.49,-265.8\"/>\n<polygon fill=\"black\" stroke=\"black\" points=\"195.64,-267.34 197.49,-256.91 189.54,-263.91 195.64,-267.34\"/>\n</g>\n<!-- 132994570386832 -->\n<g id=\"node11\" class=\"node\">\n<title>132994570386832</title>\n<polygon fill=\"lightgrey\" stroke=\"black\" points=\"209,-388.5 108,-388.5 108,-369.5 209,-369.5 209,-388.5\"/>\n<text text-anchor=\"middle\" x=\"158.5\" y=\"-376.5\" font-family=\"monospace\" font-size=\"10.00\">AddmmBackward0</text>\n</g>\n<!-- 132994570386832&#45;&gt;132994570376320 -->\n<g id=\"edge9\" class=\"edge\">\n<title>132994570386832&#45;&gt;132994570376320</title>\n<path fill=\"none\" stroke=\"black\" d=\"M159.58,-369.37C160.74,-360.07 162.63,-344.98 164.14,-332.9\"/>\n<polygon fill=\"black\" stroke=\"black\" points=\"167.62,-333.26 165.39,-322.91 160.67,-332.39 167.62,-333.26\"/>\n</g>\n<!-- 132994570378336 -->\n<g id=\"node12\" class=\"node\">\n<title>132994570378336</title>\n<polygon fill=\"lightgrey\" stroke=\"black\" points=\"117,-454.5 16,-454.5 16,-435.5 117,-435.5 117,-454.5\"/>\n<text text-anchor=\"middle\" x=\"66.5\" y=\"-442.5\" font-family=\"monospace\" font-size=\"10.00\">AccumulateGrad</text>\n</g>\n<!-- 132994570378336&#45;&gt;132994570386832 -->\n<g id=\"edge10\" class=\"edge\">\n<title>132994570378336&#45;&gt;132994570386832</title>\n<path fill=\"none\" stroke=\"black\" d=\"M78.91,-435.37C93.86,-424.97 119.22,-407.32 137.3,-394.75\"/>\n<polygon fill=\"black\" stroke=\"black\" points=\"139.78,-397.28 146,-388.7 135.79,-391.54 139.78,-397.28\"/>\n</g>\n<!-- 132994582618544 -->\n<g id=\"node13\" class=\"node\">\n<title>132994582618544</title>\n<polygon fill=\"lightblue\" stroke=\"black\" points=\"93.5,-526 39.5,-526 39.5,-496 93.5,-496 93.5,-526\"/>\n<text text-anchor=\"middle\" x=\"66.5\" y=\"-514\" font-family=\"monospace\" font-size=\"10.00\">0.bias</text>\n<text text-anchor=\"middle\" x=\"66.5\" y=\"-503\" font-family=\"monospace\" font-size=\"10.00\"> (5)</text>\n</g>\n<!-- 132994582618544&#45;&gt;132994570378336 -->\n<g id=\"edge11\" class=\"edge\">\n<title>132994582618544&#45;&gt;132994570378336</title>\n<path fill=\"none\" stroke=\"black\" d=\"M66.5,-495.8C66.5,-486.7 66.5,-474.79 66.5,-464.9\"/>\n<polygon fill=\"black\" stroke=\"black\" points=\"70,-464.84 66.5,-454.84 63,-464.84 70,-464.84\"/>\n</g>\n<!-- 132994570373008 -->\n<g id=\"node14\" class=\"node\">\n<title>132994570373008</title>\n<polygon fill=\"lightgrey\" stroke=\"black\" points=\"212,-454.5 135,-454.5 135,-435.5 212,-435.5 212,-454.5\"/>\n<text text-anchor=\"middle\" x=\"173.5\" y=\"-442.5\" font-family=\"monospace\" font-size=\"10.00\">TBackward0</text>\n</g>\n<!-- 132994570373008&#45;&gt;132994570386832 -->\n<g id=\"edge12\" class=\"edge\">\n<title>132994570373008&#45;&gt;132994570386832</title>\n<path fill=\"none\" stroke=\"black\" d=\"M171.48,-435.37C169.3,-426.07 165.76,-410.98 162.93,-398.9\"/>\n<polygon fill=\"black\" stroke=\"black\" points=\"166.28,-397.84 160.59,-388.91 159.46,-399.44 166.28,-397.84\"/>\n</g>\n<!-- 132994570371424 -->\n<g id=\"node15\" class=\"node\">\n<title>132994570371424</title>\n<polygon fill=\"lightgrey\" stroke=\"black\" points=\"224,-520.5 123,-520.5 123,-501.5 224,-501.5 224,-520.5\"/>\n<text text-anchor=\"middle\" x=\"173.5\" y=\"-508.5\" font-family=\"monospace\" font-size=\"10.00\">AccumulateGrad</text>\n</g>\n<!-- 132994570371424&#45;&gt;132994570373008 -->\n<g id=\"edge13\" class=\"edge\">\n<title>132994570371424&#45;&gt;132994570373008</title>\n<path fill=\"none\" stroke=\"black\" d=\"M173.5,-501.37C173.5,-492.16 173.5,-477.29 173.5,-465.27\"/>\n<polygon fill=\"black\" stroke=\"black\" points=\"177,-464.91 173.5,-454.91 170,-464.91 177,-464.91\"/>\n</g>\n<!-- 132994582618624 -->\n<g id=\"node16\" class=\"node\">\n<title>132994582618624</title>\n<polygon fill=\"lightblue\" stroke=\"black\" points=\"206,-592 141,-592 141,-562 206,-562 206,-592\"/>\n<text text-anchor=\"middle\" x=\"173.5\" y=\"-580\" font-family=\"monospace\" font-size=\"10.00\">0.weight</text>\n<text text-anchor=\"middle\" x=\"173.5\" y=\"-569\" font-family=\"monospace\" font-size=\"10.00\"> (5, 6)</text>\n</g>\n<!-- 132994582618624&#45;&gt;132994570371424 -->\n<g id=\"edge14\" class=\"edge\">\n<title>132994582618624&#45;&gt;132994570371424</title>\n<path fill=\"none\" stroke=\"black\" d=\"M173.5,-561.8C173.5,-552.7 173.5,-540.79 173.5,-530.9\"/>\n<polygon fill=\"black\" stroke=\"black\" points=\"177,-530.84 173.5,-520.84 170,-530.84 177,-530.84\"/>\n</g>\n<!-- 132994570385776 -->\n<g id=\"node17\" class=\"node\">\n<title>132994570385776</title>\n<polygon fill=\"lightgrey\" stroke=\"black\" points=\"309,-322.5 232,-322.5 232,-303.5 309,-303.5 309,-322.5\"/>\n<text text-anchor=\"middle\" x=\"270.5\" y=\"-310.5\" font-family=\"monospace\" font-size=\"10.00\">TBackward0</text>\n</g>\n<!-- 132994570385776&#45;&gt;132994570385392 -->\n<g id=\"edge15\" class=\"edge\">\n<title>132994570385776&#45;&gt;132994570385392</title>\n<path fill=\"none\" stroke=\"black\" d=\"M261.33,-303.37C250.64,-293.31 232.76,-276.48 219.51,-264.01\"/>\n<polygon fill=\"black\" stroke=\"black\" points=\"221.64,-261.21 211.96,-256.91 216.85,-266.31 221.64,-261.21\"/>\n</g>\n<!-- 132994570380016 -->\n<g id=\"node18\" class=\"node\">\n<title>132994570380016</title>\n<polygon fill=\"lightgrey\" stroke=\"black\" points=\"328,-388.5 227,-388.5 227,-369.5 328,-369.5 328,-388.5\"/>\n<text text-anchor=\"middle\" x=\"277.5\" y=\"-376.5\" font-family=\"monospace\" font-size=\"10.00\">AccumulateGrad</text>\n</g>\n<!-- 132994570380016&#45;&gt;132994570385776 -->\n<g id=\"edge16\" class=\"edge\">\n<title>132994570380016&#45;&gt;132994570385776</title>\n<path fill=\"none\" stroke=\"black\" d=\"M276.56,-369.37C275.54,-360.07 273.89,-344.98 272.57,-332.9\"/>\n<polygon fill=\"black\" stroke=\"black\" points=\"276.04,-332.47 271.47,-322.91 269.08,-333.23 276.04,-332.47\"/>\n</g>\n<!-- 132997332034848 -->\n<g id=\"node19\" class=\"node\">\n<title>132997332034848</title>\n<polygon fill=\"lightblue\" stroke=\"black\" points=\"310,-460 245,-460 245,-430 310,-430 310,-460\"/>\n<text text-anchor=\"middle\" x=\"277.5\" y=\"-448\" font-family=\"monospace\" font-size=\"10.00\">2.weight</text>\n<text text-anchor=\"middle\" x=\"277.5\" y=\"-437\" font-family=\"monospace\" font-size=\"10.00\"> (5, 5)</text>\n</g>\n<!-- 132997332034848&#45;&gt;132994570380016 -->\n<g id=\"edge17\" class=\"edge\">\n<title>132997332034848&#45;&gt;132994570380016</title>\n<path fill=\"none\" stroke=\"black\" d=\"M277.5,-429.8C277.5,-420.7 277.5,-408.79 277.5,-398.9\"/>\n<polygon fill=\"black\" stroke=\"black\" points=\"281,-398.84 277.5,-388.84 274,-398.84 281,-398.84\"/>\n</g>\n<!-- 132994570376464 -->\n<g id=\"node20\" class=\"node\">\n<title>132994570376464</title>\n<polygon fill=\"lightgrey\" stroke=\"black\" points=\"358,-196 281,-196 281,-177 358,-177 358,-196\"/>\n<text text-anchor=\"middle\" x=\"319.5\" y=\"-184\" font-family=\"monospace\" font-size=\"10.00\">TBackward0</text>\n</g>\n<!-- 132994570376464&#45;&gt;132994570381840 -->\n<g id=\"edge18\" class=\"edge\">\n<title>132994570376464&#45;&gt;132994570381840</title>\n<path fill=\"none\" stroke=\"black\" d=\"M301.51,-176.98C283.57,-168.5 255.78,-155.35 235.07,-145.54\"/>\n<polygon fill=\"black\" stroke=\"black\" points=\"236.36,-142.28 225.82,-141.17 233.36,-148.61 236.36,-142.28\"/>\n</g>\n<!-- 132994570372336 -->\n<g id=\"node21\" class=\"node\">\n<title>132994570372336</title>\n<polygon fill=\"lightgrey\" stroke=\"black\" points=\"374,-256.5 273,-256.5 273,-237.5 374,-237.5 374,-256.5\"/>\n<text text-anchor=\"middle\" x=\"323.5\" y=\"-244.5\" font-family=\"monospace\" font-size=\"10.00\">AccumulateGrad</text>\n</g>\n<!-- 132994570372336&#45;&gt;132994570376464 -->\n<g id=\"edge19\" class=\"edge\">\n<title>132994570372336&#45;&gt;132994570376464</title>\n<path fill=\"none\" stroke=\"black\" d=\"M322.91,-237.37C322.35,-229.25 321.5,-216.81 320.79,-206.39\"/>\n<polygon fill=\"black\" stroke=\"black\" points=\"324.27,-205.91 320.09,-196.17 317.28,-206.38 324.27,-205.91\"/>\n</g>\n<!-- 132994434373792 -->\n<g id=\"node22\" class=\"node\">\n<title>132994434373792</title>\n<polygon fill=\"lightblue\" stroke=\"black\" points=\"392,-328 327,-328 327,-298 392,-298 392,-328\"/>\n<text text-anchor=\"middle\" x=\"359.5\" y=\"-316\" font-family=\"monospace\" font-size=\"10.00\">4.weight</text>\n<text text-anchor=\"middle\" x=\"359.5\" y=\"-305\" font-family=\"monospace\" font-size=\"10.00\"> (3, 5)</text>\n</g>\n<!-- 132994434373792&#45;&gt;132994570372336 -->\n<g id=\"edge20\" class=\"edge\">\n<title>132994434373792&#45;&gt;132994570372336</title>\n<path fill=\"none\" stroke=\"black\" d=\"M351.51,-297.8C346.17,-288.31 339.11,-275.76 333.42,-265.63\"/>\n<polygon fill=\"black\" stroke=\"black\" points=\"336.43,-263.84 328.47,-256.84 330.33,-267.28 336.43,-263.84\"/>\n</g>\n</g>\n</svg>\n",
            "text/plain": [
              "<graphviz.graphs.Digraph at 0x78f5361fd120>"
            ]
          },
          "metadata": {},
          "execution_count": 393
        }
      ]
    },
    {
      "cell_type": "markdown",
      "source": [
        "## Model Evaluation"
      ],
      "metadata": {
        "id": "8kw36lSBxVqx"
      }
    },
    {
      "cell_type": "code",
      "source": [
        "classificador.eval()"
      ],
      "metadata": {
        "colab": {
          "base_uri": "https://localhost:8080/"
        },
        "id": "rQZ3qxqixO86",
        "outputId": "7136c929-a4d2-4dc9-d8f7-0790846e8ef6"
      },
      "execution_count": 394,
      "outputs": [
        {
          "output_type": "execute_result",
          "data": {
            "text/plain": [
              "Sequential(\n",
              "  (0): Linear(in_features=6, out_features=5, bias=True)\n",
              "  (1): ReLU()\n",
              "  (2): Linear(in_features=5, out_features=5, bias=True)\n",
              "  (3): ReLU()\n",
              "  (4): Linear(in_features=5, out_features=3, bias=True)\n",
              ")"
            ]
          },
          "metadata": {},
          "execution_count": 394
        }
      ]
    },
    {
      "cell_type": "code",
      "source": [
        "test_predictors = np.array(test_predictors.values, dtype= np.float32)\n",
        "test_predictors = torch.tensor(test_predictors, dtype=torch.float)"
      ],
      "metadata": {
        "id": "dMU54Zlrxc_0"
      },
      "execution_count": 395,
      "outputs": []
    },
    {
      "cell_type": "code",
      "source": [
        "predictor = classificador(test_predictors)"
      ],
      "metadata": {
        "id": "o_obvpq2xl20"
      },
      "execution_count": 396,
      "outputs": []
    },
    {
      "cell_type": "code",
      "source": [
        "F.softmax(predictor)"
      ],
      "metadata": {
        "colab": {
          "base_uri": "https://localhost:8080/"
        },
        "id": "TYcE5g-Uxpxv",
        "outputId": "7689ee13-e9f3-4f68-bdd0-7f3a27ff4ff8"
      },
      "execution_count": 397,
      "outputs": [
        {
          "output_type": "stream",
          "name": "stderr",
          "text": [
            "<ipython-input-397-3d1308a69034>:1: UserWarning:\n",
            "\n",
            "Implicit dimension choice for softmax has been deprecated. Change the call to include dim=X as an argument.\n",
            "\n"
          ]
        },
        {
          "output_type": "execute_result",
          "data": {
            "text/plain": [
              "tensor([[2.8661e-01, 3.5418e-01, 3.5921e-01],\n",
              "        [1.1958e-01, 2.6971e-01, 6.1072e-01],\n",
              "        [2.9262e-01, 3.5399e-01, 3.5340e-01],\n",
              "        [4.4415e-02, 1.7029e-01, 7.8530e-01],\n",
              "        [3.3724e-01, 3.5521e-01, 3.0755e-01],\n",
              "        [1.9334e-01, 3.2253e-01, 4.8413e-01],\n",
              "        [3.0293e-01, 3.5490e-01, 3.4217e-01],\n",
              "        [1.0442e-01, 2.5538e-01, 6.4019e-01],\n",
              "        [7.9253e-02, 2.2450e-01, 6.9624e-01],\n",
              "        [2.9183e-01, 3.5404e-01, 3.5414e-01],\n",
              "        [3.0341e-01, 3.5482e-01, 3.4177e-01],\n",
              "        [1.6146e-01, 3.0759e-01, 5.3096e-01],\n",
              "        [3.5392e-01, 3.5452e-01, 2.9156e-01],\n",
              "        [1.0758e-02, 8.1009e-02, 9.0823e-01],\n",
              "        [2.5910e-01, 3.5095e-01, 3.8995e-01],\n",
              "        [1.9399e-01, 3.2498e-01, 4.8103e-01],\n",
              "        [1.5944e-01, 3.0236e-01, 5.3821e-01],\n",
              "        [2.4911e-01, 3.4919e-01, 4.0170e-01],\n",
              "        [9.0323e-02, 2.4531e-01, 6.6437e-01],\n",
              "        [3.4591e-01, 3.5593e-01, 2.9817e-01],\n",
              "        [2.6709e-01, 3.5157e-01, 3.8134e-01],\n",
              "        [2.5786e-01, 3.5103e-01, 3.9111e-01],\n",
              "        [2.4832e-01, 3.4917e-01, 4.0251e-01],\n",
              "        [3.3198e-01, 3.5563e-01, 3.1239e-01],\n",
              "        [2.6426e-01, 3.5052e-01, 3.8522e-01],\n",
              "        [4.3656e-02, 1.6905e-01, 7.8729e-01],\n",
              "        [3.2505e-01, 3.5554e-01, 3.1941e-01],\n",
              "        [2.7512e-01, 3.5311e-01, 3.7177e-01],\n",
              "        [4.7733e-02, 1.7656e-01, 7.7571e-01],\n",
              "        [3.4049e-01, 3.5468e-01, 3.0483e-01],\n",
              "        [3.7388e-03, 4.4845e-02, 9.5142e-01],\n",
              "        [3.2276e-01, 3.5548e-01, 3.2176e-01],\n",
              "        [2.6711e-01, 3.5236e-01, 3.8053e-01],\n",
              "        [1.8812e-01, 3.1921e-01, 4.9267e-01],\n",
              "        [2.5492e-01, 3.5025e-01, 3.9484e-01],\n",
              "        [3.8696e-01, 3.5127e-01, 2.6177e-01],\n",
              "        [2.5586e-01, 3.5055e-01, 3.9359e-01],\n",
              "        [4.5948e-01, 3.3786e-01, 2.0265e-01],\n",
              "        [6.6066e-02, 2.0964e-01, 7.2429e-01],\n",
              "        [3.1464e-01, 3.5523e-01, 3.3013e-01],\n",
              "        [2.4142e-01, 3.4787e-01, 4.1072e-01],\n",
              "        [1.0675e-01, 2.5753e-01, 6.3572e-01],\n",
              "        [2.6384e-01, 3.5126e-01, 3.8490e-01],\n",
              "        [2.8553e-01, 3.5343e-01, 3.6104e-01],\n",
              "        [2.1130e-01, 3.3210e-01, 4.5660e-01],\n",
              "        [4.0251e-01, 3.4924e-01, 2.4825e-01],\n",
              "        [2.2306e-01, 3.3353e-01, 4.4340e-01],\n",
              "        [2.5838e-01, 3.5073e-01, 3.9089e-01],\n",
              "        [2.8700e-01, 3.5481e-01, 3.5819e-01],\n",
              "        [2.2682e-01, 3.3693e-01, 4.3625e-01],\n",
              "        [1.3857e-02, 9.1558e-02, 8.9458e-01],\n",
              "        [6.8478e-02, 2.1075e-01, 7.2077e-01],\n",
              "        [2.6263e-01, 3.5105e-01, 3.8633e-01],\n",
              "        [1.4870e-01, 2.9753e-01, 5.5377e-01],\n",
              "        [2.5169e-01, 3.4963e-01, 3.9868e-01],\n",
              "        [1.1517e-01, 2.6977e-01, 6.1505e-01],\n",
              "        [2.3463e-01, 3.4475e-01, 4.2062e-01],\n",
              "        [2.9389e-01, 3.5503e-01, 3.5108e-01],\n",
              "        [1.0229e-01, 2.5062e-01, 6.4709e-01],\n",
              "        [2.7989e-01, 3.5297e-01, 3.6713e-01],\n",
              "        [3.0417e-01, 3.5547e-01, 3.4036e-01],\n",
              "        [2.5511e-01, 3.5004e-01, 3.9485e-01],\n",
              "        [1.8518e-01, 3.2420e-01, 4.9062e-01],\n",
              "        [3.4018e-01, 3.5511e-01, 3.0471e-01],\n",
              "        [2.8759e-01, 3.5345e-01, 3.5895e-01],\n",
              "        [2.6065e-01, 3.5132e-01, 3.8803e-01],\n",
              "        [2.3087e-01, 3.4577e-01, 4.2337e-01],\n",
              "        [3.1678e-01, 3.5522e-01, 3.2801e-01],\n",
              "        [3.5838e-01, 3.5449e-01, 2.8713e-01],\n",
              "        [4.5259e-01, 3.3923e-01, 2.0818e-01],\n",
              "        [7.1929e-04, 1.7810e-02, 9.8147e-01],\n",
              "        [3.5419e-01, 3.5409e-01, 2.9172e-01],\n",
              "        [2.8910e-01, 3.5463e-01, 3.5627e-01],\n",
              "        [1.8874e-03, 3.0259e-02, 9.6785e-01],\n",
              "        [1.5798e-01, 3.0468e-01, 5.3734e-01],\n",
              "        [3.4590e-02, 1.5124e-01, 8.1417e-01],\n",
              "        [2.0001e-01, 3.2454e-01, 4.7544e-01],\n",
              "        [7.2193e-02, 2.1783e-01, 7.0998e-01],\n",
              "        [2.8611e-02, 1.3897e-01, 8.3242e-01],\n",
              "        [1.1552e-01, 2.7022e-01, 6.1426e-01],\n",
              "        [2.6185e-01, 3.4944e-01, 3.8871e-01],\n",
              "        [2.6711e-01, 3.5177e-01, 3.8113e-01],\n",
              "        [4.0818e-02, 1.6407e-01, 7.9511e-01],\n",
              "        [2.8275e-01, 3.5359e-01, 3.6365e-01],\n",
              "        [3.9014e-01, 3.5042e-01, 2.5944e-01],\n",
              "        [3.3294e-01, 3.5567e-01, 3.1139e-01],\n",
              "        [2.2397e-01, 3.3884e-01, 4.3719e-01],\n",
              "        [2.8947e-01, 3.5441e-01, 3.5612e-01],\n",
              "        [4.1600e-01, 3.4709e-01, 2.3691e-01],\n",
              "        [2.6796e-01, 3.5239e-01, 3.7965e-01],\n",
              "        [1.4887e-02, 9.5585e-02, 8.8953e-01],\n",
              "        [2.5965e-01, 3.5103e-01, 3.8932e-01],\n",
              "        [2.9250e-01, 3.5435e-01, 3.5315e-01],\n",
              "        [2.6074e-01, 3.4968e-01, 3.8958e-01],\n",
              "        [2.4202e-01, 3.4843e-01, 4.0955e-01],\n",
              "        [1.6084e-01, 3.0135e-01, 5.3782e-01],\n",
              "        [7.3907e-02, 2.2060e-01, 7.0550e-01],\n",
              "        [2.4872e-01, 3.4913e-01, 4.0215e-01],\n",
              "        [3.7156e-02, 1.5406e-01, 8.0879e-01],\n",
              "        [2.7551e-01, 3.5255e-01, 3.7194e-01],\n",
              "        [2.4278e-01, 3.4810e-01, 4.0912e-01],\n",
              "        [4.2368e-02, 1.6504e-01, 7.9259e-01],\n",
              "        [2.9099e-01, 3.5449e-01, 3.5452e-01],\n",
              "        [3.3001e-01, 3.5566e-01, 3.1433e-01],\n",
              "        [3.2601e-01, 3.5605e-01, 3.1794e-01],\n",
              "        [2.6503e-01, 3.5159e-01, 3.8338e-01],\n",
              "        [3.4708e-01, 3.5516e-01, 2.9776e-01],\n",
              "        [4.7774e-01, 3.3260e-01, 1.8966e-01],\n",
              "        [3.1896e-01, 3.5631e-01, 3.2473e-01],\n",
              "        [9.3302e-02, 2.4884e-01, 6.5786e-01],\n",
              "        [3.9391e-01, 3.5066e-01, 2.5543e-01],\n",
              "        [1.5510e-02, 9.9969e-02, 8.8452e-01],\n",
              "        [5.5402e-02, 1.9117e-01, 7.5343e-01],\n",
              "        [1.9633e-02, 1.1151e-01, 8.6885e-01],\n",
              "        [2.7602e-02, 1.3213e-01, 8.4026e-01],\n",
              "        [3.2616e-01, 3.5515e-01, 3.1869e-01],\n",
              "        [1.4547e-01, 2.9967e-01, 5.5486e-01],\n",
              "        [7.3381e-02, 2.2043e-01, 7.0619e-01],\n",
              "        [2.7319e-01, 3.5233e-01, 3.7448e-01],\n",
              "        [1.0077e-01, 2.5368e-01, 6.4555e-01]], grad_fn=<SoftmaxBackward0>)"
            ]
          },
          "metadata": {},
          "execution_count": 397
        }
      ]
    },
    {
      "cell_type": "code",
      "source": [
        "predictor =[np.argmax(t) for t in predictor.detach().numpy()]"
      ],
      "metadata": {
        "id": "o-NUSb8Qxtef"
      },
      "execution_count": 398,
      "outputs": []
    },
    {
      "cell_type": "code",
      "source": [
        "matriz = confusion_matrix(predictor, test_class)"
      ],
      "metadata": {
        "id": "SR1euNcOxyZp"
      },
      "execution_count": 399,
      "outputs": []
    },
    {
      "cell_type": "code",
      "source": [
        "Hit_Rate = accuracy_score(test_class, predictor)\n",
        "Hit_Rate"
      ],
      "metadata": {
        "colab": {
          "base_uri": "https://localhost:8080/"
        },
        "id": "4LDwN2say7ab",
        "outputId": "7c2d70a6-ffaa-474c-d702-7854506a5e48"
      },
      "execution_count": 400,
      "outputs": [
        {
          "output_type": "execute_result",
          "data": {
            "text/plain": [
              "0.44166666666666665"
            ]
          },
          "metadata": {},
          "execution_count": 400
        }
      ]
    },
    {
      "cell_type": "code",
      "source": [
        "fig = px.imshow(matriz,\n",
        "                text_auto=True,\n",
        "                color_continuous_scale=\"inferno\")\n",
        "\n",
        "fig"
      ],
      "metadata": {
        "colab": {
          "base_uri": "https://localhost:8080/",
          "height": 542
        },
        "id": "XQc1dsDxyDem",
        "outputId": "610273e7-0a9e-434b-a388-924abf3c99f7"
      },
      "execution_count": 404,
      "outputs": [
        {
          "output_type": "display_data",
          "data": {
            "text/html": [
              "<html>\n",
              "<head><meta charset=\"utf-8\" /></head>\n",
              "<body>\n",
              "    <div>            <script src=\"https://cdnjs.cloudflare.com/ajax/libs/mathjax/2.7.5/MathJax.js?config=TeX-AMS-MML_SVG\"></script><script type=\"text/javascript\">if (window.MathJax && window.MathJax.Hub && window.MathJax.Hub.Config) {window.MathJax.Hub.Config({SVG: {font: \"STIX-Web\"}});}</script>                <script type=\"text/javascript\">window.PlotlyConfig = {MathJaxConfig: 'local'};</script>\n",
              "        <script charset=\"utf-8\" src=\"https://cdn.plot.ly/plotly-2.24.1.min.js\"></script>                <div id=\"db50f5e0-531a-42df-bc20-7e09bc0254b1\" class=\"plotly-graph-div\" style=\"height:525px; width:100%;\"></div>            <script type=\"text/javascript\">                                    window.PLOTLYENV=window.PLOTLYENV || {};                                    if (document.getElementById(\"db50f5e0-531a-42df-bc20-7e09bc0254b1\")) {                    Plotly.newPlot(                        \"db50f5e0-531a-42df-bc20-7e09bc0254b1\",                        [{\"coloraxis\":\"coloraxis\",\"name\":\"0\",\"texttemplate\":\"%{z}\",\"z\":[[2,1,7],[6,5,11],[14,28,46]],\"type\":\"heatmap\",\"xaxis\":\"x\",\"yaxis\":\"y\",\"hovertemplate\":\"x: %{x}\\u003cbr\\u003ey: %{y}\\u003cbr\\u003ecolor: %{z}\\u003cextra\\u003e\\u003c\\u002fextra\\u003e\"}],                        {\"template\":{\"data\":{\"histogram2dcontour\":[{\"type\":\"histogram2dcontour\",\"colorbar\":{\"outlinewidth\":0,\"ticks\":\"\"},\"colorscale\":[[0.0,\"#0d0887\"],[0.1111111111111111,\"#46039f\"],[0.2222222222222222,\"#7201a8\"],[0.3333333333333333,\"#9c179e\"],[0.4444444444444444,\"#bd3786\"],[0.5555555555555556,\"#d8576b\"],[0.6666666666666666,\"#ed7953\"],[0.7777777777777778,\"#fb9f3a\"],[0.8888888888888888,\"#fdca26\"],[1.0,\"#f0f921\"]]}],\"choropleth\":[{\"type\":\"choropleth\",\"colorbar\":{\"outlinewidth\":0,\"ticks\":\"\"}}],\"histogram2d\":[{\"type\":\"histogram2d\",\"colorbar\":{\"outlinewidth\":0,\"ticks\":\"\"},\"colorscale\":[[0.0,\"#0d0887\"],[0.1111111111111111,\"#46039f\"],[0.2222222222222222,\"#7201a8\"],[0.3333333333333333,\"#9c179e\"],[0.4444444444444444,\"#bd3786\"],[0.5555555555555556,\"#d8576b\"],[0.6666666666666666,\"#ed7953\"],[0.7777777777777778,\"#fb9f3a\"],[0.8888888888888888,\"#fdca26\"],[1.0,\"#f0f921\"]]}],\"heatmap\":[{\"type\":\"heatmap\",\"colorbar\":{\"outlinewidth\":0,\"ticks\":\"\"},\"colorscale\":[[0.0,\"#0d0887\"],[0.1111111111111111,\"#46039f\"],[0.2222222222222222,\"#7201a8\"],[0.3333333333333333,\"#9c179e\"],[0.4444444444444444,\"#bd3786\"],[0.5555555555555556,\"#d8576b\"],[0.6666666666666666,\"#ed7953\"],[0.7777777777777778,\"#fb9f3a\"],[0.8888888888888888,\"#fdca26\"],[1.0,\"#f0f921\"]]}],\"heatmapgl\":[{\"type\":\"heatmapgl\",\"colorbar\":{\"outlinewidth\":0,\"ticks\":\"\"},\"colorscale\":[[0.0,\"#0d0887\"],[0.1111111111111111,\"#46039f\"],[0.2222222222222222,\"#7201a8\"],[0.3333333333333333,\"#9c179e\"],[0.4444444444444444,\"#bd3786\"],[0.5555555555555556,\"#d8576b\"],[0.6666666666666666,\"#ed7953\"],[0.7777777777777778,\"#fb9f3a\"],[0.8888888888888888,\"#fdca26\"],[1.0,\"#f0f921\"]]}],\"contourcarpet\":[{\"type\":\"contourcarpet\",\"colorbar\":{\"outlinewidth\":0,\"ticks\":\"\"}}],\"contour\":[{\"type\":\"contour\",\"colorbar\":{\"outlinewidth\":0,\"ticks\":\"\"},\"colorscale\":[[0.0,\"#0d0887\"],[0.1111111111111111,\"#46039f\"],[0.2222222222222222,\"#7201a8\"],[0.3333333333333333,\"#9c179e\"],[0.4444444444444444,\"#bd3786\"],[0.5555555555555556,\"#d8576b\"],[0.6666666666666666,\"#ed7953\"],[0.7777777777777778,\"#fb9f3a\"],[0.8888888888888888,\"#fdca26\"],[1.0,\"#f0f921\"]]}],\"surface\":[{\"type\":\"surface\",\"colorbar\":{\"outlinewidth\":0,\"ticks\":\"\"},\"colorscale\":[[0.0,\"#0d0887\"],[0.1111111111111111,\"#46039f\"],[0.2222222222222222,\"#7201a8\"],[0.3333333333333333,\"#9c179e\"],[0.4444444444444444,\"#bd3786\"],[0.5555555555555556,\"#d8576b\"],[0.6666666666666666,\"#ed7953\"],[0.7777777777777778,\"#fb9f3a\"],[0.8888888888888888,\"#fdca26\"],[1.0,\"#f0f921\"]]}],\"mesh3d\":[{\"type\":\"mesh3d\",\"colorbar\":{\"outlinewidth\":0,\"ticks\":\"\"}}],\"scatter\":[{\"fillpattern\":{\"fillmode\":\"overlay\",\"size\":10,\"solidity\":0.2},\"type\":\"scatter\"}],\"parcoords\":[{\"type\":\"parcoords\",\"line\":{\"colorbar\":{\"outlinewidth\":0,\"ticks\":\"\"}}}],\"scatterpolargl\":[{\"type\":\"scatterpolargl\",\"marker\":{\"colorbar\":{\"outlinewidth\":0,\"ticks\":\"\"}}}],\"bar\":[{\"error_x\":{\"color\":\"#2a3f5f\"},\"error_y\":{\"color\":\"#2a3f5f\"},\"marker\":{\"line\":{\"color\":\"#E5ECF6\",\"width\":0.5},\"pattern\":{\"fillmode\":\"overlay\",\"size\":10,\"solidity\":0.2}},\"type\":\"bar\"}],\"scattergeo\":[{\"type\":\"scattergeo\",\"marker\":{\"colorbar\":{\"outlinewidth\":0,\"ticks\":\"\"}}}],\"scatterpolar\":[{\"type\":\"scatterpolar\",\"marker\":{\"colorbar\":{\"outlinewidth\":0,\"ticks\":\"\"}}}],\"histogram\":[{\"marker\":{\"pattern\":{\"fillmode\":\"overlay\",\"size\":10,\"solidity\":0.2}},\"type\":\"histogram\"}],\"scattergl\":[{\"type\":\"scattergl\",\"marker\":{\"colorbar\":{\"outlinewidth\":0,\"ticks\":\"\"}}}],\"scatter3d\":[{\"type\":\"scatter3d\",\"line\":{\"colorbar\":{\"outlinewidth\":0,\"ticks\":\"\"}},\"marker\":{\"colorbar\":{\"outlinewidth\":0,\"ticks\":\"\"}}}],\"scattermapbox\":[{\"type\":\"scattermapbox\",\"marker\":{\"colorbar\":{\"outlinewidth\":0,\"ticks\":\"\"}}}],\"scatterternary\":[{\"type\":\"scatterternary\",\"marker\":{\"colorbar\":{\"outlinewidth\":0,\"ticks\":\"\"}}}],\"scattercarpet\":[{\"type\":\"scattercarpet\",\"marker\":{\"colorbar\":{\"outlinewidth\":0,\"ticks\":\"\"}}}],\"carpet\":[{\"aaxis\":{\"endlinecolor\":\"#2a3f5f\",\"gridcolor\":\"white\",\"linecolor\":\"white\",\"minorgridcolor\":\"white\",\"startlinecolor\":\"#2a3f5f\"},\"baxis\":{\"endlinecolor\":\"#2a3f5f\",\"gridcolor\":\"white\",\"linecolor\":\"white\",\"minorgridcolor\":\"white\",\"startlinecolor\":\"#2a3f5f\"},\"type\":\"carpet\"}],\"table\":[{\"cells\":{\"fill\":{\"color\":\"#EBF0F8\"},\"line\":{\"color\":\"white\"}},\"header\":{\"fill\":{\"color\":\"#C8D4E3\"},\"line\":{\"color\":\"white\"}},\"type\":\"table\"}],\"barpolar\":[{\"marker\":{\"line\":{\"color\":\"#E5ECF6\",\"width\":0.5},\"pattern\":{\"fillmode\":\"overlay\",\"size\":10,\"solidity\":0.2}},\"type\":\"barpolar\"}],\"pie\":[{\"automargin\":true,\"type\":\"pie\"}]},\"layout\":{\"autotypenumbers\":\"strict\",\"colorway\":[\"#636efa\",\"#EF553B\",\"#00cc96\",\"#ab63fa\",\"#FFA15A\",\"#19d3f3\",\"#FF6692\",\"#B6E880\",\"#FF97FF\",\"#FECB52\"],\"font\":{\"color\":\"#2a3f5f\"},\"hovermode\":\"closest\",\"hoverlabel\":{\"align\":\"left\"},\"paper_bgcolor\":\"white\",\"plot_bgcolor\":\"#E5ECF6\",\"polar\":{\"bgcolor\":\"#E5ECF6\",\"angularaxis\":{\"gridcolor\":\"white\",\"linecolor\":\"white\",\"ticks\":\"\"},\"radialaxis\":{\"gridcolor\":\"white\",\"linecolor\":\"white\",\"ticks\":\"\"}},\"ternary\":{\"bgcolor\":\"#E5ECF6\",\"aaxis\":{\"gridcolor\":\"white\",\"linecolor\":\"white\",\"ticks\":\"\"},\"baxis\":{\"gridcolor\":\"white\",\"linecolor\":\"white\",\"ticks\":\"\"},\"caxis\":{\"gridcolor\":\"white\",\"linecolor\":\"white\",\"ticks\":\"\"}},\"coloraxis\":{\"colorbar\":{\"outlinewidth\":0,\"ticks\":\"\"}},\"colorscale\":{\"sequential\":[[0.0,\"#0d0887\"],[0.1111111111111111,\"#46039f\"],[0.2222222222222222,\"#7201a8\"],[0.3333333333333333,\"#9c179e\"],[0.4444444444444444,\"#bd3786\"],[0.5555555555555556,\"#d8576b\"],[0.6666666666666666,\"#ed7953\"],[0.7777777777777778,\"#fb9f3a\"],[0.8888888888888888,\"#fdca26\"],[1.0,\"#f0f921\"]],\"sequentialminus\":[[0.0,\"#0d0887\"],[0.1111111111111111,\"#46039f\"],[0.2222222222222222,\"#7201a8\"],[0.3333333333333333,\"#9c179e\"],[0.4444444444444444,\"#bd3786\"],[0.5555555555555556,\"#d8576b\"],[0.6666666666666666,\"#ed7953\"],[0.7777777777777778,\"#fb9f3a\"],[0.8888888888888888,\"#fdca26\"],[1.0,\"#f0f921\"]],\"diverging\":[[0,\"#8e0152\"],[0.1,\"#c51b7d\"],[0.2,\"#de77ae\"],[0.3,\"#f1b6da\"],[0.4,\"#fde0ef\"],[0.5,\"#f7f7f7\"],[0.6,\"#e6f5d0\"],[0.7,\"#b8e186\"],[0.8,\"#7fbc41\"],[0.9,\"#4d9221\"],[1,\"#276419\"]]},\"xaxis\":{\"gridcolor\":\"white\",\"linecolor\":\"white\",\"ticks\":\"\",\"title\":{\"standoff\":15},\"zerolinecolor\":\"white\",\"automargin\":true,\"zerolinewidth\":2},\"yaxis\":{\"gridcolor\":\"white\",\"linecolor\":\"white\",\"ticks\":\"\",\"title\":{\"standoff\":15},\"zerolinecolor\":\"white\",\"automargin\":true,\"zerolinewidth\":2},\"scene\":{\"xaxis\":{\"backgroundcolor\":\"#E5ECF6\",\"gridcolor\":\"white\",\"linecolor\":\"white\",\"showbackground\":true,\"ticks\":\"\",\"zerolinecolor\":\"white\",\"gridwidth\":2},\"yaxis\":{\"backgroundcolor\":\"#E5ECF6\",\"gridcolor\":\"white\",\"linecolor\":\"white\",\"showbackground\":true,\"ticks\":\"\",\"zerolinecolor\":\"white\",\"gridwidth\":2},\"zaxis\":{\"backgroundcolor\":\"#E5ECF6\",\"gridcolor\":\"white\",\"linecolor\":\"white\",\"showbackground\":true,\"ticks\":\"\",\"zerolinecolor\":\"white\",\"gridwidth\":2}},\"shapedefaults\":{\"line\":{\"color\":\"#2a3f5f\"}},\"annotationdefaults\":{\"arrowcolor\":\"#2a3f5f\",\"arrowhead\":0,\"arrowwidth\":1},\"geo\":{\"bgcolor\":\"white\",\"landcolor\":\"#E5ECF6\",\"subunitcolor\":\"white\",\"showland\":true,\"showlakes\":true,\"lakecolor\":\"white\"},\"title\":{\"x\":0.05},\"mapbox\":{\"style\":\"light\"}}},\"xaxis\":{\"anchor\":\"y\",\"domain\":[0.0,1.0],\"scaleanchor\":\"y\",\"constrain\":\"domain\"},\"yaxis\":{\"anchor\":\"x\",\"domain\":[0.0,1.0],\"autorange\":\"reversed\",\"constrain\":\"domain\"},\"coloraxis\":{\"colorscale\":[[0.0,\"#000004\"],[0.1111111111111111,\"#1b0c41\"],[0.2222222222222222,\"#4a0c6b\"],[0.3333333333333333,\"#781c6d\"],[0.4444444444444444,\"#a52c60\"],[0.5555555555555556,\"#cf4446\"],[0.6666666666666666,\"#ed6925\"],[0.7777777777777778,\"#fb9b06\"],[0.8888888888888888,\"#f7d13d\"],[1.0,\"#fcffa4\"]]},\"margin\":{\"t\":60}},                        {\"responsive\": true}                    ).then(function(){\n",
              "                            \n",
              "var gd = document.getElementById('db50f5e0-531a-42df-bc20-7e09bc0254b1');\n",
              "var x = new MutationObserver(function (mutations, observer) {{\n",
              "        var display = window.getComputedStyle(gd).display;\n",
              "        if (!display || display === 'none') {{\n",
              "            console.log([gd, 'removed!']);\n",
              "            Plotly.purge(gd);\n",
              "            observer.disconnect();\n",
              "        }}\n",
              "}});\n",
              "\n",
              "// Listen for the removal of the full notebook cells\n",
              "var notebookContainer = gd.closest('#notebook-container');\n",
              "if (notebookContainer) {{\n",
              "    x.observe(notebookContainer, {childList: true});\n",
              "}}\n",
              "\n",
              "// Listen for the clearing of the current output cell\n",
              "var outputEl = gd.closest('.output');\n",
              "if (outputEl) {{\n",
              "    x.observe(outputEl, {childList: true});\n",
              "}}\n",
              "\n",
              "                        })                };                            </script>        </div>\n",
              "</body>\n",
              "</html>"
            ]
          },
          "metadata": {}
        }
      ]
    },
    {
      "cell_type": "markdown",
      "source": [
        "# Arquivo de requerimentos."
      ],
      "metadata": {
        "id": "0H0DahBEEumN"
      }
    },
    {
      "cell_type": "code",
      "source": [
        "pip freeze > requirements.txt\n"
      ],
      "metadata": {
        "id": "p-BiubUHC24l"
      },
      "execution_count": 402,
      "outputs": []
    }
  ]
}